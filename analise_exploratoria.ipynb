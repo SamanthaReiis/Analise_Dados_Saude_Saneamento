{
 "cells": [
  {
   "cell_type": "markdown",
   "metadata": {},
   "source": [
    "<h1><center>Internações por doenças relacionada ao saneamento ambiental inadequado</center></h1>\n",
    "\n",
    "### Objetivo: Entender o grupo populacional mais atigindo pelas doenças relaciondas ao saneamento inadequado\n",
    "\n",
    " Foram coletados dados de internações do SUS por doença relacionadas ao saneamento inadequado considreando a raça, gênero, localidade do paciente e localidade do hospital de internação. Assim, obteve-se <u>157 internações</u> de Dezembro de 2019 até maior de 2020."
   ]
  },
  {
   "cell_type": "code",
   "execution_count": 1,
   "metadata": {},
   "outputs": [],
   "source": [
    "import pandas as pd\n",
    "import matplotlib.pyplot as plt\n",
    "import folium \n",
    "import branca  \n",
    "import seaborn as sns \n",
    "import folium\n",
    "from folium import plugins\n",
    "import branca.colormap\n",
    "from collections import defaultdict\n",
    "\n",
    "%matplotlib inline"
   ]
  },
  {
   "cell_type": "markdown",
   "metadata": {},
   "source": [
    "Carregando os conjuntos de dados a ser usados"
   ]
  },
  {
   "cell_type": "code",
   "execution_count": 2,
   "metadata": {},
   "outputs": [],
   "source": [
    "sih = pd.read_csv('sih_rj_dez19_mai20_tratado.csv', index_col=0)"
   ]
  },
  {
   "cell_type": "code",
   "execution_count": 3,
   "metadata": {
    "collapsed": true
   },
   "outputs": [
    {
     "data": {
      "text/html": [
       "<div>\n",
       "<style scoped>\n",
       "    .dataframe tbody tr th:only-of-type {\n",
       "        vertical-align: middle;\n",
       "    }\n",
       "\n",
       "    .dataframe tbody tr th {\n",
       "        vertical-align: top;\n",
       "    }\n",
       "\n",
       "    .dataframe thead th {\n",
       "        text-align: right;\n",
       "    }\n",
       "</style>\n",
       "<table border=\"1\" class=\"dataframe\">\n",
       "  <thead>\n",
       "    <tr style=\"text-align: right;\">\n",
       "      <th></th>\n",
       "      <th>ANO</th>\n",
       "      <th>MES</th>\n",
       "      <th>TIPO_ATENDIMENTO</th>\n",
       "      <th>CEP_PACIENTE</th>\n",
       "      <th>GENERO</th>\n",
       "      <th>CID_DESCRI</th>\n",
       "      <th>CID_COD</th>\n",
       "      <th>SITUACAO</th>\n",
       "      <th>CNES</th>\n",
       "      <th>RACA_COR</th>\n",
       "      <th>...</th>\n",
       "      <th>BAIRRO</th>\n",
       "      <th>CEP</th>\n",
       "      <th>LATITUDE</th>\n",
       "      <th>LONGITUDE</th>\n",
       "      <th>ENDERECO_PACIENTE</th>\n",
       "      <th>LOCATION_PACIENTE</th>\n",
       "      <th>POINT</th>\n",
       "      <th>BAIRRO_PACIENTE</th>\n",
       "      <th>LATITUDE_PACIENTE</th>\n",
       "      <th>LONGITUDE_PACIENTE</th>\n",
       "    </tr>\n",
       "  </thead>\n",
       "  <tbody>\n",
       "    <tr>\n",
       "      <th>0</th>\n",
       "      <td>2020</td>\n",
       "      <td>Jan</td>\n",
       "      <td>clin_medica</td>\n",
       "      <td>21660500</td>\n",
       "      <td>M</td>\n",
       "      <td>tto hepatite viral</td>\n",
       "      <td>cid[B159]-Hepatite A sem coma hepático</td>\n",
       "      <td>internado para diagnostico</td>\n",
       "      <td>2269880</td>\n",
       "      <td>ignorado</td>\n",
       "      <td>...</td>\n",
       "      <td>BONSUCESSO</td>\n",
       "      <td>21041000</td>\n",
       "      <td>-22.86714</td>\n",
       "      <td>-43.24854</td>\n",
       "      <td>Rua Margem da Linha, Barros Filho, Rio de Jane...</td>\n",
       "      <td>Rua Margem da Linha, Margem da Linha, Barros F...</td>\n",
       "      <td>(-22.8370879, -43.3680663, 0.0)</td>\n",
       "      <td>Barros Filho</td>\n",
       "      <td>-22.837088</td>\n",
       "      <td>-43.368066</td>\n",
       "    </tr>\n",
       "    <tr>\n",
       "      <th>1</th>\n",
       "      <td>2020</td>\n",
       "      <td>Jan</td>\n",
       "      <td>pediatria</td>\n",
       "      <td>21012140</td>\n",
       "      <td>F</td>\n",
       "      <td>tto infec. perinatal</td>\n",
       "      <td>cid[H10]-Conjuntivite</td>\n",
       "      <td>internado para diagnostico</td>\n",
       "      <td>2269880</td>\n",
       "      <td>ignorado</td>\n",
       "      <td>...</td>\n",
       "      <td>BONSUCESSO</td>\n",
       "      <td>21041000</td>\n",
       "      <td>-22.86714</td>\n",
       "      <td>-43.24854</td>\n",
       "      <td>Estrada do Porto Velho, Cordovil, Rio de Janei...</td>\n",
       "      <td>Estrada do Porto Velho, Cidade Alta, Cordovil,...</td>\n",
       "      <td>(-22.8209659, -43.2922273, 0.0)</td>\n",
       "      <td>Cordovil</td>\n",
       "      <td>-22.820966</td>\n",
       "      <td>-43.292227</td>\n",
       "    </tr>\n",
       "    <tr>\n",
       "      <th>2</th>\n",
       "      <td>2020</td>\n",
       "      <td>Abr</td>\n",
       "      <td>clin_medica</td>\n",
       "      <td>21931350</td>\n",
       "      <td>F</td>\n",
       "      <td>tto infecções virais</td>\n",
       "      <td>cid[B08]-Outras infecções virais caracterizada...</td>\n",
       "      <td>internado para diagnostico</td>\n",
       "      <td>2269880</td>\n",
       "      <td>ignorado</td>\n",
       "      <td>...</td>\n",
       "      <td>BONSUCESSO</td>\n",
       "      <td>21041000</td>\n",
       "      <td>-22.86714</td>\n",
       "      <td>-43.24854</td>\n",
       "      <td>Rua Gregório de Castro Morais, Jardim Guanabar...</td>\n",
       "      <td>Rua Gregório de Castro Morais, Jardim Guanabar...</td>\n",
       "      <td>(-22.8059119, -43.2029146, 0.0)</td>\n",
       "      <td>Jardim Guanabara</td>\n",
       "      <td>-22.805912</td>\n",
       "      <td>-43.202915</td>\n",
       "    </tr>\n",
       "    <tr>\n",
       "      <th>3</th>\n",
       "      <td>2019</td>\n",
       "      <td>Dez</td>\n",
       "      <td>pediatria</td>\n",
       "      <td>20261004</td>\n",
       "      <td>M</td>\n",
       "      <td>tto doenças infec e intestinais</td>\n",
       "      <td>cid[A09]-Diarréia e gastroenterite de origem i...</td>\n",
       "      <td>internado para diagnostico</td>\n",
       "      <td>2269880</td>\n",
       "      <td>parda</td>\n",
       "      <td>...</td>\n",
       "      <td>BONSUCESSO</td>\n",
       "      <td>21041000</td>\n",
       "      <td>-22.86714</td>\n",
       "      <td>-43.24854</td>\n",
       "      <td>Rua Aureliano Portugal, Rio Comprido, Rio de J...</td>\n",
       "      <td>Rua Aureliano Portugal, Rio Comprido, Zona Cen...</td>\n",
       "      <td>(-22.9262258, -43.2157276, 0.0)</td>\n",
       "      <td>Rio Comprido</td>\n",
       "      <td>-22.926226</td>\n",
       "      <td>-43.215728</td>\n",
       "    </tr>\n",
       "    <tr>\n",
       "      <th>4</th>\n",
       "      <td>2019</td>\n",
       "      <td>Dez</td>\n",
       "      <td>clin_medica</td>\n",
       "      <td>21210070</td>\n",
       "      <td>M</td>\n",
       "      <td>tto doenças infec e intestinais</td>\n",
       "      <td>cid[A09]-Diarréia e gastroenterite de origem i...</td>\n",
       "      <td>internado para diagnostico</td>\n",
       "      <td>2269880</td>\n",
       "      <td>branca</td>\n",
       "      <td>...</td>\n",
       "      <td>BONSUCESSO</td>\n",
       "      <td>21041000</td>\n",
       "      <td>-22.86714</td>\n",
       "      <td>-43.24854</td>\n",
       "      <td>Rua Arquimedes Memória, Vila da Penha, Rio de ...</td>\n",
       "      <td>Rua Arquimedes Memória, Vila da Penha, Zona No...</td>\n",
       "      <td>(-22.8452131, -43.3048533, 0.0)</td>\n",
       "      <td>Vila da Penha</td>\n",
       "      <td>-22.845213</td>\n",
       "      <td>-43.304853</td>\n",
       "    </tr>\n",
       "  </tbody>\n",
       "</table>\n",
       "<p>5 rows × 31 columns</p>\n",
       "</div>"
      ],
      "text/plain": [
       "    ANO  MES TIPO_ATENDIMENTO  CEP_PACIENTE GENERO  \\\n",
       "0  2020  Jan      clin_medica      21660500      M   \n",
       "1  2020  Jan        pediatria      21012140      F   \n",
       "2  2020  Abr      clin_medica      21931350      F   \n",
       "3  2019  Dez        pediatria      20261004      M   \n",
       "4  2019  Dez      clin_medica      21210070      M   \n",
       "\n",
       "                        CID_DESCRI  \\\n",
       "0               tto hepatite viral   \n",
       "1             tto infec. perinatal   \n",
       "2             tto infecções virais   \n",
       "3  tto doenças infec e intestinais   \n",
       "4  tto doenças infec e intestinais   \n",
       "\n",
       "                                             CID_COD  \\\n",
       "0             cid[B159]-Hepatite A sem coma hepático   \n",
       "1                              cid[H10]-Conjuntivite   \n",
       "2  cid[B08]-Outras infecções virais caracterizada...   \n",
       "3  cid[A09]-Diarréia e gastroenterite de origem i...   \n",
       "4  cid[A09]-Diarréia e gastroenterite de origem i...   \n",
       "\n",
       "                     SITUACAO     CNES  RACA_COR  ...      BAIRRO       CEP  \\\n",
       "0  internado para diagnostico  2269880  ignorado  ...  BONSUCESSO  21041000   \n",
       "1  internado para diagnostico  2269880  ignorado  ...  BONSUCESSO  21041000   \n",
       "2  internado para diagnostico  2269880  ignorado  ...  BONSUCESSO  21041000   \n",
       "3  internado para diagnostico  2269880     parda  ...  BONSUCESSO  21041000   \n",
       "4  internado para diagnostico  2269880    branca  ...  BONSUCESSO  21041000   \n",
       "\n",
       "   LATITUDE LONGITUDE                                  ENDERECO_PACIENTE  \\\n",
       "0 -22.86714 -43.24854  Rua Margem da Linha, Barros Filho, Rio de Jane...   \n",
       "1 -22.86714 -43.24854  Estrada do Porto Velho, Cordovil, Rio de Janei...   \n",
       "2 -22.86714 -43.24854  Rua Gregório de Castro Morais, Jardim Guanabar...   \n",
       "3 -22.86714 -43.24854  Rua Aureliano Portugal, Rio Comprido, Rio de J...   \n",
       "4 -22.86714 -43.24854  Rua Arquimedes Memória, Vila da Penha, Rio de ...   \n",
       "\n",
       "                                   LOCATION_PACIENTE  \\\n",
       "0  Rua Margem da Linha, Margem da Linha, Barros F...   \n",
       "1  Estrada do Porto Velho, Cidade Alta, Cordovil,...   \n",
       "2  Rua Gregório de Castro Morais, Jardim Guanabar...   \n",
       "3  Rua Aureliano Portugal, Rio Comprido, Zona Cen...   \n",
       "4  Rua Arquimedes Memória, Vila da Penha, Zona No...   \n",
       "\n",
       "                             POINT    BAIRRO_PACIENTE LATITUDE_PACIENTE  \\\n",
       "0  (-22.8370879, -43.3680663, 0.0)       Barros Filho        -22.837088   \n",
       "1  (-22.8209659, -43.2922273, 0.0)           Cordovil        -22.820966   \n",
       "2  (-22.8059119, -43.2029146, 0.0)   Jardim Guanabara        -22.805912   \n",
       "3  (-22.9262258, -43.2157276, 0.0)       Rio Comprido        -22.926226   \n",
       "4  (-22.8452131, -43.3048533, 0.0)      Vila da Penha        -22.845213   \n",
       "\n",
       "  LONGITUDE_PACIENTE  \n",
       "0         -43.368066  \n",
       "1         -43.292227  \n",
       "2         -43.202915  \n",
       "3         -43.215728  \n",
       "4         -43.304853  \n",
       "\n",
       "[5 rows x 31 columns]"
      ]
     },
     "execution_count": 3,
     "metadata": {},
     "output_type": "execute_result"
    }
   ],
   "source": [
    "# Visualizando as primeira linhas do dataframe\n",
    "sih.head()"
   ]
  },
  {
   "cell_type": "markdown",
   "metadata": {},
   "source": [
    "#### Observando o conjunto de dados"
   ]
  },
  {
   "cell_type": "code",
   "execution_count": 12,
   "metadata": {
    "collapsed": true
   },
   "outputs": [
    {
     "name": "stdout",
     "output_type": "stream",
     "text": [
      "<class 'pandas.core.frame.DataFrame'>\n",
      "Int64Index: 157 entries, 0 to 156\n",
      "Data columns (total 37 columns):\n",
      " #   Column                 Non-Null Count  Dtype  \n",
      "---  ------                 --------------  -----  \n",
      " 0   Unnamed: 0.1           157 non-null    int64  \n",
      " 1   Unnamed: 0.1.1         157 non-null    int64  \n",
      " 2   ANO                    157 non-null    int64  \n",
      " 3   MES                    157 non-null    object \n",
      " 4   TIPO_ATENDIMENTO       157 non-null    object \n",
      " 5   CEP_PACIENTE           157 non-null    int64  \n",
      " 6   GENERO                 157 non-null    object \n",
      " 7   CID_DESCRI             157 non-null    object \n",
      " 8   CID_COD                157 non-null    object \n",
      " 9   SITUACAO               157 non-null    object \n",
      " 10  CNES                   157 non-null    int64  \n",
      " 11  RACA_COR               157 non-null    object \n",
      " 12  IDADE                  157 non-null    int64  \n",
      " 13  IBGE                   157 non-null    int64  \n",
      " 14  UF                     157 non-null    object \n",
      " 15  MUNICIPIO              157 non-null    object \n",
      " 16  NOME FANTASIA          157 non-null    object \n",
      " 17  RAZAO SOCIAL           157 non-null    object \n",
      " 18  CNPJ PROPRIO           123 non-null    float64\n",
      " 19  CNPJ MANTENEDORA       114 non-null    float64\n",
      " 20  TIPO GESTAO            157 non-null    object \n",
      " 21  LOGRADOURO             157 non-null    object \n",
      " 22  NUMERO                 157 non-null    object \n",
      " 23  BAIRRO                 157 non-null    object \n",
      " 24  CEP                    157 non-null    int64  \n",
      " 25  LATITUDE               157 non-null    float64\n",
      " 26  LONGITUDE              157 non-null    float64\n",
      " 27  ENDERECO_PACIENTE      157 non-null    object \n",
      " 28  COMPLEMENTO            41 non-null     object \n",
      " 29  BAIRRO_PACIENTE        157 non-null    object \n",
      " 30  LOCALIZACAO_PACIENTE   157 non-null    object \n",
      " 31  LOCATION_PACIENTE      130 non-null    object \n",
      " 32  POINT                  157 non-null    object \n",
      " 33  END_COMPLETO_PACIENTE  157 non-null    object \n",
      " 34  LATITUDE_PACIENTE      157 non-null    float64\n",
      " 35  LONGITUDE_PACIENTE     157 non-null    float64\n",
      " 36  ZONA                   157 non-null    object \n",
      "dtypes: float64(6), int64(8), object(23)\n",
      "memory usage: 46.6+ KB\n"
     ]
    }
   ],
   "source": [
    "sih.info()"
   ]
  },
  {
   "cell_type": "code",
   "execution_count": 40,
   "metadata": {
    "collapsed": true
   },
   "outputs": [
    {
     "data": {
      "text/html": [
       "<div>\n",
       "<style scoped>\n",
       "    .dataframe tbody tr th:only-of-type {\n",
       "        vertical-align: middle;\n",
       "    }\n",
       "\n",
       "    .dataframe tbody tr th {\n",
       "        vertical-align: top;\n",
       "    }\n",
       "\n",
       "    .dataframe thead th {\n",
       "        text-align: right;\n",
       "    }\n",
       "</style>\n",
       "<table border=\"1\" class=\"dataframe\">\n",
       "  <thead>\n",
       "    <tr style=\"text-align: right;\">\n",
       "      <th></th>\n",
       "      <th>ANO</th>\n",
       "      <th>CEP_PACIENTE</th>\n",
       "      <th>CNES</th>\n",
       "      <th>IDADE</th>\n",
       "      <th>IBGE</th>\n",
       "      <th>CNPJ PROPRIO</th>\n",
       "      <th>CNPJ MANTENEDORA</th>\n",
       "      <th>CEP</th>\n",
       "      <th>LATITUDE</th>\n",
       "      <th>LONGITUDE</th>\n",
       "      <th>LATITUDE_PACIENTE</th>\n",
       "      <th>LONGITUDE_PACIENTE</th>\n",
       "    </tr>\n",
       "  </thead>\n",
       "  <tbody>\n",
       "    <tr>\n",
       "      <th>count</th>\n",
       "      <td>157.000000</td>\n",
       "      <td>1.570000e+02</td>\n",
       "      <td>1.570000e+02</td>\n",
       "      <td>157.000000</td>\n",
       "      <td>157.0</td>\n",
       "      <td>1.230000e+02</td>\n",
       "      <td>1.140000e+02</td>\n",
       "      <td>1.570000e+02</td>\n",
       "      <td>157.000000</td>\n",
       "      <td>157.000000</td>\n",
       "      <td>122.000000</td>\n",
       "      <td>122.000000</td>\n",
       "    </tr>\n",
       "    <tr>\n",
       "      <th>mean</th>\n",
       "      <td>2019.878981</td>\n",
       "      <td>2.177398e+07</td>\n",
       "      <td>2.665822e+06</td>\n",
       "      <td>25.070064</td>\n",
       "      <td>330455.0</td>\n",
       "      <td>2.087809e+13</td>\n",
       "      <td>3.062376e+13</td>\n",
       "      <td>2.166932e+07</td>\n",
       "      <td>-22.872337</td>\n",
       "      <td>-43.278739</td>\n",
       "      <td>-22.900280</td>\n",
       "      <td>-43.352330</td>\n",
       "    </tr>\n",
       "    <tr>\n",
       "      <th>std</th>\n",
       "      <td>0.327193</td>\n",
       "      <td>9.592385e+05</td>\n",
       "      <td>1.191605e+06</td>\n",
       "      <td>27.963143</td>\n",
       "      <td>0.0</td>\n",
       "      <td>1.463876e+13</td>\n",
       "      <td>3.486975e+12</td>\n",
       "      <td>8.808947e+05</td>\n",
       "      <td>0.091151</td>\n",
       "      <td>0.126908</td>\n",
       "      <td>0.050259</td>\n",
       "      <td>0.149129</td>\n",
       "    </tr>\n",
       "    <tr>\n",
       "      <th>min</th>\n",
       "      <td>2019.000000</td>\n",
       "      <td>2.002003e+07</td>\n",
       "      <td>2.269384e+06</td>\n",
       "      <td>0.000000</td>\n",
       "      <td>330455.0</td>\n",
       "      <td>3.945440e+11</td>\n",
       "      <td>3.945440e+11</td>\n",
       "      <td>2.021135e+07</td>\n",
       "      <td>-22.983970</td>\n",
       "      <td>-43.687720</td>\n",
       "      <td>-23.005513</td>\n",
       "      <td>-43.694514</td>\n",
       "    </tr>\n",
       "    <tr>\n",
       "      <th>25%</th>\n",
       "      <td>2020.000000</td>\n",
       "      <td>2.104103e+07</td>\n",
       "      <td>2.269880e+06</td>\n",
       "      <td>1.000000</td>\n",
       "      <td>330455.0</td>\n",
       "      <td>3.945440e+11</td>\n",
       "      <td>2.946806e+13</td>\n",
       "      <td>2.094300e+07</td>\n",
       "      <td>-22.908100</td>\n",
       "      <td>-43.316110</td>\n",
       "      <td>-22.931307</td>\n",
       "      <td>-43.417114</td>\n",
       "    </tr>\n",
       "    <tr>\n",
       "      <th>50%</th>\n",
       "      <td>2020.000000</td>\n",
       "      <td>2.166521e+07</td>\n",
       "      <td>2.288338e+06</td>\n",
       "      <td>11.000000</td>\n",
       "      <td>330455.0</td>\n",
       "      <td>2.946806e+13</td>\n",
       "      <td>2.946806e+13</td>\n",
       "      <td>2.194146e+07</td>\n",
       "      <td>-22.903000</td>\n",
       "      <td>-43.238360</td>\n",
       "      <td>-22.902263</td>\n",
       "      <td>-43.308571</td>\n",
       "    </tr>\n",
       "    <tr>\n",
       "      <th>75%</th>\n",
       "      <td>2020.000000</td>\n",
       "      <td>2.273300e+07</td>\n",
       "      <td>2.296306e+06</td>\n",
       "      <td>48.000000</td>\n",
       "      <td>330455.0</td>\n",
       "      <td>3.366368e+13</td>\n",
       "      <td>3.366368e+13</td>\n",
       "      <td>2.241102e+07</td>\n",
       "      <td>-22.842440</td>\n",
       "      <td>-43.208000</td>\n",
       "      <td>-22.867320</td>\n",
       "      <td>-43.241137</td>\n",
       "    </tr>\n",
       "    <tr>\n",
       "      <th>max</th>\n",
       "      <td>2020.000000</td>\n",
       "      <td>2.359506e+07</td>\n",
       "      <td>7.166494e+06</td>\n",
       "      <td>101.000000</td>\n",
       "      <td>330455.0</td>\n",
       "      <td>3.402308e+13</td>\n",
       "      <td>3.402308e+13</td>\n",
       "      <td>2.355501e+07</td>\n",
       "      <td>-22.541000</td>\n",
       "      <td>-43.122700</td>\n",
       "      <td>-22.788158</td>\n",
       "      <td>-43.172422</td>\n",
       "    </tr>\n",
       "  </tbody>\n",
       "</table>\n",
       "</div>"
      ],
      "text/plain": [
       "               ANO  CEP_PACIENTE          CNES       IDADE      IBGE  \\\n",
       "count   157.000000  1.570000e+02  1.570000e+02  157.000000     157.0   \n",
       "mean   2019.878981  2.177398e+07  2.665822e+06   25.070064  330455.0   \n",
       "std       0.327193  9.592385e+05  1.191605e+06   27.963143       0.0   \n",
       "min    2019.000000  2.002003e+07  2.269384e+06    0.000000  330455.0   \n",
       "25%    2020.000000  2.104103e+07  2.269880e+06    1.000000  330455.0   \n",
       "50%    2020.000000  2.166521e+07  2.288338e+06   11.000000  330455.0   \n",
       "75%    2020.000000  2.273300e+07  2.296306e+06   48.000000  330455.0   \n",
       "max    2020.000000  2.359506e+07  7.166494e+06  101.000000  330455.0   \n",
       "\n",
       "       CNPJ PROPRIO  CNPJ MANTENEDORA           CEP    LATITUDE   LONGITUDE  \\\n",
       "count  1.230000e+02      1.140000e+02  1.570000e+02  157.000000  157.000000   \n",
       "mean   2.087809e+13      3.062376e+13  2.166932e+07  -22.872337  -43.278739   \n",
       "std    1.463876e+13      3.486975e+12  8.808947e+05    0.091151    0.126908   \n",
       "min    3.945440e+11      3.945440e+11  2.021135e+07  -22.983970  -43.687720   \n",
       "25%    3.945440e+11      2.946806e+13  2.094300e+07  -22.908100  -43.316110   \n",
       "50%    2.946806e+13      2.946806e+13  2.194146e+07  -22.903000  -43.238360   \n",
       "75%    3.366368e+13      3.366368e+13  2.241102e+07  -22.842440  -43.208000   \n",
       "max    3.402308e+13      3.402308e+13  2.355501e+07  -22.541000  -43.122700   \n",
       "\n",
       "       LATITUDE_PACIENTE  LONGITUDE_PACIENTE  \n",
       "count         122.000000          122.000000  \n",
       "mean          -22.900280          -43.352330  \n",
       "std             0.050259            0.149129  \n",
       "min           -23.005513          -43.694514  \n",
       "25%           -22.931307          -43.417114  \n",
       "50%           -22.902263          -43.308571  \n",
       "75%           -22.867320          -43.241137  \n",
       "max           -22.788158          -43.172422  "
      ]
     },
     "execution_count": 40,
     "metadata": {},
     "output_type": "execute_result"
    }
   ],
   "source": [
    "sih.describe()"
   ]
  },
  {
   "cell_type": "code",
   "execution_count": 122,
   "metadata": {
    "collapsed": true
   },
   "outputs": [
    {
     "data": {
      "text/plain": [
       "Index(['ANO', 'MES', 'TIPO_ATENDIMENTO', 'CEP_PACIENTE', 'GENERO',\n",
       "       'CID_DESCRI', 'CID_COD', 'SITUACAO', 'CNES', 'RACA_COR', 'IDADE',\n",
       "       'IBGE', 'UF', 'MUNICIPIO', 'NOME FANTASIA', 'RAZAO SOCIAL',\n",
       "       'CNPJ PROPRIO', 'CNPJ MANTENEDORA', 'TIPO GESTAO', 'LOGRADOURO',\n",
       "       'NUMERO', 'BAIRRO', 'CEP', 'LATITUDE', 'LONGITUDE', 'LOCATION_PACIENTE',\n",
       "       'POINT', 'LATITUDE_PACIENTE', 'LONGITUDE_PACIENTE'],\n",
       "      dtype='object')"
      ]
     },
     "execution_count": 122,
     "metadata": {},
     "output_type": "execute_result"
    }
   ],
   "source": [
    "sih.columns"
   ]
  },
  {
   "cell_type": "code",
   "execution_count": 178,
   "metadata": {},
   "outputs": [],
   "source": [
    "sih.drop(['BAIRRO_PACIENTE','ENDERECO_PACIENTE'], axis=1, inplace=True)"
   ]
  },
  {
   "cell_type": "markdown",
   "metadata": {},
   "source": [
    "#### Explorando os dados"
   ]
  },
  {
   "cell_type": "code",
   "execution_count": 18,
   "metadata": {},
   "outputs": [],
   "source": [
    "dist_anual = pd.DataFrame(sih['ANO'].value_counts())"
   ]
  },
  {
   "cell_type": "code",
   "execution_count": 19,
   "metadata": {},
   "outputs": [
    {
     "data": {
      "text/html": [
       "<div>\n",
       "<style scoped>\n",
       "    .dataframe tbody tr th:only-of-type {\n",
       "        vertical-align: middle;\n",
       "    }\n",
       "\n",
       "    .dataframe tbody tr th {\n",
       "        vertical-align: top;\n",
       "    }\n",
       "\n",
       "    .dataframe thead th {\n",
       "        text-align: right;\n",
       "    }\n",
       "</style>\n",
       "<table border=\"1\" class=\"dataframe\">\n",
       "  <thead>\n",
       "    <tr style=\"text-align: right;\">\n",
       "      <th></th>\n",
       "      <th>ANO</th>\n",
       "    </tr>\n",
       "  </thead>\n",
       "  <tbody>\n",
       "    <tr>\n",
       "      <th>2020</th>\n",
       "      <td>138</td>\n",
       "    </tr>\n",
       "    <tr>\n",
       "      <th>2019</th>\n",
       "      <td>19</td>\n",
       "    </tr>\n",
       "  </tbody>\n",
       "</table>\n",
       "</div>"
      ],
      "text/plain": [
       "      ANO\n",
       "2020  138\n",
       "2019   19"
      ]
     },
     "execution_count": 19,
     "metadata": {},
     "output_type": "execute_result"
    }
   ],
   "source": [
    "dist_anual"
   ]
  },
  {
   "cell_type": "code",
   "execution_count": 38,
   "metadata": {
    "scrolled": true
   },
   "outputs": [
    {
     "data": {
      "text/plain": [
       "Mar    43\n",
       "Fev    32\n",
       "Jan    31\n",
       "Abr    20\n",
       "Dez    19\n",
       "Mai    12\n",
       "Name: MES, dtype: int64"
      ]
     },
     "execution_count": 38,
     "metadata": {},
     "output_type": "execute_result"
    }
   ],
   "source": [
    "sih['MES'].value_counts()"
   ]
  },
  {
   "cell_type": "code",
   "execution_count": 46,
   "metadata": {},
   "outputs": [],
   "source": [
    "x= ['Dez', 'Jan', 'Fev', 'Mar', 'Abr', 'Mai' ]"
   ]
  },
  {
   "cell_type": "code",
   "execution_count": 47,
   "metadata": {},
   "outputs": [],
   "source": [
    "y =[19, 31, 32, 43, 20, 12]"
   ]
  },
  {
   "cell_type": "code",
   "execution_count": 54,
   "metadata": {},
   "outputs": [
    {
     "data": {
      "image/png": "[encoded data removed]",
      "text/plain": [
       "<Figure size 432x288 with 1 Axes>"
      ]
     },
     "metadata": {
      "needs_background": "light"
     },
     "output_type": "display_data"
    }
   ],
   "source": [
    "plt.bar(x, y, color='red')\n",
    "#plt.plot(x, y, color='black')\n",
    "plt.title('DISTRIBUIÇÃO MENSAL DE INTERNAÇÕES - 2019 A 2020') #adicionando o título\n",
    "plt.xlabel('') #definindo nome do eixo X\n",
    "plt.ylabel('QUANTIDADE') #definindo nome do eixo Y\n",
    "\n",
    "plt.show()"
   ]
  },
  {
   "cell_type": "markdown",
   "metadata": {},
   "source": [
    " - Idade"
   ]
  },
  {
   "cell_type": "code",
   "execution_count": 52,
   "metadata": {
    "collapsed": true
   },
   "outputs": [
    {
     "data": {
      "text/plain": [
       "0     27\n",
       "1     15\n",
       "3     10\n",
       "2      8\n",
       "76     4\n",
       "4      4\n",
       "5      4\n",
       "7      3\n",
       "10     3\n",
       "19     3\n",
       "57     3\n",
       "63     3\n",
       "11     2\n",
       "15     2\n",
       "72     2\n",
       "29     2\n",
       "64     2\n",
       "56     2\n",
       "38     2\n",
       "44     2\n",
       "Name: IDADE, dtype: int64"
      ]
     },
     "execution_count": 52,
     "metadata": {},
     "output_type": "execute_result"
    }
   ],
   "source": [
    "sih['IDADE'].value_counts().head(20)"
   ]
  },
  {
   "cell_type": "code",
   "execution_count": 70,
   "metadata": {},
   "outputs": [
    {
     "data": {
      "text/plain": [
       "count    157.000000\n",
       "mean      25.070064\n",
       "std       27.963143\n",
       "min        0.000000\n",
       "25%        1.000000\n",
       "50%       11.000000\n",
       "75%       48.000000\n",
       "max      101.000000\n",
       "Name: IDADE, dtype: float64"
      ]
     },
     "execution_count": 70,
     "metadata": {},
     "output_type": "execute_result"
    }
   ],
   "source": [
    "sih['IDADE'].describe()"
   ]
  },
  {
   "cell_type": "code",
   "execution_count": 8,
   "metadata": {
    "collapsed": true
   },
   "outputs": [
    {
     "data": {
      "text/plain": [
       "<AxesSubplot:xlabel='IDADE', ylabel='Count'>"
      ]
     },
     "execution_count": 8,
     "metadata": {},
     "output_type": "execute_result"
    },
    {
     "data": {
      "image/png": "[encoded data removed]",
      "text/plain": [
       "<Figure size 432x288 with 1 Axes>"
      ]
     },
     "metadata": {
      "needs_background": "light"
     },
     "output_type": "display_data"
    }
   ],
   "source": [
    "sns.histplot(data=sih, x='IDADE')"
   ]
  },
  {
   "cell_type": "code",
   "execution_count": 39,
   "metadata": {
    "collapsed": true
   },
   "outputs": [
    {
     "data": {
      "text/plain": [
       "{'whiskers': [<matplotlib.lines.Line2D at 0x2642aef8790>,\n",
       "  <matplotlib.lines.Line2D at 0x2642aef8910>],\n",
       " 'caps': [<matplotlib.lines.Line2D at 0x2642aef8cd0>,\n",
       "  <matplotlib.lines.Line2D at 0x2642af050a0>],\n",
       " 'boxes': [<matplotlib.lines.Line2D at 0x2642aef8400>],\n",
       " 'medians': [<matplotlib.lines.Line2D at 0x2642af053d0>],\n",
       " 'fliers': [<matplotlib.lines.Line2D at 0x2642af05760>],\n",
       " 'means': []}"
      ]
     },
     "execution_count": 39,
     "metadata": {},
     "output_type": "execute_result"
    },
    {
     "data": {
      "image/png": "[encoded data removed]",
      "text/plain": [
       "<Figure size 432x288 with 1 Axes>"
      ]
     },
     "metadata": {
      "needs_background": "light"
     },
     "output_type": "display_data"
    }
   ],
   "source": [
    "fig1, ax1 = plt.subplots()\n",
    "ax1.set_title('CID[A09]')\n",
    "ax1.boxplot(sih['IDADE'])"
   ]
  },
  {
   "cell_type": "markdown",
   "metadata": {},
   "source": [
    "50% dos pacientes tem até 11 anos de idade, os mais novos tem até 1 ano e os mais velhos tem no minimo 48 anos. O paciente mais velho tem 101 anos."
   ]
  },
  {
   "cell_type": "markdown",
   "metadata": {},
   "source": [
    " - Raça\n",
    " \n",
    " \n",
    " *A análise irá considerar <u>negros</u>* *como a soma de pretos e pardos, isto devido o recorte racial que está sendo feito na análise e entendimento da população negra no Brasil.*"
   ]
  },
  {
   "cell_type": "code",
   "execution_count": 41,
   "metadata": {},
   "outputs": [
    {
     "data": {
      "text/plain": [
       "parda       57\n",
       "ignorado    45\n",
       "branca      27\n",
       "preta       25\n",
       "amarela      3\n",
       "Name: RACA_COR, dtype: int64"
      ]
     },
     "execution_count": 41,
     "metadata": {},
     "output_type": "execute_result"
    }
   ],
   "source": [
    "sih['RACA_COR'].value_counts()"
   ]
  },
  {
   "cell_type": "code",
   "execution_count": 45,
   "metadata": {},
   "outputs": [
    {
     "data": {
      "text/plain": [
       "count       157\n",
       "unique        4\n",
       "top       negra\n",
       "freq         82\n",
       "Name: RACA_COR, dtype: object"
      ]
     },
     "execution_count": 45,
     "metadata": {},
     "output_type": "execute_result"
    }
   ],
   "source": [
    "sih['RACA_COR'].describe()"
   ]
  },
  {
   "cell_type": "code",
   "execution_count": 44,
   "metadata": {},
   "outputs": [
    {
     "data": {
      "text/plain": [
       "negra       52.229299\n",
       "ignorado    28.662420\n",
       "branca      17.197452\n",
       "amarela      1.910828\n",
       "Name: RACA_COR, dtype: float64"
      ]
     },
     "execution_count": 44,
     "metadata": {},
     "output_type": "execute_result"
    }
   ],
   "source": [
    "sih['RACA_COR'].value_counts()*100/157"
   ]
  },
  {
   "cell_type": "code",
   "execution_count": 46,
   "metadata": {
    "scrolled": false
   },
   "outputs": [
    {
     "data": {
      "text/html": [
       "<div>\n",
       "<style scoped>\n",
       "    .dataframe tbody tr th:only-of-type {\n",
       "        vertical-align: middle;\n",
       "    }\n",
       "\n",
       "    .dataframe tbody tr th {\n",
       "        vertical-align: top;\n",
       "    }\n",
       "\n",
       "    .dataframe thead tr th {\n",
       "        text-align: left;\n",
       "    }\n",
       "\n",
       "    .dataframe thead tr:last-of-type th {\n",
       "        text-align: right;\n",
       "    }\n",
       "</style>\n",
       "<table border=\"1\" class=\"dataframe\">\n",
       "  <thead>\n",
       "    <tr>\n",
       "      <th></th>\n",
       "      <th colspan=\"8\" halign=\"left\">IDADE</th>\n",
       "    </tr>\n",
       "    <tr>\n",
       "      <th></th>\n",
       "      <th>count</th>\n",
       "      <th>mean</th>\n",
       "      <th>std</th>\n",
       "      <th>min</th>\n",
       "      <th>25%</th>\n",
       "      <th>50%</th>\n",
       "      <th>75%</th>\n",
       "      <th>max</th>\n",
       "    </tr>\n",
       "    <tr>\n",
       "      <th>RACA_COR</th>\n",
       "      <th></th>\n",
       "      <th></th>\n",
       "      <th></th>\n",
       "      <th></th>\n",
       "      <th></th>\n",
       "      <th></th>\n",
       "      <th></th>\n",
       "      <th></th>\n",
       "    </tr>\n",
       "  </thead>\n",
       "  <tbody>\n",
       "    <tr>\n",
       "      <th>amarela</th>\n",
       "      <td>3.0</td>\n",
       "      <td>58.333333</td>\n",
       "      <td>13.503086</td>\n",
       "      <td>45.0</td>\n",
       "      <td>51.5</td>\n",
       "      <td>58.0</td>\n",
       "      <td>65.0</td>\n",
       "      <td>72.0</td>\n",
       "    </tr>\n",
       "    <tr>\n",
       "      <th>branca</th>\n",
       "      <td>27.0</td>\n",
       "      <td>26.259259</td>\n",
       "      <td>31.101067</td>\n",
       "      <td>0.0</td>\n",
       "      <td>2.5</td>\n",
       "      <td>7.0</td>\n",
       "      <td>46.5</td>\n",
       "      <td>96.0</td>\n",
       "    </tr>\n",
       "    <tr>\n",
       "      <th>ignorado</th>\n",
       "      <td>45.0</td>\n",
       "      <td>23.066667</td>\n",
       "      <td>23.338809</td>\n",
       "      <td>0.0</td>\n",
       "      <td>3.0</td>\n",
       "      <td>14.0</td>\n",
       "      <td>44.0</td>\n",
       "      <td>71.0</td>\n",
       "    </tr>\n",
       "    <tr>\n",
       "      <th>negra</th>\n",
       "      <td>82.0</td>\n",
       "      <td>24.560976</td>\n",
       "      <td>29.174273</td>\n",
       "      <td>0.0</td>\n",
       "      <td>1.0</td>\n",
       "      <td>9.5</td>\n",
       "      <td>49.5</td>\n",
       "      <td>101.0</td>\n",
       "    </tr>\n",
       "  </tbody>\n",
       "</table>\n",
       "</div>"
      ],
      "text/plain": [
       "         IDADE                                                     \n",
       "         count       mean        std   min   25%   50%   75%    max\n",
       "RACA_COR                                                           \n",
       "amarela    3.0  58.333333  13.503086  45.0  51.5  58.0  65.0   72.0\n",
       "branca    27.0  26.259259  31.101067   0.0   2.5   7.0  46.5   96.0\n",
       "ignorado  45.0  23.066667  23.338809   0.0   3.0  14.0  44.0   71.0\n",
       "negra     82.0  24.560976  29.174273   0.0   1.0   9.5  49.5  101.0"
      ]
     },
     "execution_count": 46,
     "metadata": {},
     "output_type": "execute_result"
    }
   ],
   "source": [
    "sih.filter(items=['IDADE']).groupby(sih['RACA_COR']).describe()"
   ]
  },
  {
   "cell_type": "code",
   "execution_count": 22,
   "metadata": {
    "collapsed": true
   },
   "outputs": [
    {
     "data": {
      "text/plain": [
       "<AxesSubplot:xlabel='IDADE', ylabel='Count'>"
      ]
     },
     "execution_count": 22,
     "metadata": {},
     "output_type": "execute_result"
    },
    {
     "data": {
      "image/png": "[encoded data removed]",
      "text/plain": [
       "<Figure size 1080x720 with 1 Axes>"
      ]
     },
     "metadata": {
      "needs_background": "light"
     },
     "output_type": "display_data"
    }
   ],
   "source": [
    "plt.figure(figsize=(15,10))\n",
    "sns.histplot(data=sih, x='IDADE', hue='RACA_COR', multiple=\"stack\")\n",
    "\n"
   ]
  },
  {
   "cell_type": "markdown",
   "metadata": {},
   "source": [
    "52% dos paciente são negros e apenas 17,2% são brancos. Dos pacientes negros 50% tem até 10 anos de idade e os mais jovens tem até 1 ano."
   ]
  },
  {
   "cell_type": "markdown",
   "metadata": {},
   "source": [
    "- Gênero"
   ]
  },
  {
   "cell_type": "code",
   "execution_count": 75,
   "metadata": {},
   "outputs": [
    {
     "data": {
      "text/plain": [
       "M    55.414013\n",
       "F    44.585987\n",
       "Name: GENERO, dtype: float64"
      ]
     },
     "execution_count": 75,
     "metadata": {},
     "output_type": "execute_result"
    }
   ],
   "source": [
    "sih['GENERO'].value_counts()*100/157"
   ]
  },
  {
   "cell_type": "code",
   "execution_count": 7,
   "metadata": {},
   "outputs": [
    {
     "data": {
      "text/html": [
       "<div>\n",
       "<style scoped>\n",
       "    .dataframe tbody tr th:only-of-type {\n",
       "        vertical-align: middle;\n",
       "    }\n",
       "\n",
       "    .dataframe tbody tr th {\n",
       "        vertical-align: top;\n",
       "    }\n",
       "\n",
       "    .dataframe thead tr th {\n",
       "        text-align: left;\n",
       "    }\n",
       "\n",
       "    .dataframe thead tr:last-of-type th {\n",
       "        text-align: right;\n",
       "    }\n",
       "</style>\n",
       "<table border=\"1\" class=\"dataframe\">\n",
       "  <thead>\n",
       "    <tr>\n",
       "      <th></th>\n",
       "      <th colspan=\"4\" halign=\"left\">GENERO</th>\n",
       "    </tr>\n",
       "    <tr>\n",
       "      <th></th>\n",
       "      <th>count</th>\n",
       "      <th>unique</th>\n",
       "      <th>top</th>\n",
       "      <th>freq</th>\n",
       "    </tr>\n",
       "    <tr>\n",
       "      <th>RACA_COR</th>\n",
       "      <th></th>\n",
       "      <th></th>\n",
       "      <th></th>\n",
       "      <th></th>\n",
       "    </tr>\n",
       "  </thead>\n",
       "  <tbody>\n",
       "    <tr>\n",
       "      <th>amarela</th>\n",
       "      <td>3</td>\n",
       "      <td>1</td>\n",
       "      <td>F</td>\n",
       "      <td>3</td>\n",
       "    </tr>\n",
       "    <tr>\n",
       "      <th>branca</th>\n",
       "      <td>27</td>\n",
       "      <td>2</td>\n",
       "      <td>M</td>\n",
       "      <td>14</td>\n",
       "    </tr>\n",
       "    <tr>\n",
       "      <th>ignorado</th>\n",
       "      <td>45</td>\n",
       "      <td>2</td>\n",
       "      <td>M</td>\n",
       "      <td>29</td>\n",
       "    </tr>\n",
       "    <tr>\n",
       "      <th>negra</th>\n",
       "      <td>82</td>\n",
       "      <td>2</td>\n",
       "      <td>M</td>\n",
       "      <td>44</td>\n",
       "    </tr>\n",
       "  </tbody>\n",
       "</table>\n",
       "</div>"
      ],
      "text/plain": [
       "         GENERO                \n",
       "          count unique top freq\n",
       "RACA_COR                       \n",
       "amarela       3      1   F    3\n",
       "branca       27      2   M   14\n",
       "ignorado     45      2   M   29\n",
       "negra        82      2   M   44"
      ]
     },
     "execution_count": 7,
     "metadata": {},
     "output_type": "execute_result"
    }
   ],
   "source": [
    "sih.filter(items=['GENERO']).groupby(sih['RACA_COR']).describe()"
   ]
  },
  {
   "cell_type": "code",
   "execution_count": 26,
   "metadata": {
    "collapsed": true
   },
   "outputs": [
    {
     "data": {
      "text/plain": [
       "<AxesSubplot:xlabel='IDADE', ylabel='Density'>"
      ]
     },
     "execution_count": 26,
     "metadata": {},
     "output_type": "execute_result"
    },
    {
     "data": {
      "image/png": "[encoded data removed]",
      "text/plain": [
       "<Figure size 432x288 with 1 Axes>"
      ]
     },
     "metadata": {
      "needs_background": "light"
     },
     "output_type": "display_data"
    }
   ],
   "source": [
    "sns.histplot(data=sih, x= 'IDADE', hue='GENERO', element=\"step\",\n",
    "    stat=\"density\", common_norm=False)\n"
   ]
  },
  {
   "cell_type": "markdown",
   "metadata": {},
   "source": [
    "A diferença de gênero entre os pacientes não é tão grande, mas há mais homens sendo internados que mulheres e a maioria das crianças são do sexo feminino e nessa faixa etária que há maior incidencia de internações por doença relacionadas a falta de saneamento básico. Quando observamos os dados de gênero em relação a raça, temos que todos os pacientes declarados amarelos eram do sexo feminino. Mas há mais homens negros sendo internados por doenças relacionadas a falta de saneamento básico."
   ]
  },
  {
   "cell_type": "markdown",
   "metadata": {},
   "source": [
    " - Localidade do paciente"
   ]
  },
  {
   "cell_type": "code",
   "execution_count": 8,
   "metadata": {},
   "outputs": [
    {
     "data": {
      "text/plain": [
       "Guaratiba        9\n",
       "Maré             8\n",
       "Campo Grande     7\n",
       "Bonsucesso       6\n",
       "Praça Seca       6\n",
       "                ..\n",
       "Estácio          1\n",
       "São Cristóvão    1\n",
       "Caju             1\n",
       "Centro           1\n",
       "Maracanã         1\n",
       "Name: BAIRRO_PACIENTE, Length: 76, dtype: int64"
      ]
     },
     "execution_count": 8,
     "metadata": {},
     "output_type": "execute_result"
    }
   ],
   "source": [
    "sih['BAIRRO_PACIENTE'].value_counts()"
   ]
  },
  {
   "cell_type": "code",
   "execution_count": 80,
   "metadata": {
    "collapsed": true
   },
   "outputs": [
    {
     "data": {
      "text/plain": [
       "<AxesSubplot:>"
      ]
     },
     "execution_count": 80,
     "metadata": {},
     "output_type": "execute_result"
    },
    {
     "data": {
      "image/png": "[encoded data removed]",
      "text/plain": [
       "<Figure size 1080x720 with 1 Axes>"
      ]
     },
     "metadata": {
      "needs_background": "light"
     },
     "output_type": "display_data"
    }
   ],
   "source": [
    "sih['BAIRRO_PACIENTE'].value_counts().plot(kind='bar', figsize=(15,10))"
   ]
  },
  {
   "cell_type": "code",
   "execution_count": null,
   "metadata": {},
   "outputs": [],
   "source": []
  },
  {
   "cell_type": "code",
   "execution_count": 11,
   "metadata": {
    "collapsed": true
   },
   "outputs": [
    {
     "data": {
      "text/html": [
       "<div>\n",
       "<style scoped>\n",
       "    .dataframe tbody tr th:only-of-type {\n",
       "        vertical-align: middle;\n",
       "    }\n",
       "\n",
       "    .dataframe tbody tr th {\n",
       "        vertical-align: top;\n",
       "    }\n",
       "\n",
       "    .dataframe thead th {\n",
       "        text-align: right;\n",
       "    }\n",
       "</style>\n",
       "<table border=\"1\" class=\"dataframe\">\n",
       "  <thead>\n",
       "    <tr style=\"text-align: right;\">\n",
       "      <th></th>\n",
       "      <th>Unnamed: 0.1</th>\n",
       "      <th>Unnamed: 0.1.1</th>\n",
       "      <th>ANO</th>\n",
       "      <th>MES</th>\n",
       "      <th>TIPO_ATENDIMENTO</th>\n",
       "      <th>CEP_PACIENTE</th>\n",
       "      <th>GENERO</th>\n",
       "      <th>CID_DESCRI</th>\n",
       "      <th>CID_COD</th>\n",
       "      <th>SITUACAO</th>\n",
       "      <th>...</th>\n",
       "      <th>ENDERECO_PACIENTE</th>\n",
       "      <th>COMPLEMENTO</th>\n",
       "      <th>BAIRRO_PACIENTE</th>\n",
       "      <th>LOCALIZACAO_PACIENTE</th>\n",
       "      <th>LOCATION_PACIENTE</th>\n",
       "      <th>POINT</th>\n",
       "      <th>END_COMPLETO_PACIENTE</th>\n",
       "      <th>LATITUDE_PACIENTE</th>\n",
       "      <th>LONGITUDE_PACIENTE</th>\n",
       "      <th>ZONA</th>\n",
       "    </tr>\n",
       "  </thead>\n",
       "  <tbody>\n",
       "    <tr>\n",
       "      <th>11</th>\n",
       "      <td>11</td>\n",
       "      <td>11</td>\n",
       "      <td>2020</td>\n",
       "      <td>Jan</td>\n",
       "      <td>clin_medica</td>\n",
       "      <td>21046405</td>\n",
       "      <td>M</td>\n",
       "      <td>tto dengue</td>\n",
       "      <td>cid[A90]-Dengue [dengue clássico]</td>\n",
       "      <td>curado</td>\n",
       "      <td>...</td>\n",
       "      <td>Rua Projetada CMaréMaré</td>\n",
       "      <td>(Vl Pinheiro)</td>\n",
       "      <td>Maré</td>\n",
       "      <td>Rio de Janeiro</td>\n",
       "      <td>Rua C, Vila do João, Maré, Rio de Janeiro, Reg...</td>\n",
       "      <td>-22.872078, -43.2348227, 0.0</td>\n",
       "      <td>Rua Projetada C, Maré</td>\n",
       "      <td>22.872078</td>\n",
       "      <td>-43.234823</td>\n",
       "      <td>Zona Norte do Rio de Janeiro</td>\n",
       "    </tr>\n",
       "    <tr>\n",
       "      <th>42</th>\n",
       "      <td>42</td>\n",
       "      <td>50</td>\n",
       "      <td>2020</td>\n",
       "      <td>Mar</td>\n",
       "      <td>clin_medica</td>\n",
       "      <td>21044580</td>\n",
       "      <td>F</td>\n",
       "      <td>tto doenças protozoarios</td>\n",
       "      <td>cid[B572]-Doença de Chagas (crônica) com compr...</td>\n",
       "      <td>melhorado</td>\n",
       "      <td>...</td>\n",
       "      <td>Rua das RosasMaréMaré</td>\n",
       "      <td>(Nova Holanda)</td>\n",
       "      <td>Maré</td>\n",
       "      <td>Rio de Janeiro</td>\n",
       "      <td>NaN</td>\n",
       "      <td>0.0, 0.0, 0.0</td>\n",
       "      <td>Rua das Rosas, Maré</td>\n",
       "      <td>0.000000</td>\n",
       "      <td>0.000000</td>\n",
       "      <td>Não localizado</td>\n",
       "    </tr>\n",
       "    <tr>\n",
       "      <th>119</th>\n",
       "      <td>119</td>\n",
       "      <td>151</td>\n",
       "      <td>2020</td>\n",
       "      <td>Fev</td>\n",
       "      <td>pediatria</td>\n",
       "      <td>21046020</td>\n",
       "      <td>M</td>\n",
       "      <td>tto doenças infec e intestinais</td>\n",
       "      <td>cid[A09]-Diarréia e gastroenterite de origem i...</td>\n",
       "      <td>melhorado</td>\n",
       "      <td>...</td>\n",
       "      <td>Via SeletivaMaréMaré</td>\n",
       "      <td>(Vl Pinheiro)</td>\n",
       "      <td>Maré</td>\n",
       "      <td>Rio de Janeiro</td>\n",
       "      <td>NaN</td>\n",
       "      <td>0.0, 0.0, 0.0</td>\n",
       "      <td>Via Seletiva, Maré</td>\n",
       "      <td>0.000000</td>\n",
       "      <td>0.000000</td>\n",
       "      <td>Não localizado</td>\n",
       "    </tr>\n",
       "    <tr>\n",
       "      <th>122</th>\n",
       "      <td>122</td>\n",
       "      <td>154</td>\n",
       "      <td>2020</td>\n",
       "      <td>Mar</td>\n",
       "      <td>pediatria</td>\n",
       "      <td>21046425</td>\n",
       "      <td>M</td>\n",
       "      <td>tto doenças infec e intestinais</td>\n",
       "      <td>cid[A09]-Diarréia e gastroenterite de origem i...</td>\n",
       "      <td>melhorado</td>\n",
       "      <td>...</td>\n",
       "      <td>Rua Projetada GMaréMaré</td>\n",
       "      <td>(Vl Pinheiro)</td>\n",
       "      <td>Maré</td>\n",
       "      <td>Rio de Janeiro</td>\n",
       "      <td>Rua Projetada G, Vila do João, Maré, Rio de Ja...</td>\n",
       "      <td>-22.871506, -43.2363402, 0.0</td>\n",
       "      <td>Rua Projetada G, Maré</td>\n",
       "      <td>22.871506</td>\n",
       "      <td>-43.236340</td>\n",
       "      <td>Zona Norte do Rio de Janeiro</td>\n",
       "    </tr>\n",
       "    <tr>\n",
       "      <th>125</th>\n",
       "      <td>125</td>\n",
       "      <td>159</td>\n",
       "      <td>2020</td>\n",
       "      <td>Mar</td>\n",
       "      <td>pediatria</td>\n",
       "      <td>21044510</td>\n",
       "      <td>M</td>\n",
       "      <td>tto doenças infec e intestinais</td>\n",
       "      <td>cid[A09]-Diarréia e gastroenterite de origem i...</td>\n",
       "      <td>melhorado</td>\n",
       "      <td>...</td>\n",
       "      <td>Rua Vinte e Nove de JaneiroMaréMaré</td>\n",
       "      <td>(Nova Holanda)</td>\n",
       "      <td>Maré</td>\n",
       "      <td>Rio de Janeiro</td>\n",
       "      <td>NaN</td>\n",
       "      <td>0.0, 0.0, 0.0</td>\n",
       "      <td>Rua Vinte e Nove de Janeiro, Maré</td>\n",
       "      <td>0.000000</td>\n",
       "      <td>0.000000</td>\n",
       "      <td>Não localizado</td>\n",
       "    </tr>\n",
       "    <tr>\n",
       "      <th>134</th>\n",
       "      <td>134</td>\n",
       "      <td>168</td>\n",
       "      <td>2020</td>\n",
       "      <td>Jan</td>\n",
       "      <td>pediatria</td>\n",
       "      <td>21044750</td>\n",
       "      <td>F</td>\n",
       "      <td>tto doenças infec e intestinais</td>\n",
       "      <td>cid[A09]-Diarréia e gastroenterite de origem i...</td>\n",
       "      <td>melhorado</td>\n",
       "      <td>...</td>\n",
       "      <td>Rua UmMaréMaré</td>\n",
       "      <td>(Nova Holanda)</td>\n",
       "      <td>Maré</td>\n",
       "      <td>Rio de Janeiro</td>\n",
       "      <td>Rua 1, Vila do João, Maré, Rio de Janeiro, Reg...</td>\n",
       "      <td>-22.8671644, -43.2417302, 0.0</td>\n",
       "      <td>Rua Um, Maré</td>\n",
       "      <td>22.867164</td>\n",
       "      <td>-43.241730</td>\n",
       "      <td>Zona Norte do Rio de Janeiro</td>\n",
       "    </tr>\n",
       "    <tr>\n",
       "      <th>138</th>\n",
       "      <td>138</td>\n",
       "      <td>172</td>\n",
       "      <td>2020</td>\n",
       "      <td>Mar</td>\n",
       "      <td>pediatria</td>\n",
       "      <td>21044570</td>\n",
       "      <td>M</td>\n",
       "      <td>tto doenças infec e intestinais</td>\n",
       "      <td>cid[A09]-Diarréia e gastroenterite de origem i...</td>\n",
       "      <td>melhorado</td>\n",
       "      <td>...</td>\n",
       "      <td>Rua HMaréMaré</td>\n",
       "      <td>(Nova Holanda)</td>\n",
       "      <td>Maré</td>\n",
       "      <td>Rio de Janeiro</td>\n",
       "      <td>Rue Jean Poulmarc'h, Le Murger Bardin, Rieuvil...</td>\n",
       "      <td>48.725072, 1.3739809, 0.0</td>\n",
       "      <td>Rua H, Maré</td>\n",
       "      <td>8.725072</td>\n",
       "      <td>1.373981</td>\n",
       "      <td>Zona Norte do Rio de Janeiro</td>\n",
       "    </tr>\n",
       "    <tr>\n",
       "      <th>153</th>\n",
       "      <td>153</td>\n",
       "      <td>187</td>\n",
       "      <td>2020</td>\n",
       "      <td>Mar</td>\n",
       "      <td>clin_medica</td>\n",
       "      <td>21042020</td>\n",
       "      <td>F</td>\n",
       "      <td>tto doenças infec e intestinais</td>\n",
       "      <td>cid[A09]-Diarréia e gastroenterite de origem i...</td>\n",
       "      <td>internado para diagnostico</td>\n",
       "      <td>...</td>\n",
       "      <td>Beco do AbacateMaréMaré</td>\n",
       "      <td>(Mro Timbau)</td>\n",
       "      <td>Maré</td>\n",
       "      <td>Rio de Janeiro</td>\n",
       "      <td>Beco do Abacate, Timbau, Maré, Rio de Janeiro,...</td>\n",
       "      <td>-22.8631956, -43.2395044, 0.0</td>\n",
       "      <td>Beco do Abacate, Maré</td>\n",
       "      <td>22.863196</td>\n",
       "      <td>-43.239504</td>\n",
       "      <td>Zona Norte do Rio de Janeiro</td>\n",
       "    </tr>\n",
       "  </tbody>\n",
       "</table>\n",
       "<p>8 rows × 37 columns</p>\n",
       "</div>"
      ],
      "text/plain": [
       "     Unnamed: 0.1  Unnamed: 0.1.1   ANO  MES TIPO_ATENDIMENTO  CEP_PACIENTE  \\\n",
       "11             11              11  2020  Jan      clin_medica      21046405   \n",
       "42             42              50  2020  Mar      clin_medica      21044580   \n",
       "119           119             151  2020  Fev        pediatria      21046020   \n",
       "122           122             154  2020  Mar        pediatria      21046425   \n",
       "125           125             159  2020  Mar        pediatria      21044510   \n",
       "134           134             168  2020  Jan        pediatria      21044750   \n",
       "138           138             172  2020  Mar        pediatria      21044570   \n",
       "153           153             187  2020  Mar      clin_medica      21042020   \n",
       "\n",
       "    GENERO                       CID_DESCRI  \\\n",
       "11       M                       tto dengue   \n",
       "42       F         tto doenças protozoarios   \n",
       "119      M  tto doenças infec e intestinais   \n",
       "122      M  tto doenças infec e intestinais   \n",
       "125      M  tto doenças infec e intestinais   \n",
       "134      F  tto doenças infec e intestinais   \n",
       "138      M  tto doenças infec e intestinais   \n",
       "153      F  tto doenças infec e intestinais   \n",
       "\n",
       "                                               CID_COD  \\\n",
       "11                   cid[A90]-Dengue [dengue clássico]   \n",
       "42   cid[B572]-Doença de Chagas (crônica) com compr...   \n",
       "119  cid[A09]-Diarréia e gastroenterite de origem i...   \n",
       "122  cid[A09]-Diarréia e gastroenterite de origem i...   \n",
       "125  cid[A09]-Diarréia e gastroenterite de origem i...   \n",
       "134  cid[A09]-Diarréia e gastroenterite de origem i...   \n",
       "138  cid[A09]-Diarréia e gastroenterite de origem i...   \n",
       "153  cid[A09]-Diarréia e gastroenterite de origem i...   \n",
       "\n",
       "                       SITUACAO  ...                    ENDERECO_PACIENTE  \\\n",
       "11                       curado  ...              Rua Projetada CMaréMaré   \n",
       "42                    melhorado  ...                Rua das RosasMaréMaré   \n",
       "119                   melhorado  ...                 Via SeletivaMaréMaré   \n",
       "122                   melhorado  ...              Rua Projetada GMaréMaré   \n",
       "125                   melhorado  ...  Rua Vinte e Nove de JaneiroMaréMaré   \n",
       "134                   melhorado  ...                       Rua UmMaréMaré   \n",
       "138                   melhorado  ...                        Rua HMaréMaré   \n",
       "153  internado para diagnostico  ...              Beco do AbacateMaréMaré   \n",
       "\n",
       "        COMPLEMENTO  BAIRRO_PACIENTE  LOCALIZACAO_PACIENTE  \\\n",
       "11    (Vl Pinheiro)             Maré        Rio de Janeiro   \n",
       "42   (Nova Holanda)             Maré        Rio de Janeiro   \n",
       "119   (Vl Pinheiro)             Maré        Rio de Janeiro   \n",
       "122   (Vl Pinheiro)             Maré        Rio de Janeiro   \n",
       "125  (Nova Holanda)             Maré        Rio de Janeiro   \n",
       "134  (Nova Holanda)             Maré        Rio de Janeiro   \n",
       "138  (Nova Holanda)             Maré        Rio de Janeiro   \n",
       "153    (Mro Timbau)             Maré        Rio de Janeiro   \n",
       "\n",
       "                                     LOCATION_PACIENTE  \\\n",
       "11   Rua C, Vila do João, Maré, Rio de Janeiro, Reg...   \n",
       "42                                                 NaN   \n",
       "119                                                NaN   \n",
       "122  Rua Projetada G, Vila do João, Maré, Rio de Ja...   \n",
       "125                                                NaN   \n",
       "134  Rua 1, Vila do João, Maré, Rio de Janeiro, Reg...   \n",
       "138  Rue Jean Poulmarc'h, Le Murger Bardin, Rieuvil...   \n",
       "153  Beco do Abacate, Timbau, Maré, Rio de Janeiro,...   \n",
       "\n",
       "                             POINT               END_COMPLETO_PACIENTE  \\\n",
       "11    -22.872078, -43.2348227, 0.0               Rua Projetada C, Maré   \n",
       "42                   0.0, 0.0, 0.0                 Rua das Rosas, Maré   \n",
       "119                  0.0, 0.0, 0.0                  Via Seletiva, Maré   \n",
       "122   -22.871506, -43.2363402, 0.0               Rua Projetada G, Maré   \n",
       "125                  0.0, 0.0, 0.0   Rua Vinte e Nove de Janeiro, Maré   \n",
       "134  -22.8671644, -43.2417302, 0.0                        Rua Um, Maré   \n",
       "138      48.725072, 1.3739809, 0.0                         Rua H, Maré   \n",
       "153  -22.8631956, -43.2395044, 0.0               Beco do Abacate, Maré   \n",
       "\n",
       "    LATITUDE_PACIENTE  LONGITUDE_PACIENTE                          ZONA  \n",
       "11          22.872078          -43.234823  Zona Norte do Rio de Janeiro  \n",
       "42           0.000000            0.000000                Não localizado  \n",
       "119          0.000000            0.000000                Não localizado  \n",
       "122         22.871506          -43.236340  Zona Norte do Rio de Janeiro  \n",
       "125          0.000000            0.000000                Não localizado  \n",
       "134         22.867164          -43.241730  Zona Norte do Rio de Janeiro  \n",
       "138          8.725072            1.373981  Zona Norte do Rio de Janeiro  \n",
       "153         22.863196          -43.239504  Zona Norte do Rio de Janeiro  \n",
       "\n",
       "[8 rows x 37 columns]"
      ]
     },
     "execution_count": 11,
     "metadata": {},
     "output_type": "execute_result"
    }
   ],
   "source": [
    "sih.loc[sih['BAIRRO_PACIENTE'] == 'Maré']"
   ]
  },
  {
   "cell_type": "markdown",
   "metadata": {},
   "source": [
    "Criando uma nova coluna para zonas de localidade residente dos pacientes"
   ]
  },
  {
   "cell_type": "code",
   "execution_count": 214,
   "metadata": {
    "collapsed": true
   },
   "outputs": [
    {
     "data": {
      "text/plain": [
       "Zona Norte do Rio de Janeiro      35.668790\n",
       "Zona Oeste do Rio de Janeiro      28.025478\n",
       "Zona Central do Rio de Janeiro     7.006369\n",
       "Zona Sul do Rio de Janeiro         7.006369\n",
       "Name: ZONA, dtype: float64"
      ]
     },
     "execution_count": 214,
     "metadata": {},
     "output_type": "execute_result"
    }
   ],
   "source": [
    "sih['ZONA'].value_counts()*100/157"
   ]
  },
  {
   "cell_type": "code",
   "execution_count": 217,
   "metadata": {
    "scrolled": false
   },
   "outputs": [
    {
     "data": {
      "text/html": [
       "<div>\n",
       "<style scoped>\n",
       "    .dataframe tbody tr th:only-of-type {\n",
       "        vertical-align: middle;\n",
       "    }\n",
       "\n",
       "    .dataframe tbody tr th {\n",
       "        vertical-align: top;\n",
       "    }\n",
       "\n",
       "    .dataframe thead tr th {\n",
       "        text-align: left;\n",
       "    }\n",
       "\n",
       "    .dataframe thead tr:last-of-type th {\n",
       "        text-align: right;\n",
       "    }\n",
       "</style>\n",
       "<table border=\"1\" class=\"dataframe\">\n",
       "  <thead>\n",
       "    <tr>\n",
       "      <th></th>\n",
       "      <th colspan=\"4\" halign=\"left\">ZONA</th>\n",
       "    </tr>\n",
       "    <tr>\n",
       "      <th></th>\n",
       "      <th>count</th>\n",
       "      <th>unique</th>\n",
       "      <th>top</th>\n",
       "      <th>freq</th>\n",
       "    </tr>\n",
       "    <tr>\n",
       "      <th>RACA_COR</th>\n",
       "      <th></th>\n",
       "      <th></th>\n",
       "      <th></th>\n",
       "      <th></th>\n",
       "    </tr>\n",
       "  </thead>\n",
       "  <tbody>\n",
       "    <tr>\n",
       "      <th>amarela</th>\n",
       "      <td>3</td>\n",
       "      <td>2</td>\n",
       "      <td>Zona Sul do Rio de Janeiro</td>\n",
       "      <td>2</td>\n",
       "    </tr>\n",
       "    <tr>\n",
       "      <th>branca</th>\n",
       "      <td>23</td>\n",
       "      <td>4</td>\n",
       "      <td>Zona Norte do Rio de Janeiro</td>\n",
       "      <td>13</td>\n",
       "    </tr>\n",
       "    <tr>\n",
       "      <th>ignorado</th>\n",
       "      <td>37</td>\n",
       "      <td>4</td>\n",
       "      <td>Zona Norte do Rio de Janeiro</td>\n",
       "      <td>16</td>\n",
       "    </tr>\n",
       "    <tr>\n",
       "      <th>negra</th>\n",
       "      <td>59</td>\n",
       "      <td>4</td>\n",
       "      <td>Zona Norte do Rio de Janeiro</td>\n",
       "      <td>26</td>\n",
       "    </tr>\n",
       "  </tbody>\n",
       "</table>\n",
       "</div>"
      ],
      "text/plain": [
       "          ZONA                                          \n",
       "         count unique                           top freq\n",
       "RACA_COR                                                \n",
       "amarela      3      2    Zona Sul do Rio de Janeiro    2\n",
       "branca      23      4  Zona Norte do Rio de Janeiro   13\n",
       "ignorado    37      4  Zona Norte do Rio de Janeiro   16\n",
       "negra       59      4  Zona Norte do Rio de Janeiro   26"
      ]
     },
     "execution_count": 217,
     "metadata": {},
     "output_type": "execute_result"
    }
   ],
   "source": [
    "# filtrar e agrupar por raça e zona\n",
    "sih.filter(items=['ZONA']).groupby(sih['RACA_COR']).describe()"
   ]
  },
  {
   "cell_type": "code",
   "execution_count": 98,
   "metadata": {},
   "outputs": [
    {
     "data": {
      "text/html": [
       "<div>\n",
       "<style scoped>\n",
       "    .dataframe tbody tr th:only-of-type {\n",
       "        vertical-align: middle;\n",
       "    }\n",
       "\n",
       "    .dataframe tbody tr th {\n",
       "        vertical-align: top;\n",
       "    }\n",
       "\n",
       "    .dataframe thead tr th {\n",
       "        text-align: left;\n",
       "    }\n",
       "\n",
       "    .dataframe thead tr:last-of-type th {\n",
       "        text-align: right;\n",
       "    }\n",
       "</style>\n",
       "<table border=\"1\" class=\"dataframe\">\n",
       "  <thead>\n",
       "    <tr>\n",
       "      <th></th>\n",
       "      <th colspan=\"4\" halign=\"left\">ZONAS</th>\n",
       "    </tr>\n",
       "    <tr>\n",
       "      <th></th>\n",
       "      <th>count</th>\n",
       "      <th>unique</th>\n",
       "      <th>top</th>\n",
       "      <th>freq</th>\n",
       "    </tr>\n",
       "    <tr>\n",
       "      <th>GENERO</th>\n",
       "      <th></th>\n",
       "      <th></th>\n",
       "      <th></th>\n",
       "      <th></th>\n",
       "    </tr>\n",
       "  </thead>\n",
       "  <tbody>\n",
       "    <tr>\n",
       "      <th>F</th>\n",
       "      <td>70</td>\n",
       "      <td>4</td>\n",
       "      <td>ZONA OESTE</td>\n",
       "      <td>32</td>\n",
       "    </tr>\n",
       "    <tr>\n",
       "      <th>M</th>\n",
       "      <td>87</td>\n",
       "      <td>4</td>\n",
       "      <td>ZONA NORTE</td>\n",
       "      <td>43</td>\n",
       "    </tr>\n",
       "  </tbody>\n",
       "</table>\n",
       "</div>"
      ],
      "text/plain": [
       "       ZONAS                        \n",
       "       count unique         top freq\n",
       "GENERO                              \n",
       "F         70      4  ZONA OESTE   32\n",
       "M         87      4  ZONA NORTE   43"
      ]
     },
     "execution_count": 98,
     "metadata": {},
     "output_type": "execute_result"
    }
   ],
   "source": [
    "# Filtrar por genero e zona\n",
    "sih.filter(items=['ZONA']).groupby(sih['GENERO']).describe()"
   ]
  },
  {
   "cell_type": "code",
   "execution_count": 17,
   "metadata": {},
   "outputs": [],
   "source": [
    "# Filtrar por sexo\n",
    "fem = pd.DataFrame(sih.loc[sih['GENERO'] == 'F' ])\n",
    "mas = pd.DataFrame(sih.loc[sih['GENERO'] == 'M' ])"
   ]
  },
  {
   "cell_type": "code",
   "execution_count": 18,
   "metadata": {
    "scrolled": true
   },
   "outputs": [
    {
     "data": {
      "text/html": [
       "<div>\n",
       "<style scoped>\n",
       "    .dataframe tbody tr th:only-of-type {\n",
       "        vertical-align: middle;\n",
       "    }\n",
       "\n",
       "    .dataframe tbody tr th {\n",
       "        vertical-align: top;\n",
       "    }\n",
       "\n",
       "    .dataframe thead tr th {\n",
       "        text-align: left;\n",
       "    }\n",
       "\n",
       "    .dataframe thead tr:last-of-type th {\n",
       "        text-align: right;\n",
       "    }\n",
       "</style>\n",
       "<table border=\"1\" class=\"dataframe\">\n",
       "  <thead>\n",
       "    <tr>\n",
       "      <th></th>\n",
       "      <th colspan=\"4\" halign=\"left\">ZONAS</th>\n",
       "    </tr>\n",
       "    <tr>\n",
       "      <th></th>\n",
       "      <th>count</th>\n",
       "      <th>unique</th>\n",
       "      <th>top</th>\n",
       "      <th>freq</th>\n",
       "    </tr>\n",
       "    <tr>\n",
       "      <th>RACA_COR</th>\n",
       "      <th></th>\n",
       "      <th></th>\n",
       "      <th></th>\n",
       "      <th></th>\n",
       "    </tr>\n",
       "  </thead>\n",
       "  <tbody>\n",
       "    <tr>\n",
       "      <th>amarela</th>\n",
       "      <td>3</td>\n",
       "      <td>2</td>\n",
       "      <td>ZONA SUL</td>\n",
       "      <td>2</td>\n",
       "    </tr>\n",
       "    <tr>\n",
       "      <th>branca</th>\n",
       "      <td>13</td>\n",
       "      <td>3</td>\n",
       "      <td>ZONA OESTE</td>\n",
       "      <td>6</td>\n",
       "    </tr>\n",
       "    <tr>\n",
       "      <th>ignorado</th>\n",
       "      <td>16</td>\n",
       "      <td>4</td>\n",
       "      <td>ZONA NORTE</td>\n",
       "      <td>8</td>\n",
       "    </tr>\n",
       "    <tr>\n",
       "      <th>negra</th>\n",
       "      <td>38</td>\n",
       "      <td>3</td>\n",
       "      <td>ZONA OESTE</td>\n",
       "      <td>22</td>\n",
       "    </tr>\n",
       "  </tbody>\n",
       "</table>\n",
       "</div>"
      ],
      "text/plain": [
       "         ZONAS                        \n",
       "         count unique         top freq\n",
       "RACA_COR                              \n",
       "amarela      3      2    ZONA SUL    2\n",
       "branca      13      3  ZONA OESTE    6\n",
       "ignorado    16      4  ZONA NORTE    8\n",
       "negra       38      3  ZONA OESTE   22"
      ]
     },
     "execution_count": 18,
     "metadata": {},
     "output_type": "execute_result"
    }
   ],
   "source": [
    "# Filtrar genero feminino por raça\n",
    "fem.filter(items=['ZONA']).groupby(fem['RACA_COR']).describe()"
   ]
  },
  {
   "cell_type": "code",
   "execution_count": 19,
   "metadata": {
    "scrolled": true
   },
   "outputs": [
    {
     "data": {
      "text/html": [
       "<div>\n",
       "<style scoped>\n",
       "    .dataframe tbody tr th:only-of-type {\n",
       "        vertical-align: middle;\n",
       "    }\n",
       "\n",
       "    .dataframe tbody tr th {\n",
       "        vertical-align: top;\n",
       "    }\n",
       "\n",
       "    .dataframe thead tr th {\n",
       "        text-align: left;\n",
       "    }\n",
       "\n",
       "    .dataframe thead tr:last-of-type th {\n",
       "        text-align: right;\n",
       "    }\n",
       "</style>\n",
       "<table border=\"1\" class=\"dataframe\">\n",
       "  <thead>\n",
       "    <tr>\n",
       "      <th></th>\n",
       "      <th colspan=\"4\" halign=\"left\">ZONAS</th>\n",
       "    </tr>\n",
       "    <tr>\n",
       "      <th></th>\n",
       "      <th>count</th>\n",
       "      <th>unique</th>\n",
       "      <th>top</th>\n",
       "      <th>freq</th>\n",
       "    </tr>\n",
       "    <tr>\n",
       "      <th>RACA_COR</th>\n",
       "      <th></th>\n",
       "      <th></th>\n",
       "      <th></th>\n",
       "      <th></th>\n",
       "    </tr>\n",
       "  </thead>\n",
       "  <tbody>\n",
       "    <tr>\n",
       "      <th>branca</th>\n",
       "      <td>14</td>\n",
       "      <td>3</td>\n",
       "      <td>ZONA NORTE</td>\n",
       "      <td>10</td>\n",
       "    </tr>\n",
       "    <tr>\n",
       "      <th>ignorado</th>\n",
       "      <td>29</td>\n",
       "      <td>4</td>\n",
       "      <td>ZONA NORTE</td>\n",
       "      <td>13</td>\n",
       "    </tr>\n",
       "    <tr>\n",
       "      <th>negra</th>\n",
       "      <td>44</td>\n",
       "      <td>4</td>\n",
       "      <td>ZONA NORTE</td>\n",
       "      <td>20</td>\n",
       "    </tr>\n",
       "  </tbody>\n",
       "</table>\n",
       "</div>"
      ],
      "text/plain": [
       "         ZONAS                        \n",
       "         count unique         top freq\n",
       "RACA_COR                              \n",
       "branca      14      3  ZONA NORTE   10\n",
       "ignorado    29      4  ZONA NORTE   13\n",
       "negra       44      4  ZONA NORTE   20"
      ]
     },
     "execution_count": 19,
     "metadata": {},
     "output_type": "execute_result"
    }
   ],
   "source": [
    "# Filtrar o genero masculino por raça\n",
    "mas.filter(items=['ZONA']).groupby(mas['RACA_COR']).describe()"
   ]
  },
  {
   "cell_type": "markdown",
   "metadata": {},
   "source": [
    "Os três bairros com maior número de pacientes são Guaratiba(9), Maré(8) e Campo Grande(7).\n",
    "\n",
    " 45% das internações são de pacientes que moram na Zona norte do Rio de Janeiro, seguido de 37% na Zona Oeste. Ambos as zonas concentram a distribuição de pessoas negras no estado e são as áreas mais pobres da cidade, segundo Barbosa em https://desigualdadesespaciais.wordpress.com/.\n",
    " \n",
    " Ao relacionar a localidade de residencia dos pacientes com a raça, temos que o maior número de pacientes negros estão na Zona Oeste  e a maioria branca e ignorada estão na Zona Norte.\n",
    " A maioria das internações do sexo feminino estão na Zona Oeste e na Zona Norte concentra a maioria masculina. Quando observamos o genero, raça e zona juntos temos que 58% das mulheres negras internadas são da Zona Oeste e 45% dos homens negros são da Zona Norte.\n",
    " \n"
   ]
  },
  {
   "cell_type": "markdown",
   "metadata": {},
   "source": [
    " - Hospitais de Internações"
   ]
  },
  {
   "cell_type": "code",
   "execution_count": 63,
   "metadata": {
    "collapsed": true
   },
   "outputs": [
    {
     "data": {
      "text/plain": [
       "UFRJ IPPMG INST DE PUER PED MARTAGAO GESTEIRA           18\n",
       "SMS HOSPITAL MUNICIPAL NOSSA SENHORA DO LORETO AP 31    16\n",
       "SMS HOSPITAL MUNICIPAL ROCHA FARIA AP 52                14\n",
       "INI FIOCRUZ                                             12\n",
       "MS HOSPITAL FEDERAL CARDOSO FONTES                      11\n",
       "SMS RIO HOSPITAL MUNICIPAL SALGADO FILHO                10\n",
       "SMS HOSPITAL MUNICIPAL DA PIEDADE AP 32                  9\n",
       "SMS HOSPITAL MUNICIPAL MIGUEL COUTO AP 21                9\n",
       "MS HGB HOSPITAL GERAL DE BONSUCESSO                      9\n",
       "SMS HOSPITAL MUNICIPAL RONALDO GAZOLLA AP 33             9\n",
       "MS HSE HOSPITAL DOS SERVIDORES DO ESTADO                 7\n",
       "UERJ HOSPITAL UNIV PEDRO ERNESTO                         4\n",
       "SMS HOSPITAL MUNICIPAL ALBERT SCHWEITZER AP 51           4\n",
       "HOSPITAL MUNICIPAL SOUZA AGUIAR                          3\n",
       "SMS HOSPITAL MUNICIPAL EVANDRO FREIRE AP 31              3\n",
       "HOSPITAL FEDERAL DO ANDARAI                              3\n",
       "SMS HOSPITAL MUNICIPAL PEDRO II AP 53                    3\n",
       "SMS HOSPITAL MUNICIPAL BARATA RIBEIRO AP 1 0             2\n",
       "SMS RIO HOSPITAL MUNICIPAL ROCHA MAIA                    2\n",
       "HOSPITAL UNIVERSITARIO CLEMENTINO FRAGA FILHO            2\n",
       "MS HOSPITAL DE IPANEMA                                   1\n",
       "MS HOSPITAL FEDERAL DA LAGOA                             1\n",
       "HOSPITAL UNIVERSITARIO GAFFREE E GUINLE                  1\n",
       "SMS HOSPITAL MUNICIPAL FRANCISCO DA SILVA TELLES         1\n",
       "IFF FIOCRUZ                                              1\n",
       "MS INCA HOSPITAL DO CANCER I                             1\n",
       "SMS HOSPITAL MUNICIPAL ALVARO RAMOS AP 40                1\n",
       "Name: NOME FANTASIA, dtype: int64"
      ]
     },
     "execution_count": 63,
     "metadata": {},
     "output_type": "execute_result"
    }
   ],
   "source": [
    "sih['NOME FANTASIA'].value_counts()"
   ]
  },
  {
   "cell_type": "code",
   "execution_count": 30,
   "metadata": {
    "collapsed": true
   },
   "outputs": [
    {
     "data": {
      "text/plain": [
       "<AxesSubplot:>"
      ]
     },
     "execution_count": 30,
     "metadata": {},
     "output_type": "execute_result"
    },
    {
     "data": {
      "image/png": "[encoded data removed]",
      "text/plain": [
       "<Figure size 1080x720 with 1 Axes>"
      ]
     },
     "metadata": {
      "needs_background": "light"
     },
     "output_type": "display_data"
    }
   ],
   "source": [
    "sih['NOME FANTASIA'].value_counts().plot(kind='barh', figsize=(15,10))"
   ]
  },
  {
   "cell_type": "code",
   "execution_count": 43,
   "metadata": {
    "collapsed": true
   },
   "outputs": [
    {
     "data": {
      "text/plain": [
       "<AxesSubplot:>"
      ]
     },
     "execution_count": 43,
     "metadata": {},
     "output_type": "execute_result"
    },
    {
     "data": {
      "image/png": "[encoded data removed]",
      "text/plain": [
       "<Figure size 864x432 with 1 Axes>"
      ]
     },
     "metadata": {
      "needs_background": "light"
     },
     "output_type": "display_data"
    }
   ],
   "source": [
    "# Bairro dos Hospitais\n",
    "sih['BAIRRO'].value_counts().plot(kind='barh', figsize=(12,6))"
   ]
  },
  {
   "cell_type": "code",
   "execution_count": 58,
   "metadata": {},
   "outputs": [],
   "source": [
    "# criando coluna que agrupa os bairros por zona\n",
    "sih['ZONAS_Hospital'] = sih['BAIRRO']"
   ]
  },
  {
   "cell_type": "code",
   "execution_count": 59,
   "metadata": {},
   "outputs": [],
   "source": [
    "sih['ZONAS_Hospital'] = sih['ZONAS_Hospital'].map({'BONSUCESSO': 'ZONA NORTE',\n",
    "                                          'MANGUEIRA':'ZONA NORTE',\n",
    "                                          'CENTRO': 'ZONA CENTRAL',\n",
    "                                          'BOTAFOGO':'ZONA SUL',\n",
    "                                          'ACARI':'ZONA NORTE',\n",
    "        'MANGUINHOS':'ZONA NORTE',\n",
    "        'FREGUESIA JPA': 'ZONA OESTE',\n",
    "        'PORTUGUESA ILHA DO G':'ZONA NORTE',\n",
    "        'JACAREPAGUA':'ZONA OESTE',\n",
    "        'PIEDADE':'ZONA NORTE',\n",
    "        'IRAJA':'ZONA NORTE',\n",
    "        'JARDIM BOTANICO':'ZONA SUL',\n",
    "        'CAMPO GRANDE':'ZONA OESTE',\n",
    "        'REALENGO':'ZONA OESTE',\n",
    "        'SANTA CRUZ':'ZONA OESTE',\n",
    "        'IPANEMA':'ZONA SUL',\n",
    "        'MEIER':'ZONA NORTE',\n",
    "        'VILA ISABEL':'ZONA NORTE',\n",
    "        'CIDADE UNIVERSITARIA':'ZONA NORTE',\n",
    "        'TIJUCA':'ZONA NORTE',\n",
    "        'GALEAO':'ZONA NORTE',\n",
    "        'GAVEA':'ZONA SUL',\n",
    "        'FLAMENGO':'ZONA SUL',\n",
    "        'ILHA DO FUNDAO':'ZONA NORTE',\n",
    "        'ANDARAI':'ZONA NORTE'})"
   ]
  },
  {
   "cell_type": "code",
   "execution_count": 59,
   "metadata": {
    "collapsed": true
   },
   "outputs": [
    {
     "data": {
      "text/plain": [
       "ZONA NORTE      63.057325\n",
       "ZONA OESTE      21.019108\n",
       "ZONA SUL         8.917197\n",
       "ZONA CENTRAL     7.006369\n",
       "Name: ZONAS_Hospital, dtype: float64"
      ]
     },
     "execution_count": 59,
     "metadata": {},
     "output_type": "execute_result"
    }
   ],
   "source": [
    "sih['ZONAS_Hospital'].value_counts()*100/157"
   ]
  },
  {
   "cell_type": "code",
   "execution_count": 26,
   "metadata": {
    "scrolled": true
   },
   "outputs": [],
   "source": [
    "# Salvando os dados não geolocalizados para fazer manualmente\n",
    "sem_geoloc = pd.DataFrame(sih.loc[sih['LATITUDE_PACIENTE'].isnull()])"
   ]
  },
  {
   "cell_type": "code",
   "execution_count": 29,
   "metadata": {
    "collapsed": true
   },
   "outputs": [
    {
     "data": {
      "text/html": [
       "<div>\n",
       "<style scoped>\n",
       "    .dataframe tbody tr th:only-of-type {\n",
       "        vertical-align: middle;\n",
       "    }\n",
       "\n",
       "    .dataframe tbody tr th {\n",
       "        vertical-align: top;\n",
       "    }\n",
       "\n",
       "    .dataframe thead th {\n",
       "        text-align: right;\n",
       "    }\n",
       "</style>\n",
       "<table border=\"1\" class=\"dataframe\">\n",
       "  <thead>\n",
       "    <tr style=\"text-align: right;\">\n",
       "      <th></th>\n",
       "      <th>ANO</th>\n",
       "      <th>MES</th>\n",
       "      <th>TIPO_ATENDIMENTO</th>\n",
       "      <th>CEP_PACIENTE</th>\n",
       "      <th>GENERO</th>\n",
       "      <th>CID_DESCRI</th>\n",
       "      <th>CID_COD</th>\n",
       "      <th>SITUACAO</th>\n",
       "      <th>CNES</th>\n",
       "      <th>RACA_COR</th>\n",
       "      <th>...</th>\n",
       "      <th>LATITUDE</th>\n",
       "      <th>LONGITUDE</th>\n",
       "      <th>ENDERECO_PACIENTE</th>\n",
       "      <th>LOCATION_PACIENTE</th>\n",
       "      <th>POINT</th>\n",
       "      <th>BAIRRO_PACIENTE</th>\n",
       "      <th>LATITUDE_PACIENTE</th>\n",
       "      <th>LONGITUDE_PACIENTE</th>\n",
       "      <th>ZONAS</th>\n",
       "      <th>ZONAS_Hospital</th>\n",
       "    </tr>\n",
       "  </thead>\n",
       "  <tbody>\n",
       "    <tr>\n",
       "      <th>7</th>\n",
       "      <td>2020</td>\n",
       "      <td>Fev</td>\n",
       "      <td>clin_medica</td>\n",
       "      <td>21030040</td>\n",
       "      <td>F</td>\n",
       "      <td>tto doenças infec e intestinais</td>\n",
       "      <td>cid[A09]-Diarréia e gastroenterite de origem i...</td>\n",
       "      <td>internado para diagnostico</td>\n",
       "      <td>2269880</td>\n",
       "      <td>ignorado</td>\n",
       "      <td>...</td>\n",
       "      <td>-22.86714</td>\n",
       "      <td>-43.24854</td>\n",
       "      <td>Avenida Almirante Frontin, Ramos, Rio de Janei...</td>\n",
       "      <td>NaN</td>\n",
       "      <td>NaN</td>\n",
       "      <td>Ramos</td>\n",
       "      <td>NaN</td>\n",
       "      <td>NaN</td>\n",
       "      <td>ZONA NORTE</td>\n",
       "      <td>ZONA NORTE</td>\n",
       "    </tr>\n",
       "    <tr>\n",
       "      <th>15</th>\n",
       "      <td>2020</td>\n",
       "      <td>Jan</td>\n",
       "      <td>clin_medica</td>\n",
       "      <td>20250000</td>\n",
       "      <td>M</td>\n",
       "      <td>tto doenças infec e intestinais</td>\n",
       "      <td>cid[A09]-Diarréia e gastroenterite de origem i...</td>\n",
       "      <td>internado para diagnostico</td>\n",
       "      <td>2273489</td>\n",
       "      <td>negra</td>\n",
       "      <td>...</td>\n",
       "      <td>-22.95346</td>\n",
       "      <td>-43.17852</td>\n",
       "      <td>Rua Maia Lacerda, Estácio, Rio de Janeiro - RJ</td>\n",
       "      <td>NaN</td>\n",
       "      <td>NaN</td>\n",
       "      <td>Estácio</td>\n",
       "      <td>NaN</td>\n",
       "      <td>NaN</td>\n",
       "      <td>ZONA CENTRAL</td>\n",
       "      <td>ZONA SUL</td>\n",
       "    </tr>\n",
       "    <tr>\n",
       "      <th>18</th>\n",
       "      <td>2020</td>\n",
       "      <td>Fev</td>\n",
       "      <td>clin_medica</td>\n",
       "      <td>22775450</td>\n",
       "      <td>M</td>\n",
       "      <td>tto doenças bact. zoonósticas</td>\n",
       "      <td>cid[A278]-Outras formas de leptospirose</td>\n",
       "      <td>melhorado</td>\n",
       "      <td>5717256</td>\n",
       "      <td>negra</td>\n",
       "      <td>...</td>\n",
       "      <td>-22.82519</td>\n",
       "      <td>-43.34750</td>\n",
       "      <td>Rua Kazumba, Taquara, Rio de Janeiro - RJ</td>\n",
       "      <td>NaN</td>\n",
       "      <td>NaN</td>\n",
       "      <td>Taquara</td>\n",
       "      <td>NaN</td>\n",
       "      <td>NaN</td>\n",
       "      <td>ZONA OESTE</td>\n",
       "      <td>ZONA NORTE</td>\n",
       "    </tr>\n",
       "    <tr>\n",
       "      <th>20</th>\n",
       "      <td>2020</td>\n",
       "      <td>Mar</td>\n",
       "      <td>clin_medica</td>\n",
       "      <td>21043230</td>\n",
       "      <td>M</td>\n",
       "      <td>tto doenças bact. zoonósticas</td>\n",
       "      <td>cid[A279]-Leptospirose não especificada</td>\n",
       "      <td>administrativa</td>\n",
       "      <td>5717256</td>\n",
       "      <td>negra</td>\n",
       "      <td>...</td>\n",
       "      <td>-22.82519</td>\n",
       "      <td>-43.34750</td>\n",
       "      <td>Rua Ivanildo Alves, Bonsucesso, Rio de Janeiro...</td>\n",
       "      <td>NaN</td>\n",
       "      <td>NaN</td>\n",
       "      <td>Bonsucesso</td>\n",
       "      <td>NaN</td>\n",
       "      <td>NaN</td>\n",
       "      <td>ZONA NORTE</td>\n",
       "      <td>ZONA NORTE</td>\n",
       "    </tr>\n",
       "    <tr>\n",
       "      <th>25</th>\n",
       "      <td>2020</td>\n",
       "      <td>Mai</td>\n",
       "      <td>clin_medica</td>\n",
       "      <td>22010060</td>\n",
       "      <td>F</td>\n",
       "      <td>tto afecções da pele</td>\n",
       "      <td>cid[B749]-Filariose não especificada</td>\n",
       "      <td>melhorado</td>\n",
       "      <td>2269988</td>\n",
       "      <td>ignorado</td>\n",
       "      <td>...</td>\n",
       "      <td>-22.89730</td>\n",
       "      <td>-43.18799</td>\n",
       "      <td>Ladeira Ari Barroso, Leme, Rio de Janeiro - RJ</td>\n",
       "      <td>NaN</td>\n",
       "      <td>NaN</td>\n",
       "      <td>Leme</td>\n",
       "      <td>NaN</td>\n",
       "      <td>NaN</td>\n",
       "      <td>ZONA SUL</td>\n",
       "      <td>ZONA CENTRAL</td>\n",
       "    </tr>\n",
       "  </tbody>\n",
       "</table>\n",
       "<p>5 rows × 33 columns</p>\n",
       "</div>"
      ],
      "text/plain": [
       "     ANO  MES TIPO_ATENDIMENTO  CEP_PACIENTE GENERO  \\\n",
       "7   2020  Fev      clin_medica      21030040      F   \n",
       "15  2020  Jan      clin_medica      20250000      M   \n",
       "18  2020  Fev      clin_medica      22775450      M   \n",
       "20  2020  Mar      clin_medica      21043230      M   \n",
       "25  2020  Mai      clin_medica      22010060      F   \n",
       "\n",
       "                         CID_DESCRI  \\\n",
       "7   tto doenças infec e intestinais   \n",
       "15  tto doenças infec e intestinais   \n",
       "18    tto doenças bact. zoonósticas   \n",
       "20    tto doenças bact. zoonósticas   \n",
       "25             tto afecções da pele   \n",
       "\n",
       "                                              CID_COD  \\\n",
       "7   cid[A09]-Diarréia e gastroenterite de origem i...   \n",
       "15  cid[A09]-Diarréia e gastroenterite de origem i...   \n",
       "18            cid[A278]-Outras formas de leptospirose   \n",
       "20            cid[A279]-Leptospirose não especificada   \n",
       "25               cid[B749]-Filariose não especificada   \n",
       "\n",
       "                      SITUACAO     CNES  RACA_COR  ...  LATITUDE  LONGITUDE  \\\n",
       "7   internado para diagnostico  2269880  ignorado  ... -22.86714  -43.24854   \n",
       "15  internado para diagnostico  2273489     negra  ... -22.95346  -43.17852   \n",
       "18                   melhorado  5717256     negra  ... -22.82519  -43.34750   \n",
       "20              administrativa  5717256     negra  ... -22.82519  -43.34750   \n",
       "25                   melhorado  2269988  ignorado  ... -22.89730  -43.18799   \n",
       "\n",
       "                                    ENDERECO_PACIENTE LOCATION_PACIENTE POINT  \\\n",
       "7   Avenida Almirante Frontin, Ramos, Rio de Janei...               NaN   NaN   \n",
       "15     Rua Maia Lacerda, Estácio, Rio de Janeiro - RJ               NaN   NaN   \n",
       "18          Rua Kazumba, Taquara, Rio de Janeiro - RJ               NaN   NaN   \n",
       "20  Rua Ivanildo Alves, Bonsucesso, Rio de Janeiro...               NaN   NaN   \n",
       "25     Ladeira Ari Barroso, Leme, Rio de Janeiro - RJ               NaN   NaN   \n",
       "\n",
       "   BAIRRO_PACIENTE  LATITUDE_PACIENTE  LONGITUDE_PACIENTE         ZONAS  \\\n",
       "7            Ramos                NaN                 NaN    ZONA NORTE   \n",
       "15         Estácio                NaN                 NaN  ZONA CENTRAL   \n",
       "18         Taquara                NaN                 NaN    ZONA OESTE   \n",
       "20      Bonsucesso                NaN                 NaN    ZONA NORTE   \n",
       "25            Leme                NaN                 NaN      ZONA SUL   \n",
       "\n",
       "   ZONAS_Hospital  \n",
       "7      ZONA NORTE  \n",
       "15       ZONA SUL  \n",
       "18     ZONA NORTE  \n",
       "20     ZONA NORTE  \n",
       "25   ZONA CENTRAL  \n",
       "\n",
       "[5 rows x 33 columns]"
      ]
     },
     "execution_count": 29,
     "metadata": {},
     "output_type": "execute_result"
    }
   ],
   "source": [
    "sem_geoloc.head()"
   ]
  },
  {
   "cell_type": "code",
   "execution_count": 36,
   "metadata": {
    "collapsed": true
   },
   "outputs": [
    {
     "data": {
      "text/html": [
       "<div>\n",
       "<style scoped>\n",
       "    .dataframe tbody tr th:only-of-type {\n",
       "        vertical-align: middle;\n",
       "    }\n",
       "\n",
       "    .dataframe tbody tr th {\n",
       "        vertical-align: top;\n",
       "    }\n",
       "\n",
       "    .dataframe thead th {\n",
       "        text-align: right;\n",
       "    }\n",
       "</style>\n",
       "<table border=\"1\" class=\"dataframe\">\n",
       "  <thead>\n",
       "    <tr style=\"text-align: right;\">\n",
       "      <th></th>\n",
       "      <th>ANO</th>\n",
       "      <th>MES</th>\n",
       "      <th>TIPO_ATENDIMENTO</th>\n",
       "      <th>CEP_PACIENTE</th>\n",
       "      <th>GENERO</th>\n",
       "      <th>CID_DESCRI</th>\n",
       "      <th>CID_COD</th>\n",
       "      <th>SITUACAO</th>\n",
       "      <th>CNES</th>\n",
       "      <th>RACA_COR</th>\n",
       "      <th>...</th>\n",
       "      <th>LATITUDE</th>\n",
       "      <th>LONGITUDE</th>\n",
       "      <th>ENDERECO_PACIENTE</th>\n",
       "      <th>LOCATION_PACIENTE</th>\n",
       "      <th>POINT</th>\n",
       "      <th>BAIRRO_PACIENTE</th>\n",
       "      <th>LATITUDE_PACIENTE</th>\n",
       "      <th>LONGITUDE_PACIENTE</th>\n",
       "      <th>ZONAS</th>\n",
       "      <th>ZONAS_Hospital</th>\n",
       "    </tr>\n",
       "  </thead>\n",
       "  <tbody>\n",
       "    <tr>\n",
       "      <th>0</th>\n",
       "      <td>2020</td>\n",
       "      <td>Jan</td>\n",
       "      <td>clin_medica</td>\n",
       "      <td>21660500</td>\n",
       "      <td>M</td>\n",
       "      <td>tto hepatite viral</td>\n",
       "      <td>cid[B159]-Hepatite A sem coma hepático</td>\n",
       "      <td>internado para diagnostico</td>\n",
       "      <td>2269880</td>\n",
       "      <td>ignorado</td>\n",
       "      <td>...</td>\n",
       "      <td>-22.86714</td>\n",
       "      <td>-43.24854</td>\n",
       "      <td>Rua Margem da Linha, Barros Filho, Rio de Jane...</td>\n",
       "      <td>Rua Margem da Linha, Margem da Linha, Barros F...</td>\n",
       "      <td>(-22.8370879, -43.3680663, 0.0)</td>\n",
       "      <td>Barros Filho</td>\n",
       "      <td>-22.837088</td>\n",
       "      <td>-43.368066</td>\n",
       "      <td>ZONA NORTE</td>\n",
       "      <td>ZONA NORTE</td>\n",
       "    </tr>\n",
       "    <tr>\n",
       "      <th>1</th>\n",
       "      <td>2020</td>\n",
       "      <td>Jan</td>\n",
       "      <td>pediatria</td>\n",
       "      <td>21012140</td>\n",
       "      <td>F</td>\n",
       "      <td>tto infec. perinatal</td>\n",
       "      <td>cid[H10]-Conjuntivite</td>\n",
       "      <td>internado para diagnostico</td>\n",
       "      <td>2269880</td>\n",
       "      <td>ignorado</td>\n",
       "      <td>...</td>\n",
       "      <td>-22.86714</td>\n",
       "      <td>-43.24854</td>\n",
       "      <td>Estrada do Porto Velho, Cordovil, Rio de Janei...</td>\n",
       "      <td>Estrada do Porto Velho, Cidade Alta, Cordovil,...</td>\n",
       "      <td>(-22.8209659, -43.2922273, 0.0)</td>\n",
       "      <td>Cordovil</td>\n",
       "      <td>-22.820966</td>\n",
       "      <td>-43.292227</td>\n",
       "      <td>ZONA NORTE</td>\n",
       "      <td>ZONA NORTE</td>\n",
       "    </tr>\n",
       "    <tr>\n",
       "      <th>2</th>\n",
       "      <td>2020</td>\n",
       "      <td>Abr</td>\n",
       "      <td>clin_medica</td>\n",
       "      <td>21931350</td>\n",
       "      <td>F</td>\n",
       "      <td>tto infecções virais</td>\n",
       "      <td>cid[B08]-Outras infecções virais caracterizada...</td>\n",
       "      <td>internado para diagnostico</td>\n",
       "      <td>2269880</td>\n",
       "      <td>ignorado</td>\n",
       "      <td>...</td>\n",
       "      <td>-22.86714</td>\n",
       "      <td>-43.24854</td>\n",
       "      <td>Rua Gregório de Castro Morais, Jardim Guanabar...</td>\n",
       "      <td>Rua Gregório de Castro Morais, Jardim Guanabar...</td>\n",
       "      <td>(-22.8059119, -43.2029146, 0.0)</td>\n",
       "      <td>Jardim Guanabara</td>\n",
       "      <td>-22.805912</td>\n",
       "      <td>-43.202915</td>\n",
       "      <td>ZONA NORTE</td>\n",
       "      <td>ZONA NORTE</td>\n",
       "    </tr>\n",
       "    <tr>\n",
       "      <th>3</th>\n",
       "      <td>2019</td>\n",
       "      <td>Dez</td>\n",
       "      <td>pediatria</td>\n",
       "      <td>20261004</td>\n",
       "      <td>M</td>\n",
       "      <td>tto doenças infec e intestinais</td>\n",
       "      <td>cid[A09]-Diarréia e gastroenterite de origem i...</td>\n",
       "      <td>internado para diagnostico</td>\n",
       "      <td>2269880</td>\n",
       "      <td>negra</td>\n",
       "      <td>...</td>\n",
       "      <td>-22.86714</td>\n",
       "      <td>-43.24854</td>\n",
       "      <td>Rua Aureliano Portugal, Rio Comprido, Rio de J...</td>\n",
       "      <td>Rua Aureliano Portugal, Rio Comprido, Zona Cen...</td>\n",
       "      <td>(-22.9262258, -43.2157276, 0.0)</td>\n",
       "      <td>Rio Comprido</td>\n",
       "      <td>-22.926226</td>\n",
       "      <td>-43.215728</td>\n",
       "      <td>ZONA CENTRAL</td>\n",
       "      <td>ZONA NORTE</td>\n",
       "    </tr>\n",
       "    <tr>\n",
       "      <th>4</th>\n",
       "      <td>2019</td>\n",
       "      <td>Dez</td>\n",
       "      <td>clin_medica</td>\n",
       "      <td>21210070</td>\n",
       "      <td>M</td>\n",
       "      <td>tto doenças infec e intestinais</td>\n",
       "      <td>cid[A09]-Diarréia e gastroenterite de origem i...</td>\n",
       "      <td>internado para diagnostico</td>\n",
       "      <td>2269880</td>\n",
       "      <td>branca</td>\n",
       "      <td>...</td>\n",
       "      <td>-22.86714</td>\n",
       "      <td>-43.24854</td>\n",
       "      <td>Rua Arquimedes Memória, Vila da Penha, Rio de ...</td>\n",
       "      <td>Rua Arquimedes Memória, Vila da Penha, Zona No...</td>\n",
       "      <td>(-22.8452131, -43.3048533, 0.0)</td>\n",
       "      <td>Vila da Penha</td>\n",
       "      <td>-22.845213</td>\n",
       "      <td>-43.304853</td>\n",
       "      <td>ZONA NORTE</td>\n",
       "      <td>ZONA NORTE</td>\n",
       "    </tr>\n",
       "    <tr>\n",
       "      <th>...</th>\n",
       "      <td>...</td>\n",
       "      <td>...</td>\n",
       "      <td>...</td>\n",
       "      <td>...</td>\n",
       "      <td>...</td>\n",
       "      <td>...</td>\n",
       "      <td>...</td>\n",
       "      <td>...</td>\n",
       "      <td>...</td>\n",
       "      <td>...</td>\n",
       "      <td>...</td>\n",
       "      <td>...</td>\n",
       "      <td>...</td>\n",
       "      <td>...</td>\n",
       "      <td>...</td>\n",
       "      <td>...</td>\n",
       "      <td>...</td>\n",
       "      <td>...</td>\n",
       "      <td>...</td>\n",
       "      <td>...</td>\n",
       "      <td>...</td>\n",
       "    </tr>\n",
       "    <tr>\n",
       "      <th>152</th>\n",
       "      <td>2020</td>\n",
       "      <td>Mar</td>\n",
       "      <td>clin_medica</td>\n",
       "      <td>21042020</td>\n",
       "      <td>F</td>\n",
       "      <td>tto doenças infec e intestinais</td>\n",
       "      <td>cid[A09]-Diarréia e gastroenterite de origem i...</td>\n",
       "      <td>internado para diagnostico</td>\n",
       "      <td>2280167</td>\n",
       "      <td>negra</td>\n",
       "      <td>...</td>\n",
       "      <td>-22.84244</td>\n",
       "      <td>-43.23738</td>\n",
       "      <td>Beco do Abacate, Maré, Rio de Janeiro - RJ</td>\n",
       "      <td>Beco do Abacate, Timbau, Maré, Zona Norte do R...</td>\n",
       "      <td>(-22.8631956, -43.2395044, 0.0)</td>\n",
       "      <td>Maré</td>\n",
       "      <td>-22.863196</td>\n",
       "      <td>-43.239504</td>\n",
       "      <td>ZONA NORTE</td>\n",
       "      <td>ZONA NORTE</td>\n",
       "    </tr>\n",
       "    <tr>\n",
       "      <th>153</th>\n",
       "      <td>2020</td>\n",
       "      <td>Mar</td>\n",
       "      <td>clin_medica</td>\n",
       "      <td>21615310</td>\n",
       "      <td>F</td>\n",
       "      <td>tto interc. pós-transplantes</td>\n",
       "      <td>cid[A09]-Diarréia e gastroenterite de origem i...</td>\n",
       "      <td>internado para diagnostico</td>\n",
       "      <td>2273454</td>\n",
       "      <td>branca</td>\n",
       "      <td>...</td>\n",
       "      <td>-22.91232</td>\n",
       "      <td>-43.18858</td>\n",
       "      <td>Estrada São Pedro de Alcântara, Deodoro, Rio d...</td>\n",
       "      <td>Estrada São Pedro de Alcântara, Deodoro, Zona ...</td>\n",
       "      <td>(-22.8559181, -43.3884427, 0.0)</td>\n",
       "      <td>Deodoro</td>\n",
       "      <td>-22.855918</td>\n",
       "      <td>-43.388443</td>\n",
       "      <td>ZONA OESTE</td>\n",
       "      <td>ZONA CENTRAL</td>\n",
       "    </tr>\n",
       "    <tr>\n",
       "      <th>154</th>\n",
       "      <td>2020</td>\n",
       "      <td>Mar</td>\n",
       "      <td>pediatria</td>\n",
       "      <td>20561230</td>\n",
       "      <td>F</td>\n",
       "      <td>tto doenças infec e intestinais</td>\n",
       "      <td>cid[A09]-Diarréia e gastroenterite de origem i...</td>\n",
       "      <td>melhorado</td>\n",
       "      <td>2269384</td>\n",
       "      <td>branca</td>\n",
       "      <td>...</td>\n",
       "      <td>-22.92738</td>\n",
       "      <td>-43.25170</td>\n",
       "      <td>Rua Alfredo Pujol, Grajaú, Rio de Janeiro - RJ</td>\n",
       "      <td>Rua Alfredo Pujol, Grajaú, Zona Norte do Rio d...</td>\n",
       "      <td>(-22.9267537, -43.2635737, 0.0)</td>\n",
       "      <td>Grajaú</td>\n",
       "      <td>-22.926754</td>\n",
       "      <td>-43.263574</td>\n",
       "      <td>ZONA NORTE</td>\n",
       "      <td>ZONA NORTE</td>\n",
       "    </tr>\n",
       "    <tr>\n",
       "      <th>155</th>\n",
       "      <td>2020</td>\n",
       "      <td>Mar</td>\n",
       "      <td>pediatria</td>\n",
       "      <td>20550200</td>\n",
       "      <td>M</td>\n",
       "      <td>tto doenças infec e intestinais</td>\n",
       "      <td>cid[A09]-Diarréia e gastroenterite de origem i...</td>\n",
       "      <td>melhorado</td>\n",
       "      <td>2269384</td>\n",
       "      <td>negra</td>\n",
       "      <td>...</td>\n",
       "      <td>-22.92738</td>\n",
       "      <td>-43.25170</td>\n",
       "      <td>Rua Oito de Dezembro, Maracanã, Rio de Janeiro...</td>\n",
       "      <td>Rua Oito de Dezembro, Vila Isabel, Zona Norte ...</td>\n",
       "      <td>(-22.9089277, -43.2387333, 0.0)</td>\n",
       "      <td>Maracanã</td>\n",
       "      <td>-22.908928</td>\n",
       "      <td>-43.238733</td>\n",
       "      <td>ZONA NORTE</td>\n",
       "      <td>ZONA NORTE</td>\n",
       "    </tr>\n",
       "    <tr>\n",
       "      <th>156</th>\n",
       "      <td>2020</td>\n",
       "      <td>Mar</td>\n",
       "      <td>clin_medica</td>\n",
       "      <td>20560130</td>\n",
       "      <td>F</td>\n",
       "      <td>tto doenças infec e intestinais</td>\n",
       "      <td>cid[A09]-Diarréia e gastroenterite de origem i...</td>\n",
       "      <td>internado para diagnostico</td>\n",
       "      <td>2269384</td>\n",
       "      <td>amarela</td>\n",
       "      <td>...</td>\n",
       "      <td>-22.92738</td>\n",
       "      <td>-43.25170</td>\n",
       "      <td>Rua Armando de Albuquerque, Vila Isabel, Rio d...</td>\n",
       "      <td>Rua Armando de Albuquerque, Vila Isabel, Zona ...</td>\n",
       "      <td>(-22.9146094, -43.2605191, 0.0)</td>\n",
       "      <td>Vila Isabel</td>\n",
       "      <td>-22.914609</td>\n",
       "      <td>-43.260519</td>\n",
       "      <td>ZONA NORTE</td>\n",
       "      <td>ZONA NORTE</td>\n",
       "    </tr>\n",
       "  </tbody>\n",
       "</table>\n",
       "<p>157 rows × 33 columns</p>\n",
       "</div>"
      ],
      "text/plain": [
       "      ANO  MES TIPO_ATENDIMENTO  CEP_PACIENTE GENERO  \\\n",
       "0    2020  Jan      clin_medica      21660500      M   \n",
       "1    2020  Jan        pediatria      21012140      F   \n",
       "2    2020  Abr      clin_medica      21931350      F   \n",
       "3    2019  Dez        pediatria      20261004      M   \n",
       "4    2019  Dez      clin_medica      21210070      M   \n",
       "..    ...  ...              ...           ...    ...   \n",
       "152  2020  Mar      clin_medica      21042020      F   \n",
       "153  2020  Mar      clin_medica      21615310      F   \n",
       "154  2020  Mar        pediatria      20561230      F   \n",
       "155  2020  Mar        pediatria      20550200      M   \n",
       "156  2020  Mar      clin_medica      20560130      F   \n",
       "\n",
       "                          CID_DESCRI  \\\n",
       "0                 tto hepatite viral   \n",
       "1               tto infec. perinatal   \n",
       "2               tto infecções virais   \n",
       "3    tto doenças infec e intestinais   \n",
       "4    tto doenças infec e intestinais   \n",
       "..                               ...   \n",
       "152  tto doenças infec e intestinais   \n",
       "153     tto interc. pós-transplantes   \n",
       "154  tto doenças infec e intestinais   \n",
       "155  tto doenças infec e intestinais   \n",
       "156  tto doenças infec e intestinais   \n",
       "\n",
       "                                               CID_COD  \\\n",
       "0               cid[B159]-Hepatite A sem coma hepático   \n",
       "1                                cid[H10]-Conjuntivite   \n",
       "2    cid[B08]-Outras infecções virais caracterizada...   \n",
       "3    cid[A09]-Diarréia e gastroenterite de origem i...   \n",
       "4    cid[A09]-Diarréia e gastroenterite de origem i...   \n",
       "..                                                 ...   \n",
       "152  cid[A09]-Diarréia e gastroenterite de origem i...   \n",
       "153  cid[A09]-Diarréia e gastroenterite de origem i...   \n",
       "154  cid[A09]-Diarréia e gastroenterite de origem i...   \n",
       "155  cid[A09]-Diarréia e gastroenterite de origem i...   \n",
       "156  cid[A09]-Diarréia e gastroenterite de origem i...   \n",
       "\n",
       "                       SITUACAO     CNES  RACA_COR  ...  LATITUDE  LONGITUDE  \\\n",
       "0    internado para diagnostico  2269880  ignorado  ... -22.86714  -43.24854   \n",
       "1    internado para diagnostico  2269880  ignorado  ... -22.86714  -43.24854   \n",
       "2    internado para diagnostico  2269880  ignorado  ... -22.86714  -43.24854   \n",
       "3    internado para diagnostico  2269880     negra  ... -22.86714  -43.24854   \n",
       "4    internado para diagnostico  2269880    branca  ... -22.86714  -43.24854   \n",
       "..                          ...      ...       ...  ...       ...        ...   \n",
       "152  internado para diagnostico  2280167     negra  ... -22.84244  -43.23738   \n",
       "153  internado para diagnostico  2273454    branca  ... -22.91232  -43.18858   \n",
       "154                   melhorado  2269384    branca  ... -22.92738  -43.25170   \n",
       "155                   melhorado  2269384     negra  ... -22.92738  -43.25170   \n",
       "156  internado para diagnostico  2269384   amarela  ... -22.92738  -43.25170   \n",
       "\n",
       "                                     ENDERECO_PACIENTE  \\\n",
       "0    Rua Margem da Linha, Barros Filho, Rio de Jane...   \n",
       "1    Estrada do Porto Velho, Cordovil, Rio de Janei...   \n",
       "2    Rua Gregório de Castro Morais, Jardim Guanabar...   \n",
       "3    Rua Aureliano Portugal, Rio Comprido, Rio de J...   \n",
       "4    Rua Arquimedes Memória, Vila da Penha, Rio de ...   \n",
       "..                                                 ...   \n",
       "152         Beco do Abacate, Maré, Rio de Janeiro - RJ   \n",
       "153  Estrada São Pedro de Alcântara, Deodoro, Rio d...   \n",
       "154     Rua Alfredo Pujol, Grajaú, Rio de Janeiro - RJ   \n",
       "155  Rua Oito de Dezembro, Maracanã, Rio de Janeiro...   \n",
       "156  Rua Armando de Albuquerque, Vila Isabel, Rio d...   \n",
       "\n",
       "                                     LOCATION_PACIENTE  \\\n",
       "0    Rua Margem da Linha, Margem da Linha, Barros F...   \n",
       "1    Estrada do Porto Velho, Cidade Alta, Cordovil,...   \n",
       "2    Rua Gregório de Castro Morais, Jardim Guanabar...   \n",
       "3    Rua Aureliano Portugal, Rio Comprido, Zona Cen...   \n",
       "4    Rua Arquimedes Memória, Vila da Penha, Zona No...   \n",
       "..                                                 ...   \n",
       "152  Beco do Abacate, Timbau, Maré, Zona Norte do R...   \n",
       "153  Estrada São Pedro de Alcântara, Deodoro, Zona ...   \n",
       "154  Rua Alfredo Pujol, Grajaú, Zona Norte do Rio d...   \n",
       "155  Rua Oito de Dezembro, Vila Isabel, Zona Norte ...   \n",
       "156  Rua Armando de Albuquerque, Vila Isabel, Zona ...   \n",
       "\n",
       "                               POINT    BAIRRO_PACIENTE  LATITUDE_PACIENTE  \\\n",
       "0    (-22.8370879, -43.3680663, 0.0)       Barros Filho         -22.837088   \n",
       "1    (-22.8209659, -43.2922273, 0.0)           Cordovil         -22.820966   \n",
       "2    (-22.8059119, -43.2029146, 0.0)   Jardim Guanabara         -22.805912   \n",
       "3    (-22.9262258, -43.2157276, 0.0)       Rio Comprido         -22.926226   \n",
       "4    (-22.8452131, -43.3048533, 0.0)      Vila da Penha         -22.845213   \n",
       "..                               ...                ...                ...   \n",
       "152  (-22.8631956, -43.2395044, 0.0)               Maré         -22.863196   \n",
       "153  (-22.8559181, -43.3884427, 0.0)            Deodoro         -22.855918   \n",
       "154  (-22.9267537, -43.2635737, 0.0)             Grajaú         -22.926754   \n",
       "155  (-22.9089277, -43.2387333, 0.0)           Maracanã         -22.908928   \n",
       "156  (-22.9146094, -43.2605191, 0.0)        Vila Isabel         -22.914609   \n",
       "\n",
       "     LONGITUDE_PACIENTE         ZONAS ZONAS_Hospital  \n",
       "0            -43.368066    ZONA NORTE     ZONA NORTE  \n",
       "1            -43.292227    ZONA NORTE     ZONA NORTE  \n",
       "2            -43.202915    ZONA NORTE     ZONA NORTE  \n",
       "3            -43.215728  ZONA CENTRAL     ZONA NORTE  \n",
       "4            -43.304853    ZONA NORTE     ZONA NORTE  \n",
       "..                  ...           ...            ...  \n",
       "152          -43.239504    ZONA NORTE     ZONA NORTE  \n",
       "153          -43.388443    ZONA OESTE   ZONA CENTRAL  \n",
       "154          -43.263574    ZONA NORTE     ZONA NORTE  \n",
       "155          -43.238733    ZONA NORTE     ZONA NORTE  \n",
       "156          -43.260519    ZONA NORTE     ZONA NORTE  \n",
       "\n",
       "[157 rows x 33 columns]"
      ]
     },
     "execution_count": 36,
     "metadata": {},
     "output_type": "execute_result"
    }
   ],
   "source": [
    "sih.loc[sih['LATITUDE_PACIENTE'] != 'None']"
   ]
  },
  {
   "cell_type": "code",
   "execution_count": 41,
   "metadata": {},
   "outputs": [],
   "source": [
    "# Excluindo os valores nulos do dataframe \n",
    "sih2 = pd.DataFrame(sih.dropna(subset=[\"LATITUDE_PACIENTE\"]))\n"
   ]
  },
  {
   "cell_type": "code",
   "execution_count": 15,
   "metadata": {
    "collapsed": true
   },
   "outputs": [
    {
     "data": {
      "text/html": [
       "<div>\n",
       "<style scoped>\n",
       "    .dataframe tbody tr th:only-of-type {\n",
       "        vertical-align: middle;\n",
       "    }\n",
       "\n",
       "    .dataframe tbody tr th {\n",
       "        vertical-align: top;\n",
       "    }\n",
       "\n",
       "    .dataframe thead th {\n",
       "        text-align: right;\n",
       "    }\n",
       "</style>\n",
       "<table border=\"1\" class=\"dataframe\">\n",
       "  <thead>\n",
       "    <tr style=\"text-align: right;\">\n",
       "      <th></th>\n",
       "      <th>RACA_COR</th>\n",
       "    </tr>\n",
       "    <tr>\n",
       "      <th>BAIRRO_PACIENTE</th>\n",
       "      <th></th>\n",
       "    </tr>\n",
       "  </thead>\n",
       "  <tbody>\n",
       "    <tr>\n",
       "      <th>Andaraí</th>\n",
       "      <td>1</td>\n",
       "    </tr>\n",
       "    <tr>\n",
       "      <th>Anil</th>\n",
       "      <td>2</td>\n",
       "    </tr>\n",
       "    <tr>\n",
       "      <th>Bangu</th>\n",
       "      <td>2</td>\n",
       "    </tr>\n",
       "    <tr>\n",
       "      <th>Barra da Tijuca</th>\n",
       "      <td>1</td>\n",
       "    </tr>\n",
       "    <tr>\n",
       "      <th>Barros Filho</th>\n",
       "      <td>1</td>\n",
       "    </tr>\n",
       "    <tr>\n",
       "      <th>...</th>\n",
       "      <td>...</td>\n",
       "    </tr>\n",
       "    <tr>\n",
       "      <th>Vicente de Carvalho</th>\n",
       "      <td>0</td>\n",
       "    </tr>\n",
       "    <tr>\n",
       "      <th>Vigário Geral</th>\n",
       "      <td>2</td>\n",
       "    </tr>\n",
       "    <tr>\n",
       "      <th>Vila Isabel</th>\n",
       "      <td>1</td>\n",
       "    </tr>\n",
       "    <tr>\n",
       "      <th>Vila da Penha</th>\n",
       "      <td>0</td>\n",
       "    </tr>\n",
       "    <tr>\n",
       "      <th>Vista Alegre</th>\n",
       "      <td>1</td>\n",
       "    </tr>\n",
       "  </tbody>\n",
       "</table>\n",
       "<p>76 rows × 1 columns</p>\n",
       "</div>"
      ],
      "text/plain": [
       "                      RACA_COR\n",
       "BAIRRO_PACIENTE               \n",
       " Andaraí                     1\n",
       " Anil                        2\n",
       " Bangu                       2\n",
       " Barra da Tijuca             1\n",
       " Barros Filho                1\n",
       "...                        ...\n",
       " Vicente de Carvalho         0\n",
       " Vigário Geral               2\n",
       " Vila Isabel                 1\n",
       " Vila da Penha               0\n",
       " Vista Alegre                1\n",
       "\n",
       "[76 rows x 1 columns]"
      ]
     },
     "execution_count": 15,
     "metadata": {},
     "output_type": "execute_result"
    }
   ],
   "source": [
    "sih.filter(items=['RACA_COR']).where(sih['RACA_COR'] == 'negra').groupby(sih['BAIRRO_PACIENTE']).count()"
   ]
  },
  {
   "cell_type": "code",
   "execution_count": 38,
   "metadata": {
    "collapsed": true
   },
   "outputs": [
    {
     "name": "stdout",
     "output_type": "stream",
     "text": [
      "<class 'pandas.core.frame.DataFrame'>\n",
      "Int64Index: 122 entries, 0 to 156\n",
      "Data columns (total 33 columns):\n",
      " #   Column              Non-Null Count  Dtype  \n",
      "---  ------              --------------  -----  \n",
      " 0   ANO                 122 non-null    int64  \n",
      " 1   MES                 122 non-null    object \n",
      " 2   TIPO_ATENDIMENTO    122 non-null    object \n",
      " 3   CEP_PACIENTE        122 non-null    int64  \n",
      " 4   GENERO              122 non-null    object \n",
      " 5   CID_DESCRI          122 non-null    object \n",
      " 6   CID_COD             122 non-null    object \n",
      " 7   SITUACAO            122 non-null    object \n",
      " 8   CNES                122 non-null    int64  \n",
      " 9   RACA_COR            122 non-null    object \n",
      " 10  IDADE               122 non-null    int64  \n",
      " 11  IBGE                122 non-null    int64  \n",
      " 12  UF                  122 non-null    object \n",
      " 13  MUNICIPIO           122 non-null    object \n",
      " 14  NOME FANTASIA       122 non-null    object \n",
      " 15  RAZAO SOCIAL        122 non-null    object \n",
      " 16  CNPJ PROPRIO        93 non-null     float64\n",
      " 17  CNPJ MANTENEDORA    87 non-null     float64\n",
      " 18  TIPO GESTAO         122 non-null    object \n",
      " 19  LOGRADOURO          122 non-null    object \n",
      " 20  NUMERO              122 non-null    object \n",
      " 21  BAIRRO              122 non-null    object \n",
      " 22  CEP                 122 non-null    int64  \n",
      " 23  LATITUDE            122 non-null    float64\n",
      " 24  LONGITUDE           122 non-null    float64\n",
      " 25  ENDERECO_PACIENTE   122 non-null    object \n",
      " 26  LOCATION_PACIENTE   122 non-null    object \n",
      " 27  POINT               122 non-null    object \n",
      " 28  BAIRRO_PACIENTE     122 non-null    object \n",
      " 29  LATITUDE_PACIENTE   122 non-null    float64\n",
      " 30  LONGITUDE_PACIENTE  122 non-null    float64\n",
      " 31  ZONAS               122 non-null    object \n",
      " 32  ZONAS_Hospital      122 non-null    object \n",
      "dtypes: float64(6), int64(6), object(21)\n",
      "memory usage: 32.4+ KB\n"
     ]
    }
   ],
   "source": [
    "sih2.info()"
   ]
  },
  {
   "cell_type": "markdown",
   "metadata": {},
   "source": [
    "Criando os ddos do mapa"
   ]
  },
  {
   "cell_type": "code",
   "execution_count": 80,
   "metadata": {},
   "outputs": [],
   "source": [
    "dados_map =  pd.DataFrame(sih2['LATITUDE_PACIENTE'].value_counts())"
   ]
  },
  {
   "cell_type": "code",
   "execution_count": 81,
   "metadata": {},
   "outputs": [],
   "source": [
    "dados_map = dados_map.reset_index()"
   ]
  },
  {
   "cell_type": "code",
   "execution_count": 82,
   "metadata": {},
   "outputs": [],
   "source": [
    "dados_map = dados_map.rename(columns={'LATITUDE_PACIENTE': 'INTERNACOES', 'index':'LATITUDE_PACIENTE'})"
   ]
  },
  {
   "cell_type": "code",
   "execution_count": 83,
   "metadata": {
    "collapsed": true
   },
   "outputs": [
    {
     "name": "stdout",
     "output_type": "stream",
     "text": [
      "<class 'pandas.core.frame.DataFrame'>\n",
      "RangeIndex: 106 entries, 0 to 105\n",
      "Data columns (total 2 columns):\n",
      " #   Column             Non-Null Count  Dtype  \n",
      "---  ------             --------------  -----  \n",
      " 0   LATITUDE_PACIENTE  106 non-null    float64\n",
      " 1   INTERNACOES        106 non-null    int64  \n",
      "dtypes: float64(1), int64(1)\n",
      "memory usage: 1.8 KB\n"
     ]
    }
   ],
   "source": [
    "dados_map.info()"
   ]
  },
  {
   "cell_type": "code",
   "execution_count": 84,
   "metadata": {},
   "outputs": [],
   "source": [
    "# Criando novo DataFrame com a frequencia de internação por localidade\n",
    "dados_map1  = pd.merge(dados_map, coordenadas, on='LATITUDE_PACIENTE', how=\"inner\")"
   ]
  },
  {
   "cell_type": "code",
   "execution_count": 86,
   "metadata": {},
   "outputs": [],
   "source": [
    "# Tirando os dados duplicados\n",
    "dados_map1 = dados_map1.drop_duplicates()"
   ]
  },
  {
   "cell_type": "code",
   "execution_count": 89,
   "metadata": {
    "collapsed": true
   },
   "outputs": [
    {
     "name": "stdout",
     "output_type": "stream",
     "text": [
      "<class 'pandas.core.frame.DataFrame'>\n",
      "Int64Index: 106 entries, 0 to 121\n",
      "Data columns (total 4 columns):\n",
      " #   Column              Non-Null Count  Dtype  \n",
      "---  ------              --------------  -----  \n",
      " 0   LATITUDE_PACIENTE   106 non-null    float64\n",
      " 1   INTERNACOES         106 non-null    int64  \n",
      " 2   LONGITUDE_PACIENTE  106 non-null    float64\n",
      " 3   BAIRRO_PACIENTE     106 non-null    object \n",
      "dtypes: float64(2), int64(1), object(1)\n",
      "memory usage: 4.1+ KB\n"
     ]
    }
   ],
   "source": [
    "# observando os dados\n",
    "dados_map1.info()"
   ]
  },
  {
   "cell_type": "markdown",
   "metadata": {},
   "source": [
    "#### MAPA DE INTERNAÇÕES POR LOCALIDADE RESIDENTE DOS PACIENTES\n"
   ]
  },
  {
   "cell_type": "code",
   "execution_count": 39,
   "metadata": {},
   "outputs": [],
   "source": [
    "coordenadas = sih2[['LATITUDE_PACIENTE', 'LONGITUDE_PACIENTE','BAIRRO_PACIENTE']]"
   ]
  },
  {
   "cell_type": "code",
   "execution_count": 91,
   "metadata": {},
   "outputs": [],
   "source": [
    "coordenadas2 = dados_map1[['LATITUDE_PACIENTE', 'LONGITUDE_PACIENTE','INTERNACOES']]"
   ]
  },
  {
   "cell_type": "code",
   "execution_count": 45,
   "metadata": {},
   "outputs": [],
   "source": [
    "map_1 = folium.Map(\n",
    "                width= '100%',\n",
    "                heigth = '100%',\n",
    "                location = [-22.0622469,-44.04462],\n",
    "                zoom_start = 8)"
   ]
  },
  {
   "cell_type": "code",
   "execution_count": 46,
   "metadata": {},
   "outputs": [
    {
     "data": {
      "text/html": [
       "<svg height=\"50\" width=\"500\"><line x1=\"0\" y1=\"0\" x2=\"0\" y2=\"20\" style=\"stroke:#ffffccff;stroke-width:3;\" /><line x1=\"1\" y1=\"0\" x2=\"1\" y2=\"20\" style=\"stroke:#ffffccff;stroke-width:3;\" /><line x1=\"2\" y1=\"0\" x2=\"2\" y2=\"20\" style=\"stroke:#ffffccff;stroke-width:3;\" /><line x1=\"3\" y1=\"0\" x2=\"3\" y2=\"20\" style=\"stroke:#ffffccff;stroke-width:3;\" /><line x1=\"4\" y1=\"0\" x2=\"4\" y2=\"20\" style=\"stroke:#ffffccff;stroke-width:3;\" /><line x1=\"5\" y1=\"0\" x2=\"5\" y2=\"20\" style=\"stroke:#ffffccff;stroke-width:3;\" /><line x1=\"6\" y1=\"0\" x2=\"6\" y2=\"20\" style=\"stroke:#ffffccff;stroke-width:3;\" /><line x1=\"7\" y1=\"0\" x2=\"7\" y2=\"20\" style=\"stroke:#ffffccff;stroke-width:3;\" /><line x1=\"8\" y1=\"0\" x2=\"8\" y2=\"20\" style=\"stroke:#ffffccff;stroke-width:3;\" /><line x1=\"9\" y1=\"0\" x2=\"9\" y2=\"20\" style=\"stroke:#ffffccff;stroke-width:3;\" /><line x1=\"10\" y1=\"0\" x2=\"10\" y2=\"20\" style=\"stroke:#ffffccff;stroke-width:3;\" /><line x1=\"11\" y1=\"0\" x2=\"11\" y2=\"20\" style=\"stroke:#ffffccff;stroke-width:3;\" /><line x1=\"12\" y1=\"0\" x2=\"12\" y2=\"20\" style=\"stroke:#ffffccff;stroke-width:3;\" /><line x1=\"13\" y1=\"0\" x2=\"13\" y2=\"20\" style=\"stroke:#ffffccff;stroke-width:3;\" /><line x1=\"14\" y1=\"0\" x2=\"14\" y2=\"20\" style=\"stroke:#ffffccff;stroke-width:3;\" /><line x1=\"15\" y1=\"0\" x2=\"15\" y2=\"20\" style=\"stroke:#ffffccff;stroke-width:3;\" /><line x1=\"16\" y1=\"0\" x2=\"16\" y2=\"20\" style=\"stroke:#ffffccff;stroke-width:3;\" /><line x1=\"17\" y1=\"0\" x2=\"17\" y2=\"20\" style=\"stroke:#ffffccff;stroke-width:3;\" /><line x1=\"18\" y1=\"0\" x2=\"18\" y2=\"20\" style=\"stroke:#ffffccff;stroke-width:3;\" /><line x1=\"19\" y1=\"0\" x2=\"19\" y2=\"20\" style=\"stroke:#ffffccff;stroke-width:3;\" /><line x1=\"20\" y1=\"0\" x2=\"20\" y2=\"20\" style=\"stroke:#ffffccff;stroke-width:3;\" /><line x1=\"21\" y1=\"0\" x2=\"21\" y2=\"20\" style=\"stroke:#ffffccff;stroke-width:3;\" /><line x1=\"22\" y1=\"0\" x2=\"22\" y2=\"20\" style=\"stroke:#ffffccff;stroke-width:3;\" /><line x1=\"23\" y1=\"0\" x2=\"23\" y2=\"20\" style=\"stroke:#ffffccff;stroke-width:3;\" /><line x1=\"24\" y1=\"0\" x2=\"24\" y2=\"20\" style=\"stroke:#ffffccff;stroke-width:3;\" /><line x1=\"25\" y1=\"0\" x2=\"25\" y2=\"20\" style=\"stroke:#fff8baff;stroke-width:3;\" /><line x1=\"26\" y1=\"0\" x2=\"26\" y2=\"20\" style=\"stroke:#fff8baff;stroke-width:3;\" /><line x1=\"27\" y1=\"0\" x2=\"27\" y2=\"20\" style=\"stroke:#fff8baff;stroke-width:3;\" /><line x1=\"28\" y1=\"0\" x2=\"28\" y2=\"20\" style=\"stroke:#fff8baff;stroke-width:3;\" /><line x1=\"29\" y1=\"0\" x2=\"29\" y2=\"20\" style=\"stroke:#fff8baff;stroke-width:3;\" /><line x1=\"30\" y1=\"0\" x2=\"30\" y2=\"20\" style=\"stroke:#fff8baff;stroke-width:3;\" /><line x1=\"31\" y1=\"0\" x2=\"31\" y2=\"20\" style=\"stroke:#fff8baff;stroke-width:3;\" /><line x1=\"32\" y1=\"0\" x2=\"32\" y2=\"20\" style=\"stroke:#fff8baff;stroke-width:3;\" /><line x1=\"33\" y1=\"0\" x2=\"33\" y2=\"20\" style=\"stroke:#fff8baff;stroke-width:3;\" /><line x1=\"34\" y1=\"0\" x2=\"34\" y2=\"20\" style=\"stroke:#fff8baff;stroke-width:3;\" /><line x1=\"35\" y1=\"0\" x2=\"35\" y2=\"20\" style=\"stroke:#fff8baff;stroke-width:3;\" /><line x1=\"36\" y1=\"0\" x2=\"36\" y2=\"20\" style=\"stroke:#fff8baff;stroke-width:3;\" /><line x1=\"37\" y1=\"0\" x2=\"37\" y2=\"20\" style=\"stroke:#fff8baff;stroke-width:3;\" /><line x1=\"38\" y1=\"0\" x2=\"38\" y2=\"20\" style=\"stroke:#fff8baff;stroke-width:3;\" /><line x1=\"39\" y1=\"0\" x2=\"39\" y2=\"20\" style=\"stroke:#fff8baff;stroke-width:3;\" /><line x1=\"40\" y1=\"0\" x2=\"40\" y2=\"20\" style=\"stroke:#fff8baff;stroke-width:3;\" /><line x1=\"41\" y1=\"0\" x2=\"41\" y2=\"20\" style=\"stroke:#fff8baff;stroke-width:3;\" /><line x1=\"42\" y1=\"0\" x2=\"42\" y2=\"20\" style=\"stroke:#fff8baff;stroke-width:3;\" /><line x1=\"43\" y1=\"0\" x2=\"43\" y2=\"20\" style=\"stroke:#fff8baff;stroke-width:3;\" /><line x1=\"44\" y1=\"0\" x2=\"44\" y2=\"20\" style=\"stroke:#fff8baff;stroke-width:3;\" /><line x1=\"45\" y1=\"0\" x2=\"45\" y2=\"20\" style=\"stroke:#fff8baff;stroke-width:3;\" /><line x1=\"46\" y1=\"0\" x2=\"46\" y2=\"20\" style=\"stroke:#fff8baff;stroke-width:3;\" /><line x1=\"47\" y1=\"0\" x2=\"47\" y2=\"20\" style=\"stroke:#fff8baff;stroke-width:3;\" /><line x1=\"48\" y1=\"0\" x2=\"48\" y2=\"20\" style=\"stroke:#fff8baff;stroke-width:3;\" /><line x1=\"49\" y1=\"0\" x2=\"49\" y2=\"20\" style=\"stroke:#fff8baff;stroke-width:3;\" /><line x1=\"50\" y1=\"0\" x2=\"50\" y2=\"20\" style=\"stroke:#fff0a7ff;stroke-width:3;\" /><line x1=\"51\" y1=\"0\" x2=\"51\" y2=\"20\" style=\"stroke:#fff0a7ff;stroke-width:3;\" /><line x1=\"52\" y1=\"0\" x2=\"52\" y2=\"20\" style=\"stroke:#fff0a7ff;stroke-width:3;\" /><line x1=\"53\" y1=\"0\" x2=\"53\" y2=\"20\" style=\"stroke:#fff0a7ff;stroke-width:3;\" /><line x1=\"54\" y1=\"0\" x2=\"54\" y2=\"20\" style=\"stroke:#fff0a7ff;stroke-width:3;\" /><line x1=\"55\" y1=\"0\" x2=\"55\" y2=\"20\" style=\"stroke:#fff0a7ff;stroke-width:3;\" /><line x1=\"56\" y1=\"0\" x2=\"56\" y2=\"20\" style=\"stroke:#fff0a7ff;stroke-width:3;\" /><line x1=\"57\" y1=\"0\" x2=\"57\" y2=\"20\" style=\"stroke:#fff0a7ff;stroke-width:3;\" /><line x1=\"58\" y1=\"0\" x2=\"58\" y2=\"20\" style=\"stroke:#fff0a7ff;stroke-width:3;\" /><line x1=\"59\" y1=\"0\" x2=\"59\" y2=\"20\" style=\"stroke:#fff0a7ff;stroke-width:3;\" /><line x1=\"60\" y1=\"0\" x2=\"60\" y2=\"20\" style=\"stroke:#fff0a7ff;stroke-width:3;\" /><line x1=\"61\" y1=\"0\" x2=\"61\" y2=\"20\" style=\"stroke:#fff0a7ff;stroke-width:3;\" /><line x1=\"62\" y1=\"0\" x2=\"62\" y2=\"20\" style=\"stroke:#fff0a7ff;stroke-width:3;\" /><line x1=\"63\" y1=\"0\" x2=\"63\" y2=\"20\" style=\"stroke:#fff0a7ff;stroke-width:3;\" /><line x1=\"64\" y1=\"0\" x2=\"64\" y2=\"20\" style=\"stroke:#fff0a7ff;stroke-width:3;\" /><line x1=\"65\" y1=\"0\" x2=\"65\" y2=\"20\" style=\"stroke:#fff0a7ff;stroke-width:3;\" /><line x1=\"66\" y1=\"0\" x2=\"66\" y2=\"20\" style=\"stroke:#fff0a7ff;stroke-width:3;\" /><line x1=\"67\" y1=\"0\" x2=\"67\" y2=\"20\" style=\"stroke:#fff0a7ff;stroke-width:3;\" /><line x1=\"68\" y1=\"0\" x2=\"68\" y2=\"20\" style=\"stroke:#fff0a7ff;stroke-width:3;\" /><line x1=\"69\" y1=\"0\" x2=\"69\" y2=\"20\" style=\"stroke:#fff0a7ff;stroke-width:3;\" /><line x1=\"70\" y1=\"0\" x2=\"70\" y2=\"20\" style=\"stroke:#fff0a7ff;stroke-width:3;\" /><line x1=\"71\" y1=\"0\" x2=\"71\" y2=\"20\" style=\"stroke:#fff0a7ff;stroke-width:3;\" /><line x1=\"72\" y1=\"0\" x2=\"72\" y2=\"20\" style=\"stroke:#fff0a7ff;stroke-width:3;\" /><line x1=\"73\" y1=\"0\" x2=\"73\" y2=\"20\" style=\"stroke:#fff0a7ff;stroke-width:3;\" /><line x1=\"74\" y1=\"0\" x2=\"74\" y2=\"20\" style=\"stroke:#fff0a7ff;stroke-width:3;\" /><line x1=\"75\" y1=\"0\" x2=\"75\" y2=\"20\" style=\"stroke:#ffe895ff;stroke-width:3;\" /><line x1=\"76\" y1=\"0\" x2=\"76\" y2=\"20\" style=\"stroke:#ffe895ff;stroke-width:3;\" /><line x1=\"77\" y1=\"0\" x2=\"77\" y2=\"20\" style=\"stroke:#ffe895ff;stroke-width:3;\" /><line x1=\"78\" y1=\"0\" x2=\"78\" y2=\"20\" style=\"stroke:#ffe895ff;stroke-width:3;\" /><line x1=\"79\" y1=\"0\" x2=\"79\" y2=\"20\" style=\"stroke:#ffe895ff;stroke-width:3;\" /><line x1=\"80\" y1=\"0\" x2=\"80\" y2=\"20\" style=\"stroke:#ffe895ff;stroke-width:3;\" /><line x1=\"81\" y1=\"0\" x2=\"81\" y2=\"20\" style=\"stroke:#ffe895ff;stroke-width:3;\" /><line x1=\"82\" y1=\"0\" x2=\"82\" y2=\"20\" style=\"stroke:#ffe895ff;stroke-width:3;\" /><line x1=\"83\" y1=\"0\" x2=\"83\" y2=\"20\" style=\"stroke:#ffe895ff;stroke-width:3;\" /><line x1=\"84\" y1=\"0\" x2=\"84\" y2=\"20\" style=\"stroke:#ffe895ff;stroke-width:3;\" /><line x1=\"85\" y1=\"0\" x2=\"85\" y2=\"20\" style=\"stroke:#ffe895ff;stroke-width:3;\" /><line x1=\"86\" y1=\"0\" x2=\"86\" y2=\"20\" style=\"stroke:#ffe895ff;stroke-width:3;\" /><line x1=\"87\" y1=\"0\" x2=\"87\" y2=\"20\" style=\"stroke:#ffe895ff;stroke-width:3;\" /><line x1=\"88\" y1=\"0\" x2=\"88\" y2=\"20\" style=\"stroke:#ffe895ff;stroke-width:3;\" /><line x1=\"89\" y1=\"0\" x2=\"89\" y2=\"20\" style=\"stroke:#ffe895ff;stroke-width:3;\" /><line x1=\"90\" y1=\"0\" x2=\"90\" y2=\"20\" style=\"stroke:#ffe895ff;stroke-width:3;\" /><line x1=\"91\" y1=\"0\" x2=\"91\" y2=\"20\" style=\"stroke:#ffe895ff;stroke-width:3;\" /><line x1=\"92\" y1=\"0\" x2=\"92\" y2=\"20\" style=\"stroke:#ffe895ff;stroke-width:3;\" /><line x1=\"93\" y1=\"0\" x2=\"93\" y2=\"20\" style=\"stroke:#ffe895ff;stroke-width:3;\" /><line x1=\"94\" y1=\"0\" x2=\"94\" y2=\"20\" style=\"stroke:#ffe895ff;stroke-width:3;\" /><line x1=\"95\" y1=\"0\" x2=\"95\" y2=\"20\" style=\"stroke:#ffe895ff;stroke-width:3;\" /><line x1=\"96\" y1=\"0\" x2=\"96\" y2=\"20\" style=\"stroke:#ffe895ff;stroke-width:3;\" /><line x1=\"97\" y1=\"0\" x2=\"97\" y2=\"20\" style=\"stroke:#ffe895ff;stroke-width:3;\" /><line x1=\"98\" y1=\"0\" x2=\"98\" y2=\"20\" style=\"stroke:#ffe895ff;stroke-width:3;\" /><line x1=\"99\" y1=\"0\" x2=\"99\" y2=\"20\" style=\"stroke:#ffe895ff;stroke-width:3;\" /><line x1=\"100\" y1=\"0\" x2=\"100\" y2=\"20\" style=\"stroke:#ffe083ff;stroke-width:3;\" /><line x1=\"101\" y1=\"0\" x2=\"101\" y2=\"20\" style=\"stroke:#ffe083ff;stroke-width:3;\" /><line x1=\"102\" y1=\"0\" x2=\"102\" y2=\"20\" style=\"stroke:#ffe083ff;stroke-width:3;\" /><line x1=\"103\" y1=\"0\" x2=\"103\" y2=\"20\" style=\"stroke:#ffe083ff;stroke-width:3;\" /><line x1=\"104\" y1=\"0\" x2=\"104\" y2=\"20\" style=\"stroke:#ffe083ff;stroke-width:3;\" /><line x1=\"105\" y1=\"0\" x2=\"105\" y2=\"20\" style=\"stroke:#ffe083ff;stroke-width:3;\" /><line x1=\"106\" y1=\"0\" x2=\"106\" y2=\"20\" style=\"stroke:#ffe083ff;stroke-width:3;\" /><line x1=\"107\" y1=\"0\" x2=\"107\" y2=\"20\" style=\"stroke:#ffe083ff;stroke-width:3;\" /><line x1=\"108\" y1=\"0\" x2=\"108\" y2=\"20\" style=\"stroke:#ffe083ff;stroke-width:3;\" /><line x1=\"109\" y1=\"0\" x2=\"109\" y2=\"20\" style=\"stroke:#ffe083ff;stroke-width:3;\" /><line x1=\"110\" y1=\"0\" x2=\"110\" y2=\"20\" style=\"stroke:#ffe083ff;stroke-width:3;\" /><line x1=\"111\" y1=\"0\" x2=\"111\" y2=\"20\" style=\"stroke:#ffe083ff;stroke-width:3;\" /><line x1=\"112\" y1=\"0\" x2=\"112\" y2=\"20\" style=\"stroke:#ffe083ff;stroke-width:3;\" /><line x1=\"113\" y1=\"0\" x2=\"113\" y2=\"20\" style=\"stroke:#ffe083ff;stroke-width:3;\" /><line x1=\"114\" y1=\"0\" x2=\"114\" y2=\"20\" style=\"stroke:#ffe083ff;stroke-width:3;\" /><line x1=\"115\" y1=\"0\" x2=\"115\" y2=\"20\" style=\"stroke:#ffe083ff;stroke-width:3;\" /><line x1=\"116\" y1=\"0\" x2=\"116\" y2=\"20\" style=\"stroke:#ffe083ff;stroke-width:3;\" /><line x1=\"117\" y1=\"0\" x2=\"117\" y2=\"20\" style=\"stroke:#ffe083ff;stroke-width:3;\" /><line x1=\"118\" y1=\"0\" x2=\"118\" y2=\"20\" style=\"stroke:#ffe083ff;stroke-width:3;\" /><line x1=\"119\" y1=\"0\" x2=\"119\" y2=\"20\" style=\"stroke:#ffe083ff;stroke-width:3;\" /><line x1=\"120\" y1=\"0\" x2=\"120\" y2=\"20\" style=\"stroke:#ffe083ff;stroke-width:3;\" /><line x1=\"121\" y1=\"0\" x2=\"121\" y2=\"20\" style=\"stroke:#ffe083ff;stroke-width:3;\" /><line x1=\"122\" y1=\"0\" x2=\"122\" y2=\"20\" style=\"stroke:#ffe083ff;stroke-width:3;\" /><line x1=\"123\" y1=\"0\" x2=\"123\" y2=\"20\" style=\"stroke:#ffe083ff;stroke-width:3;\" /><line x1=\"124\" y1=\"0\" x2=\"124\" y2=\"20\" style=\"stroke:#ffe083ff;stroke-width:3;\" /><line x1=\"125\" y1=\"0\" x2=\"125\" y2=\"20\" style=\"stroke:#fed572ff;stroke-width:3;\" /><line x1=\"126\" y1=\"0\" x2=\"126\" y2=\"20\" style=\"stroke:#fed572ff;stroke-width:3;\" /><line x1=\"127\" y1=\"0\" x2=\"127\" y2=\"20\" style=\"stroke:#fed572ff;stroke-width:3;\" /><line x1=\"128\" y1=\"0\" x2=\"128\" y2=\"20\" style=\"stroke:#fed572ff;stroke-width:3;\" /><line x1=\"129\" y1=\"0\" x2=\"129\" y2=\"20\" style=\"stroke:#fed572ff;stroke-width:3;\" /><line x1=\"130\" y1=\"0\" x2=\"130\" y2=\"20\" style=\"stroke:#fed572ff;stroke-width:3;\" /><line x1=\"131\" y1=\"0\" x2=\"131\" y2=\"20\" style=\"stroke:#fed572ff;stroke-width:3;\" /><line x1=\"132\" y1=\"0\" x2=\"132\" y2=\"20\" style=\"stroke:#fed572ff;stroke-width:3;\" /><line x1=\"133\" y1=\"0\" x2=\"133\" y2=\"20\" style=\"stroke:#fed572ff;stroke-width:3;\" /><line x1=\"134\" y1=\"0\" x2=\"134\" y2=\"20\" style=\"stroke:#fed572ff;stroke-width:3;\" /><line x1=\"135\" y1=\"0\" x2=\"135\" y2=\"20\" style=\"stroke:#fed572ff;stroke-width:3;\" /><line x1=\"136\" y1=\"0\" x2=\"136\" y2=\"20\" style=\"stroke:#fed572ff;stroke-width:3;\" /><line x1=\"137\" y1=\"0\" x2=\"137\" y2=\"20\" style=\"stroke:#fed572ff;stroke-width:3;\" /><line x1=\"138\" y1=\"0\" x2=\"138\" y2=\"20\" style=\"stroke:#fed572ff;stroke-width:3;\" /><line x1=\"139\" y1=\"0\" x2=\"139\" y2=\"20\" style=\"stroke:#fed572ff;stroke-width:3;\" /><line x1=\"140\" y1=\"0\" x2=\"140\" y2=\"20\" style=\"stroke:#fed572ff;stroke-width:3;\" /><line x1=\"141\" y1=\"0\" x2=\"141\" y2=\"20\" style=\"stroke:#fed572ff;stroke-width:3;\" /><line x1=\"142\" y1=\"0\" x2=\"142\" y2=\"20\" style=\"stroke:#fed572ff;stroke-width:3;\" /><line x1=\"143\" y1=\"0\" x2=\"143\" y2=\"20\" style=\"stroke:#fed572ff;stroke-width:3;\" /><line x1=\"144\" y1=\"0\" x2=\"144\" y2=\"20\" style=\"stroke:#fed572ff;stroke-width:3;\" /><line x1=\"145\" y1=\"0\" x2=\"145\" y2=\"20\" style=\"stroke:#fed572ff;stroke-width:3;\" /><line x1=\"146\" y1=\"0\" x2=\"146\" y2=\"20\" style=\"stroke:#fed572ff;stroke-width:3;\" /><line x1=\"147\" y1=\"0\" x2=\"147\" y2=\"20\" style=\"stroke:#fed572ff;stroke-width:3;\" /><line x1=\"148\" y1=\"0\" x2=\"148\" y2=\"20\" style=\"stroke:#fed572ff;stroke-width:3;\" /><line x1=\"149\" y1=\"0\" x2=\"149\" y2=\"20\" style=\"stroke:#fed572ff;stroke-width:3;\" /><line x1=\"150\" y1=\"0\" x2=\"150\" y2=\"20\" style=\"stroke:#fec560ff;stroke-width:3;\" /><line x1=\"151\" y1=\"0\" x2=\"151\" y2=\"20\" style=\"stroke:#fec560ff;stroke-width:3;\" /><line x1=\"152\" y1=\"0\" x2=\"152\" y2=\"20\" style=\"stroke:#fec560ff;stroke-width:3;\" /><line x1=\"153\" y1=\"0\" x2=\"153\" y2=\"20\" style=\"stroke:#fec560ff;stroke-width:3;\" /><line x1=\"154\" y1=\"0\" x2=\"154\" y2=\"20\" style=\"stroke:#fec560ff;stroke-width:3;\" /><line x1=\"155\" y1=\"0\" x2=\"155\" y2=\"20\" style=\"stroke:#fec560ff;stroke-width:3;\" /><line x1=\"156\" y1=\"0\" x2=\"156\" y2=\"20\" style=\"stroke:#fec560ff;stroke-width:3;\" /><line x1=\"157\" y1=\"0\" x2=\"157\" y2=\"20\" style=\"stroke:#fec560ff;stroke-width:3;\" /><line x1=\"158\" y1=\"0\" x2=\"158\" y2=\"20\" style=\"stroke:#fec560ff;stroke-width:3;\" /><line x1=\"159\" y1=\"0\" x2=\"159\" y2=\"20\" style=\"stroke:#fec560ff;stroke-width:3;\" /><line x1=\"160\" y1=\"0\" x2=\"160\" y2=\"20\" style=\"stroke:#fec560ff;stroke-width:3;\" /><line x1=\"161\" y1=\"0\" x2=\"161\" y2=\"20\" style=\"stroke:#fec560ff;stroke-width:3;\" /><line x1=\"162\" y1=\"0\" x2=\"162\" y2=\"20\" style=\"stroke:#fec560ff;stroke-width:3;\" /><line x1=\"163\" y1=\"0\" x2=\"163\" y2=\"20\" style=\"stroke:#fec560ff;stroke-width:3;\" /><line x1=\"164\" y1=\"0\" x2=\"164\" y2=\"20\" style=\"stroke:#fec560ff;stroke-width:3;\" /><line x1=\"165\" y1=\"0\" x2=\"165\" y2=\"20\" style=\"stroke:#fec560ff;stroke-width:3;\" /><line x1=\"166\" y1=\"0\" x2=\"166\" y2=\"20\" style=\"stroke:#fec560ff;stroke-width:3;\" /><line x1=\"167\" y1=\"0\" x2=\"167\" y2=\"20\" style=\"stroke:#fec560ff;stroke-width:3;\" /><line x1=\"168\" y1=\"0\" x2=\"168\" y2=\"20\" style=\"stroke:#fec560ff;stroke-width:3;\" /><line x1=\"169\" y1=\"0\" x2=\"169\" y2=\"20\" style=\"stroke:#fec560ff;stroke-width:3;\" /><line x1=\"170\" y1=\"0\" x2=\"170\" y2=\"20\" style=\"stroke:#fec560ff;stroke-width:3;\" /><line x1=\"171\" y1=\"0\" x2=\"171\" y2=\"20\" style=\"stroke:#fec560ff;stroke-width:3;\" /><line x1=\"172\" y1=\"0\" x2=\"172\" y2=\"20\" style=\"stroke:#fec560ff;stroke-width:3;\" /><line x1=\"173\" y1=\"0\" x2=\"173\" y2=\"20\" style=\"stroke:#fec560ff;stroke-width:3;\" /><line x1=\"174\" y1=\"0\" x2=\"174\" y2=\"20\" style=\"stroke:#fec560ff;stroke-width:3;\" /><line x1=\"175\" y1=\"0\" x2=\"175\" y2=\"20\" style=\"stroke:#feb44eff;stroke-width:3;\" /><line x1=\"176\" y1=\"0\" x2=\"176\" y2=\"20\" style=\"stroke:#feb44eff;stroke-width:3;\" /><line x1=\"177\" y1=\"0\" x2=\"177\" y2=\"20\" style=\"stroke:#feb44eff;stroke-width:3;\" /><line x1=\"178\" y1=\"0\" x2=\"178\" y2=\"20\" style=\"stroke:#feb44eff;stroke-width:3;\" /><line x1=\"179\" y1=\"0\" x2=\"179\" y2=\"20\" style=\"stroke:#feb44eff;stroke-width:3;\" /><line x1=\"180\" y1=\"0\" x2=\"180\" y2=\"20\" style=\"stroke:#feb44eff;stroke-width:3;\" /><line x1=\"181\" y1=\"0\" x2=\"181\" y2=\"20\" style=\"stroke:#feb44eff;stroke-width:3;\" /><line x1=\"182\" y1=\"0\" x2=\"182\" y2=\"20\" style=\"stroke:#feb44eff;stroke-width:3;\" /><line x1=\"183\" y1=\"0\" x2=\"183\" y2=\"20\" style=\"stroke:#feb44eff;stroke-width:3;\" /><line x1=\"184\" y1=\"0\" x2=\"184\" y2=\"20\" style=\"stroke:#feb44eff;stroke-width:3;\" /><line x1=\"185\" y1=\"0\" x2=\"185\" y2=\"20\" style=\"stroke:#feb44eff;stroke-width:3;\" /><line x1=\"186\" y1=\"0\" x2=\"186\" y2=\"20\" style=\"stroke:#feb44eff;stroke-width:3;\" /><line x1=\"187\" y1=\"0\" x2=\"187\" y2=\"20\" style=\"stroke:#feb44eff;stroke-width:3;\" /><line x1=\"188\" y1=\"0\" x2=\"188\" y2=\"20\" style=\"stroke:#feb44eff;stroke-width:3;\" /><line x1=\"189\" y1=\"0\" x2=\"189\" y2=\"20\" style=\"stroke:#feb44eff;stroke-width:3;\" /><line x1=\"190\" y1=\"0\" x2=\"190\" y2=\"20\" style=\"stroke:#feb44eff;stroke-width:3;\" /><line x1=\"191\" y1=\"0\" x2=\"191\" y2=\"20\" style=\"stroke:#feb44eff;stroke-width:3;\" /><line x1=\"192\" y1=\"0\" x2=\"192\" y2=\"20\" style=\"stroke:#feb44eff;stroke-width:3;\" /><line x1=\"193\" y1=\"0\" x2=\"193\" y2=\"20\" style=\"stroke:#feb44eff;stroke-width:3;\" /><line x1=\"194\" y1=\"0\" x2=\"194\" y2=\"20\" style=\"stroke:#feb44eff;stroke-width:3;\" /><line x1=\"195\" y1=\"0\" x2=\"195\" y2=\"20\" style=\"stroke:#feb44eff;stroke-width:3;\" /><line x1=\"196\" y1=\"0\" x2=\"196\" y2=\"20\" style=\"stroke:#feb44eff;stroke-width:3;\" /><line x1=\"197\" y1=\"0\" x2=\"197\" y2=\"20\" style=\"stroke:#feb44eff;stroke-width:3;\" /><line x1=\"198\" y1=\"0\" x2=\"198\" y2=\"20\" style=\"stroke:#feb44eff;stroke-width:3;\" /><line x1=\"199\" y1=\"0\" x2=\"199\" y2=\"20\" style=\"stroke:#feb44eff;stroke-width:3;\" /><line x1=\"200\" y1=\"0\" x2=\"200\" y2=\"20\" style=\"stroke:#fea546ff;stroke-width:3;\" /><line x1=\"201\" y1=\"0\" x2=\"201\" y2=\"20\" style=\"stroke:#fea546ff;stroke-width:3;\" /><line x1=\"202\" y1=\"0\" x2=\"202\" y2=\"20\" style=\"stroke:#fea546ff;stroke-width:3;\" /><line x1=\"203\" y1=\"0\" x2=\"203\" y2=\"20\" style=\"stroke:#fea546ff;stroke-width:3;\" /><line x1=\"204\" y1=\"0\" x2=\"204\" y2=\"20\" style=\"stroke:#fea546ff;stroke-width:3;\" /><line x1=\"205\" y1=\"0\" x2=\"205\" y2=\"20\" style=\"stroke:#fea546ff;stroke-width:3;\" /><line x1=\"206\" y1=\"0\" x2=\"206\" y2=\"20\" style=\"stroke:#fea546ff;stroke-width:3;\" /><line x1=\"207\" y1=\"0\" x2=\"207\" y2=\"20\" style=\"stroke:#fea546ff;stroke-width:3;\" /><line x1=\"208\" y1=\"0\" x2=\"208\" y2=\"20\" style=\"stroke:#fea546ff;stroke-width:3;\" /><line x1=\"209\" y1=\"0\" x2=\"209\" y2=\"20\" style=\"stroke:#fea546ff;stroke-width:3;\" /><line x1=\"210\" y1=\"0\" x2=\"210\" y2=\"20\" style=\"stroke:#fea546ff;stroke-width:3;\" /><line x1=\"211\" y1=\"0\" x2=\"211\" y2=\"20\" style=\"stroke:#fea546ff;stroke-width:3;\" /><line x1=\"212\" y1=\"0\" x2=\"212\" y2=\"20\" style=\"stroke:#fea546ff;stroke-width:3;\" /><line x1=\"213\" y1=\"0\" x2=\"213\" y2=\"20\" style=\"stroke:#fea546ff;stroke-width:3;\" /><line x1=\"214\" y1=\"0\" x2=\"214\" y2=\"20\" style=\"stroke:#fea546ff;stroke-width:3;\" /><line x1=\"215\" y1=\"0\" x2=\"215\" y2=\"20\" style=\"stroke:#fea546ff;stroke-width:3;\" /><line x1=\"216\" y1=\"0\" x2=\"216\" y2=\"20\" style=\"stroke:#fea546ff;stroke-width:3;\" /><line x1=\"217\" y1=\"0\" x2=\"217\" y2=\"20\" style=\"stroke:#fea546ff;stroke-width:3;\" /><line x1=\"218\" y1=\"0\" x2=\"218\" y2=\"20\" style=\"stroke:#fea546ff;stroke-width:3;\" /><line x1=\"219\" y1=\"0\" x2=\"219\" y2=\"20\" style=\"stroke:#fea546ff;stroke-width:3;\" /><line x1=\"220\" y1=\"0\" x2=\"220\" y2=\"20\" style=\"stroke:#fea546ff;stroke-width:3;\" /><line x1=\"221\" y1=\"0\" x2=\"221\" y2=\"20\" style=\"stroke:#fea546ff;stroke-width:3;\" /><line x1=\"222\" y1=\"0\" x2=\"222\" y2=\"20\" style=\"stroke:#fea546ff;stroke-width:3;\" /><line x1=\"223\" y1=\"0\" x2=\"223\" y2=\"20\" style=\"stroke:#fea546ff;stroke-width:3;\" /><line x1=\"224\" y1=\"0\" x2=\"224\" y2=\"20\" style=\"stroke:#fea546ff;stroke-width:3;\" /><line x1=\"225\" y1=\"0\" x2=\"225\" y2=\"20\" style=\"stroke:#fe953fff;stroke-width:3;\" /><line x1=\"226\" y1=\"0\" x2=\"226\" y2=\"20\" style=\"stroke:#fe953fff;stroke-width:3;\" /><line x1=\"227\" y1=\"0\" x2=\"227\" y2=\"20\" style=\"stroke:#fe953fff;stroke-width:3;\" /><line x1=\"228\" y1=\"0\" x2=\"228\" y2=\"20\" style=\"stroke:#fe953fff;stroke-width:3;\" /><line x1=\"229\" y1=\"0\" x2=\"229\" y2=\"20\" style=\"stroke:#fe953fff;stroke-width:3;\" /><line x1=\"230\" y1=\"0\" x2=\"230\" y2=\"20\" style=\"stroke:#fe953fff;stroke-width:3;\" /><line x1=\"231\" y1=\"0\" x2=\"231\" y2=\"20\" style=\"stroke:#fe953fff;stroke-width:3;\" /><line x1=\"232\" y1=\"0\" x2=\"232\" y2=\"20\" style=\"stroke:#fe953fff;stroke-width:3;\" /><line x1=\"233\" y1=\"0\" x2=\"233\" y2=\"20\" style=\"stroke:#fe953fff;stroke-width:3;\" /><line x1=\"234\" y1=\"0\" x2=\"234\" y2=\"20\" style=\"stroke:#fe953fff;stroke-width:3;\" /><line x1=\"235\" y1=\"0\" x2=\"235\" y2=\"20\" style=\"stroke:#fe953fff;stroke-width:3;\" /><line x1=\"236\" y1=\"0\" x2=\"236\" y2=\"20\" style=\"stroke:#fe953fff;stroke-width:3;\" /><line x1=\"237\" y1=\"0\" x2=\"237\" y2=\"20\" style=\"stroke:#fe953fff;stroke-width:3;\" /><line x1=\"238\" y1=\"0\" x2=\"238\" y2=\"20\" style=\"stroke:#fe953fff;stroke-width:3;\" /><line x1=\"239\" y1=\"0\" x2=\"239\" y2=\"20\" style=\"stroke:#fe953fff;stroke-width:3;\" /><line x1=\"240\" y1=\"0\" x2=\"240\" y2=\"20\" style=\"stroke:#fe953fff;stroke-width:3;\" /><line x1=\"241\" y1=\"0\" x2=\"241\" y2=\"20\" style=\"stroke:#fe953fff;stroke-width:3;\" /><line x1=\"242\" y1=\"0\" x2=\"242\" y2=\"20\" style=\"stroke:#fe953fff;stroke-width:3;\" /><line x1=\"243\" y1=\"0\" x2=\"243\" y2=\"20\" style=\"stroke:#fe953fff;stroke-width:3;\" /><line x1=\"244\" y1=\"0\" x2=\"244\" y2=\"20\" style=\"stroke:#fe953fff;stroke-width:3;\" /><line x1=\"245\" y1=\"0\" x2=\"245\" y2=\"20\" style=\"stroke:#fe953fff;stroke-width:3;\" /><line x1=\"246\" y1=\"0\" x2=\"246\" y2=\"20\" style=\"stroke:#fe953fff;stroke-width:3;\" /><line x1=\"247\" y1=\"0\" x2=\"247\" y2=\"20\" style=\"stroke:#fe953fff;stroke-width:3;\" /><line x1=\"248\" y1=\"0\" x2=\"248\" y2=\"20\" style=\"stroke:#fe953fff;stroke-width:3;\" /><line x1=\"249\" y1=\"0\" x2=\"249\" y2=\"20\" style=\"stroke:#fe953fff;stroke-width:3;\" /><line x1=\"250\" y1=\"0\" x2=\"250\" y2=\"20\" style=\"stroke:#fd8038ff;stroke-width:3;\" /><line x1=\"251\" y1=\"0\" x2=\"251\" y2=\"20\" style=\"stroke:#fd8038ff;stroke-width:3;\" /><line x1=\"252\" y1=\"0\" x2=\"252\" y2=\"20\" style=\"stroke:#fd8038ff;stroke-width:3;\" /><line x1=\"253\" y1=\"0\" x2=\"253\" y2=\"20\" style=\"stroke:#fd8038ff;stroke-width:3;\" /><line x1=\"254\" y1=\"0\" x2=\"254\" y2=\"20\" style=\"stroke:#fd8038ff;stroke-width:3;\" /><line x1=\"255\" y1=\"0\" x2=\"255\" y2=\"20\" style=\"stroke:#fd8038ff;stroke-width:3;\" /><line x1=\"256\" y1=\"0\" x2=\"256\" y2=\"20\" style=\"stroke:#fd8038ff;stroke-width:3;\" /><line x1=\"257\" y1=\"0\" x2=\"257\" y2=\"20\" style=\"stroke:#fd8038ff;stroke-width:3;\" /><line x1=\"258\" y1=\"0\" x2=\"258\" y2=\"20\" style=\"stroke:#fd8038ff;stroke-width:3;\" /><line x1=\"259\" y1=\"0\" x2=\"259\" y2=\"20\" style=\"stroke:#fd8038ff;stroke-width:3;\" /><line x1=\"260\" y1=\"0\" x2=\"260\" y2=\"20\" style=\"stroke:#fd8038ff;stroke-width:3;\" /><line x1=\"261\" y1=\"0\" x2=\"261\" y2=\"20\" style=\"stroke:#fd8038ff;stroke-width:3;\" /><line x1=\"262\" y1=\"0\" x2=\"262\" y2=\"20\" style=\"stroke:#fd8038ff;stroke-width:3;\" /><line x1=\"263\" y1=\"0\" x2=\"263\" y2=\"20\" style=\"stroke:#fd8038ff;stroke-width:3;\" /><line x1=\"264\" y1=\"0\" x2=\"264\" y2=\"20\" style=\"stroke:#fd8038ff;stroke-width:3;\" /><line x1=\"265\" y1=\"0\" x2=\"265\" y2=\"20\" style=\"stroke:#fd8038ff;stroke-width:3;\" /><line x1=\"266\" y1=\"0\" x2=\"266\" y2=\"20\" style=\"stroke:#fd8038ff;stroke-width:3;\" /><line x1=\"267\" y1=\"0\" x2=\"267\" y2=\"20\" style=\"stroke:#fd8038ff;stroke-width:3;\" /><line x1=\"268\" y1=\"0\" x2=\"268\" y2=\"20\" style=\"stroke:#fd8038ff;stroke-width:3;\" /><line x1=\"269\" y1=\"0\" x2=\"269\" y2=\"20\" style=\"stroke:#fd8038ff;stroke-width:3;\" /><line x1=\"270\" y1=\"0\" x2=\"270\" y2=\"20\" style=\"stroke:#fd8038ff;stroke-width:3;\" /><line x1=\"271\" y1=\"0\" x2=\"271\" y2=\"20\" style=\"stroke:#fd8038ff;stroke-width:3;\" /><line x1=\"272\" y1=\"0\" x2=\"272\" y2=\"20\" style=\"stroke:#fd8038ff;stroke-width:3;\" /><line x1=\"273\" y1=\"0\" x2=\"273\" y2=\"20\" style=\"stroke:#fd8038ff;stroke-width:3;\" /><line x1=\"274\" y1=\"0\" x2=\"274\" y2=\"20\" style=\"stroke:#fd8038ff;stroke-width:3;\" /><line x1=\"275\" y1=\"0\" x2=\"275\" y2=\"20\" style=\"stroke:#fd6530ff;stroke-width:3;\" /><line x1=\"276\" y1=\"0\" x2=\"276\" y2=\"20\" style=\"stroke:#fd6530ff;stroke-width:3;\" /><line x1=\"277\" y1=\"0\" x2=\"277\" y2=\"20\" style=\"stroke:#fd6530ff;stroke-width:3;\" /><line x1=\"278\" y1=\"0\" x2=\"278\" y2=\"20\" style=\"stroke:#fd6530ff;stroke-width:3;\" /><line x1=\"279\" y1=\"0\" x2=\"279\" y2=\"20\" style=\"stroke:#fd6530ff;stroke-width:3;\" /><line x1=\"280\" y1=\"0\" x2=\"280\" y2=\"20\" style=\"stroke:#fd6530ff;stroke-width:3;\" /><line x1=\"281\" y1=\"0\" x2=\"281\" y2=\"20\" style=\"stroke:#fd6530ff;stroke-width:3;\" /><line x1=\"282\" y1=\"0\" x2=\"282\" y2=\"20\" style=\"stroke:#fd6530ff;stroke-width:3;\" /><line x1=\"283\" y1=\"0\" x2=\"283\" y2=\"20\" style=\"stroke:#fd6530ff;stroke-width:3;\" /><line x1=\"284\" y1=\"0\" x2=\"284\" y2=\"20\" style=\"stroke:#fd6530ff;stroke-width:3;\" /><line x1=\"285\" y1=\"0\" x2=\"285\" y2=\"20\" style=\"stroke:#fd6530ff;stroke-width:3;\" /><line x1=\"286\" y1=\"0\" x2=\"286\" y2=\"20\" style=\"stroke:#fd6530ff;stroke-width:3;\" /><line x1=\"287\" y1=\"0\" x2=\"287\" y2=\"20\" style=\"stroke:#fd6530ff;stroke-width:3;\" /><line x1=\"288\" y1=\"0\" x2=\"288\" y2=\"20\" style=\"stroke:#fd6530ff;stroke-width:3;\" /><line x1=\"289\" y1=\"0\" x2=\"289\" y2=\"20\" style=\"stroke:#fd6530ff;stroke-width:3;\" /><line x1=\"290\" y1=\"0\" x2=\"290\" y2=\"20\" style=\"stroke:#fd6530ff;stroke-width:3;\" /><line x1=\"291\" y1=\"0\" x2=\"291\" y2=\"20\" style=\"stroke:#fd6530ff;stroke-width:3;\" /><line x1=\"292\" y1=\"0\" x2=\"292\" y2=\"20\" style=\"stroke:#fd6530ff;stroke-width:3;\" /><line x1=\"293\" y1=\"0\" x2=\"293\" y2=\"20\" style=\"stroke:#fd6530ff;stroke-width:3;\" /><line x1=\"294\" y1=\"0\" x2=\"294\" y2=\"20\" style=\"stroke:#fd6530ff;stroke-width:3;\" /><line x1=\"295\" y1=\"0\" x2=\"295\" y2=\"20\" style=\"stroke:#fd6530ff;stroke-width:3;\" /><line x1=\"296\" y1=\"0\" x2=\"296\" y2=\"20\" style=\"stroke:#fd6530ff;stroke-width:3;\" /><line x1=\"297\" y1=\"0\" x2=\"297\" y2=\"20\" style=\"stroke:#fd6530ff;stroke-width:3;\" /><line x1=\"298\" y1=\"0\" x2=\"298\" y2=\"20\" style=\"stroke:#fd6530ff;stroke-width:3;\" /><line x1=\"299\" y1=\"0\" x2=\"299\" y2=\"20\" style=\"stroke:#fd6530ff;stroke-width:3;\" /><line x1=\"300\" y1=\"0\" x2=\"300\" y2=\"20\" style=\"stroke:#fb4b29ff;stroke-width:3;\" /><line x1=\"301\" y1=\"0\" x2=\"301\" y2=\"20\" style=\"stroke:#fb4b29ff;stroke-width:3;\" /><line x1=\"302\" y1=\"0\" x2=\"302\" y2=\"20\" style=\"stroke:#fb4b29ff;stroke-width:3;\" /><line x1=\"303\" y1=\"0\" x2=\"303\" y2=\"20\" style=\"stroke:#fb4b29ff;stroke-width:3;\" /><line x1=\"304\" y1=\"0\" x2=\"304\" y2=\"20\" style=\"stroke:#fb4b29ff;stroke-width:3;\" /><line x1=\"305\" y1=\"0\" x2=\"305\" y2=\"20\" style=\"stroke:#fb4b29ff;stroke-width:3;\" /><line x1=\"306\" y1=\"0\" x2=\"306\" y2=\"20\" style=\"stroke:#fb4b29ff;stroke-width:3;\" /><line x1=\"307\" y1=\"0\" x2=\"307\" y2=\"20\" style=\"stroke:#fb4b29ff;stroke-width:3;\" /><line x1=\"308\" y1=\"0\" x2=\"308\" y2=\"20\" style=\"stroke:#fb4b29ff;stroke-width:3;\" /><line x1=\"309\" y1=\"0\" x2=\"309\" y2=\"20\" style=\"stroke:#fb4b29ff;stroke-width:3;\" /><line x1=\"310\" y1=\"0\" x2=\"310\" y2=\"20\" style=\"stroke:#fb4b29ff;stroke-width:3;\" /><line x1=\"311\" y1=\"0\" x2=\"311\" y2=\"20\" style=\"stroke:#fb4b29ff;stroke-width:3;\" /><line x1=\"312\" y1=\"0\" x2=\"312\" y2=\"20\" style=\"stroke:#fb4b29ff;stroke-width:3;\" /><line x1=\"313\" y1=\"0\" x2=\"313\" y2=\"20\" style=\"stroke:#fb4b29ff;stroke-width:3;\" /><line x1=\"314\" y1=\"0\" x2=\"314\" y2=\"20\" style=\"stroke:#fb4b29ff;stroke-width:3;\" /><line x1=\"315\" y1=\"0\" x2=\"315\" y2=\"20\" style=\"stroke:#fb4b29ff;stroke-width:3;\" /><line x1=\"316\" y1=\"0\" x2=\"316\" y2=\"20\" style=\"stroke:#fb4b29ff;stroke-width:3;\" /><line x1=\"317\" y1=\"0\" x2=\"317\" y2=\"20\" style=\"stroke:#fb4b29ff;stroke-width:3;\" /><line x1=\"318\" y1=\"0\" x2=\"318\" y2=\"20\" style=\"stroke:#fb4b29ff;stroke-width:3;\" /><line x1=\"319\" y1=\"0\" x2=\"319\" y2=\"20\" style=\"stroke:#fb4b29ff;stroke-width:3;\" /><line x1=\"320\" y1=\"0\" x2=\"320\" y2=\"20\" style=\"stroke:#fb4b29ff;stroke-width:3;\" /><line x1=\"321\" y1=\"0\" x2=\"321\" y2=\"20\" style=\"stroke:#fb4b29ff;stroke-width:3;\" /><line x1=\"322\" y1=\"0\" x2=\"322\" y2=\"20\" style=\"stroke:#fb4b29ff;stroke-width:3;\" /><line x1=\"323\" y1=\"0\" x2=\"323\" y2=\"20\" style=\"stroke:#fb4b29ff;stroke-width:3;\" /><line x1=\"324\" y1=\"0\" x2=\"324\" y2=\"20\" style=\"stroke:#fb4b29ff;stroke-width:3;\" /><line x1=\"325\" y1=\"0\" x2=\"325\" y2=\"20\" style=\"stroke:#f13523ff;stroke-width:3;\" /><line x1=\"326\" y1=\"0\" x2=\"326\" y2=\"20\" style=\"stroke:#f13523ff;stroke-width:3;\" /><line x1=\"327\" y1=\"0\" x2=\"327\" y2=\"20\" style=\"stroke:#f13523ff;stroke-width:3;\" /><line x1=\"328\" y1=\"0\" x2=\"328\" y2=\"20\" style=\"stroke:#f13523ff;stroke-width:3;\" /><line x1=\"329\" y1=\"0\" x2=\"329\" y2=\"20\" style=\"stroke:#f13523ff;stroke-width:3;\" /><line x1=\"330\" y1=\"0\" x2=\"330\" y2=\"20\" style=\"stroke:#f13523ff;stroke-width:3;\" /><line x1=\"331\" y1=\"0\" x2=\"331\" y2=\"20\" style=\"stroke:#f13523ff;stroke-width:3;\" /><line x1=\"332\" y1=\"0\" x2=\"332\" y2=\"20\" style=\"stroke:#f13523ff;stroke-width:3;\" /><line x1=\"333\" y1=\"0\" x2=\"333\" y2=\"20\" style=\"stroke:#f13523ff;stroke-width:3;\" /><line x1=\"334\" y1=\"0\" x2=\"334\" y2=\"20\" style=\"stroke:#f13523ff;stroke-width:3;\" /><line x1=\"335\" y1=\"0\" x2=\"335\" y2=\"20\" style=\"stroke:#f13523ff;stroke-width:3;\" /><line x1=\"336\" y1=\"0\" x2=\"336\" y2=\"20\" style=\"stroke:#f13523ff;stroke-width:3;\" /><line x1=\"337\" y1=\"0\" x2=\"337\" y2=\"20\" style=\"stroke:#f13523ff;stroke-width:3;\" /><line x1=\"338\" y1=\"0\" x2=\"338\" y2=\"20\" style=\"stroke:#f13523ff;stroke-width:3;\" /><line x1=\"339\" y1=\"0\" x2=\"339\" y2=\"20\" style=\"stroke:#f13523ff;stroke-width:3;\" /><line x1=\"340\" y1=\"0\" x2=\"340\" y2=\"20\" style=\"stroke:#f13523ff;stroke-width:3;\" /><line x1=\"341\" y1=\"0\" x2=\"341\" y2=\"20\" style=\"stroke:#f13523ff;stroke-width:3;\" /><line x1=\"342\" y1=\"0\" x2=\"342\" y2=\"20\" style=\"stroke:#f13523ff;stroke-width:3;\" /><line x1=\"343\" y1=\"0\" x2=\"343\" y2=\"20\" style=\"stroke:#f13523ff;stroke-width:3;\" /><line x1=\"344\" y1=\"0\" x2=\"344\" y2=\"20\" style=\"stroke:#f13523ff;stroke-width:3;\" /><line x1=\"345\" y1=\"0\" x2=\"345\" y2=\"20\" style=\"stroke:#f13523ff;stroke-width:3;\" /><line x1=\"346\" y1=\"0\" x2=\"346\" y2=\"20\" style=\"stroke:#f13523ff;stroke-width:3;\" /><line x1=\"347\" y1=\"0\" x2=\"347\" y2=\"20\" style=\"stroke:#f13523ff;stroke-width:3;\" /><line x1=\"348\" y1=\"0\" x2=\"348\" y2=\"20\" style=\"stroke:#f13523ff;stroke-width:3;\" /><line x1=\"349\" y1=\"0\" x2=\"349\" y2=\"20\" style=\"stroke:#f13523ff;stroke-width:3;\" /><line x1=\"350\" y1=\"0\" x2=\"350\" y2=\"20\" style=\"stroke:#e61f1dff;stroke-width:3;\" /><line x1=\"351\" y1=\"0\" x2=\"351\" y2=\"20\" style=\"stroke:#e61f1dff;stroke-width:3;\" /><line x1=\"352\" y1=\"0\" x2=\"352\" y2=\"20\" style=\"stroke:#e61f1dff;stroke-width:3;\" /><line x1=\"353\" y1=\"0\" x2=\"353\" y2=\"20\" style=\"stroke:#e61f1dff;stroke-width:3;\" /><line x1=\"354\" y1=\"0\" x2=\"354\" y2=\"20\" style=\"stroke:#e61f1dff;stroke-width:3;\" /><line x1=\"355\" y1=\"0\" x2=\"355\" y2=\"20\" style=\"stroke:#e61f1dff;stroke-width:3;\" /><line x1=\"356\" y1=\"0\" x2=\"356\" y2=\"20\" style=\"stroke:#e61f1dff;stroke-width:3;\" /><line x1=\"357\" y1=\"0\" x2=\"357\" y2=\"20\" style=\"stroke:#e61f1dff;stroke-width:3;\" /><line x1=\"358\" y1=\"0\" x2=\"358\" y2=\"20\" style=\"stroke:#e61f1dff;stroke-width:3;\" /><line x1=\"359\" y1=\"0\" x2=\"359\" y2=\"20\" style=\"stroke:#e61f1dff;stroke-width:3;\" /><line x1=\"360\" y1=\"0\" x2=\"360\" y2=\"20\" style=\"stroke:#e61f1dff;stroke-width:3;\" /><line x1=\"361\" y1=\"0\" x2=\"361\" y2=\"20\" style=\"stroke:#e61f1dff;stroke-width:3;\" /><line x1=\"362\" y1=\"0\" x2=\"362\" y2=\"20\" style=\"stroke:#e61f1dff;stroke-width:3;\" /><line x1=\"363\" y1=\"0\" x2=\"363\" y2=\"20\" style=\"stroke:#e61f1dff;stroke-width:3;\" /><line x1=\"364\" y1=\"0\" x2=\"364\" y2=\"20\" style=\"stroke:#e61f1dff;stroke-width:3;\" /><line x1=\"365\" y1=\"0\" x2=\"365\" y2=\"20\" style=\"stroke:#e61f1dff;stroke-width:3;\" /><line x1=\"366\" y1=\"0\" x2=\"366\" y2=\"20\" style=\"stroke:#e61f1dff;stroke-width:3;\" /><line x1=\"367\" y1=\"0\" x2=\"367\" y2=\"20\" style=\"stroke:#e61f1dff;stroke-width:3;\" /><line x1=\"368\" y1=\"0\" x2=\"368\" y2=\"20\" style=\"stroke:#e61f1dff;stroke-width:3;\" /><line x1=\"369\" y1=\"0\" x2=\"369\" y2=\"20\" style=\"stroke:#e61f1dff;stroke-width:3;\" /><line x1=\"370\" y1=\"0\" x2=\"370\" y2=\"20\" style=\"stroke:#e61f1dff;stroke-width:3;\" /><line x1=\"371\" y1=\"0\" x2=\"371\" y2=\"20\" style=\"stroke:#e61f1dff;stroke-width:3;\" /><line x1=\"372\" y1=\"0\" x2=\"372\" y2=\"20\" style=\"stroke:#e61f1dff;stroke-width:3;\" /><line x1=\"373\" y1=\"0\" x2=\"373\" y2=\"20\" style=\"stroke:#e61f1dff;stroke-width:3;\" /><line x1=\"374\" y1=\"0\" x2=\"374\" y2=\"20\" style=\"stroke:#e61f1dff;stroke-width:3;\" /><line x1=\"375\" y1=\"0\" x2=\"375\" y2=\"20\" style=\"stroke:#d7111fff;stroke-width:3;\" /><line x1=\"376\" y1=\"0\" x2=\"376\" y2=\"20\" style=\"stroke:#d7111fff;stroke-width:3;\" /><line x1=\"377\" y1=\"0\" x2=\"377\" y2=\"20\" style=\"stroke:#d7111fff;stroke-width:3;\" /><line x1=\"378\" y1=\"0\" x2=\"378\" y2=\"20\" style=\"stroke:#d7111fff;stroke-width:3;\" /><line x1=\"379\" y1=\"0\" x2=\"379\" y2=\"20\" style=\"stroke:#d7111fff;stroke-width:3;\" /><line x1=\"380\" y1=\"0\" x2=\"380\" y2=\"20\" style=\"stroke:#d7111fff;stroke-width:3;\" /><line x1=\"381\" y1=\"0\" x2=\"381\" y2=\"20\" style=\"stroke:#d7111fff;stroke-width:3;\" /><line x1=\"382\" y1=\"0\" x2=\"382\" y2=\"20\" style=\"stroke:#d7111fff;stroke-width:3;\" /><line x1=\"383\" y1=\"0\" x2=\"383\" y2=\"20\" style=\"stroke:#d7111fff;stroke-width:3;\" /><line x1=\"384\" y1=\"0\" x2=\"384\" y2=\"20\" style=\"stroke:#d7111fff;stroke-width:3;\" /><line x1=\"385\" y1=\"0\" x2=\"385\" y2=\"20\" style=\"stroke:#d7111fff;stroke-width:3;\" /><line x1=\"386\" y1=\"0\" x2=\"386\" y2=\"20\" style=\"stroke:#d7111fff;stroke-width:3;\" /><line x1=\"387\" y1=\"0\" x2=\"387\" y2=\"20\" style=\"stroke:#d7111fff;stroke-width:3;\" /><line x1=\"388\" y1=\"0\" x2=\"388\" y2=\"20\" style=\"stroke:#d7111fff;stroke-width:3;\" /><line x1=\"389\" y1=\"0\" x2=\"389\" y2=\"20\" style=\"stroke:#d7111fff;stroke-width:3;\" /><line x1=\"390\" y1=\"0\" x2=\"390\" y2=\"20\" style=\"stroke:#d7111fff;stroke-width:3;\" /><line x1=\"391\" y1=\"0\" x2=\"391\" y2=\"20\" style=\"stroke:#d7111fff;stroke-width:3;\" /><line x1=\"392\" y1=\"0\" x2=\"392\" y2=\"20\" style=\"stroke:#d7111fff;stroke-width:3;\" /><line x1=\"393\" y1=\"0\" x2=\"393\" y2=\"20\" style=\"stroke:#d7111fff;stroke-width:3;\" /><line x1=\"394\" y1=\"0\" x2=\"394\" y2=\"20\" style=\"stroke:#d7111fff;stroke-width:3;\" /><line x1=\"395\" y1=\"0\" x2=\"395\" y2=\"20\" style=\"stroke:#d7111fff;stroke-width:3;\" /><line x1=\"396\" y1=\"0\" x2=\"396\" y2=\"20\" style=\"stroke:#d7111fff;stroke-width:3;\" /><line x1=\"397\" y1=\"0\" x2=\"397\" y2=\"20\" style=\"stroke:#d7111fff;stroke-width:3;\" /><line x1=\"398\" y1=\"0\" x2=\"398\" y2=\"20\" style=\"stroke:#d7111fff;stroke-width:3;\" /><line x1=\"399\" y1=\"0\" x2=\"399\" y2=\"20\" style=\"stroke:#d7111fff;stroke-width:3;\" /><line x1=\"400\" y1=\"0\" x2=\"400\" y2=\"20\" style=\"stroke:#c70623ff;stroke-width:3;\" /><line x1=\"401\" y1=\"0\" x2=\"401\" y2=\"20\" style=\"stroke:#c70623ff;stroke-width:3;\" /><line x1=\"402\" y1=\"0\" x2=\"402\" y2=\"20\" style=\"stroke:#c70623ff;stroke-width:3;\" /><line x1=\"403\" y1=\"0\" x2=\"403\" y2=\"20\" style=\"stroke:#c70623ff;stroke-width:3;\" /><line x1=\"404\" y1=\"0\" x2=\"404\" y2=\"20\" style=\"stroke:#c70623ff;stroke-width:3;\" /><line x1=\"405\" y1=\"0\" x2=\"405\" y2=\"20\" style=\"stroke:#c70623ff;stroke-width:3;\" /><line x1=\"406\" y1=\"0\" x2=\"406\" y2=\"20\" style=\"stroke:#c70623ff;stroke-width:3;\" /><line x1=\"407\" y1=\"0\" x2=\"407\" y2=\"20\" style=\"stroke:#c70623ff;stroke-width:3;\" /><line x1=\"408\" y1=\"0\" x2=\"408\" y2=\"20\" style=\"stroke:#c70623ff;stroke-width:3;\" /><line x1=\"409\" y1=\"0\" x2=\"409\" y2=\"20\" style=\"stroke:#c70623ff;stroke-width:3;\" /><line x1=\"410\" y1=\"0\" x2=\"410\" y2=\"20\" style=\"stroke:#c70623ff;stroke-width:3;\" /><line x1=\"411\" y1=\"0\" x2=\"411\" y2=\"20\" style=\"stroke:#c70623ff;stroke-width:3;\" /><line x1=\"412\" y1=\"0\" x2=\"412\" y2=\"20\" style=\"stroke:#c70623ff;stroke-width:3;\" /><line x1=\"413\" y1=\"0\" x2=\"413\" y2=\"20\" style=\"stroke:#c70623ff;stroke-width:3;\" /><line x1=\"414\" y1=\"0\" x2=\"414\" y2=\"20\" style=\"stroke:#c70623ff;stroke-width:3;\" /><line x1=\"415\" y1=\"0\" x2=\"415\" y2=\"20\" style=\"stroke:#c70623ff;stroke-width:3;\" /><line x1=\"416\" y1=\"0\" x2=\"416\" y2=\"20\" style=\"stroke:#c70623ff;stroke-width:3;\" /><line x1=\"417\" y1=\"0\" x2=\"417\" y2=\"20\" style=\"stroke:#c70623ff;stroke-width:3;\" /><line x1=\"418\" y1=\"0\" x2=\"418\" y2=\"20\" style=\"stroke:#c70623ff;stroke-width:3;\" /><line x1=\"419\" y1=\"0\" x2=\"419\" y2=\"20\" style=\"stroke:#c70623ff;stroke-width:3;\" /><line x1=\"420\" y1=\"0\" x2=\"420\" y2=\"20\" style=\"stroke:#c70623ff;stroke-width:3;\" /><line x1=\"421\" y1=\"0\" x2=\"421\" y2=\"20\" style=\"stroke:#c70623ff;stroke-width:3;\" /><line x1=\"422\" y1=\"0\" x2=\"422\" y2=\"20\" style=\"stroke:#c70623ff;stroke-width:3;\" /><line x1=\"423\" y1=\"0\" x2=\"423\" y2=\"20\" style=\"stroke:#c70623ff;stroke-width:3;\" /><line x1=\"424\" y1=\"0\" x2=\"424\" y2=\"20\" style=\"stroke:#c70623ff;stroke-width:3;\" /><line x1=\"425\" y1=\"0\" x2=\"425\" y2=\"20\" style=\"stroke:#b40026ff;stroke-width:3;\" /><line x1=\"426\" y1=\"0\" x2=\"426\" y2=\"20\" style=\"stroke:#b40026ff;stroke-width:3;\" /><line x1=\"427\" y1=\"0\" x2=\"427\" y2=\"20\" style=\"stroke:#b40026ff;stroke-width:3;\" /><line x1=\"428\" y1=\"0\" x2=\"428\" y2=\"20\" style=\"stroke:#b40026ff;stroke-width:3;\" /><line x1=\"429\" y1=\"0\" x2=\"429\" y2=\"20\" style=\"stroke:#b40026ff;stroke-width:3;\" /><line x1=\"430\" y1=\"0\" x2=\"430\" y2=\"20\" style=\"stroke:#b40026ff;stroke-width:3;\" /><line x1=\"431\" y1=\"0\" x2=\"431\" y2=\"20\" style=\"stroke:#b40026ff;stroke-width:3;\" /><line x1=\"432\" y1=\"0\" x2=\"432\" y2=\"20\" style=\"stroke:#b40026ff;stroke-width:3;\" /><line x1=\"433\" y1=\"0\" x2=\"433\" y2=\"20\" style=\"stroke:#b40026ff;stroke-width:3;\" /><line x1=\"434\" y1=\"0\" x2=\"434\" y2=\"20\" style=\"stroke:#b40026ff;stroke-width:3;\" /><line x1=\"435\" y1=\"0\" x2=\"435\" y2=\"20\" style=\"stroke:#b40026ff;stroke-width:3;\" /><line x1=\"436\" y1=\"0\" x2=\"436\" y2=\"20\" style=\"stroke:#b40026ff;stroke-width:3;\" /><line x1=\"437\" y1=\"0\" x2=\"437\" y2=\"20\" style=\"stroke:#b40026ff;stroke-width:3;\" /><line x1=\"438\" y1=\"0\" x2=\"438\" y2=\"20\" style=\"stroke:#b40026ff;stroke-width:3;\" /><line x1=\"439\" y1=\"0\" x2=\"439\" y2=\"20\" style=\"stroke:#b40026ff;stroke-width:3;\" /><line x1=\"440\" y1=\"0\" x2=\"440\" y2=\"20\" style=\"stroke:#b40026ff;stroke-width:3;\" /><line x1=\"441\" y1=\"0\" x2=\"441\" y2=\"20\" style=\"stroke:#b40026ff;stroke-width:3;\" /><line x1=\"442\" y1=\"0\" x2=\"442\" y2=\"20\" style=\"stroke:#b40026ff;stroke-width:3;\" /><line x1=\"443\" y1=\"0\" x2=\"443\" y2=\"20\" style=\"stroke:#b40026ff;stroke-width:3;\" /><line x1=\"444\" y1=\"0\" x2=\"444\" y2=\"20\" style=\"stroke:#b40026ff;stroke-width:3;\" /><line x1=\"445\" y1=\"0\" x2=\"445\" y2=\"20\" style=\"stroke:#b40026ff;stroke-width:3;\" /><line x1=\"446\" y1=\"0\" x2=\"446\" y2=\"20\" style=\"stroke:#b40026ff;stroke-width:3;\" /><line x1=\"447\" y1=\"0\" x2=\"447\" y2=\"20\" style=\"stroke:#b40026ff;stroke-width:3;\" /><line x1=\"448\" y1=\"0\" x2=\"448\" y2=\"20\" style=\"stroke:#b40026ff;stroke-width:3;\" /><line x1=\"449\" y1=\"0\" x2=\"449\" y2=\"20\" style=\"stroke:#b40026ff;stroke-width:3;\" /><line x1=\"450\" y1=\"0\" x2=\"450\" y2=\"20\" style=\"stroke:#9a0026ff;stroke-width:3;\" /><line x1=\"451\" y1=\"0\" x2=\"451\" y2=\"20\" style=\"stroke:#9a0026ff;stroke-width:3;\" /><line x1=\"452\" y1=\"0\" x2=\"452\" y2=\"20\" style=\"stroke:#9a0026ff;stroke-width:3;\" /><line x1=\"453\" y1=\"0\" x2=\"453\" y2=\"20\" style=\"stroke:#9a0026ff;stroke-width:3;\" /><line x1=\"454\" y1=\"0\" x2=\"454\" y2=\"20\" style=\"stroke:#9a0026ff;stroke-width:3;\" /><line x1=\"455\" y1=\"0\" x2=\"455\" y2=\"20\" style=\"stroke:#9a0026ff;stroke-width:3;\" /><line x1=\"456\" y1=\"0\" x2=\"456\" y2=\"20\" style=\"stroke:#9a0026ff;stroke-width:3;\" /><line x1=\"457\" y1=\"0\" x2=\"457\" y2=\"20\" style=\"stroke:#9a0026ff;stroke-width:3;\" /><line x1=\"458\" y1=\"0\" x2=\"458\" y2=\"20\" style=\"stroke:#9a0026ff;stroke-width:3;\" /><line x1=\"459\" y1=\"0\" x2=\"459\" y2=\"20\" style=\"stroke:#9a0026ff;stroke-width:3;\" /><line x1=\"460\" y1=\"0\" x2=\"460\" y2=\"20\" style=\"stroke:#9a0026ff;stroke-width:3;\" /><line x1=\"461\" y1=\"0\" x2=\"461\" y2=\"20\" style=\"stroke:#9a0026ff;stroke-width:3;\" /><line x1=\"462\" y1=\"0\" x2=\"462\" y2=\"20\" style=\"stroke:#9a0026ff;stroke-width:3;\" /><line x1=\"463\" y1=\"0\" x2=\"463\" y2=\"20\" style=\"stroke:#9a0026ff;stroke-width:3;\" /><line x1=\"464\" y1=\"0\" x2=\"464\" y2=\"20\" style=\"stroke:#9a0026ff;stroke-width:3;\" /><line x1=\"465\" y1=\"0\" x2=\"465\" y2=\"20\" style=\"stroke:#9a0026ff;stroke-width:3;\" /><line x1=\"466\" y1=\"0\" x2=\"466\" y2=\"20\" style=\"stroke:#9a0026ff;stroke-width:3;\" /><line x1=\"467\" y1=\"0\" x2=\"467\" y2=\"20\" style=\"stroke:#9a0026ff;stroke-width:3;\" /><line x1=\"468\" y1=\"0\" x2=\"468\" y2=\"20\" style=\"stroke:#9a0026ff;stroke-width:3;\" /><line x1=\"469\" y1=\"0\" x2=\"469\" y2=\"20\" style=\"stroke:#9a0026ff;stroke-width:3;\" /><line x1=\"470\" y1=\"0\" x2=\"470\" y2=\"20\" style=\"stroke:#9a0026ff;stroke-width:3;\" /><line x1=\"471\" y1=\"0\" x2=\"471\" y2=\"20\" style=\"stroke:#9a0026ff;stroke-width:3;\" /><line x1=\"472\" y1=\"0\" x2=\"472\" y2=\"20\" style=\"stroke:#9a0026ff;stroke-width:3;\" /><line x1=\"473\" y1=\"0\" x2=\"473\" y2=\"20\" style=\"stroke:#9a0026ff;stroke-width:3;\" /><line x1=\"474\" y1=\"0\" x2=\"474\" y2=\"20\" style=\"stroke:#9a0026ff;stroke-width:3;\" /><line x1=\"475\" y1=\"0\" x2=\"475\" y2=\"20\" style=\"stroke:#800026ff;stroke-width:3;\" /><line x1=\"476\" y1=\"0\" x2=\"476\" y2=\"20\" style=\"stroke:#800026ff;stroke-width:3;\" /><line x1=\"477\" y1=\"0\" x2=\"477\" y2=\"20\" style=\"stroke:#800026ff;stroke-width:3;\" /><line x1=\"478\" y1=\"0\" x2=\"478\" y2=\"20\" style=\"stroke:#800026ff;stroke-width:3;\" /><line x1=\"479\" y1=\"0\" x2=\"479\" y2=\"20\" style=\"stroke:#800026ff;stroke-width:3;\" /><line x1=\"480\" y1=\"0\" x2=\"480\" y2=\"20\" style=\"stroke:#800026ff;stroke-width:3;\" /><line x1=\"481\" y1=\"0\" x2=\"481\" y2=\"20\" style=\"stroke:#800026ff;stroke-width:3;\" /><line x1=\"482\" y1=\"0\" x2=\"482\" y2=\"20\" style=\"stroke:#800026ff;stroke-width:3;\" /><line x1=\"483\" y1=\"0\" x2=\"483\" y2=\"20\" style=\"stroke:#800026ff;stroke-width:3;\" /><line x1=\"484\" y1=\"0\" x2=\"484\" y2=\"20\" style=\"stroke:#800026ff;stroke-width:3;\" /><line x1=\"485\" y1=\"0\" x2=\"485\" y2=\"20\" style=\"stroke:#800026ff;stroke-width:3;\" /><line x1=\"486\" y1=\"0\" x2=\"486\" y2=\"20\" style=\"stroke:#800026ff;stroke-width:3;\" /><line x1=\"487\" y1=\"0\" x2=\"487\" y2=\"20\" style=\"stroke:#800026ff;stroke-width:3;\" /><line x1=\"488\" y1=\"0\" x2=\"488\" y2=\"20\" style=\"stroke:#800026ff;stroke-width:3;\" /><line x1=\"489\" y1=\"0\" x2=\"489\" y2=\"20\" style=\"stroke:#800026ff;stroke-width:3;\" /><line x1=\"490\" y1=\"0\" x2=\"490\" y2=\"20\" style=\"stroke:#800026ff;stroke-width:3;\" /><line x1=\"491\" y1=\"0\" x2=\"491\" y2=\"20\" style=\"stroke:#800026ff;stroke-width:3;\" /><line x1=\"492\" y1=\"0\" x2=\"492\" y2=\"20\" style=\"stroke:#800026ff;stroke-width:3;\" /><line x1=\"493\" y1=\"0\" x2=\"493\" y2=\"20\" style=\"stroke:#800026ff;stroke-width:3;\" /><line x1=\"494\" y1=\"0\" x2=\"494\" y2=\"20\" style=\"stroke:#800026ff;stroke-width:3;\" /><line x1=\"495\" y1=\"0\" x2=\"495\" y2=\"20\" style=\"stroke:#800026ff;stroke-width:3;\" /><line x1=\"496\" y1=\"0\" x2=\"496\" y2=\"20\" style=\"stroke:#800026ff;stroke-width:3;\" /><line x1=\"497\" y1=\"0\" x2=\"497\" y2=\"20\" style=\"stroke:#800026ff;stroke-width:3;\" /><line x1=\"498\" y1=\"0\" x2=\"498\" y2=\"20\" style=\"stroke:#800026ff;stroke-width:3;\" /><line x1=\"499\" y1=\"0\" x2=\"499\" y2=\"20\" style=\"stroke:#800026ff;stroke-width:3;\" /><text x=\"0\" y=\"35\">0.0</text><text x=\"500\" y=\"35\" style=\"text-anchor:end;\">1.0</text></svg>"
      ],
      "text/plain": [
       "<branca.colormap.StepColormap at 0x1ccdcbe7bb0>"
      ]
     },
     "execution_count": 46,
     "metadata": {},
     "output_type": "execute_result"
    }
   ],
   "source": [
    "steps=20\n",
    "colormap = branca.colormap.linear.YlOrRd_09.scale(0, 1).to_step(steps)\n",
    "colormap.caption = 'Internações'\n",
    "gradient_map=defaultdict(dict)\n",
    "for i in range(steps):\n",
    "    gradient_map[1/steps*i] = colormap.rgb_hex_str(1/steps*i)\n",
    "colormap.add_to(map_1) "
   ]
  },
  {
   "cell_type": "code",
   "execution_count": 92,
   "metadata": {},
   "outputs": [],
   "source": [
    "map_1 = map_1.add_child(plugins.HeatMap(coordenadas2,fill_opacity = 0.5, gradient = gradient_map, \n",
    "                                            show=True))"
   ]
  },
  {
   "cell_type": "code",
   "execution_count": 93,
   "metadata": {},
   "outputs": [],
   "source": [
    "for i in range(0, len(dados_map1)):\n",
    "    folium.Circle(\n",
    "        location = [dados_map1.iloc[i]['LATITUDE_PACIENTE'] , dados_map1.iloc[i]['LONGITUDE_PACIENTE']],\n",
    "        color = '#00FF69',\n",
    "        fill = '#00A1B3',\n",
    "        tooltip = '<li><bold> MUNICIPIO:' +str(dados_map1.iloc[i]['BAIRRO_PACIENTE']) + \"</bold><li>\"+\n",
    "                  '<li><bold> INTERNAÇÕES:' + str(dados_map1.iloc[i]['INTERNACOES']) + \"</bold><li>\",\n",
    "        radius = (dados_map1.iloc[i]['INTERNACOES']**1.1)\n",
    "    ).add_to(map_1)"
   ]
  },
  {
   "cell_type": "code",
   "execution_count": 94,
   "metadata": {
    "collapsed": true
   },
   "outputs": [
    {
     "data": {
      "text/html": [
       "<div style=\"width:100%;\"><div style=\"position:relative;width:100%;height:0;padding-bottom:60%;\"><span style=\"color:#565656\">Make this Notebook Trusted to load map: File -> Trust Notebook</span><iframe src=\"about:blank\" style=\"position:absolute;width:100%;height:100%;left:0;top:0;border:none !important;\" data-html=%3C%21DOCTYPE%20html%3E%0A%3Chead%3E%20%20%20%20%0A%20%20%20%20%3Cmeta%20http-equiv%3D%22content-type%22%20content%3D%22text/html%3B%20charset%3DUTF-8%22%20/%3E%0A%20%20%20%20%0A%20%20%20%20%20%20%20%20%3Cscript%3E%0A%20%20%20%20%20%20%20%20%20%20%20%20L_NO_TOUCH%20%3D%20false%3B%0A%20%20%20%20%20%20%20%20%20%20%20%20L_DISABLE_3D%20%3D%20false%3B%0A%20%20%20%20%20%20%20%20%3C/script%3E%0A%20%20%20%20%0A%20%20%20%20%3Cstyle%3Ehtml%2C%20body%20%7Bwidth%3A%20100%25%3Bheight%3A%20100%25%3Bmargin%3A%200%3Bpadding%3A%200%3B%7D%3C/style%3E%0A%20%20%20%20%3Cstyle%3E%23map%20%7Bposition%3Aabsolute%3Btop%3A0%3Bbottom%3A0%3Bright%3A0%3Bleft%3A0%3B%7D%3C/style%3E%0A%20%20%20%20%3Cscript%20src%3D%22https%3A//cdn.jsdelivr.net/npm/leaflet%401.6.0/dist/leaflet.js%22%3E%3C/script%3E%0A%20%20%20%20%3Cscript%20src%3D%22https%3A//code.jquery.com/jquery-1.12.4.min.js%22%3E%3C/script%3E%0A%20%20%20%20%3Cscript%20src%3D%22https%3A//maxcdn.bootstrapcdn.com/bootstrap/3.2.0/js/bootstrap.min.js%22%3E%3C/script%3E%0A%20%20%20%20%3Cscript%20src%3D%22https%3A//cdnjs.cloudflare.com/ajax/libs/Leaflet.awesome-markers/2.0.2/leaflet.awesome-markers.js%22%3E%3C/script%3E%0A%20%20%20%20%3Clink%20rel%3D%22stylesheet%22%20href%3D%22https%3A//cdn.jsdelivr.net/npm/leaflet%401.6.0/dist/leaflet.css%22/%3E%0A%20%20%20%20%3Clink%20rel%3D%22stylesheet%22%20href%3D%22https%3A//maxcdn.bootstrapcdn.com/bootstrap/3.2.0/css/bootstrap.min.css%22/%3E%0A%20%20%20%20%3Clink%20rel%3D%22stylesheet%22%20href%3D%22https%3A//maxcdn.bootstrapcdn.com/bootstrap/3.2.0/css/bootstrap-theme.min.css%22/%3E%0A%20%20%20%20%3Clink%20rel%3D%22stylesheet%22%20href%3D%22https%3A//maxcdn.bootstrapcdn.com/font-awesome/4.6.3/css/font-awesome.min.css%22/%3E%0A%20%20%20%20%3Clink%20rel%3D%22stylesheet%22%20href%3D%22https%3A//cdnjs.cloudflare.com/ajax/libs/Leaflet.awesome-markers/2.0.2/leaflet.awesome-markers.css%22/%3E%0A%20%20%20%20%3Clink%20rel%3D%22stylesheet%22%20href%3D%22https%3A//cdn.jsdelivr.net/gh/python-visualization/folium/folium/templates/leaflet.awesome.rotate.min.css%22/%3E%0A%20%20%20%20%0A%20%20%20%20%20%20%20%20%20%20%20%20%3Cmeta%20name%3D%22viewport%22%20content%3D%22width%3Ddevice-width%2C%0A%20%20%20%20%20%20%20%20%20%20%20%20%20%20%20%20initial-scale%3D1.0%2C%20maximum-scale%3D1.0%2C%20user-scalable%3Dno%22%20/%3E%0A%20%20%20%20%20%20%20%20%20%20%20%20%3Cstyle%3E%0A%20%20%20%20%20%20%20%20%20%20%20%20%20%20%20%20%23map_6560fea948844691ba52179ee6ab8c3a%20%7B%0A%20%20%20%20%20%20%20%20%20%20%20%20%20%20%20%20%20%20%20%20position%3A%20relative%3B%0A%20%20%20%20%20%20%20%20%20%20%20%20%20%20%20%20%20%20%20%20width%3A%20100.0%25%3B%0A%20%20%20%20%20%20%20%20%20%20%20%20%20%20%20%20%20%20%20%20height%3A%20100.0%25%3B%0A%20%20%20%20%20%20%20%20%20%20%20%20%20%20%20%20%20%20%20%20left%3A%200.0%25%3B%0A%20%20%20%20%20%20%20%20%20%20%20%20%20%20%20%20%20%20%20%20top%3A%200.0%25%3B%0A%20%20%20%20%20%20%20%20%20%20%20%20%20%20%20%20%7D%0A%20%20%20%20%20%20%20%20%20%20%20%20%3C/style%3E%0A%20%20%20%20%20%20%20%20%0A%20%20%20%20%3Cscript%20src%3D%22https%3A//cdnjs.cloudflare.com/ajax/libs/d3/3.5.5/d3.min.js%22%3E%3C/script%3E%0A%20%20%20%20%3Cscript%20src%3D%22https%3A//cdn.jsdelivr.net/gh/python-visualization/folium%40master/folium/templates/leaflet_heat.min.js%22%3E%3C/script%3E%0A%3C/head%3E%0A%3Cbody%3E%20%20%20%20%0A%20%20%20%20%0A%20%20%20%20%20%20%20%20%20%20%20%20%3Cdiv%20class%3D%22folium-map%22%20id%3D%22map_6560fea948844691ba52179ee6ab8c3a%22%20%3E%3C/div%3E%0A%20%20%20%20%20%20%20%20%0A%3C/body%3E%0A%3Cscript%3E%20%20%20%20%0A%20%20%20%20%0A%20%20%20%20%20%20%20%20%20%20%20%20var%20map_6560fea948844691ba52179ee6ab8c3a%20%3D%20L.map%28%0A%20%20%20%20%20%20%20%20%20%20%20%20%20%20%20%20%22map_6560fea948844691ba52179ee6ab8c3a%22%2C%0A%20%20%20%20%20%20%20%20%20%20%20%20%20%20%20%20%7B%0A%20%20%20%20%20%20%20%20%20%20%20%20%20%20%20%20%20%20%20%20center%3A%20%5B-22.0622469%2C%20-44.04462%5D%2C%0A%20%20%20%20%20%20%20%20%20%20%20%20%20%20%20%20%20%20%20%20crs%3A%20L.CRS.EPSG3857%2C%0A%20%20%20%20%20%20%20%20%20%20%20%20%20%20%20%20%20%20%20%20zoom%3A%208%2C%0A%20%20%20%20%20%20%20%20%20%20%20%20%20%20%20%20%20%20%20%20zoomControl%3A%20true%2C%0A%20%20%20%20%20%20%20%20%20%20%20%20%20%20%20%20%20%20%20%20preferCanvas%3A%20false%2C%0A%20%20%20%20%20%20%20%20%20%20%20%20%20%20%20%20%20%20%20%20heigth%3A%20%22100%25%22%2C%0A%20%20%20%20%20%20%20%20%20%20%20%20%20%20%20%20%7D%0A%20%20%20%20%20%20%20%20%20%20%20%20%29%3B%0A%0A%20%20%20%20%20%20%20%20%20%20%20%20%0A%0A%20%20%20%20%20%20%20%20%0A%20%20%20%20%0A%20%20%20%20%20%20%20%20%20%20%20%20var%20tile_layer_ecf2bf558e514f32ba22d783f6e4b03f%20%3D%20L.tileLayer%28%0A%20%20%20%20%20%20%20%20%20%20%20%20%20%20%20%20%22https%3A//%7Bs%7D.tile.openstreetmap.org/%7Bz%7D/%7Bx%7D/%7By%7D.png%22%2C%0A%20%20%20%20%20%20%20%20%20%20%20%20%20%20%20%20%7B%22attribution%22%3A%20%22Data%20by%20%5Cu0026copy%3B%20%5Cu003ca%20href%3D%5C%22http%3A//openstreetmap.org%5C%22%5Cu003eOpenStreetMap%5Cu003c/a%5Cu003e%2C%20under%20%5Cu003ca%20href%3D%5C%22http%3A//www.openstreetmap.org/copyright%5C%22%5Cu003eODbL%5Cu003c/a%5Cu003e.%22%2C%20%22detectRetina%22%3A%20false%2C%20%22maxNativeZoom%22%3A%2018%2C%20%22maxZoom%22%3A%2018%2C%20%22minZoom%22%3A%200%2C%20%22noWrap%22%3A%20false%2C%20%22opacity%22%3A%201%2C%20%22subdomains%22%3A%20%22abc%22%2C%20%22tms%22%3A%20false%7D%0A%20%20%20%20%20%20%20%20%20%20%20%20%29.addTo%28map_6560fea948844691ba52179ee6ab8c3a%29%3B%0A%20%20%20%20%20%20%20%20%0A%20%20%20%20%0A%20%20%20%20var%20color_map_5f1c3ce590b34d4898abd4334bdd1393%20%3D%20%7B%7D%3B%0A%0A%20%20%20%20%0A%20%20%20%20color_map_5f1c3ce590b34d4898abd4334bdd1393.color%20%3D%20d3.scale.threshold%28%29%0A%20%20%20%20%20%20%20%20%20%20%20%20%20%20.domain%28%5B0.0%2C%200.002004008016032064%2C%200.004008016032064128%2C%200.006012024048096192%2C%200.008016032064128256%2C%200.01002004008016032%2C%200.012024048096192385%2C%200.014028056112224449%2C%200.01603206412825651%2C%200.018036072144288578%2C%200.02004008016032064%2C%200.022044088176352707%2C%200.02404809619238477%2C%200.026052104208416832%2C%200.028056112224448898%2C%200.03006012024048096%2C%200.03206412825651302%2C%200.03406813627254509%2C%200.036072144288577156%2C%200.03807615230460922%2C%200.04008016032064128%2C%200.04208416833667335%2C%200.04408817635270541%2C%200.04609218436873747%2C%200.04809619238476954%2C%200.050100200400801605%2C%200.052104208416833664%2C%200.05410821643286573%2C%200.056112224448897796%2C%200.05811623246492986%2C%200.06012024048096192%2C%200.06212424849699399%2C%200.06412825651302605%2C%200.06613226452905811%2C%200.06813627254509018%2C%200.07014028056112225%2C%200.07214428857715431%2C%200.07414829659318638%2C%200.07615230460921844%2C%200.0781563126252505%2C%200.08016032064128256%2C%200.08216432865731463%2C%200.0841683366733467%2C%200.08617234468937876%2C%200.08817635270541083%2C%200.09018036072144289%2C%200.09218436873747494%2C%200.09418837675350701%2C%200.09619238476953908%2C%200.09819639278557114%2C%200.10020040080160321%2C%200.10220440881763528%2C%200.10420841683366733%2C%200.1062124248496994%2C%200.10821643286573146%2C%200.11022044088176353%2C%200.11222444889779559%2C%200.11422845691382766%2C%200.11623246492985972%2C%200.11823647294589178%2C%200.12024048096192384%2C%200.12224448897795591%2C%200.12424849699398798%2C%200.12625250501002003%2C%200.1282565130260521%2C%200.13026052104208416%2C%200.13226452905811623%2C%200.1342685370741483%2C%200.13627254509018036%2C%200.13827655310621242%2C%200.1402805611222445%2C%200.14228456913827656%2C%200.14428857715430862%2C%200.1462925851703407%2C%200.14829659318637275%2C%200.15030060120240482%2C%200.1523046092184369%2C%200.15430861723446893%2C%200.156312625250501%2C%200.15831663326653306%2C%200.16032064128256512%2C%200.1623246492985972%2C%200.16432865731462926%2C%200.16633266533066132%2C%200.1683366733466934%2C%200.17034068136272545%2C%200.17234468937875752%2C%200.1743486973947896%2C%200.17635270541082165%2C%200.17835671342685372%2C%200.18036072144288579%2C%200.18236472945891782%2C%200.1843687374749499%2C%200.18637274549098196%2C%200.18837675350701402%2C%200.1903807615230461%2C%200.19238476953907815%2C%200.19438877755511022%2C%200.1963927855711423%2C%200.19839679358717435%2C%200.20040080160320642%2C%200.20240480961923848%2C%200.20440881763527055%2C%200.20641282565130262%2C%200.20841683366733466%2C%200.21042084168336672%2C%200.2124248496993988%2C%200.21442885771543085%2C%200.21643286573146292%2C%200.218436873747495%2C%200.22044088176352705%2C%200.22244488977955912%2C%200.22444889779559118%2C%200.22645290581162325%2C%200.22845691382765532%2C%200.23046092184368738%2C%200.23246492985971945%2C%200.23446893787575152%2C%200.23647294589178355%2C%200.23847695390781562%2C%200.24048096192384769%2C%200.24248496993987975%2C%200.24448897795591182%2C%200.24649298597194388%2C%200.24849699398797595%2C%200.250501002004008%2C%200.25250501002004005%2C%200.2545090180360721%2C%200.2565130260521042%2C%200.25851703406813625%2C%200.2605210420841683%2C%200.2625250501002004%2C%200.26452905811623245%2C%200.2665330661322645%2C%200.2685370741482966%2C%200.27054108216432865%2C%200.2725450901803607%2C%200.2745490981963928%2C%200.27655310621242485%2C%200.2785571142284569%2C%200.280561122244489%2C%200.28256513026052105%2C%200.2845691382765531%2C%200.2865731462925852%2C%200.28857715430861725%2C%200.2905811623246493%2C%200.2925851703406814%2C%200.29458917835671344%2C%200.2965931863727455%2C%200.2985971943887776%2C%200.30060120240480964%2C%200.3026052104208417%2C%200.3046092184368738%2C%200.3066132264529058%2C%200.30861723446893785%2C%200.3106212424849699%2C%200.312625250501002%2C%200.31462925851703405%2C%200.3166332665330661%2C%200.3186372745490982%2C%200.32064128256513025%2C%200.3226452905811623%2C%200.3246492985971944%2C%200.32665330661322645%2C%200.3286573146292585%2C%200.3306613226452906%2C%200.33266533066132264%2C%200.3346693386773547%2C%200.3366733466933868%2C%200.33867735470941884%2C%200.3406813627254509%2C%200.342685370741483%2C%200.34468937875751504%2C%200.3466933867735471%2C%200.3486973947895792%2C%200.35070140280561124%2C%200.3527054108216433%2C%200.35470941883767537%2C%200.35671342685370744%2C%200.3587174348697395%2C%200.36072144288577157%2C%200.3627254509018036%2C%200.36472945891783565%2C%200.3667334669338677%2C%200.3687374749498998%2C%200.37074148296593185%2C%200.3727454909819639%2C%200.374749498997996%2C%200.37675350701402804%2C%200.3787575150300601%2C%200.3807615230460922%2C%200.38276553106212424%2C%200.3847695390781563%2C%200.3867735470941884%2C%200.38877755511022044%2C%200.3907815631262525%2C%200.3927855711422846%2C%200.39478957915831664%2C%200.3967935871743487%2C%200.39879759519038077%2C%200.40080160320641284%2C%200.4028056112224449%2C%200.40480961923847697%2C%200.40681362725450904%2C%200.4088176352705411%2C%200.41082164328657317%2C%200.41282565130260523%2C%200.4148296593186373%2C%200.4168336673346693%2C%200.4188376753507014%2C%200.42084168336673344%2C%200.4228456913827655%2C%200.4248496993987976%2C%200.42685370741482964%2C%200.4288577154308617%2C%200.4308617234468938%2C%200.43286573146292584%2C%200.4348697394789579%2C%200.43687374749499%2C%200.43887775551102204%2C%200.4408817635270541%2C%200.44288577154308617%2C%200.44488977955911824%2C%200.4468937875751503%2C%200.44889779559118237%2C%200.45090180360721444%2C%200.4529058116232465%2C%200.45490981963927857%2C%200.45691382765531063%2C%200.4589178356713427%2C%200.46092184368737477%2C%200.46292585170340683%2C%200.4649298597194389%2C%200.46693386773547096%2C%200.46893787575150303%2C%200.4709418837675351%2C%200.4729458917835671%2C%200.4749498997995992%2C%200.47695390781563124%2C%200.4789579158316633%2C%200.48096192384769537%2C%200.48296593186372744%2C%200.4849699398797595%2C%200.48697394789579157%2C%200.48897795591182364%2C%200.4909819639278557%2C%200.49298597194388777%2C%200.49498997995991983%2C%200.4969939879759519%2C%200.49899799599198397%2C%200.501002004008016%2C%200.503006012024048%2C%200.5050100200400801%2C%200.5070140280561122%2C%200.5090180360721442%2C%200.5110220440881763%2C%200.5130260521042084%2C%200.5150300601202404%2C%200.5170340681362725%2C%200.5190380761523046%2C%200.5210420841683366%2C%200.5230460921843687%2C%200.5250501002004008%2C%200.5270541082164328%2C%200.5290581162324649%2C%200.531062124248497%2C%200.533066132264529%2C%200.5350701402805611%2C%200.5370741482965932%2C%200.5390781563126252%2C%200.5410821643286573%2C%200.5430861723446894%2C%200.5450901803607214%2C%200.5470941883767535%2C%200.5490981963927856%2C%200.5511022044088176%2C%200.5531062124248497%2C%200.5551102204408818%2C%200.5571142284569138%2C%200.5591182364729459%2C%200.561122244488978%2C%200.56312625250501%2C%200.5651302605210421%2C%200.5671342685370742%2C%200.5691382765531062%2C%200.5711422845691383%2C%200.5731462925851704%2C%200.5751503006012024%2C%200.5771543086172345%2C%200.5791583166332666%2C%200.5811623246492986%2C%200.5831663326653307%2C%200.5851703406813628%2C%200.5871743486973948%2C%200.5891783567134269%2C%200.591182364729459%2C%200.593186372745491%2C%200.5951903807615231%2C%200.5971943887775552%2C%200.5991983967935872%2C%200.6012024048096193%2C%200.6032064128256514%2C%200.6052104208416834%2C%200.6072144288577155%2C%200.6092184368737475%2C%200.6112224448897795%2C%200.6132264529058116%2C%200.6152304609218436%2C%200.6172344689378757%2C%200.6192384769539078%2C%200.6212424849699398%2C%200.6232464929859719%2C%200.625250501002004%2C%200.627254509018036%2C%200.6292585170340681%2C%200.6312625250501002%2C%200.6332665330661322%2C%200.6352705410821643%2C%200.6372745490981964%2C%200.6392785571142284%2C%200.6412825651302605%2C%200.6432865731462926%2C%200.6452905811623246%2C%200.6472945891783567%2C%200.6492985971943888%2C%200.6513026052104208%2C%200.6533066132264529%2C%200.655310621242485%2C%200.657314629258517%2C%200.6593186372745491%2C%200.6613226452905812%2C%200.6633266533066132%2C%200.6653306613226453%2C%200.6673346693386774%2C%200.6693386773547094%2C%200.6713426853707415%2C%200.6733466933867736%2C%200.6753507014028056%2C%200.6773547094188377%2C%200.6793587174348698%2C%200.6813627254509018%2C%200.6833667334669339%2C%200.685370741482966%2C%200.687374749498998%2C%200.6893787575150301%2C%200.6913827655310621%2C%200.6933867735470942%2C%200.6953907815631263%2C%200.6973947895791583%2C%200.6993987975951904%2C%200.7014028056112225%2C%200.7034068136272545%2C%200.7054108216432866%2C%200.7074148296593187%2C%200.7094188376753507%2C%200.7114228456913828%2C%200.7134268537074149%2C%200.7154308617234469%2C%200.717434869739479%2C%200.7194388777555111%2C%200.7214428857715431%2C%200.7234468937875751%2C%200.7254509018036072%2C%200.7274549098196392%2C%200.7294589178356713%2C%200.7314629258517034%2C%200.7334669338677354%2C%200.7354709418837675%2C%200.7374749498997996%2C%200.7394789579158316%2C%200.7414829659318637%2C%200.7434869739478958%2C%200.7454909819639278%2C%200.7474949899799599%2C%200.749498997995992%2C%200.751503006012024%2C%200.7535070140280561%2C%200.7555110220440882%2C%200.7575150300601202%2C%200.7595190380761523%2C%200.7615230460921844%2C%200.7635270541082164%2C%200.7655310621242485%2C%200.7675350701402806%2C%200.7695390781563126%2C%200.7715430861723447%2C%200.7735470941883767%2C%200.7755511022044088%2C%200.7775551102204409%2C%200.779559118236473%2C%200.781563126252505%2C%200.7835671342685371%2C%200.7855711422845691%2C%200.7875751503006012%2C%200.7895791583166333%2C%200.7915831663326653%2C%200.7935871743486974%2C%200.7955911823647295%2C%200.7975951903807615%2C%200.7995991983967936%2C%200.8016032064128257%2C%200.8036072144288577%2C%200.8056112224448898%2C%200.8076152304609219%2C%200.8096192384769539%2C%200.811623246492986%2C%200.8136272545090181%2C%200.8156312625250501%2C%200.8176352705410822%2C%200.8196392785571143%2C%200.8216432865731463%2C%200.8236472945891784%2C%200.8256513026052105%2C%200.8276553106212425%2C%200.8296593186372746%2C%200.8316633266533067%2C%200.8336673346693386%2C%200.8356713426853707%2C%200.8376753507014028%2C%200.8396793587174348%2C%200.8416833667334669%2C%200.843687374749499%2C%200.845691382765531%2C%200.8476953907815631%2C%200.8496993987975952%2C%200.8517034068136272%2C%200.8537074148296593%2C%200.8557114228456913%2C%200.8577154308617234%2C%200.8597194388777555%2C%200.8617234468937875%2C%200.8637274549098196%2C%200.8657314629258517%2C%200.8677354709418837%2C%200.8697394789579158%2C%200.8717434869739479%2C%200.87374749498998%2C%200.875751503006012%2C%200.8777555110220441%2C%200.8797595190380761%2C%200.8817635270541082%2C%200.8837675350701403%2C%200.8857715430861723%2C%200.8877755511022044%2C%200.8897795591182365%2C%200.8917835671342685%2C%200.8937875751503006%2C%200.8957915831663327%2C%200.8977955911823647%2C%200.8997995991983968%2C%200.9018036072144289%2C%200.9038076152304609%2C%200.905811623246493%2C%200.9078156312625251%2C%200.9098196392785571%2C%200.9118236472945892%2C%200.9138276553106213%2C%200.9158316633266533%2C%200.9178356713426854%2C%200.9198396793587175%2C%200.9218436873747495%2C%200.9238476953907816%2C%200.9258517034068137%2C%200.9278557114228457%2C%200.9298597194388778%2C%200.9318637274549099%2C%200.9338677354709419%2C%200.935871743486974%2C%200.9378757515030061%2C%200.9398797595190381%2C%200.9418837675350702%2C%200.9438877755511023%2C%200.9458917835671342%2C%200.9478957915831663%2C%200.9498997995991983%2C%200.9519038076152304%2C%200.9539078156312625%2C%200.9559118236472945%2C%200.9579158316633266%2C%200.9599198396793587%2C%200.9619238476953907%2C%200.9639278557114228%2C%200.9659318637274549%2C%200.9679358717434869%2C%200.969939879759519%2C%200.9719438877755511%2C%200.9739478957915831%2C%200.9759519038076152%2C%200.9779559118236473%2C%200.9799599198396793%2C%200.9819639278557114%2C%200.9839679358717435%2C%200.9859719438877755%2C%200.9879759519038076%2C%200.9899799599198397%2C%200.9919839679358717%2C%200.9939879759519038%2C%200.9959919839679359%2C%200.9979959919839679%2C%201.0%5D%29%0A%20%20%20%20%20%20%20%20%20%20%20%20%20%20.range%28%5B%27%23ffffccff%27%2C%20%27%23ffffccff%27%2C%20%27%23ffffccff%27%2C%20%27%23ffffccff%27%2C%20%27%23ffffccff%27%2C%20%27%23ffffccff%27%2C%20%27%23ffffccff%27%2C%20%27%23ffffccff%27%2C%20%27%23ffffccff%27%2C%20%27%23ffffccff%27%2C%20%27%23ffffccff%27%2C%20%27%23ffffccff%27%2C%20%27%23ffffccff%27%2C%20%27%23ffffccff%27%2C%20%27%23ffffccff%27%2C%20%27%23ffffccff%27%2C%20%27%23ffffccff%27%2C%20%27%23ffffccff%27%2C%20%27%23ffffccff%27%2C%20%27%23ffffccff%27%2C%20%27%23ffffccff%27%2C%20%27%23ffffccff%27%2C%20%27%23ffffccff%27%2C%20%27%23ffffccff%27%2C%20%27%23ffffccff%27%2C%20%27%23fff8baff%27%2C%20%27%23fff8baff%27%2C%20%27%23fff8baff%27%2C%20%27%23fff8baff%27%2C%20%27%23fff8baff%27%2C%20%27%23fff8baff%27%2C%20%27%23fff8baff%27%2C%20%27%23fff8baff%27%2C%20%27%23fff8baff%27%2C%20%27%23fff8baff%27%2C%20%27%23fff8baff%27%2C%20%27%23fff8baff%27%2C%20%27%23fff8baff%27%2C%20%27%23fff8baff%27%2C%20%27%23fff8baff%27%2C%20%27%23fff8baff%27%2C%20%27%23fff8baff%27%2C%20%27%23fff8baff%27%2C%20%27%23fff8baff%27%2C%20%27%23fff8baff%27%2C%20%27%23fff8baff%27%2C%20%27%23fff8baff%27%2C%20%27%23fff8baff%27%2C%20%27%23fff8baff%27%2C%20%27%23fff8baff%27%2C%20%27%23fff0a7ff%27%2C%20%27%23fff0a7ff%27%2C%20%27%23fff0a7ff%27%2C%20%27%23fff0a7ff%27%2C%20%27%23fff0a7ff%27%2C%20%27%23fff0a7ff%27%2C%20%27%23fff0a7ff%27%2C%20%27%23fff0a7ff%27%2C%20%27%23fff0a7ff%27%2C%20%27%23fff0a7ff%27%2C%20%27%23fff0a7ff%27%2C%20%27%23fff0a7ff%27%2C%20%27%23fff0a7ff%27%2C%20%27%23fff0a7ff%27%2C%20%27%23fff0a7ff%27%2C%20%27%23fff0a7ff%27%2C%20%27%23fff0a7ff%27%2C%20%27%23fff0a7ff%27%2C%20%27%23fff0a7ff%27%2C%20%27%23fff0a7ff%27%2C%20%27%23fff0a7ff%27%2C%20%27%23fff0a7ff%27%2C%20%27%23fff0a7ff%27%2C%20%27%23fff0a7ff%27%2C%20%27%23fff0a7ff%27%2C%20%27%23ffe895ff%27%2C%20%27%23ffe895ff%27%2C%20%27%23ffe895ff%27%2C%20%27%23ffe895ff%27%2C%20%27%23ffe895ff%27%2C%20%27%23ffe895ff%27%2C%20%27%23ffe895ff%27%2C%20%27%23ffe895ff%27%2C%20%27%23ffe895ff%27%2C%20%27%23ffe895ff%27%2C%20%27%23ffe895ff%27%2C%20%27%23ffe895ff%27%2C%20%27%23ffe895ff%27%2C%20%27%23ffe895ff%27%2C%20%27%23ffe895ff%27%2C%20%27%23ffe895ff%27%2C%20%27%23ffe895ff%27%2C%20%27%23ffe895ff%27%2C%20%27%23ffe895ff%27%2C%20%27%23ffe895ff%27%2C%20%27%23ffe895ff%27%2C%20%27%23ffe895ff%27%2C%20%27%23ffe895ff%27%2C%20%27%23ffe895ff%27%2C%20%27%23ffe895ff%27%2C%20%27%23ffe083ff%27%2C%20%27%23ffe083ff%27%2C%20%27%23ffe083ff%27%2C%20%27%23ffe083ff%27%2C%20%27%23ffe083ff%27%2C%20%27%23ffe083ff%27%2C%20%27%23ffe083ff%27%2C%20%27%23ffe083ff%27%2C%20%27%23ffe083ff%27%2C%20%27%23ffe083ff%27%2C%20%27%23ffe083ff%27%2C%20%27%23ffe083ff%27%2C%20%27%23ffe083ff%27%2C%20%27%23ffe083ff%27%2C%20%27%23ffe083ff%27%2C%20%27%23ffe083ff%27%2C%20%27%23ffe083ff%27%2C%20%27%23ffe083ff%27%2C%20%27%23ffe083ff%27%2C%20%27%23ffe083ff%27%2C%20%27%23ffe083ff%27%2C%20%27%23ffe083ff%27%2C%20%27%23ffe083ff%27%2C%20%27%23ffe083ff%27%2C%20%27%23ffe083ff%27%2C%20%27%23fed572ff%27%2C%20%27%23fed572ff%27%2C%20%27%23fed572ff%27%2C%20%27%23fed572ff%27%2C%20%27%23fed572ff%27%2C%20%27%23fed572ff%27%2C%20%27%23fed572ff%27%2C%20%27%23fed572ff%27%2C%20%27%23fed572ff%27%2C%20%27%23fed572ff%27%2C%20%27%23fed572ff%27%2C%20%27%23fed572ff%27%2C%20%27%23fed572ff%27%2C%20%27%23fed572ff%27%2C%20%27%23fed572ff%27%2C%20%27%23fed572ff%27%2C%20%27%23fed572ff%27%2C%20%27%23fed572ff%27%2C%20%27%23fed572ff%27%2C%20%27%23fed572ff%27%2C%20%27%23fed572ff%27%2C%20%27%23fed572ff%27%2C%20%27%23fed572ff%27%2C%20%27%23fed572ff%27%2C%20%27%23fed572ff%27%2C%20%27%23fec560ff%27%2C%20%27%23fec560ff%27%2C%20%27%23fec560ff%27%2C%20%27%23fec560ff%27%2C%20%27%23fec560ff%27%2C%20%27%23fec560ff%27%2C%20%27%23fec560ff%27%2C%20%27%23fec560ff%27%2C%20%27%23fec560ff%27%2C%20%27%23fec560ff%27%2C%20%27%23fec560ff%27%2C%20%27%23fec560ff%27%2C%20%27%23fec560ff%27%2C%20%27%23fec560ff%27%2C%20%27%23fec560ff%27%2C%20%27%23fec560ff%27%2C%20%27%23fec560ff%27%2C%20%27%23fec560ff%27%2C%20%27%23fec560ff%27%2C%20%27%23fec560ff%27%2C%20%27%23fec560ff%27%2C%20%27%23fec560ff%27%2C%20%27%23fec560ff%27%2C%20%27%23fec560ff%27%2C%20%27%23fec560ff%27%2C%20%27%23feb44eff%27%2C%20%27%23feb44eff%27%2C%20%27%23feb44eff%27%2C%20%27%23feb44eff%27%2C%20%27%23feb44eff%27%2C%20%27%23feb44eff%27%2C%20%27%23feb44eff%27%2C%20%27%23feb44eff%27%2C%20%27%23feb44eff%27%2C%20%27%23feb44eff%27%2C%20%27%23feb44eff%27%2C%20%27%23feb44eff%27%2C%20%27%23feb44eff%27%2C%20%27%23feb44eff%27%2C%20%27%23feb44eff%27%2C%20%27%23feb44eff%27%2C%20%27%23feb44eff%27%2C%20%27%23feb44eff%27%2C%20%27%23feb44eff%27%2C%20%27%23feb44eff%27%2C%20%27%23feb44eff%27%2C%20%27%23feb44eff%27%2C%20%27%23feb44eff%27%2C%20%27%23feb44eff%27%2C%20%27%23feb44eff%27%2C%20%27%23fea546ff%27%2C%20%27%23fea546ff%27%2C%20%27%23fea546ff%27%2C%20%27%23fea546ff%27%2C%20%27%23fea546ff%27%2C%20%27%23fea546ff%27%2C%20%27%23fea546ff%27%2C%20%27%23fea546ff%27%2C%20%27%23fea546ff%27%2C%20%27%23fea546ff%27%2C%20%27%23fea546ff%27%2C%20%27%23fea546ff%27%2C%20%27%23fea546ff%27%2C%20%27%23fea546ff%27%2C%20%27%23fea546ff%27%2C%20%27%23fea546ff%27%2C%20%27%23fea546ff%27%2C%20%27%23fea546ff%27%2C%20%27%23fea546ff%27%2C%20%27%23fea546ff%27%2C%20%27%23fea546ff%27%2C%20%27%23fea546ff%27%2C%20%27%23fea546ff%27%2C%20%27%23fea546ff%27%2C%20%27%23fea546ff%27%2C%20%27%23fe953fff%27%2C%20%27%23fe953fff%27%2C%20%27%23fe953fff%27%2C%20%27%23fe953fff%27%2C%20%27%23fe953fff%27%2C%20%27%23fe953fff%27%2C%20%27%23fe953fff%27%2C%20%27%23fe953fff%27%2C%20%27%23fe953fff%27%2C%20%27%23fe953fff%27%2C%20%27%23fe953fff%27%2C%20%27%23fe953fff%27%2C%20%27%23fe953fff%27%2C%20%27%23fe953fff%27%2C%20%27%23fe953fff%27%2C%20%27%23fe953fff%27%2C%20%27%23fe953fff%27%2C%20%27%23fe953fff%27%2C%20%27%23fe953fff%27%2C%20%27%23fe953fff%27%2C%20%27%23fe953fff%27%2C%20%27%23fe953fff%27%2C%20%27%23fe953fff%27%2C%20%27%23fe953fff%27%2C%20%27%23fe953fff%27%2C%20%27%23fd8038ff%27%2C%20%27%23fd8038ff%27%2C%20%27%23fd8038ff%27%2C%20%27%23fd8038ff%27%2C%20%27%23fd8038ff%27%2C%20%27%23fd8038ff%27%2C%20%27%23fd8038ff%27%2C%20%27%23fd8038ff%27%2C%20%27%23fd8038ff%27%2C%20%27%23fd8038ff%27%2C%20%27%23fd8038ff%27%2C%20%27%23fd8038ff%27%2C%20%27%23fd8038ff%27%2C%20%27%23fd8038ff%27%2C%20%27%23fd8038ff%27%2C%20%27%23fd8038ff%27%2C%20%27%23fd8038ff%27%2C%20%27%23fd8038ff%27%2C%20%27%23fd8038ff%27%2C%20%27%23fd8038ff%27%2C%20%27%23fd8038ff%27%2C%20%27%23fd8038ff%27%2C%20%27%23fd8038ff%27%2C%20%27%23fd8038ff%27%2C%20%27%23fd8038ff%27%2C%20%27%23fd6530ff%27%2C%20%27%23fd6530ff%27%2C%20%27%23fd6530ff%27%2C%20%27%23fd6530ff%27%2C%20%27%23fd6530ff%27%2C%20%27%23fd6530ff%27%2C%20%27%23fd6530ff%27%2C%20%27%23fd6530ff%27%2C%20%27%23fd6530ff%27%2C%20%27%23fd6530ff%27%2C%20%27%23fd6530ff%27%2C%20%27%23fd6530ff%27%2C%20%27%23fd6530ff%27%2C%20%27%23fd6530ff%27%2C%20%27%23fd6530ff%27%2C%20%27%23fd6530ff%27%2C%20%27%23fd6530ff%27%2C%20%27%23fd6530ff%27%2C%20%27%23fd6530ff%27%2C%20%27%23fd6530ff%27%2C%20%27%23fd6530ff%27%2C%20%27%23fd6530ff%27%2C%20%27%23fd6530ff%27%2C%20%27%23fd6530ff%27%2C%20%27%23fd6530ff%27%2C%20%27%23fb4b29ff%27%2C%20%27%23fb4b29ff%27%2C%20%27%23fb4b29ff%27%2C%20%27%23fb4b29ff%27%2C%20%27%23fb4b29ff%27%2C%20%27%23fb4b29ff%27%2C%20%27%23fb4b29ff%27%2C%20%27%23fb4b29ff%27%2C%20%27%23fb4b29ff%27%2C%20%27%23fb4b29ff%27%2C%20%27%23fb4b29ff%27%2C%20%27%23fb4b29ff%27%2C%20%27%23fb4b29ff%27%2C%20%27%23fb4b29ff%27%2C%20%27%23fb4b29ff%27%2C%20%27%23fb4b29ff%27%2C%20%27%23fb4b29ff%27%2C%20%27%23fb4b29ff%27%2C%20%27%23fb4b29ff%27%2C%20%27%23fb4b29ff%27%2C%20%27%23fb4b29ff%27%2C%20%27%23fb4b29ff%27%2C%20%27%23fb4b29ff%27%2C%20%27%23fb4b29ff%27%2C%20%27%23fb4b29ff%27%2C%20%27%23f13523ff%27%2C%20%27%23f13523ff%27%2C%20%27%23f13523ff%27%2C%20%27%23f13523ff%27%2C%20%27%23f13523ff%27%2C%20%27%23f13523ff%27%2C%20%27%23f13523ff%27%2C%20%27%23f13523ff%27%2C%20%27%23f13523ff%27%2C%20%27%23f13523ff%27%2C%20%27%23f13523ff%27%2C%20%27%23f13523ff%27%2C%20%27%23f13523ff%27%2C%20%27%23f13523ff%27%2C%20%27%23f13523ff%27%2C%20%27%23f13523ff%27%2C%20%27%23f13523ff%27%2C%20%27%23f13523ff%27%2C%20%27%23f13523ff%27%2C%20%27%23f13523ff%27%2C%20%27%23f13523ff%27%2C%20%27%23f13523ff%27%2C%20%27%23f13523ff%27%2C%20%27%23f13523ff%27%2C%20%27%23f13523ff%27%2C%20%27%23e61f1dff%27%2C%20%27%23e61f1dff%27%2C%20%27%23e61f1dff%27%2C%20%27%23e61f1dff%27%2C%20%27%23e61f1dff%27%2C%20%27%23e61f1dff%27%2C%20%27%23e61f1dff%27%2C%20%27%23e61f1dff%27%2C%20%27%23e61f1dff%27%2C%20%27%23e61f1dff%27%2C%20%27%23e61f1dff%27%2C%20%27%23e61f1dff%27%2C%20%27%23e61f1dff%27%2C%20%27%23e61f1dff%27%2C%20%27%23e61f1dff%27%2C%20%27%23e61f1dff%27%2C%20%27%23e61f1dff%27%2C%20%27%23e61f1dff%27%2C%20%27%23e61f1dff%27%2C%20%27%23e61f1dff%27%2C%20%27%23e61f1dff%27%2C%20%27%23e61f1dff%27%2C%20%27%23e61f1dff%27%2C%20%27%23e61f1dff%27%2C%20%27%23e61f1dff%27%2C%20%27%23d7111fff%27%2C%20%27%23d7111fff%27%2C%20%27%23d7111fff%27%2C%20%27%23d7111fff%27%2C%20%27%23d7111fff%27%2C%20%27%23d7111fff%27%2C%20%27%23d7111fff%27%2C%20%27%23d7111fff%27%2C%20%27%23d7111fff%27%2C%20%27%23d7111fff%27%2C%20%27%23d7111fff%27%2C%20%27%23d7111fff%27%2C%20%27%23d7111fff%27%2C%20%27%23d7111fff%27%2C%20%27%23d7111fff%27%2C%20%27%23d7111fff%27%2C%20%27%23d7111fff%27%2C%20%27%23d7111fff%27%2C%20%27%23d7111fff%27%2C%20%27%23d7111fff%27%2C%20%27%23d7111fff%27%2C%20%27%23d7111fff%27%2C%20%27%23d7111fff%27%2C%20%27%23d7111fff%27%2C%20%27%23d7111fff%27%2C%20%27%23c70623ff%27%2C%20%27%23c70623ff%27%2C%20%27%23c70623ff%27%2C%20%27%23c70623ff%27%2C%20%27%23c70623ff%27%2C%20%27%23c70623ff%27%2C%20%27%23c70623ff%27%2C%20%27%23c70623ff%27%2C%20%27%23c70623ff%27%2C%20%27%23c70623ff%27%2C%20%27%23c70623ff%27%2C%20%27%23c70623ff%27%2C%20%27%23c70623ff%27%2C%20%27%23c70623ff%27%2C%20%27%23c70623ff%27%2C%20%27%23c70623ff%27%2C%20%27%23c70623ff%27%2C%20%27%23c70623ff%27%2C%20%27%23c70623ff%27%2C%20%27%23c70623ff%27%2C%20%27%23c70623ff%27%2C%20%27%23c70623ff%27%2C%20%27%23c70623ff%27%2C%20%27%23c70623ff%27%2C%20%27%23c70623ff%27%2C%20%27%23b40026ff%27%2C%20%27%23b40026ff%27%2C%20%27%23b40026ff%27%2C%20%27%23b40026ff%27%2C%20%27%23b40026ff%27%2C%20%27%23b40026ff%27%2C%20%27%23b40026ff%27%2C%20%27%23b40026ff%27%2C%20%27%23b40026ff%27%2C%20%27%23b40026ff%27%2C%20%27%23b40026ff%27%2C%20%27%23b40026ff%27%2C%20%27%23b40026ff%27%2C%20%27%23b40026ff%27%2C%20%27%23b40026ff%27%2C%20%27%23b40026ff%27%2C%20%27%23b40026ff%27%2C%20%27%23b40026ff%27%2C%20%27%23b40026ff%27%2C%20%27%23b40026ff%27%2C%20%27%23b40026ff%27%2C%20%27%23b40026ff%27%2C%20%27%23b40026ff%27%2C%20%27%23b40026ff%27%2C%20%27%23b40026ff%27%2C%20%27%239a0026ff%27%2C%20%27%239a0026ff%27%2C%20%27%239a0026ff%27%2C%20%27%239a0026ff%27%2C%20%27%239a0026ff%27%2C%20%27%239a0026ff%27%2C%20%27%239a0026ff%27%2C%20%27%239a0026ff%27%2C%20%27%239a0026ff%27%2C%20%27%239a0026ff%27%2C%20%27%239a0026ff%27%2C%20%27%239a0026ff%27%2C%20%27%239a0026ff%27%2C%20%27%239a0026ff%27%2C%20%27%239a0026ff%27%2C%20%27%239a0026ff%27%2C%20%27%239a0026ff%27%2C%20%27%239a0026ff%27%2C%20%27%239a0026ff%27%2C%20%27%239a0026ff%27%2C%20%27%239a0026ff%27%2C%20%27%239a0026ff%27%2C%20%27%239a0026ff%27%2C%20%27%239a0026ff%27%2C%20%27%239a0026ff%27%2C%20%27%23800026ff%27%2C%20%27%23800026ff%27%2C%20%27%23800026ff%27%2C%20%27%23800026ff%27%2C%20%27%23800026ff%27%2C%20%27%23800026ff%27%2C%20%27%23800026ff%27%2C%20%27%23800026ff%27%2C%20%27%23800026ff%27%2C%20%27%23800026ff%27%2C%20%27%23800026ff%27%2C%20%27%23800026ff%27%2C%20%27%23800026ff%27%2C%20%27%23800026ff%27%2C%20%27%23800026ff%27%2C%20%27%23800026ff%27%2C%20%27%23800026ff%27%2C%20%27%23800026ff%27%2C%20%27%23800026ff%27%2C%20%27%23800026ff%27%2C%20%27%23800026ff%27%2C%20%27%23800026ff%27%2C%20%27%23800026ff%27%2C%20%27%23800026ff%27%2C%20%27%23800026ff%27%5D%29%3B%0A%20%20%20%20%0A%0A%20%20%20%20color_map_5f1c3ce590b34d4898abd4334bdd1393.x%20%3D%20d3.scale.linear%28%29%0A%20%20%20%20%20%20%20%20%20%20%20%20%20%20.domain%28%5B0.0%2C%201.0%5D%29%0A%20%20%20%20%20%20%20%20%20%20%20%20%20%20.range%28%5B0%2C%20400%5D%29%3B%0A%0A%20%20%20%20color_map_5f1c3ce590b34d4898abd4334bdd1393.legend%20%3D%20L.control%28%7Bposition%3A%20%27topright%27%7D%29%3B%0A%20%20%20%20color_map_5f1c3ce590b34d4898abd4334bdd1393.legend.onAdd%20%3D%20function%20%28map%29%20%7Bvar%20div%20%3D%20L.DomUtil.create%28%27div%27%2C%20%27legend%27%29%3B%20return%20div%7D%3B%0A%20%20%20%20color_map_5f1c3ce590b34d4898abd4334bdd1393.legend.addTo%28map_6560fea948844691ba52179ee6ab8c3a%29%3B%0A%0A%20%20%20%20color_map_5f1c3ce590b34d4898abd4334bdd1393.xAxis%20%3D%20d3.svg.axis%28%29%0A%20%20%20%20%20%20%20%20.scale%28color_map_5f1c3ce590b34d4898abd4334bdd1393.x%29%0A%20%20%20%20%20%20%20%20.orient%28%22top%22%29%0A%20%20%20%20%20%20%20%20.tickSize%281%29%0A%20%20%20%20%20%20%20%20.tickValues%28%5B0.0%2C%20%27%27%2C%20%27%27%2C%200.15%2C%20%27%27%2C%20%27%27%2C%200.3%2C%20%27%27%2C%20%27%27%2C%200.45%2C%20%27%27%2C%20%27%27%2C%200.6%2C%20%27%27%2C%20%27%27%2C%200.75%2C%20%27%27%2C%20%27%27%2C%200.9%2C%20%27%27%2C%20%27%27%5D%29%3B%0A%0A%20%20%20%20color_map_5f1c3ce590b34d4898abd4334bdd1393.svg%20%3D%20d3.select%28%22.legend.leaflet-control%22%29.append%28%22svg%22%29%0A%20%20%20%20%20%20%20%20.attr%28%22id%22%2C%20%27legend%27%29%0A%20%20%20%20%20%20%20%20.attr%28%22width%22%2C%20450%29%0A%20%20%20%20%20%20%20%20.attr%28%22height%22%2C%2040%29%3B%0A%0A%20%20%20%20color_map_5f1c3ce590b34d4898abd4334bdd1393.g%20%3D%20color_map_5f1c3ce590b34d4898abd4334bdd1393.svg.append%28%22g%22%29%0A%20%20%20%20%20%20%20%20.attr%28%22class%22%2C%20%22key%22%29%0A%20%20%20%20%20%20%20%20.attr%28%22transform%22%2C%20%22translate%2825%2C16%29%22%29%3B%0A%0A%20%20%20%20color_map_5f1c3ce590b34d4898abd4334bdd1393.g.selectAll%28%22rect%22%29%0A%20%20%20%20%20%20%20%20.data%28color_map_5f1c3ce590b34d4898abd4334bdd1393.color.range%28%29.map%28function%28d%2C%20i%29%20%7B%0A%20%20%20%20%20%20%20%20%20%20return%20%7B%0A%20%20%20%20%20%20%20%20%20%20%20%20x0%3A%20i%20%3F%20color_map_5f1c3ce590b34d4898abd4334bdd1393.x%28color_map_5f1c3ce590b34d4898abd4334bdd1393.color.domain%28%29%5Bi%20-%201%5D%29%20%3A%20color_map_5f1c3ce590b34d4898abd4334bdd1393.x.range%28%29%5B0%5D%2C%0A%20%20%20%20%20%20%20%20%20%20%20%20x1%3A%20i%20%3C%20color_map_5f1c3ce590b34d4898abd4334bdd1393.color.domain%28%29.length%20%3F%20color_map_5f1c3ce590b34d4898abd4334bdd1393.x%28color_map_5f1c3ce590b34d4898abd4334bdd1393.color.domain%28%29%5Bi%5D%29%20%3A%20color_map_5f1c3ce590b34d4898abd4334bdd1393.x.range%28%29%5B1%5D%2C%0A%20%20%20%20%20%20%20%20%20%20%20%20z%3A%20d%0A%20%20%20%20%20%20%20%20%20%20%7D%3B%0A%20%20%20%20%20%20%20%20%7D%29%29%0A%20%20%20%20%20%20.enter%28%29.append%28%22rect%22%29%0A%20%20%20%20%20%20%20%20.attr%28%22height%22%2C%2010%29%0A%20%20%20%20%20%20%20%20.attr%28%22x%22%2C%20function%28d%29%20%7B%20return%20d.x0%3B%20%7D%29%0A%20%20%20%20%20%20%20%20.attr%28%22width%22%2C%20function%28d%29%20%7B%20return%20d.x1%20-%20d.x0%3B%20%7D%29%0A%20%20%20%20%20%20%20%20.style%28%22fill%22%2C%20function%28d%29%20%7B%20return%20d.z%3B%20%7D%29%3B%0A%0A%20%20%20%20color_map_5f1c3ce590b34d4898abd4334bdd1393.g.call%28color_map_5f1c3ce590b34d4898abd4334bdd1393.xAxis%29.append%28%22text%22%29%0A%20%20%20%20%20%20%20%20.attr%28%22class%22%2C%20%22caption%22%29%0A%20%20%20%20%20%20%20%20.attr%28%22y%22%2C%2021%29%0A%20%20%20%20%20%20%20%20.text%28%27Interna%C3%A7%C3%B5es%27%29%3B%0A%20%20%20%20%0A%20%20%20%20%20%20%20%20%20%20%20%20var%20heat_map_15de1fb9fef44006aa47a806b664a80c%20%3D%20L.heatLayer%28%0A%20%20%20%20%20%20%20%20%20%20%20%20%20%20%20%20%5B%5B-22.9835651%2C%20-43.2418655%2C%204.0%5D%2C%20%5B-22.971002%2C%20-43.6541078%2C%202.0%5D%2C%20%5B-22.9164703%2C%20-43.197231%2C%202.0%5D%2C%20%5B-22.8134565%2C%20-43.2042212%2C%202.0%5D%2C%20%5B-22.8138034%2C%20-43.3156389%2C%202.0%5D%2C%20%5B-22.9163097%2C%20-43.2751411%2C%202.0%5D%2C%20%5B-22.8711844%2C%20-43.3344582%2C%202.0%5D%2C%20%5B-22.9146094%2C%20-43.2605191%2C%202.0%5D%2C%20%5B-22.8153733%2C%20-43.2292767%2C%202.0%5D%2C%20%5B-22.8871353%2C%20-43.2334167%2C%202.0%5D%2C%20%5B-22.9092462%2C%20-43.3589723%2C%202.0%5D%2C%20%5B-22.9357026%2C%20-43.6503461%2C%202.0%5D%2C%20%5B-22.8677245%2C%20-43.3013047%2C%202.0%5D%2C%20%5B-22.9143934%2C%20-43.6867833%2C%202.0%5D%2C%20%5B-22.931362%2C%20-43.2345989%2C%201.0%5D%2C%20%5B-22.8778532%2C%20-43.575397%2C%201.0%5D%2C%20%5B-22.8821666%2C%20-43.3320167%2C%201.0%5D%2C%20%5B-22.9760311%2C%20-43.6417857%2C%201.0%5D%2C%20%5B-22.8840424%2C%20-43.4487701%2C%201.0%5D%2C%20%5B-22.9665037%2C%20-43.6720169%2C%201.0%5D%2C%20%5B-22.9280002%2C%20-43.2500611%2C%201.0%5D%2C%20%5B-22.8613461%2C%20-43.459729%2C%201.0%5D%2C%20%5B-22.9080523%2C%20-43.2429139%2C%201.0%5D%2C%20%5B-22.9122259%2C%20-43.2886192%2C%201.0%5D%2C%20%5B-22.8674597%2C%20-43.4763679%2C%201.0%5D%2C%20%5B-22.9719313%2C%20-43.4139179%2C%201.0%5D%2C%20%5B-22.9140566%2C%20-43.2741219%2C%201.0%5D%2C%20%5B-22.8925067%2C%20-43.287608%2C%201.0%5D%2C%20%5B-22.9329283%2C%20-43.2573788%2C%201.0%5D%2C%20%5B-22.8778991%2C%20-43.2544421%2C%201.0%5D%2C%20%5B-22.8749964%2C%20-43.4985101%2C%201.0%5D%2C%20%5B-22.8370879%2C%20-43.3680663%2C%201.0%5D%2C%20%5B-22.8611941%2C%20-43.2488858%2C%201.0%5D%2C%20%5B-22.7881582%2C%20-43.2283004%2C%201.0%5D%2C%20%5B-22.9267537%2C%20-43.2635737%2C%201.0%5D%2C%20%5B-22.8559181%2C%20-43.3884427%2C%201.0%5D%2C%20%5B-22.8631956%2C%20-43.2395044%2C%201.0%5D%2C%20%5B-22.8359201%2C%20-43.3221763%2C%201.0%5D%2C%20%5B-22.994948%2C%20-43.249178228651886%2C%201.0%5D%2C%20%5B-22.8420676%2C%20-43.3797289%2C%201.0%5D%2C%20%5B-22.9851069%2C%20-43.2181385%2C%201.0%5D%2C%20%5B-22.9677373%2C%20-43.3360729%2C%201.0%5D%2C%20%5B-22.9163641%2C%20-43.191758%2C%201.0%5D%2C%20%5B-22.8465096%2C%20-43.3275287%2C%201.0%5D%2C%20%5B-22.95749%2C%20-43.3312985%2C%201.0%5D%2C%20%5B-22.9135155%2C%20-43.5296734%2C%201.0%5D%2C%20%5B-22.8319883%2C%20-43.3113281%2C%201.0%5D%2C%20%5B-22.8671644%2C%20-43.2417302%2C%201.0%5D%2C%20%5B-22.9067497%2C%20-43.2398157%2C%201.0%5D%2C%20%5B-22.9003053%2C%20-43.2634858%2C%201.0%5D%2C%20%5B-22.8673195%2C%20-43.4237203%2C%201.0%5D%2C%20%5B-22.8407954%2C%20-43.23788809409384%2C%201.0%5D%2C%20%5B-22.896698%2C%20-43.3426403%2C%201.0%5D%2C%20%5B-22.8714844%2C%20-43.2363828%2C%201.0%5D%2C%20%5B-22.8626778%2C%20-43.3384721%2C%201.0%5D%2C%20%5B-22.853837%2C%20-43.4626396%2C%201.0%5D%2C%20%5B-22.8670619%2C%20-43.5590226%2C%201.0%5D%2C%20%5B-22.8852981%2C%20-43.5824533%2C%201.0%5D%2C%20%5B-22.903686%2C%20-43.5534605%2C%201.0%5D%2C%20%5B-22.967215%2C%20-43.6143802%2C%201.0%5D%2C%20%5B-22.8226448%2C%20-43.3238048%2C%201.0%5D%2C%20%5B-22.8890944%2C%20-43.2666879%2C%201.0%5D%2C%20%5B-22.9034464%2C%20-43.1970419%2C%201.0%5D%2C%20%5B-22.9639208%2C%20-43.1739732%2C%201.0%5D%2C%20%5B-22.9017736%2C%20-43.2711031%2C%201.0%5D%2C%20%5B-22.8744628%2C%20-43.3683492%2C%201.0%5D%2C%20%5B-22.9852794%2C%20-43.6945139%2C%201.0%5D%2C%20%5B-22.9311419%2C%20-43.2409389%2C%201.0%5D%2C%20%5B-22.9243811%2C%20-43.1786684%2C%201.0%5D%2C%20%5B-22.9553184%2C%20-43.1775388%2C%201.0%5D%2C%20%5B-22.8785457%2C%20-43.2188006%2C%201.0%5D%2C%20%5B-22.90994005%2C%20-43.172421852883645%2C%201.0%5D%2C%20%5B-22.872078%2C%20-43.2348227%2C%201.0%5D%2C%20%5B-22.9027521%2C%20-43.2031332%2C%201.0%5D%2C%20%5B-22.8405438%2C%20-43.3058135%2C%201.0%5D%2C%20%5B-22.8805122%2C%20-43.342942%2C%201.0%5D%2C%20%5B-22.8964799%2C%20-43.3585503%2C%201.0%5D%2C%20%5B-22.9390057%2C%20-43.3277003%2C%201.0%5D%2C%20%5B-22.8452131%2C%20-43.3048533%2C%201.0%5D%2C%20%5B-22.9262258%2C%20-43.2157276%2C%201.0%5D%2C%20%5B-22.8059119%2C%20-43.2029146%2C%201.0%5D%2C%20%5B-22.9732653%2C%20-43.6649063%2C%201.0%5D%2C%20%5B-22.8735387%2C%20-43.280434%2C%201.0%5D%2C%20%5B-22.9577904%2C%20-43.1848308%2C%201.0%5D%2C%20%5B-22.8583707%2C%20-43.345315%2C%201.0%5D%2C%20%5B-22.8995503%2C%20-43.5470694%2C%201.0%5D%2C%20%5B-22.9823195%2C%20-43.6487749%2C%201.0%5D%2C%20%5B-22.8209659%2C%20-43.2922273%2C%201.0%5D%2C%20%5B-22.8999452%2C%20-43.5471076%2C%201.0%5D%2C%20%5B-23.00551345%2C%20-43.63207971377119%2C%201.0%5D%2C%20%5B-22.989711%2C%20-43.6320332%2C%201.0%5D%2C%20%5B-22.8265383%2C%20-43.3336675%2C%201.0%5D%2C%20%5B-22.9136333%2C%20-43.2515254%2C%201.0%5D%2C%20%5B-22.8968876%2C%20-43.2318623%2C%201.0%5D%2C%20%5B-22.8523318%2C%20-43.4927823%2C%201.0%5D%2C%20%5B-22.9163566%2C%20-43.6289969%2C%201.0%5D%2C%20%5B-22.8135715%2C%20-43.3698982%2C%201.0%5D%2C%20%5B-22.8953207%2C%20-43.4181796%2C%201.0%5D%2C%20%5B-22.8673229%2C%20-43.2519933%2C%201.0%5D%2C%20%5B-22.9628977%2C%20-43.3533569%2C%201.0%5D%2C%20%5B-22.9577779%2C%20-43.3332199%2C%201.0%5D%2C%20%5B-22.9545314%2C%20-43.3764468%2C%201.0%5D%2C%20%5B-22.9162702%2C%20-43.3632396%2C%201.0%5D%2C%20%5B-22.9333267%2C%20-43.1853496%2C%201.0%5D%2C%20%5B-22.9081185%2C%20-43.5915761%2C%201.0%5D%2C%20%5B-22.9089277%2C%20-43.2387333%2C%201.0%5D%5D%2C%0A%20%20%20%20%20%20%20%20%20%20%20%20%20%20%20%20%7B%22blur%22%3A%2015%2C%20%22fillOpacity%22%3A%200.5%2C%20%22gradient%22%3A%20%7B%220.0%22%3A%20%22%23ffffcc%22%2C%20%220.05%22%3A%20%22%23ffffcc%22%2C%20%220.1%22%3A%20%22%23fff8ba%22%2C%20%220.15000000000000002%22%3A%20%22%23ffe895%22%2C%20%220.2%22%3A%20%22%23ffe895%22%2C%20%220.25%22%3A%20%22%23ffe083%22%2C%20%220.30000000000000004%22%3A%20%22%23fec560%22%2C%20%220.35000000000000003%22%3A%20%22%23feb44e%22%2C%20%220.4%22%3A%20%22%23feb44e%22%2C%20%220.45%22%3A%20%22%23fea546%22%2C%20%220.5%22%3A%20%22%23fe953f%22%2C%20%220.55%22%3A%20%22%23fd8038%22%2C%20%220.6000000000000001%22%3A%20%22%23fb4b29%22%2C%20%220.65%22%3A%20%22%23fb4b29%22%2C%20%220.7000000000000001%22%3A%20%22%23e61f1d%22%2C%20%220.75%22%3A%20%22%23e61f1d%22%2C%20%220.8%22%3A%20%22%23d7111f%22%2C%20%220.8500000000000001%22%3A%20%22%23b40026%22%2C%20%220.9%22%3A%20%22%23b40026%22%2C%20%220.9500000000000001%22%3A%20%22%23800026%22%7D%2C%20%22maxZoom%22%3A%2018%2C%20%22minOpacity%22%3A%200.5%2C%20%22radius%22%3A%2025%7D%0A%20%20%20%20%20%20%20%20%20%20%20%20%29.addTo%28map_6560fea948844691ba52179ee6ab8c3a%29%3B%0A%20%20%20%20%20%20%20%20%0A%20%20%20%20%0A%20%20%20%20%20%20%20%20%20%20%20%20var%20circle_4f419c22f5a74acfb934c71839ff7c96%20%3D%20L.circle%28%0A%20%20%20%20%20%20%20%20%20%20%20%20%20%20%20%20%5B-22.9835651%2C%20-43.2418655%5D%2C%0A%20%20%20%20%20%20%20%20%20%20%20%20%20%20%20%20%7B%22bubblingMouseEvents%22%3A%20true%2C%20%22color%22%3A%20%22%2300FF69%22%2C%20%22dashArray%22%3A%20null%2C%20%22dashOffset%22%3A%20null%2C%20%22fill%22%3A%20%22%2300A1B3%22%2C%20%22fillColor%22%3A%20%22%2300FF69%22%2C%20%22fillOpacity%22%3A%200.2%2C%20%22fillRule%22%3A%20%22evenodd%22%2C%20%22lineCap%22%3A%20%22round%22%2C%20%22lineJoin%22%3A%20%22round%22%2C%20%22opacity%22%3A%201.0%2C%20%22radius%22%3A%204.59479341998814%2C%20%22stroke%22%3A%20true%2C%20%22weight%22%3A%203%7D%0A%20%20%20%20%20%20%20%20%20%20%20%20%29.addTo%28map_6560fea948844691ba52179ee6ab8c3a%29%3B%0A%20%20%20%20%20%20%20%20%0A%20%20%20%20%0A%20%20%20%20%20%20%20%20%20%20%20%20circle_4f419c22f5a74acfb934c71839ff7c96.bindTooltip%28%0A%20%20%20%20%20%20%20%20%20%20%20%20%20%20%20%20%60%3Cdiv%3E%0A%20%20%20%20%20%20%20%20%20%20%20%20%20%20%20%20%20%20%20%20%20%3Cli%3E%3Cbold%3E%20MUNICIPIO%3A%20G%C3%A1vea%3C/bold%3E%3Cli%3E%3Cli%3E%3Cbold%3E%20INTERNA%C3%87%C3%95ES%3A4%3C/bold%3E%3Cli%3E%0A%20%20%20%20%20%20%20%20%20%20%20%20%20%20%20%20%20%3C/div%3E%60%2C%0A%20%20%20%20%20%20%20%20%20%20%20%20%20%20%20%20%7B%22sticky%22%3A%20true%7D%0A%20%20%20%20%20%20%20%20%20%20%20%20%29%3B%0A%20%20%20%20%20%20%20%20%0A%20%20%20%20%0A%20%20%20%20%20%20%20%20%20%20%20%20var%20circle_9212605fcc29467fbb197b6da4b02775%20%3D%20L.circle%28%0A%20%20%20%20%20%20%20%20%20%20%20%20%20%20%20%20%5B-22.971002%2C%20-43.6541078%5D%2C%0A%20%20%20%20%20%20%20%20%20%20%20%20%20%20%20%20%7B%22bubblingMouseEvents%22%3A%20true%2C%20%22color%22%3A%20%22%2300FF69%22%2C%20%22dashArray%22%3A%20null%2C%20%22dashOffset%22%3A%20null%2C%20%22fill%22%3A%20%22%2300A1B3%22%2C%20%22fillColor%22%3A%20%22%2300FF69%22%2C%20%22fillOpacity%22%3A%200.2%2C%20%22fillRule%22%3A%20%22evenodd%22%2C%20%22lineCap%22%3A%20%22round%22%2C%20%22lineJoin%22%3A%20%22round%22%2C%20%22opacity%22%3A%201.0%2C%20%22radius%22%3A%202.1435469250725863%2C%20%22stroke%22%3A%20true%2C%20%22weight%22%3A%203%7D%0A%20%20%20%20%20%20%20%20%20%20%20%20%29.addTo%28map_6560fea948844691ba52179ee6ab8c3a%29%3B%0A%20%20%20%20%20%20%20%20%0A%20%20%20%20%0A%20%20%20%20%20%20%20%20%20%20%20%20circle_9212605fcc29467fbb197b6da4b02775.bindTooltip%28%0A%20%20%20%20%20%20%20%20%20%20%20%20%20%20%20%20%60%3Cdiv%3E%0A%20%20%20%20%20%20%20%20%20%20%20%20%20%20%20%20%20%20%20%20%20%3Cli%3E%3Cbold%3E%20MUNICIPIO%3A%20Guaratiba%3C/bold%3E%3Cli%3E%3Cli%3E%3Cbold%3E%20INTERNA%C3%87%C3%95ES%3A2%3C/bold%3E%3Cli%3E%0A%20%20%20%20%20%20%20%20%20%20%20%20%20%20%20%20%20%3C/div%3E%60%2C%0A%20%20%20%20%20%20%20%20%20%20%20%20%20%20%20%20%7B%22sticky%22%3A%20true%7D%0A%20%20%20%20%20%20%20%20%20%20%20%20%29%3B%0A%20%20%20%20%20%20%20%20%0A%20%20%20%20%0A%20%20%20%20%20%20%20%20%20%20%20%20var%20circle_b21d53d8305a4fe7ad0cd4b5049920e9%20%3D%20L.circle%28%0A%20%20%20%20%20%20%20%20%20%20%20%20%20%20%20%20%5B-22.9164703%2C%20-43.197231%5D%2C%0A%20%20%20%20%20%20%20%20%20%20%20%20%20%20%20%20%7B%22bubblingMouseEvents%22%3A%20true%2C%20%22color%22%3A%20%22%2300FF69%22%2C%20%22dashArray%22%3A%20null%2C%20%22dashOffset%22%3A%20null%2C%20%22fill%22%3A%20%22%2300A1B3%22%2C%20%22fillColor%22%3A%20%22%2300FF69%22%2C%20%22fillOpacity%22%3A%200.2%2C%20%22fillRule%22%3A%20%22evenodd%22%2C%20%22lineCap%22%3A%20%22round%22%2C%20%22lineJoin%22%3A%20%22round%22%2C%20%22opacity%22%3A%201.0%2C%20%22radius%22%3A%202.1435469250725863%2C%20%22stroke%22%3A%20true%2C%20%22weight%22%3A%203%7D%0A%20%20%20%20%20%20%20%20%20%20%20%20%29.addTo%28map_6560fea948844691ba52179ee6ab8c3a%29%3B%0A%20%20%20%20%20%20%20%20%0A%20%20%20%20%0A%20%20%20%20%20%20%20%20%20%20%20%20circle_b21d53d8305a4fe7ad0cd4b5049920e9.bindTooltip%28%0A%20%20%20%20%20%20%20%20%20%20%20%20%20%20%20%20%60%3Cdiv%3E%0A%20%20%20%20%20%20%20%20%20%20%20%20%20%20%20%20%20%20%20%20%20%3Cli%3E%3Cbold%3E%20MUNICIPIO%3A%20Catumbi%3C/bold%3E%3Cli%3E%3Cli%3E%3Cbold%3E%20INTERNA%C3%87%C3%95ES%3A2%3C/bold%3E%3Cli%3E%0A%20%20%20%20%20%20%20%20%20%20%20%20%20%20%20%20%20%3C/div%3E%60%2C%0A%20%20%20%20%20%20%20%20%20%20%20%20%20%20%20%20%7B%22sticky%22%3A%20true%7D%0A%20%20%20%20%20%20%20%20%20%20%20%20%29%3B%0A%20%20%20%20%20%20%20%20%0A%20%20%20%20%0A%20%20%20%20%20%20%20%20%20%20%20%20var%20circle_9b99c9c02d1c48e48c542c540700e9f8%20%3D%20L.circle%28%0A%20%20%20%20%20%20%20%20%20%20%20%20%20%20%20%20%5B-22.8134565%2C%20-43.2042212%5D%2C%0A%20%20%20%20%20%20%20%20%20%20%20%20%20%20%20%20%7B%22bubblingMouseEvents%22%3A%20true%2C%20%22color%22%3A%20%22%2300FF69%22%2C%20%22dashArray%22%3A%20null%2C%20%22dashOffset%22%3A%20null%2C%20%22fill%22%3A%20%22%2300A1B3%22%2C%20%22fillColor%22%3A%20%22%2300FF69%22%2C%20%22fillOpacity%22%3A%200.2%2C%20%22fillRule%22%3A%20%22evenodd%22%2C%20%22lineCap%22%3A%20%22round%22%2C%20%22lineJoin%22%3A%20%22round%22%2C%20%22opacity%22%3A%201.0%2C%20%22radius%22%3A%202.1435469250725863%2C%20%22stroke%22%3A%20true%2C%20%22weight%22%3A%203%7D%0A%20%20%20%20%20%20%20%20%20%20%20%20%29.addTo%28map_6560fea948844691ba52179ee6ab8c3a%29%3B%0A%20%20%20%20%20%20%20%20%0A%20%20%20%20%0A%20%20%20%20%20%20%20%20%20%20%20%20circle_9b99c9c02d1c48e48c542c540700e9f8.bindTooltip%28%0A%20%20%20%20%20%20%20%20%20%20%20%20%20%20%20%20%60%3Cdiv%3E%0A%20%20%20%20%20%20%20%20%20%20%20%20%20%20%20%20%20%20%20%20%20%3Cli%3E%3Cbold%3E%20MUNICIPIO%3A%20Jardim%20Guanabara%3C/bold%3E%3Cli%3E%3Cli%3E%3Cbold%3E%20INTERNA%C3%87%C3%95ES%3A2%3C/bold%3E%3Cli%3E%0A%20%20%20%20%20%20%20%20%20%20%20%20%20%20%20%20%20%3C/div%3E%60%2C%0A%20%20%20%20%20%20%20%20%20%20%20%20%20%20%20%20%7B%22sticky%22%3A%20true%7D%0A%20%20%20%20%20%20%20%20%20%20%20%20%29%3B%0A%20%20%20%20%20%20%20%20%0A%20%20%20%20%0A%20%20%20%20%20%20%20%20%20%20%20%20var%20circle_721b29bf3cdb49879a4ca00de1222361%20%3D%20L.circle%28%0A%20%20%20%20%20%20%20%20%20%20%20%20%20%20%20%20%5B-22.8138034%2C%20-43.3156389%5D%2C%0A%20%20%20%20%20%20%20%20%20%20%20%20%20%20%20%20%7B%22bubblingMouseEvents%22%3A%20true%2C%20%22color%22%3A%20%22%2300FF69%22%2C%20%22dashArray%22%3A%20null%2C%20%22dashOffset%22%3A%20null%2C%20%22fill%22%3A%20%22%2300A1B3%22%2C%20%22fillColor%22%3A%20%22%2300FF69%22%2C%20%22fillOpacity%22%3A%200.2%2C%20%22fillRule%22%3A%20%22evenodd%22%2C%20%22lineCap%22%3A%20%22round%22%2C%20%22lineJoin%22%3A%20%22round%22%2C%20%22opacity%22%3A%201.0%2C%20%22radius%22%3A%202.1435469250725863%2C%20%22stroke%22%3A%20true%2C%20%22weight%22%3A%203%7D%0A%20%20%20%20%20%20%20%20%20%20%20%20%29.addTo%28map_6560fea948844691ba52179ee6ab8c3a%29%3B%0A%20%20%20%20%20%20%20%20%0A%20%20%20%20%0A%20%20%20%20%20%20%20%20%20%20%20%20circle_721b29bf3cdb49879a4ca00de1222361.bindTooltip%28%0A%20%20%20%20%20%20%20%20%20%20%20%20%20%20%20%20%60%3Cdiv%3E%0A%20%20%20%20%20%20%20%20%20%20%20%20%20%20%20%20%20%20%20%20%20%3Cli%3E%3Cbold%3E%20MUNICIPIO%3A%20Vig%C3%A1rio%20Geral%3C/bold%3E%3Cli%3E%3Cli%3E%3Cbold%3E%20INTERNA%C3%87%C3%95ES%3A2%3C/bold%3E%3Cli%3E%0A%20%20%20%20%20%20%20%20%20%20%20%20%20%20%20%20%20%3C/div%3E%60%2C%0A%20%20%20%20%20%20%20%20%20%20%20%20%20%20%20%20%7B%22sticky%22%3A%20true%7D%0A%20%20%20%20%20%20%20%20%20%20%20%20%29%3B%0A%20%20%20%20%20%20%20%20%0A%20%20%20%20%0A%20%20%20%20%20%20%20%20%20%20%20%20var%20circle_09628390accd4257a55e37cce62342a8%20%3D%20L.circle%28%0A%20%20%20%20%20%20%20%20%20%20%20%20%20%20%20%20%5B-22.9163097%2C%20-43.2751411%5D%2C%0A%20%20%20%20%20%20%20%20%20%20%20%20%20%20%20%20%7B%22bubblingMouseEvents%22%3A%20true%2C%20%22color%22%3A%20%22%2300FF69%22%2C%20%22dashArray%22%3A%20null%2C%20%22dashOffset%22%3A%20null%2C%20%22fill%22%3A%20%22%2300A1B3%22%2C%20%22fillColor%22%3A%20%22%2300FF69%22%2C%20%22fillOpacity%22%3A%200.2%2C%20%22fillRule%22%3A%20%22evenodd%22%2C%20%22lineCap%22%3A%20%22round%22%2C%20%22lineJoin%22%3A%20%22round%22%2C%20%22opacity%22%3A%201.0%2C%20%22radius%22%3A%202.1435469250725863%2C%20%22stroke%22%3A%20true%2C%20%22weight%22%3A%203%7D%0A%20%20%20%20%20%20%20%20%20%20%20%20%29.addTo%28map_6560fea948844691ba52179ee6ab8c3a%29%3B%0A%20%20%20%20%20%20%20%20%0A%20%20%20%20%0A%20%20%20%20%20%20%20%20%20%20%20%20circle_09628390accd4257a55e37cce62342a8.bindTooltip%28%0A%20%20%20%20%20%20%20%20%20%20%20%20%20%20%20%20%60%3Cdiv%3E%0A%20%20%20%20%20%20%20%20%20%20%20%20%20%20%20%20%20%20%20%20%20%3Cli%3E%3Cbold%3E%20MUNICIPIO%3A%20Engenho%20Novo%3C/bold%3E%3Cli%3E%3Cli%3E%3Cbold%3E%20INTERNA%C3%87%C3%95ES%3A2%3C/bold%3E%3Cli%3E%0A%20%20%20%20%20%20%20%20%20%20%20%20%20%20%20%20%20%3C/div%3E%60%2C%0A%20%20%20%20%20%20%20%20%20%20%20%20%20%20%20%20%7B%22sticky%22%3A%20true%7D%0A%20%20%20%20%20%20%20%20%20%20%20%20%29%3B%0A%20%20%20%20%20%20%20%20%0A%20%20%20%20%0A%20%20%20%20%20%20%20%20%20%20%20%20var%20circle_83d5b0238b2d450495772bb562255976%20%3D%20L.circle%28%0A%20%20%20%20%20%20%20%20%20%20%20%20%20%20%20%20%5B-22.8711844%2C%20-43.3344582%5D%2C%0A%20%20%20%20%20%20%20%20%20%20%20%20%20%20%20%20%7B%22bubblingMouseEvents%22%3A%20true%2C%20%22color%22%3A%20%22%2300FF69%22%2C%20%22dashArray%22%3A%20null%2C%20%22dashOffset%22%3A%20null%2C%20%22fill%22%3A%20%22%2300A1B3%22%2C%20%22fillColor%22%3A%20%22%2300FF69%22%2C%20%22fillOpacity%22%3A%200.2%2C%20%22fillRule%22%3A%20%22evenodd%22%2C%20%22lineCap%22%3A%20%22round%22%2C%20%22lineJoin%22%3A%20%22round%22%2C%20%22opacity%22%3A%201.0%2C%20%22radius%22%3A%202.1435469250725863%2C%20%22stroke%22%3A%20true%2C%20%22weight%22%3A%203%7D%0A%20%20%20%20%20%20%20%20%20%20%20%20%29.addTo%28map_6560fea948844691ba52179ee6ab8c3a%29%3B%0A%20%20%20%20%20%20%20%20%0A%20%20%20%20%0A%20%20%20%20%20%20%20%20%20%20%20%20circle_83d5b0238b2d450495772bb562255976.bindTooltip%28%0A%20%20%20%20%20%20%20%20%20%20%20%20%20%20%20%20%60%3Cdiv%3E%0A%20%20%20%20%20%20%20%20%20%20%20%20%20%20%20%20%20%20%20%20%20%3Cli%3E%3Cbold%3E%20MUNICIPIO%3A%20Madureira%3C/bold%3E%3Cli%3E%3Cli%3E%3Cbold%3E%20INTERNA%C3%87%C3%95ES%3A2%3C/bold%3E%3Cli%3E%0A%20%20%20%20%20%20%20%20%20%20%20%20%20%20%20%20%20%3C/div%3E%60%2C%0A%20%20%20%20%20%20%20%20%20%20%20%20%20%20%20%20%7B%22sticky%22%3A%20true%7D%0A%20%20%20%20%20%20%20%20%20%20%20%20%29%3B%0A%20%20%20%20%20%20%20%20%0A%20%20%20%20%0A%20%20%20%20%20%20%20%20%20%20%20%20var%20circle_2e613dafc7d84da59e773d43ff4d0410%20%3D%20L.circle%28%0A%20%20%20%20%20%20%20%20%20%20%20%20%20%20%20%20%5B-22.9146094%2C%20-43.2605191%5D%2C%0A%20%20%20%20%20%20%20%20%20%20%20%20%20%20%20%20%7B%22bubblingMouseEvents%22%3A%20true%2C%20%22color%22%3A%20%22%2300FF69%22%2C%20%22dashArray%22%3A%20null%2C%20%22dashOffset%22%3A%20null%2C%20%22fill%22%3A%20%22%2300A1B3%22%2C%20%22fillColor%22%3A%20%22%2300FF69%22%2C%20%22fillOpacity%22%3A%200.2%2C%20%22fillRule%22%3A%20%22evenodd%22%2C%20%22lineCap%22%3A%20%22round%22%2C%20%22lineJoin%22%3A%20%22round%22%2C%20%22opacity%22%3A%201.0%2C%20%22radius%22%3A%202.1435469250725863%2C%20%22stroke%22%3A%20true%2C%20%22weight%22%3A%203%7D%0A%20%20%20%20%20%20%20%20%20%20%20%20%29.addTo%28map_6560fea948844691ba52179ee6ab8c3a%29%3B%0A%20%20%20%20%20%20%20%20%0A%20%20%20%20%0A%20%20%20%20%20%20%20%20%20%20%20%20circle_2e613dafc7d84da59e773d43ff4d0410.bindTooltip%28%0A%20%20%20%20%20%20%20%20%20%20%20%20%20%20%20%20%60%3Cdiv%3E%0A%20%20%20%20%20%20%20%20%20%20%20%20%20%20%20%20%20%20%20%20%20%3Cli%3E%3Cbold%3E%20MUNICIPIO%3A%20Vila%20Isabel%3C/bold%3E%3Cli%3E%3Cli%3E%3Cbold%3E%20INTERNA%C3%87%C3%95ES%3A2%3C/bold%3E%3Cli%3E%0A%20%20%20%20%20%20%20%20%20%20%20%20%20%20%20%20%20%3C/div%3E%60%2C%0A%20%20%20%20%20%20%20%20%20%20%20%20%20%20%20%20%7B%22sticky%22%3A%20true%7D%0A%20%20%20%20%20%20%20%20%20%20%20%20%29%3B%0A%20%20%20%20%20%20%20%20%0A%20%20%20%20%0A%20%20%20%20%20%20%20%20%20%20%20%20var%20circle_5ee593c48623454c813e2f93fa088a1f%20%3D%20L.circle%28%0A%20%20%20%20%20%20%20%20%20%20%20%20%20%20%20%20%5B-22.8153733%2C%20-43.2292767%5D%2C%0A%20%20%20%20%20%20%20%20%20%20%20%20%20%20%20%20%7B%22bubblingMouseEvents%22%3A%20true%2C%20%22color%22%3A%20%22%2300FF69%22%2C%20%22dashArray%22%3A%20null%2C%20%22dashOffset%22%3A%20null%2C%20%22fill%22%3A%20%22%2300A1B3%22%2C%20%22fillColor%22%3A%20%22%2300FF69%22%2C%20%22fillOpacity%22%3A%200.2%2C%20%22fillRule%22%3A%20%22evenodd%22%2C%20%22lineCap%22%3A%20%22round%22%2C%20%22lineJoin%22%3A%20%22round%22%2C%20%22opacity%22%3A%201.0%2C%20%22radius%22%3A%202.1435469250725863%2C%20%22stroke%22%3A%20true%2C%20%22weight%22%3A%203%7D%0A%20%20%20%20%20%20%20%20%20%20%20%20%29.addTo%28map_6560fea948844691ba52179ee6ab8c3a%29%3B%0A%20%20%20%20%20%20%20%20%0A%20%20%20%20%0A%20%20%20%20%20%20%20%20%20%20%20%20circle_5ee593c48623454c813e2f93fa088a1f.bindTooltip%28%0A%20%20%20%20%20%20%20%20%20%20%20%20%20%20%20%20%60%3Cdiv%3E%0A%20%20%20%20%20%20%20%20%20%20%20%20%20%20%20%20%20%20%20%20%20%3Cli%3E%3Cbold%3E%20MUNICIPIO%3A%20Gale%C3%A3o%3C/bold%3E%3Cli%3E%3Cli%3E%3Cbold%3E%20INTERNA%C3%87%C3%95ES%3A2%3C/bold%3E%3Cli%3E%0A%20%20%20%20%20%20%20%20%20%20%20%20%20%20%20%20%20%3C/div%3E%60%2C%0A%20%20%20%20%20%20%20%20%20%20%20%20%20%20%20%20%7B%22sticky%22%3A%20true%7D%0A%20%20%20%20%20%20%20%20%20%20%20%20%29%3B%0A%20%20%20%20%20%20%20%20%0A%20%20%20%20%0A%20%20%20%20%20%20%20%20%20%20%20%20var%20circle_6d3b14e2277d49cf9acfb3c9d604f72a%20%3D%20L.circle%28%0A%20%20%20%20%20%20%20%20%20%20%20%20%20%20%20%20%5B-22.8871353%2C%20-43.2334167%5D%2C%0A%20%20%20%20%20%20%20%20%20%20%20%20%20%20%20%20%7B%22bubblingMouseEvents%22%3A%20true%2C%20%22color%22%3A%20%22%2300FF69%22%2C%20%22dashArray%22%3A%20null%2C%20%22dashOffset%22%3A%20null%2C%20%22fill%22%3A%20%22%2300A1B3%22%2C%20%22fillColor%22%3A%20%22%2300FF69%22%2C%20%22fillOpacity%22%3A%200.2%2C%20%22fillRule%22%3A%20%22evenodd%22%2C%20%22lineCap%22%3A%20%22round%22%2C%20%22lineJoin%22%3A%20%22round%22%2C%20%22opacity%22%3A%201.0%2C%20%22radius%22%3A%202.1435469250725863%2C%20%22stroke%22%3A%20true%2C%20%22weight%22%3A%203%7D%0A%20%20%20%20%20%20%20%20%20%20%20%20%29.addTo%28map_6560fea948844691ba52179ee6ab8c3a%29%3B%0A%20%20%20%20%20%20%20%20%0A%20%20%20%20%0A%20%20%20%20%20%20%20%20%20%20%20%20circle_6d3b14e2277d49cf9acfb3c9d604f72a.bindTooltip%28%0A%20%20%20%20%20%20%20%20%20%20%20%20%20%20%20%20%60%3Cdiv%3E%0A%20%20%20%20%20%20%20%20%20%20%20%20%20%20%20%20%20%20%20%20%20%3Cli%3E%3Cbold%3E%20MUNICIPIO%3A%20Benfica%3C/bold%3E%3Cli%3E%3Cli%3E%3Cbold%3E%20INTERNA%C3%87%C3%95ES%3A2%3C/bold%3E%3Cli%3E%0A%20%20%20%20%20%20%20%20%20%20%20%20%20%20%20%20%20%3C/div%3E%60%2C%0A%20%20%20%20%20%20%20%20%20%20%20%20%20%20%20%20%7B%22sticky%22%3A%20true%7D%0A%20%20%20%20%20%20%20%20%20%20%20%20%29%3B%0A%20%20%20%20%20%20%20%20%0A%20%20%20%20%0A%20%20%20%20%20%20%20%20%20%20%20%20var%20circle_4cc8020611ca49a8833c36c2b001cfe4%20%3D%20L.circle%28%0A%20%20%20%20%20%20%20%20%20%20%20%20%20%20%20%20%5B-22.9092462%2C%20-43.3589723%5D%2C%0A%20%20%20%20%20%20%20%20%20%20%20%20%20%20%20%20%7B%22bubblingMouseEvents%22%3A%20true%2C%20%22color%22%3A%20%22%2300FF69%22%2C%20%22dashArray%22%3A%20null%2C%20%22dashOffset%22%3A%20null%2C%20%22fill%22%3A%20%22%2300A1B3%22%2C%20%22fillColor%22%3A%20%22%2300FF69%22%2C%20%22fillOpacity%22%3A%200.2%2C%20%22fillRule%22%3A%20%22evenodd%22%2C%20%22lineCap%22%3A%20%22round%22%2C%20%22lineJoin%22%3A%20%22round%22%2C%20%22opacity%22%3A%201.0%2C%20%22radius%22%3A%202.1435469250725863%2C%20%22stroke%22%3A%20true%2C%20%22weight%22%3A%203%7D%0A%20%20%20%20%20%20%20%20%20%20%20%20%29.addTo%28map_6560fea948844691ba52179ee6ab8c3a%29%3B%0A%20%20%20%20%20%20%20%20%0A%20%20%20%20%0A%20%20%20%20%20%20%20%20%20%20%20%20circle_4cc8020611ca49a8833c36c2b001cfe4.bindTooltip%28%0A%20%20%20%20%20%20%20%20%20%20%20%20%20%20%20%20%60%3Cdiv%3E%0A%20%20%20%20%20%20%20%20%20%20%20%20%20%20%20%20%20%20%20%20%20%3Cli%3E%3Cbold%3E%20MUNICIPIO%3A%20Pra%C3%A7a%20Seca%3C/bold%3E%3Cli%3E%3Cli%3E%3Cbold%3E%20INTERNA%C3%87%C3%95ES%3A2%3C/bold%3E%3Cli%3E%0A%20%20%20%20%20%20%20%20%20%20%20%20%20%20%20%20%20%3C/div%3E%60%2C%0A%20%20%20%20%20%20%20%20%20%20%20%20%20%20%20%20%7B%22sticky%22%3A%20true%7D%0A%20%20%20%20%20%20%20%20%20%20%20%20%29%3B%0A%20%20%20%20%20%20%20%20%0A%20%20%20%20%0A%20%20%20%20%20%20%20%20%20%20%20%20var%20circle_af3379d7c3054639a54e4effb4d77406%20%3D%20L.circle%28%0A%20%20%20%20%20%20%20%20%20%20%20%20%20%20%20%20%5B-22.9357026%2C%20-43.6503461%5D%2C%0A%20%20%20%20%20%20%20%20%20%20%20%20%20%20%20%20%7B%22bubblingMouseEvents%22%3A%20true%2C%20%22color%22%3A%20%22%2300FF69%22%2C%20%22dashArray%22%3A%20null%2C%20%22dashOffset%22%3A%20null%2C%20%22fill%22%3A%20%22%2300A1B3%22%2C%20%22fillColor%22%3A%20%22%2300FF69%22%2C%20%22fillOpacity%22%3A%200.2%2C%20%22fillRule%22%3A%20%22evenodd%22%2C%20%22lineCap%22%3A%20%22round%22%2C%20%22lineJoin%22%3A%20%22round%22%2C%20%22opacity%22%3A%201.0%2C%20%22radius%22%3A%202.1435469250725863%2C%20%22stroke%22%3A%20true%2C%20%22weight%22%3A%203%7D%0A%20%20%20%20%20%20%20%20%20%20%20%20%29.addTo%28map_6560fea948844691ba52179ee6ab8c3a%29%3B%0A%20%20%20%20%20%20%20%20%0A%20%20%20%20%0A%20%20%20%20%20%20%20%20%20%20%20%20circle_af3379d7c3054639a54e4effb4d77406.bindTooltip%28%0A%20%20%20%20%20%20%20%20%20%20%20%20%20%20%20%20%60%3Cdiv%3E%0A%20%20%20%20%20%20%20%20%20%20%20%20%20%20%20%20%20%20%20%20%20%3Cli%3E%3Cbold%3E%20MUNICIPIO%3A%20Santa%20Cruz%3C/bold%3E%3Cli%3E%3Cli%3E%3Cbold%3E%20INTERNA%C3%87%C3%95ES%3A2%3C/bold%3E%3Cli%3E%0A%20%20%20%20%20%20%20%20%20%20%20%20%20%20%20%20%20%3C/div%3E%60%2C%0A%20%20%20%20%20%20%20%20%20%20%20%20%20%20%20%20%7B%22sticky%22%3A%20true%7D%0A%20%20%20%20%20%20%20%20%20%20%20%20%29%3B%0A%20%20%20%20%20%20%20%20%0A%20%20%20%20%0A%20%20%20%20%20%20%20%20%20%20%20%20var%20circle_8b430072cbaf45d1bdec5a9b92a9b85a%20%3D%20L.circle%28%0A%20%20%20%20%20%20%20%20%20%20%20%20%20%20%20%20%5B-22.8677245%2C%20-43.3013047%5D%2C%0A%20%20%20%20%20%20%20%20%20%20%20%20%20%20%20%20%7B%22bubblingMouseEvents%22%3A%20true%2C%20%22color%22%3A%20%22%2300FF69%22%2C%20%22dashArray%22%3A%20null%2C%20%22dashOffset%22%3A%20null%2C%20%22fill%22%3A%20%22%2300A1B3%22%2C%20%22fillColor%22%3A%20%22%2300FF69%22%2C%20%22fillOpacity%22%3A%200.2%2C%20%22fillRule%22%3A%20%22evenodd%22%2C%20%22lineCap%22%3A%20%22round%22%2C%20%22lineJoin%22%3A%20%22round%22%2C%20%22opacity%22%3A%201.0%2C%20%22radius%22%3A%202.1435469250725863%2C%20%22stroke%22%3A%20true%2C%20%22weight%22%3A%203%7D%0A%20%20%20%20%20%20%20%20%20%20%20%20%29.addTo%28map_6560fea948844691ba52179ee6ab8c3a%29%3B%0A%20%20%20%20%20%20%20%20%0A%20%20%20%20%0A%20%20%20%20%20%20%20%20%20%20%20%20circle_8b430072cbaf45d1bdec5a9b92a9b85a.bindTooltip%28%0A%20%20%20%20%20%20%20%20%20%20%20%20%20%20%20%20%60%3Cdiv%3E%0A%20%20%20%20%20%20%20%20%20%20%20%20%20%20%20%20%20%20%20%20%20%3Cli%3E%3Cbold%3E%20MUNICIPIO%3A%20Tom%C3%A1s%20Coelho%3C/bold%3E%3Cli%3E%3Cli%3E%3Cbold%3E%20INTERNA%C3%87%C3%95ES%3A2%3C/bold%3E%3Cli%3E%0A%20%20%20%20%20%20%20%20%20%20%20%20%20%20%20%20%20%3C/div%3E%60%2C%0A%20%20%20%20%20%20%20%20%20%20%20%20%20%20%20%20%7B%22sticky%22%3A%20true%7D%0A%20%20%20%20%20%20%20%20%20%20%20%20%29%3B%0A%20%20%20%20%20%20%20%20%0A%20%20%20%20%0A%20%20%20%20%20%20%20%20%20%20%20%20var%20circle_621a53da35e64746909ddaccdef1de15%20%3D%20L.circle%28%0A%20%20%20%20%20%20%20%20%20%20%20%20%20%20%20%20%5B-22.9143934%2C%20-43.6867833%5D%2C%0A%20%20%20%20%20%20%20%20%20%20%20%20%20%20%20%20%7B%22bubblingMouseEvents%22%3A%20true%2C%20%22color%22%3A%20%22%2300FF69%22%2C%20%22dashArray%22%3A%20null%2C%20%22dashOffset%22%3A%20null%2C%20%22fill%22%3A%20%22%2300A1B3%22%2C%20%22fillColor%22%3A%20%22%2300FF69%22%2C%20%22fillOpacity%22%3A%200.2%2C%20%22fillRule%22%3A%20%22evenodd%22%2C%20%22lineCap%22%3A%20%22round%22%2C%20%22lineJoin%22%3A%20%22round%22%2C%20%22opacity%22%3A%201.0%2C%20%22radius%22%3A%202.1435469250725863%2C%20%22stroke%22%3A%20true%2C%20%22weight%22%3A%203%7D%0A%20%20%20%20%20%20%20%20%20%20%20%20%29.addTo%28map_6560fea948844691ba52179ee6ab8c3a%29%3B%0A%20%20%20%20%20%20%20%20%0A%20%20%20%20%0A%20%20%20%20%20%20%20%20%20%20%20%20circle_621a53da35e64746909ddaccdef1de15.bindTooltip%28%0A%20%20%20%20%20%20%20%20%20%20%20%20%20%20%20%20%60%3Cdiv%3E%0A%20%20%20%20%20%20%20%20%20%20%20%20%20%20%20%20%20%20%20%20%20%3Cli%3E%3Cbold%3E%20MUNICIPIO%3A%20Santa%20Cruz%3C/bold%3E%3Cli%3E%3Cli%3E%3Cbold%3E%20INTERNA%C3%87%C3%95ES%3A2%3C/bold%3E%3Cli%3E%0A%20%20%20%20%20%20%20%20%20%20%20%20%20%20%20%20%20%3C/div%3E%60%2C%0A%20%20%20%20%20%20%20%20%20%20%20%20%20%20%20%20%7B%22sticky%22%3A%20true%7D%0A%20%20%20%20%20%20%20%20%20%20%20%20%29%3B%0A%20%20%20%20%20%20%20%20%0A%20%20%20%20%0A%20%20%20%20%20%20%20%20%20%20%20%20var%20circle_f2f28e3e4929451db31c83914d2a99bc%20%3D%20L.circle%28%0A%20%20%20%20%20%20%20%20%20%20%20%20%20%20%20%20%5B-22.931362%2C%20-43.2345989%5D%2C%0A%20%20%20%20%20%20%20%20%20%20%20%20%20%20%20%20%7B%22bubblingMouseEvents%22%3A%20true%2C%20%22color%22%3A%20%22%2300FF69%22%2C%20%22dashArray%22%3A%20null%2C%20%22dashOffset%22%3A%20null%2C%20%22fill%22%3A%20%22%2300A1B3%22%2C%20%22fillColor%22%3A%20%22%2300FF69%22%2C%20%22fillOpacity%22%3A%200.2%2C%20%22fillRule%22%3A%20%22evenodd%22%2C%20%22lineCap%22%3A%20%22round%22%2C%20%22lineJoin%22%3A%20%22round%22%2C%20%22opacity%22%3A%201.0%2C%20%22radius%22%3A%201.0%2C%20%22stroke%22%3A%20true%2C%20%22weight%22%3A%203%7D%0A%20%20%20%20%20%20%20%20%20%20%20%20%29.addTo%28map_6560fea948844691ba52179ee6ab8c3a%29%3B%0A%20%20%20%20%20%20%20%20%0A%20%20%20%20%0A%20%20%20%20%20%20%20%20%20%20%20%20circle_f2f28e3e4929451db31c83914d2a99bc.bindTooltip%28%0A%20%20%20%20%20%20%20%20%20%20%20%20%20%20%20%20%60%3Cdiv%3E%0A%20%20%20%20%20%20%20%20%20%20%20%20%20%20%20%20%20%20%20%20%20%3Cli%3E%3Cbold%3E%20MUNICIPIO%3A%20Tijuca%3C/bold%3E%3Cli%3E%3Cli%3E%3Cbold%3E%20INTERNA%C3%87%C3%95ES%3A1%3C/bold%3E%3Cli%3E%0A%20%20%20%20%20%20%20%20%20%20%20%20%20%20%20%20%20%3C/div%3E%60%2C%0A%20%20%20%20%20%20%20%20%20%20%20%20%20%20%20%20%7B%22sticky%22%3A%20true%7D%0A%20%20%20%20%20%20%20%20%20%20%20%20%29%3B%0A%20%20%20%20%20%20%20%20%0A%20%20%20%20%0A%20%20%20%20%20%20%20%20%20%20%20%20var%20circle_c43e1575cacc47dfa4001a2d59c9472a%20%3D%20L.circle%28%0A%20%20%20%20%20%20%20%20%20%20%20%20%20%20%20%20%5B-22.8778532%2C%20-43.575397%5D%2C%0A%20%20%20%20%20%20%20%20%20%20%20%20%20%20%20%20%7B%22bubblingMouseEvents%22%3A%20true%2C%20%22color%22%3A%20%22%2300FF69%22%2C%20%22dashArray%22%3A%20null%2C%20%22dashOffset%22%3A%20null%2C%20%22fill%22%3A%20%22%2300A1B3%22%2C%20%22fillColor%22%3A%20%22%2300FF69%22%2C%20%22fillOpacity%22%3A%200.2%2C%20%22fillRule%22%3A%20%22evenodd%22%2C%20%22lineCap%22%3A%20%22round%22%2C%20%22lineJoin%22%3A%20%22round%22%2C%20%22opacity%22%3A%201.0%2C%20%22radius%22%3A%201.0%2C%20%22stroke%22%3A%20true%2C%20%22weight%22%3A%203%7D%0A%20%20%20%20%20%20%20%20%20%20%20%20%29.addTo%28map_6560fea948844691ba52179ee6ab8c3a%29%3B%0A%20%20%20%20%20%20%20%20%0A%20%20%20%20%0A%20%20%20%20%20%20%20%20%20%20%20%20circle_c43e1575cacc47dfa4001a2d59c9472a.bindTooltip%28%0A%20%20%20%20%20%20%20%20%20%20%20%20%20%20%20%20%60%3Cdiv%3E%0A%20%20%20%20%20%20%20%20%20%20%20%20%20%20%20%20%20%20%20%20%20%3Cli%3E%3Cbold%3E%20MUNICIPIO%3A%20Campo%20Grande%3C/bold%3E%3Cli%3E%3Cli%3E%3Cbold%3E%20INTERNA%C3%87%C3%95ES%3A1%3C/bold%3E%3Cli%3E%0A%20%20%20%20%20%20%20%20%20%20%20%20%20%20%20%20%20%3C/div%3E%60%2C%0A%20%20%20%20%20%20%20%20%20%20%20%20%20%20%20%20%7B%22sticky%22%3A%20true%7D%0A%20%20%20%20%20%20%20%20%20%20%20%20%29%3B%0A%20%20%20%20%20%20%20%20%0A%20%20%20%20%0A%20%20%20%20%20%20%20%20%20%20%20%20var%20circle_4ae7686eca314266ae992f9929947068%20%3D%20L.circle%28%0A%20%20%20%20%20%20%20%20%20%20%20%20%20%20%20%20%5B-22.8821666%2C%20-43.3320167%5D%2C%0A%20%20%20%20%20%20%20%20%20%20%20%20%20%20%20%20%7B%22bubblingMouseEvents%22%3A%20true%2C%20%22color%22%3A%20%22%2300FF69%22%2C%20%22dashArray%22%3A%20null%2C%20%22dashOffset%22%3A%20null%2C%20%22fill%22%3A%20%22%2300A1B3%22%2C%20%22fillColor%22%3A%20%22%2300FF69%22%2C%20%22fillOpacity%22%3A%200.2%2C%20%22fillRule%22%3A%20%22evenodd%22%2C%20%22lineCap%22%3A%20%22round%22%2C%20%22lineJoin%22%3A%20%22round%22%2C%20%22opacity%22%3A%201.0%2C%20%22radius%22%3A%201.0%2C%20%22stroke%22%3A%20true%2C%20%22weight%22%3A%203%7D%0A%20%20%20%20%20%20%20%20%20%20%20%20%29.addTo%28map_6560fea948844691ba52179ee6ab8c3a%29%3B%0A%20%20%20%20%20%20%20%20%0A%20%20%20%20%0A%20%20%20%20%20%20%20%20%20%20%20%20circle_4ae7686eca314266ae992f9929947068.bindTooltip%28%0A%20%20%20%20%20%20%20%20%20%20%20%20%20%20%20%20%60%3Cdiv%3E%0A%20%20%20%20%20%20%20%20%20%20%20%20%20%20%20%20%20%20%20%20%20%3Cli%3E%3Cbold%3E%20MUNICIPIO%3A%20Cascadura%3C/bold%3E%3Cli%3E%3Cli%3E%3Cbold%3E%20INTERNA%C3%87%C3%95ES%3A1%3C/bold%3E%3Cli%3E%0A%20%20%20%20%20%20%20%20%20%20%20%20%20%20%20%20%20%3C/div%3E%60%2C%0A%20%20%20%20%20%20%20%20%20%20%20%20%20%20%20%20%7B%22sticky%22%3A%20true%7D%0A%20%20%20%20%20%20%20%20%20%20%20%20%29%3B%0A%20%20%20%20%20%20%20%20%0A%20%20%20%20%0A%20%20%20%20%20%20%20%20%20%20%20%20var%20circle_a6a0cdf428fd46bdbe154dff512e59ea%20%3D%20L.circle%28%0A%20%20%20%20%20%20%20%20%20%20%20%20%20%20%20%20%5B-22.9760311%2C%20-43.6417857%5D%2C%0A%20%20%20%20%20%20%20%20%20%20%20%20%20%20%20%20%7B%22bubblingMouseEvents%22%3A%20true%2C%20%22color%22%3A%20%22%2300FF69%22%2C%20%22dashArray%22%3A%20null%2C%20%22dashOffset%22%3A%20null%2C%20%22fill%22%3A%20%22%2300A1B3%22%2C%20%22fillColor%22%3A%20%22%2300FF69%22%2C%20%22fillOpacity%22%3A%200.2%2C%20%22fillRule%22%3A%20%22evenodd%22%2C%20%22lineCap%22%3A%20%22round%22%2C%20%22lineJoin%22%3A%20%22round%22%2C%20%22opacity%22%3A%201.0%2C%20%22radius%22%3A%201.0%2C%20%22stroke%22%3A%20true%2C%20%22weight%22%3A%203%7D%0A%20%20%20%20%20%20%20%20%20%20%20%20%29.addTo%28map_6560fea948844691ba52179ee6ab8c3a%29%3B%0A%20%20%20%20%20%20%20%20%0A%20%20%20%20%0A%20%20%20%20%20%20%20%20%20%20%20%20circle_a6a0cdf428fd46bdbe154dff512e59ea.bindTooltip%28%0A%20%20%20%20%20%20%20%20%20%20%20%20%20%20%20%20%60%3Cdiv%3E%0A%20%20%20%20%20%20%20%20%20%20%20%20%20%20%20%20%20%20%20%20%20%3Cli%3E%3Cbold%3E%20MUNICIPIO%3A%20Guaratiba%3C/bold%3E%3Cli%3E%3Cli%3E%3Cbold%3E%20INTERNA%C3%87%C3%95ES%3A1%3C/bold%3E%3Cli%3E%0A%20%20%20%20%20%20%20%20%20%20%20%20%20%20%20%20%20%3C/div%3E%60%2C%0A%20%20%20%20%20%20%20%20%20%20%20%20%20%20%20%20%7B%22sticky%22%3A%20true%7D%0A%20%20%20%20%20%20%20%20%20%20%20%20%29%3B%0A%20%20%20%20%20%20%20%20%0A%20%20%20%20%0A%20%20%20%20%20%20%20%20%20%20%20%20var%20circle_b91f9a9e68e54483895c295d12086434%20%3D%20L.circle%28%0A%20%20%20%20%20%20%20%20%20%20%20%20%20%20%20%20%5B-22.8840424%2C%20-43.4487701%5D%2C%0A%20%20%20%20%20%20%20%20%20%20%20%20%20%20%20%20%7B%22bubblingMouseEvents%22%3A%20true%2C%20%22color%22%3A%20%22%2300FF69%22%2C%20%22dashArray%22%3A%20null%2C%20%22dashOffset%22%3A%20null%2C%20%22fill%22%3A%20%22%2300A1B3%22%2C%20%22fillColor%22%3A%20%22%2300FF69%22%2C%20%22fillOpacity%22%3A%200.2%2C%20%22fillRule%22%3A%20%22evenodd%22%2C%20%22lineCap%22%3A%20%22round%22%2C%20%22lineJoin%22%3A%20%22round%22%2C%20%22opacity%22%3A%201.0%2C%20%22radius%22%3A%201.0%2C%20%22stroke%22%3A%20true%2C%20%22weight%22%3A%203%7D%0A%20%20%20%20%20%20%20%20%20%20%20%20%29.addTo%28map_6560fea948844691ba52179ee6ab8c3a%29%3B%0A%20%20%20%20%20%20%20%20%0A%20%20%20%20%0A%20%20%20%20%20%20%20%20%20%20%20%20circle_b91f9a9e68e54483895c295d12086434.bindTooltip%28%0A%20%20%20%20%20%20%20%20%20%20%20%20%20%20%20%20%60%3Cdiv%3E%0A%20%20%20%20%20%20%20%20%20%20%20%20%20%20%20%20%20%20%20%20%20%3Cli%3E%3Cbold%3E%20MUNICIPIO%3A%20Padre%20Miguel%3C/bold%3E%3Cli%3E%3Cli%3E%3Cbold%3E%20INTERNA%C3%87%C3%95ES%3A1%3C/bold%3E%3Cli%3E%0A%20%20%20%20%20%20%20%20%20%20%20%20%20%20%20%20%20%3C/div%3E%60%2C%0A%20%20%20%20%20%20%20%20%20%20%20%20%20%20%20%20%7B%22sticky%22%3A%20true%7D%0A%20%20%20%20%20%20%20%20%20%20%20%20%29%3B%0A%20%20%20%20%20%20%20%20%0A%20%20%20%20%0A%20%20%20%20%20%20%20%20%20%20%20%20var%20circle_b1ee4ba414ff475b845c600d49de159c%20%3D%20L.circle%28%0A%20%20%20%20%20%20%20%20%20%20%20%20%20%20%20%20%5B-22.9665037%2C%20-43.6720169%5D%2C%0A%20%20%20%20%20%20%20%20%20%20%20%20%20%20%20%20%7B%22bubblingMouseEvents%22%3A%20true%2C%20%22color%22%3A%20%22%2300FF69%22%2C%20%22dashArray%22%3A%20null%2C%20%22dashOffset%22%3A%20null%2C%20%22fill%22%3A%20%22%2300A1B3%22%2C%20%22fillColor%22%3A%20%22%2300FF69%22%2C%20%22fillOpacity%22%3A%200.2%2C%20%22fillRule%22%3A%20%22evenodd%22%2C%20%22lineCap%22%3A%20%22round%22%2C%20%22lineJoin%22%3A%20%22round%22%2C%20%22opacity%22%3A%201.0%2C%20%22radius%22%3A%201.0%2C%20%22stroke%22%3A%20true%2C%20%22weight%22%3A%203%7D%0A%20%20%20%20%20%20%20%20%20%20%20%20%29.addTo%28map_6560fea948844691ba52179ee6ab8c3a%29%3B%0A%20%20%20%20%20%20%20%20%0A%20%20%20%20%0A%20%20%20%20%20%20%20%20%20%20%20%20circle_b1ee4ba414ff475b845c600d49de159c.bindTooltip%28%0A%20%20%20%20%20%20%20%20%20%20%20%20%20%20%20%20%60%3Cdiv%3E%0A%20%20%20%20%20%20%20%20%20%20%20%20%20%20%20%20%20%20%20%20%20%3Cli%3E%3Cbold%3E%20MUNICIPIO%3A%20Sepetiba%3C/bold%3E%3Cli%3E%3Cli%3E%3Cbold%3E%20INTERNA%C3%87%C3%95ES%3A1%3C/bold%3E%3Cli%3E%0A%20%20%20%20%20%20%20%20%20%20%20%20%20%20%20%20%20%3C/div%3E%60%2C%0A%20%20%20%20%20%20%20%20%20%20%20%20%20%20%20%20%7B%22sticky%22%3A%20true%7D%0A%20%20%20%20%20%20%20%20%20%20%20%20%29%3B%0A%20%20%20%20%20%20%20%20%0A%20%20%20%20%0A%20%20%20%20%20%20%20%20%20%20%20%20var%20circle_c562222d47c24edfbdd919e3cfa0a0c0%20%3D%20L.circle%28%0A%20%20%20%20%20%20%20%20%20%20%20%20%20%20%20%20%5B-22.9280002%2C%20-43.2500611%5D%2C%0A%20%20%20%20%20%20%20%20%20%20%20%20%20%20%20%20%7B%22bubblingMouseEvents%22%3A%20true%2C%20%22color%22%3A%20%22%2300FF69%22%2C%20%22dashArray%22%3A%20null%2C%20%22dashOffset%22%3A%20null%2C%20%22fill%22%3A%20%22%2300A1B3%22%2C%20%22fillColor%22%3A%20%22%2300FF69%22%2C%20%22fillOpacity%22%3A%200.2%2C%20%22fillRule%22%3A%20%22evenodd%22%2C%20%22lineCap%22%3A%20%22round%22%2C%20%22lineJoin%22%3A%20%22round%22%2C%20%22opacity%22%3A%201.0%2C%20%22radius%22%3A%201.0%2C%20%22stroke%22%3A%20true%2C%20%22weight%22%3A%203%7D%0A%20%20%20%20%20%20%20%20%20%20%20%20%29.addTo%28map_6560fea948844691ba52179ee6ab8c3a%29%3B%0A%20%20%20%20%20%20%20%20%0A%20%20%20%20%0A%20%20%20%20%20%20%20%20%20%20%20%20circle_c562222d47c24edfbdd919e3cfa0a0c0.bindTooltip%28%0A%20%20%20%20%20%20%20%20%20%20%20%20%20%20%20%20%60%3Cdiv%3E%0A%20%20%20%20%20%20%20%20%20%20%20%20%20%20%20%20%20%20%20%20%20%3Cli%3E%3Cbold%3E%20MUNICIPIO%3A%20Andara%C3%AD%3C/bold%3E%3Cli%3E%3Cli%3E%3Cbold%3E%20INTERNA%C3%87%C3%95ES%3A1%3C/bold%3E%3Cli%3E%0A%20%20%20%20%20%20%20%20%20%20%20%20%20%20%20%20%20%3C/div%3E%60%2C%0A%20%20%20%20%20%20%20%20%20%20%20%20%20%20%20%20%7B%22sticky%22%3A%20true%7D%0A%20%20%20%20%20%20%20%20%20%20%20%20%29%3B%0A%20%20%20%20%20%20%20%20%0A%20%20%20%20%0A%20%20%20%20%20%20%20%20%20%20%20%20var%20circle_528dd7e9b24c47f6a05b9c1925f5f2fa%20%3D%20L.circle%28%0A%20%20%20%20%20%20%20%20%20%20%20%20%20%20%20%20%5B-22.8613461%2C%20-43.459729%5D%2C%0A%20%20%20%20%20%20%20%20%20%20%20%20%20%20%20%20%7B%22bubblingMouseEvents%22%3A%20true%2C%20%22color%22%3A%20%22%2300FF69%22%2C%20%22dashArray%22%3A%20null%2C%20%22dashOffset%22%3A%20null%2C%20%22fill%22%3A%20%22%2300A1B3%22%2C%20%22fillColor%22%3A%20%22%2300FF69%22%2C%20%22fillOpacity%22%3A%200.2%2C%20%22fillRule%22%3A%20%22evenodd%22%2C%20%22lineCap%22%3A%20%22round%22%2C%20%22lineJoin%22%3A%20%22round%22%2C%20%22opacity%22%3A%201.0%2C%20%22radius%22%3A%201.0%2C%20%22stroke%22%3A%20true%2C%20%22weight%22%3A%203%7D%0A%20%20%20%20%20%20%20%20%20%20%20%20%29.addTo%28map_6560fea948844691ba52179ee6ab8c3a%29%3B%0A%20%20%20%20%20%20%20%20%0A%20%20%20%20%0A%20%20%20%20%20%20%20%20%20%20%20%20circle_528dd7e9b24c47f6a05b9c1925f5f2fa.bindTooltip%28%0A%20%20%20%20%20%20%20%20%20%20%20%20%20%20%20%20%60%3Cdiv%3E%0A%20%20%20%20%20%20%20%20%20%20%20%20%20%20%20%20%20%20%20%20%20%3Cli%3E%3Cbold%3E%20MUNICIPIO%3A%20Bangu%3C/bold%3E%3Cli%3E%3Cli%3E%3Cbold%3E%20INTERNA%C3%87%C3%95ES%3A1%3C/bold%3E%3Cli%3E%0A%20%20%20%20%20%20%20%20%20%20%20%20%20%20%20%20%20%3C/div%3E%60%2C%0A%20%20%20%20%20%20%20%20%20%20%20%20%20%20%20%20%7B%22sticky%22%3A%20true%7D%0A%20%20%20%20%20%20%20%20%20%20%20%20%29%3B%0A%20%20%20%20%20%20%20%20%0A%20%20%20%20%0A%20%20%20%20%20%20%20%20%20%20%20%20var%20circle_a718d29f0c4d49acad1c4704b82014a1%20%3D%20L.circle%28%0A%20%20%20%20%20%20%20%20%20%20%20%20%20%20%20%20%5B-22.9080523%2C%20-43.2429139%5D%2C%0A%20%20%20%20%20%20%20%20%20%20%20%20%20%20%20%20%7B%22bubblingMouseEvents%22%3A%20true%2C%20%22color%22%3A%20%22%2300FF69%22%2C%20%22dashArray%22%3A%20null%2C%20%22dashOffset%22%3A%20null%2C%20%22fill%22%3A%20%22%2300A1B3%22%2C%20%22fillColor%22%3A%20%22%2300FF69%22%2C%20%22fillOpacity%22%3A%200.2%2C%20%22fillRule%22%3A%20%22evenodd%22%2C%20%22lineCap%22%3A%20%22round%22%2C%20%22lineJoin%22%3A%20%22round%22%2C%20%22opacity%22%3A%201.0%2C%20%22radius%22%3A%201.0%2C%20%22stroke%22%3A%20true%2C%20%22weight%22%3A%203%7D%0A%20%20%20%20%20%20%20%20%20%20%20%20%29.addTo%28map_6560fea948844691ba52179ee6ab8c3a%29%3B%0A%20%20%20%20%20%20%20%20%0A%20%20%20%20%0A%20%20%20%20%20%20%20%20%20%20%20%20circle_a718d29f0c4d49acad1c4704b82014a1.bindTooltip%28%0A%20%20%20%20%20%20%20%20%20%20%20%20%20%20%20%20%60%3Cdiv%3E%0A%20%20%20%20%20%20%20%20%20%20%20%20%20%20%20%20%20%20%20%20%20%3Cli%3E%3Cbold%3E%20MUNICIPIO%3A%20Vila%20Isabel%3C/bold%3E%3Cli%3E%3Cli%3E%3Cbold%3E%20INTERNA%C3%87%C3%95ES%3A1%3C/bold%3E%3Cli%3E%0A%20%20%20%20%20%20%20%20%20%20%20%20%20%20%20%20%20%3C/div%3E%60%2C%0A%20%20%20%20%20%20%20%20%20%20%20%20%20%20%20%20%7B%22sticky%22%3A%20true%7D%0A%20%20%20%20%20%20%20%20%20%20%20%20%29%3B%0A%20%20%20%20%20%20%20%20%0A%20%20%20%20%0A%20%20%20%20%20%20%20%20%20%20%20%20var%20circle_c0f8f1b0834c451b861c076fdbbd533d%20%3D%20L.circle%28%0A%20%20%20%20%20%20%20%20%20%20%20%20%20%20%20%20%5B-22.9122259%2C%20-43.2886192%5D%2C%0A%20%20%20%20%20%20%20%20%20%20%20%20%20%20%20%20%7B%22bubblingMouseEvents%22%3A%20true%2C%20%22color%22%3A%20%22%2300FF69%22%2C%20%22dashArray%22%3A%20null%2C%20%22dashOffset%22%3A%20null%2C%20%22fill%22%3A%20%22%2300A1B3%22%2C%20%22fillColor%22%3A%20%22%2300FF69%22%2C%20%22fillOpacity%22%3A%200.2%2C%20%22fillRule%22%3A%20%22evenodd%22%2C%20%22lineCap%22%3A%20%22round%22%2C%20%22lineJoin%22%3A%20%22round%22%2C%20%22opacity%22%3A%201.0%2C%20%22radius%22%3A%201.0%2C%20%22stroke%22%3A%20true%2C%20%22weight%22%3A%203%7D%0A%20%20%20%20%20%20%20%20%20%20%20%20%29.addTo%28map_6560fea948844691ba52179ee6ab8c3a%29%3B%0A%20%20%20%20%20%20%20%20%0A%20%20%20%20%0A%20%20%20%20%20%20%20%20%20%20%20%20circle_c0f8f1b0834c451b861c076fdbbd533d.bindTooltip%28%0A%20%20%20%20%20%20%20%20%20%20%20%20%20%20%20%20%60%3Cdiv%3E%0A%20%20%20%20%20%20%20%20%20%20%20%20%20%20%20%20%20%20%20%20%20%3Cli%3E%3Cbold%3E%20MUNICIPIO%3A%20Lins%20de%20Vasconcelos%3C/bold%3E%3Cli%3E%3Cli%3E%3Cbold%3E%20INTERNA%C3%87%C3%95ES%3A1%3C/bold%3E%3Cli%3E%0A%20%20%20%20%20%20%20%20%20%20%20%20%20%20%20%20%20%3C/div%3E%60%2C%0A%20%20%20%20%20%20%20%20%20%20%20%20%20%20%20%20%7B%22sticky%22%3A%20true%7D%0A%20%20%20%20%20%20%20%20%20%20%20%20%29%3B%0A%20%20%20%20%20%20%20%20%0A%20%20%20%20%0A%20%20%20%20%20%20%20%20%20%20%20%20var%20circle_22d065a9ae0b4f4bb9aa172b1a51c251%20%3D%20L.circle%28%0A%20%20%20%20%20%20%20%20%20%20%20%20%20%20%20%20%5B-22.8674597%2C%20-43.4763679%5D%2C%0A%20%20%20%20%20%20%20%20%20%20%20%20%20%20%20%20%7B%22bubblingMouseEvents%22%3A%20true%2C%20%22color%22%3A%20%22%2300FF69%22%2C%20%22dashArray%22%3A%20null%2C%20%22dashOffset%22%3A%20null%2C%20%22fill%22%3A%20%22%2300A1B3%22%2C%20%22fillColor%22%3A%20%22%2300FF69%22%2C%20%22fillOpacity%22%3A%200.2%2C%20%22fillRule%22%3A%20%22evenodd%22%2C%20%22lineCap%22%3A%20%22round%22%2C%20%22lineJoin%22%3A%20%22round%22%2C%20%22opacity%22%3A%201.0%2C%20%22radius%22%3A%201.0%2C%20%22stroke%22%3A%20true%2C%20%22weight%22%3A%203%7D%0A%20%20%20%20%20%20%20%20%20%20%20%20%29.addTo%28map_6560fea948844691ba52179ee6ab8c3a%29%3B%0A%20%20%20%20%20%20%20%20%0A%20%20%20%20%0A%20%20%20%20%20%20%20%20%20%20%20%20circle_22d065a9ae0b4f4bb9aa172b1a51c251.bindTooltip%28%0A%20%20%20%20%20%20%20%20%20%20%20%20%20%20%20%20%60%3Cdiv%3E%0A%20%20%20%20%20%20%20%20%20%20%20%20%20%20%20%20%20%20%20%20%20%3Cli%3E%3Cbold%3E%20MUNICIPIO%3A%20Bangu%3C/bold%3E%3Cli%3E%3Cli%3E%3Cbold%3E%20INTERNA%C3%87%C3%95ES%3A1%3C/bold%3E%3Cli%3E%0A%20%20%20%20%20%20%20%20%20%20%20%20%20%20%20%20%20%3C/div%3E%60%2C%0A%20%20%20%20%20%20%20%20%20%20%20%20%20%20%20%20%7B%22sticky%22%3A%20true%7D%0A%20%20%20%20%20%20%20%20%20%20%20%20%29%3B%0A%20%20%20%20%20%20%20%20%0A%20%20%20%20%0A%20%20%20%20%20%20%20%20%20%20%20%20var%20circle_68920ffca6df4f93a27e73a3b4ea99c2%20%3D%20L.circle%28%0A%20%20%20%20%20%20%20%20%20%20%20%20%20%20%20%20%5B-22.9719313%2C%20-43.4139179%5D%2C%0A%20%20%20%20%20%20%20%20%20%20%20%20%20%20%20%20%7B%22bubblingMouseEvents%22%3A%20true%2C%20%22color%22%3A%20%22%2300FF69%22%2C%20%22dashArray%22%3A%20null%2C%20%22dashOffset%22%3A%20null%2C%20%22fill%22%3A%20%22%2300A1B3%22%2C%20%22fillColor%22%3A%20%22%2300FF69%22%2C%20%22fillOpacity%22%3A%200.2%2C%20%22fillRule%22%3A%20%22evenodd%22%2C%20%22lineCap%22%3A%20%22round%22%2C%20%22lineJoin%22%3A%20%22round%22%2C%20%22opacity%22%3A%201.0%2C%20%22radius%22%3A%201.0%2C%20%22stroke%22%3A%20true%2C%20%22weight%22%3A%203%7D%0A%20%20%20%20%20%20%20%20%20%20%20%20%29.addTo%28map_6560fea948844691ba52179ee6ab8c3a%29%3B%0A%20%20%20%20%20%20%20%20%0A%20%20%20%20%0A%20%20%20%20%20%20%20%20%20%20%20%20circle_68920ffca6df4f93a27e73a3b4ea99c2.bindTooltip%28%0A%20%20%20%20%20%20%20%20%20%20%20%20%20%20%20%20%60%3Cdiv%3E%0A%20%20%20%20%20%20%20%20%20%20%20%20%20%20%20%20%20%20%20%20%20%3Cli%3E%3Cbold%3E%20MUNICIPIO%3A%20Jacarepagu%C3%A1%3C/bold%3E%3Cli%3E%3Cli%3E%3Cbold%3E%20INTERNA%C3%87%C3%95ES%3A1%3C/bold%3E%3Cli%3E%0A%20%20%20%20%20%20%20%20%20%20%20%20%20%20%20%20%20%3C/div%3E%60%2C%0A%20%20%20%20%20%20%20%20%20%20%20%20%20%20%20%20%7B%22sticky%22%3A%20true%7D%0A%20%20%20%20%20%20%20%20%20%20%20%20%29%3B%0A%20%20%20%20%20%20%20%20%0A%20%20%20%20%0A%20%20%20%20%20%20%20%20%20%20%20%20var%20circle_db525fcfedab4c03bc0de62122dcf949%20%3D%20L.circle%28%0A%20%20%20%20%20%20%20%20%20%20%20%20%20%20%20%20%5B-22.9140566%2C%20-43.2741219%5D%2C%0A%20%20%20%20%20%20%20%20%20%20%20%20%20%20%20%20%7B%22bubblingMouseEvents%22%3A%20true%2C%20%22color%22%3A%20%22%2300FF69%22%2C%20%22dashArray%22%3A%20null%2C%20%22dashOffset%22%3A%20null%2C%20%22fill%22%3A%20%22%2300A1B3%22%2C%20%22fillColor%22%3A%20%22%2300FF69%22%2C%20%22fillOpacity%22%3A%200.2%2C%20%22fillRule%22%3A%20%22evenodd%22%2C%20%22lineCap%22%3A%20%22round%22%2C%20%22lineJoin%22%3A%20%22round%22%2C%20%22opacity%22%3A%201.0%2C%20%22radius%22%3A%201.0%2C%20%22stroke%22%3A%20true%2C%20%22weight%22%3A%203%7D%0A%20%20%20%20%20%20%20%20%20%20%20%20%29.addTo%28map_6560fea948844691ba52179ee6ab8c3a%29%3B%0A%20%20%20%20%20%20%20%20%0A%20%20%20%20%0A%20%20%20%20%20%20%20%20%20%20%20%20circle_db525fcfedab4c03bc0de62122dcf949.bindTooltip%28%0A%20%20%20%20%20%20%20%20%20%20%20%20%20%20%20%20%60%3Cdiv%3E%0A%20%20%20%20%20%20%20%20%20%20%20%20%20%20%20%20%20%20%20%20%20%3Cli%3E%3Cbold%3E%20MUNICIPIO%3A%20Engenho%20Novo%3C/bold%3E%3Cli%3E%3Cli%3E%3Cbold%3E%20INTERNA%C3%87%C3%95ES%3A1%3C/bold%3E%3Cli%3E%0A%20%20%20%20%20%20%20%20%20%20%20%20%20%20%20%20%20%3C/div%3E%60%2C%0A%20%20%20%20%20%20%20%20%20%20%20%20%20%20%20%20%7B%22sticky%22%3A%20true%7D%0A%20%20%20%20%20%20%20%20%20%20%20%20%29%3B%0A%20%20%20%20%20%20%20%20%0A%20%20%20%20%0A%20%20%20%20%20%20%20%20%20%20%20%20var%20circle_5be662052597486fa17b49ab766da5e9%20%3D%20L.circle%28%0A%20%20%20%20%20%20%20%20%20%20%20%20%20%20%20%20%5B-22.8925067%2C%20-43.287608%5D%2C%0A%20%20%20%20%20%20%20%20%20%20%20%20%20%20%20%20%7B%22bubblingMouseEvents%22%3A%20true%2C%20%22color%22%3A%20%22%2300FF69%22%2C%20%22dashArray%22%3A%20null%2C%20%22dashOffset%22%3A%20null%2C%20%22fill%22%3A%20%22%2300A1B3%22%2C%20%22fillColor%22%3A%20%22%2300FF69%22%2C%20%22fillOpacity%22%3A%200.2%2C%20%22fillRule%22%3A%20%22evenodd%22%2C%20%22lineCap%22%3A%20%22round%22%2C%20%22lineJoin%22%3A%20%22round%22%2C%20%22opacity%22%3A%201.0%2C%20%22radius%22%3A%201.0%2C%20%22stroke%22%3A%20true%2C%20%22weight%22%3A%203%7D%0A%20%20%20%20%20%20%20%20%20%20%20%20%29.addTo%28map_6560fea948844691ba52179ee6ab8c3a%29%3B%0A%20%20%20%20%20%20%20%20%0A%20%20%20%20%0A%20%20%20%20%20%20%20%20%20%20%20%20circle_5be662052597486fa17b49ab766da5e9.bindTooltip%28%0A%20%20%20%20%20%20%20%20%20%20%20%20%20%20%20%20%60%3Cdiv%3E%0A%20%20%20%20%20%20%20%20%20%20%20%20%20%20%20%20%20%20%20%20%20%3Cli%3E%3Cbold%3E%20MUNICIPIO%3A%20Todos%20os%20Santos%3C/bold%3E%3Cli%3E%3Cli%3E%3Cbold%3E%20INTERNA%C3%87%C3%95ES%3A1%3C/bold%3E%3Cli%3E%0A%20%20%20%20%20%20%20%20%20%20%20%20%20%20%20%20%20%3C/div%3E%60%2C%0A%20%20%20%20%20%20%20%20%20%20%20%20%20%20%20%20%7B%22sticky%22%3A%20true%7D%0A%20%20%20%20%20%20%20%20%20%20%20%20%29%3B%0A%20%20%20%20%20%20%20%20%0A%20%20%20%20%0A%20%20%20%20%20%20%20%20%20%20%20%20var%20circle_813c7ce0f1ca43fca93bd08c32be35c1%20%3D%20L.circle%28%0A%20%20%20%20%20%20%20%20%20%20%20%20%20%20%20%20%5B-22.9329283%2C%20-43.2573788%5D%2C%0A%20%20%20%20%20%20%20%20%20%20%20%20%20%20%20%20%7B%22bubblingMouseEvents%22%3A%20true%2C%20%22color%22%3A%20%22%2300FF69%22%2C%20%22dashArray%22%3A%20null%2C%20%22dashOffset%22%3A%20null%2C%20%22fill%22%3A%20%22%2300A1B3%22%2C%20%22fillColor%22%3A%20%22%2300FF69%22%2C%20%22fillOpacity%22%3A%200.2%2C%20%22fillRule%22%3A%20%22evenodd%22%2C%20%22lineCap%22%3A%20%22round%22%2C%20%22lineJoin%22%3A%20%22round%22%2C%20%22opacity%22%3A%201.0%2C%20%22radius%22%3A%201.0%2C%20%22stroke%22%3A%20true%2C%20%22weight%22%3A%203%7D%0A%20%20%20%20%20%20%20%20%20%20%20%20%29.addTo%28map_6560fea948844691ba52179ee6ab8c3a%29%3B%0A%20%20%20%20%20%20%20%20%0A%20%20%20%20%0A%20%20%20%20%20%20%20%20%20%20%20%20circle_813c7ce0f1ca43fca93bd08c32be35c1.bindTooltip%28%0A%20%20%20%20%20%20%20%20%20%20%20%20%20%20%20%20%60%3Cdiv%3E%0A%20%20%20%20%20%20%20%20%20%20%20%20%20%20%20%20%20%20%20%20%20%3Cli%3E%3Cbold%3E%20MUNICIPIO%3A%20Andara%C3%AD%3C/bold%3E%3Cli%3E%3Cli%3E%3Cbold%3E%20INTERNA%C3%87%C3%95ES%3A1%3C/bold%3E%3Cli%3E%0A%20%20%20%20%20%20%20%20%20%20%20%20%20%20%20%20%20%3C/div%3E%60%2C%0A%20%20%20%20%20%20%20%20%20%20%20%20%20%20%20%20%7B%22sticky%22%3A%20true%7D%0A%20%20%20%20%20%20%20%20%20%20%20%20%29%3B%0A%20%20%20%20%20%20%20%20%0A%20%20%20%20%0A%20%20%20%20%20%20%20%20%20%20%20%20var%20circle_ea979c1ebe4d4767bfcf349d370638fd%20%3D%20L.circle%28%0A%20%20%20%20%20%20%20%20%20%20%20%20%20%20%20%20%5B-22.8778991%2C%20-43.2544421%5D%2C%0A%20%20%20%20%20%20%20%20%20%20%20%20%20%20%20%20%7B%22bubblingMouseEvents%22%3A%20true%2C%20%22color%22%3A%20%22%2300FF69%22%2C%20%22dashArray%22%3A%20null%2C%20%22dashOffset%22%3A%20null%2C%20%22fill%22%3A%20%22%2300A1B3%22%2C%20%22fillColor%22%3A%20%22%2300FF69%22%2C%20%22fillOpacity%22%3A%200.2%2C%20%22fillRule%22%3A%20%22evenodd%22%2C%20%22lineCap%22%3A%20%22round%22%2C%20%22lineJoin%22%3A%20%22round%22%2C%20%22opacity%22%3A%201.0%2C%20%22radius%22%3A%201.0%2C%20%22stroke%22%3A%20true%2C%20%22weight%22%3A%203%7D%0A%20%20%20%20%20%20%20%20%20%20%20%20%29.addTo%28map_6560fea948844691ba52179ee6ab8c3a%29%3B%0A%20%20%20%20%20%20%20%20%0A%20%20%20%20%0A%20%20%20%20%20%20%20%20%20%20%20%20circle_ea979c1ebe4d4767bfcf349d370638fd.bindTooltip%28%0A%20%20%20%20%20%20%20%20%20%20%20%20%20%20%20%20%60%3Cdiv%3E%0A%20%20%20%20%20%20%20%20%20%20%20%20%20%20%20%20%20%20%20%20%20%3Cli%3E%3Cbold%3E%20MUNICIPIO%3A%20Manguinhos%3C/bold%3E%3Cli%3E%3Cli%3E%3Cbold%3E%20INTERNA%C3%87%C3%95ES%3A1%3C/bold%3E%3Cli%3E%0A%20%20%20%20%20%20%20%20%20%20%20%20%20%20%20%20%20%3C/div%3E%60%2C%0A%20%20%20%20%20%20%20%20%20%20%20%20%20%20%20%20%7B%22sticky%22%3A%20true%7D%0A%20%20%20%20%20%20%20%20%20%20%20%20%29%3B%0A%20%20%20%20%20%20%20%20%0A%20%20%20%20%0A%20%20%20%20%20%20%20%20%20%20%20%20var%20circle_dd3891634c9240999866b10fbdca1f4f%20%3D%20L.circle%28%0A%20%20%20%20%20%20%20%20%20%20%20%20%20%20%20%20%5B-22.8749964%2C%20-43.4985101%5D%2C%0A%20%20%20%20%20%20%20%20%20%20%20%20%20%20%20%20%7B%22bubblingMouseEvents%22%3A%20true%2C%20%22color%22%3A%20%22%2300FF69%22%2C%20%22dashArray%22%3A%20null%2C%20%22dashOffset%22%3A%20null%2C%20%22fill%22%3A%20%22%2300A1B3%22%2C%20%22fillColor%22%3A%20%22%2300FF69%22%2C%20%22fillOpacity%22%3A%200.2%2C%20%22fillRule%22%3A%20%22evenodd%22%2C%20%22lineCap%22%3A%20%22round%22%2C%20%22lineJoin%22%3A%20%22round%22%2C%20%22opacity%22%3A%201.0%2C%20%22radius%22%3A%201.0%2C%20%22stroke%22%3A%20true%2C%20%22weight%22%3A%203%7D%0A%20%20%20%20%20%20%20%20%20%20%20%20%29.addTo%28map_6560fea948844691ba52179ee6ab8c3a%29%3B%0A%20%20%20%20%20%20%20%20%0A%20%20%20%20%0A%20%20%20%20%20%20%20%20%20%20%20%20circle_dd3891634c9240999866b10fbdca1f4f.bindTooltip%28%0A%20%20%20%20%20%20%20%20%20%20%20%20%20%20%20%20%60%3Cdiv%3E%0A%20%20%20%20%20%20%20%20%20%20%20%20%20%20%20%20%20%20%20%20%20%3Cli%3E%3Cbold%3E%20MUNICIPIO%3A%20Senador%20Camar%C3%A1%3C/bold%3E%3Cli%3E%3Cli%3E%3Cbold%3E%20INTERNA%C3%87%C3%95ES%3A1%3C/bold%3E%3Cli%3E%0A%20%20%20%20%20%20%20%20%20%20%20%20%20%20%20%20%20%3C/div%3E%60%2C%0A%20%20%20%20%20%20%20%20%20%20%20%20%20%20%20%20%7B%22sticky%22%3A%20true%7D%0A%20%20%20%20%20%20%20%20%20%20%20%20%29%3B%0A%20%20%20%20%20%20%20%20%0A%20%20%20%20%0A%20%20%20%20%20%20%20%20%20%20%20%20var%20circle_5ddb4e2193754cfa89ff8807fa4f4cfd%20%3D%20L.circle%28%0A%20%20%20%20%20%20%20%20%20%20%20%20%20%20%20%20%5B-22.8370879%2C%20-43.3680663%5D%2C%0A%20%20%20%20%20%20%20%20%20%20%20%20%20%20%20%20%7B%22bubblingMouseEvents%22%3A%20true%2C%20%22color%22%3A%20%22%2300FF69%22%2C%20%22dashArray%22%3A%20null%2C%20%22dashOffset%22%3A%20null%2C%20%22fill%22%3A%20%22%2300A1B3%22%2C%20%22fillColor%22%3A%20%22%2300FF69%22%2C%20%22fillOpacity%22%3A%200.2%2C%20%22fillRule%22%3A%20%22evenodd%22%2C%20%22lineCap%22%3A%20%22round%22%2C%20%22lineJoin%22%3A%20%22round%22%2C%20%22opacity%22%3A%201.0%2C%20%22radius%22%3A%201.0%2C%20%22stroke%22%3A%20true%2C%20%22weight%22%3A%203%7D%0A%20%20%20%20%20%20%20%20%20%20%20%20%29.addTo%28map_6560fea948844691ba52179ee6ab8c3a%29%3B%0A%20%20%20%20%20%20%20%20%0A%20%20%20%20%0A%20%20%20%20%20%20%20%20%20%20%20%20circle_5ddb4e2193754cfa89ff8807fa4f4cfd.bindTooltip%28%0A%20%20%20%20%20%20%20%20%20%20%20%20%20%20%20%20%60%3Cdiv%3E%0A%20%20%20%20%20%20%20%20%20%20%20%20%20%20%20%20%20%20%20%20%20%3Cli%3E%3Cbold%3E%20MUNICIPIO%3A%20Barros%20Filho%3C/bold%3E%3Cli%3E%3Cli%3E%3Cbold%3E%20INTERNA%C3%87%C3%95ES%3A1%3C/bold%3E%3Cli%3E%0A%20%20%20%20%20%20%20%20%20%20%20%20%20%20%20%20%20%3C/div%3E%60%2C%0A%20%20%20%20%20%20%20%20%20%20%20%20%20%20%20%20%7B%22sticky%22%3A%20true%7D%0A%20%20%20%20%20%20%20%20%20%20%20%20%29%3B%0A%20%20%20%20%20%20%20%20%0A%20%20%20%20%0A%20%20%20%20%20%20%20%20%20%20%20%20var%20circle_e55791b5498c43708b65b9a58803a3c4%20%3D%20L.circle%28%0A%20%20%20%20%20%20%20%20%20%20%20%20%20%20%20%20%5B-22.8611941%2C%20-43.2488858%5D%2C%0A%20%20%20%20%20%20%20%20%20%20%20%20%20%20%20%20%7B%22bubblingMouseEvents%22%3A%20true%2C%20%22color%22%3A%20%22%2300FF69%22%2C%20%22dashArray%22%3A%20null%2C%20%22dashOffset%22%3A%20null%2C%20%22fill%22%3A%20%22%2300A1B3%22%2C%20%22fillColor%22%3A%20%22%2300FF69%22%2C%20%22fillOpacity%22%3A%200.2%2C%20%22fillRule%22%3A%20%22evenodd%22%2C%20%22lineCap%22%3A%20%22round%22%2C%20%22lineJoin%22%3A%20%22round%22%2C%20%22opacity%22%3A%201.0%2C%20%22radius%22%3A%201.0%2C%20%22stroke%22%3A%20true%2C%20%22weight%22%3A%203%7D%0A%20%20%20%20%20%20%20%20%20%20%20%20%29.addTo%28map_6560fea948844691ba52179ee6ab8c3a%29%3B%0A%20%20%20%20%20%20%20%20%0A%20%20%20%20%0A%20%20%20%20%20%20%20%20%20%20%20%20circle_e55791b5498c43708b65b9a58803a3c4.bindTooltip%28%0A%20%20%20%20%20%20%20%20%20%20%20%20%20%20%20%20%60%3Cdiv%3E%0A%20%20%20%20%20%20%20%20%20%20%20%20%20%20%20%20%20%20%20%20%20%3Cli%3E%3Cbold%3E%20MUNICIPIO%3A%20Bonsucesso%3C/bold%3E%3Cli%3E%3Cli%3E%3Cbold%3E%20INTERNA%C3%87%C3%95ES%3A1%3C/bold%3E%3Cli%3E%0A%20%20%20%20%20%20%20%20%20%20%20%20%20%20%20%20%20%3C/div%3E%60%2C%0A%20%20%20%20%20%20%20%20%20%20%20%20%20%20%20%20%7B%22sticky%22%3A%20true%7D%0A%20%20%20%20%20%20%20%20%20%20%20%20%29%3B%0A%20%20%20%20%20%20%20%20%0A%20%20%20%20%0A%20%20%20%20%20%20%20%20%20%20%20%20var%20circle_6c6e90284a114e3494aa67532c0b1d09%20%3D%20L.circle%28%0A%20%20%20%20%20%20%20%20%20%20%20%20%20%20%20%20%5B-22.7881582%2C%20-43.2283004%5D%2C%0A%20%20%20%20%20%20%20%20%20%20%20%20%20%20%20%20%7B%22bubblingMouseEvents%22%3A%20true%2C%20%22color%22%3A%20%22%2300FF69%22%2C%20%22dashArray%22%3A%20null%2C%20%22dashOffset%22%3A%20null%2C%20%22fill%22%3A%20%22%2300A1B3%22%2C%20%22fillColor%22%3A%20%22%2300FF69%22%2C%20%22fillOpacity%22%3A%200.2%2C%20%22fillRule%22%3A%20%22evenodd%22%2C%20%22lineCap%22%3A%20%22round%22%2C%20%22lineJoin%22%3A%20%22round%22%2C%20%22opacity%22%3A%201.0%2C%20%22radius%22%3A%201.0%2C%20%22stroke%22%3A%20true%2C%20%22weight%22%3A%203%7D%0A%20%20%20%20%20%20%20%20%20%20%20%20%29.addTo%28map_6560fea948844691ba52179ee6ab8c3a%29%3B%0A%20%20%20%20%20%20%20%20%0A%20%20%20%20%0A%20%20%20%20%20%20%20%20%20%20%20%20circle_6c6e90284a114e3494aa67532c0b1d09.bindTooltip%28%0A%20%20%20%20%20%20%20%20%20%20%20%20%20%20%20%20%60%3Cdiv%3E%0A%20%20%20%20%20%20%20%20%20%20%20%20%20%20%20%20%20%20%20%20%20%3Cli%3E%3Cbold%3E%20MUNICIPIO%3A%20Tubiacanga%3C/bold%3E%3Cli%3E%3Cli%3E%3Cbold%3E%20INTERNA%C3%87%C3%95ES%3A1%3C/bold%3E%3Cli%3E%0A%20%20%20%20%20%20%20%20%20%20%20%20%20%20%20%20%20%3C/div%3E%60%2C%0A%20%20%20%20%20%20%20%20%20%20%20%20%20%20%20%20%7B%22sticky%22%3A%20true%7D%0A%20%20%20%20%20%20%20%20%20%20%20%20%29%3B%0A%20%20%20%20%20%20%20%20%0A%20%20%20%20%0A%20%20%20%20%20%20%20%20%20%20%20%20var%20circle_a8577c5ad32b4a618f03f75f2d1db539%20%3D%20L.circle%28%0A%20%20%20%20%20%20%20%20%20%20%20%20%20%20%20%20%5B-22.9267537%2C%20-43.2635737%5D%2C%0A%20%20%20%20%20%20%20%20%20%20%20%20%20%20%20%20%7B%22bubblingMouseEvents%22%3A%20true%2C%20%22color%22%3A%20%22%2300FF69%22%2C%20%22dashArray%22%3A%20null%2C%20%22dashOffset%22%3A%20null%2C%20%22fill%22%3A%20%22%2300A1B3%22%2C%20%22fillColor%22%3A%20%22%2300FF69%22%2C%20%22fillOpacity%22%3A%200.2%2C%20%22fillRule%22%3A%20%22evenodd%22%2C%20%22lineCap%22%3A%20%22round%22%2C%20%22lineJoin%22%3A%20%22round%22%2C%20%22opacity%22%3A%201.0%2C%20%22radius%22%3A%201.0%2C%20%22stroke%22%3A%20true%2C%20%22weight%22%3A%203%7D%0A%20%20%20%20%20%20%20%20%20%20%20%20%29.addTo%28map_6560fea948844691ba52179ee6ab8c3a%29%3B%0A%20%20%20%20%20%20%20%20%0A%20%20%20%20%0A%20%20%20%20%20%20%20%20%20%20%20%20circle_a8577c5ad32b4a618f03f75f2d1db539.bindTooltip%28%0A%20%20%20%20%20%20%20%20%20%20%20%20%20%20%20%20%60%3Cdiv%3E%0A%20%20%20%20%20%20%20%20%20%20%20%20%20%20%20%20%20%20%20%20%20%3Cli%3E%3Cbold%3E%20MUNICIPIO%3A%20Graja%C3%BA%3C/bold%3E%3Cli%3E%3Cli%3E%3Cbold%3E%20INTERNA%C3%87%C3%95ES%3A1%3C/bold%3E%3Cli%3E%0A%20%20%20%20%20%20%20%20%20%20%20%20%20%20%20%20%20%3C/div%3E%60%2C%0A%20%20%20%20%20%20%20%20%20%20%20%20%20%20%20%20%7B%22sticky%22%3A%20true%7D%0A%20%20%20%20%20%20%20%20%20%20%20%20%29%3B%0A%20%20%20%20%20%20%20%20%0A%20%20%20%20%0A%20%20%20%20%20%20%20%20%20%20%20%20var%20circle_ad75ff3988ef4d538ebffa2acb61db54%20%3D%20L.circle%28%0A%20%20%20%20%20%20%20%20%20%20%20%20%20%20%20%20%5B-22.8559181%2C%20-43.3884427%5D%2C%0A%20%20%20%20%20%20%20%20%20%20%20%20%20%20%20%20%7B%22bubblingMouseEvents%22%3A%20true%2C%20%22color%22%3A%20%22%2300FF69%22%2C%20%22dashArray%22%3A%20null%2C%20%22dashOffset%22%3A%20null%2C%20%22fill%22%3A%20%22%2300A1B3%22%2C%20%22fillColor%22%3A%20%22%2300FF69%22%2C%20%22fillOpacity%22%3A%200.2%2C%20%22fillRule%22%3A%20%22evenodd%22%2C%20%22lineCap%22%3A%20%22round%22%2C%20%22lineJoin%22%3A%20%22round%22%2C%20%22opacity%22%3A%201.0%2C%20%22radius%22%3A%201.0%2C%20%22stroke%22%3A%20true%2C%20%22weight%22%3A%203%7D%0A%20%20%20%20%20%20%20%20%20%20%20%20%29.addTo%28map_6560fea948844691ba52179ee6ab8c3a%29%3B%0A%20%20%20%20%20%20%20%20%0A%20%20%20%20%0A%20%20%20%20%20%20%20%20%20%20%20%20circle_ad75ff3988ef4d538ebffa2acb61db54.bindTooltip%28%0A%20%20%20%20%20%20%20%20%20%20%20%20%20%20%20%20%60%3Cdiv%3E%0A%20%20%20%20%20%20%20%20%20%20%20%20%20%20%20%20%20%20%20%20%20%3Cli%3E%3Cbold%3E%20MUNICIPIO%3A%20Deodoro%3C/bold%3E%3Cli%3E%3Cli%3E%3Cbold%3E%20INTERNA%C3%87%C3%95ES%3A1%3C/bold%3E%3Cli%3E%0A%20%20%20%20%20%20%20%20%20%20%20%20%20%20%20%20%20%3C/div%3E%60%2C%0A%20%20%20%20%20%20%20%20%20%20%20%20%20%20%20%20%7B%22sticky%22%3A%20true%7D%0A%20%20%20%20%20%20%20%20%20%20%20%20%29%3B%0A%20%20%20%20%20%20%20%20%0A%20%20%20%20%0A%20%20%20%20%20%20%20%20%20%20%20%20var%20circle_84d2d08bee9b497eafe8a8f8e7fdbb53%20%3D%20L.circle%28%0A%20%20%20%20%20%20%20%20%20%20%20%20%20%20%20%20%5B-22.8631956%2C%20-43.2395044%5D%2C%0A%20%20%20%20%20%20%20%20%20%20%20%20%20%20%20%20%7B%22bubblingMouseEvents%22%3A%20true%2C%20%22color%22%3A%20%22%2300FF69%22%2C%20%22dashArray%22%3A%20null%2C%20%22dashOffset%22%3A%20null%2C%20%22fill%22%3A%20%22%2300A1B3%22%2C%20%22fillColor%22%3A%20%22%2300FF69%22%2C%20%22fillOpacity%22%3A%200.2%2C%20%22fillRule%22%3A%20%22evenodd%22%2C%20%22lineCap%22%3A%20%22round%22%2C%20%22lineJoin%22%3A%20%22round%22%2C%20%22opacity%22%3A%201.0%2C%20%22radius%22%3A%201.0%2C%20%22stroke%22%3A%20true%2C%20%22weight%22%3A%203%7D%0A%20%20%20%20%20%20%20%20%20%20%20%20%29.addTo%28map_6560fea948844691ba52179ee6ab8c3a%29%3B%0A%20%20%20%20%20%20%20%20%0A%20%20%20%20%0A%20%20%20%20%20%20%20%20%20%20%20%20circle_84d2d08bee9b497eafe8a8f8e7fdbb53.bindTooltip%28%0A%20%20%20%20%20%20%20%20%20%20%20%20%20%20%20%20%60%3Cdiv%3E%0A%20%20%20%20%20%20%20%20%20%20%20%20%20%20%20%20%20%20%20%20%20%3Cli%3E%3Cbold%3E%20MUNICIPIO%3A%20Mar%C3%A9%3C/bold%3E%3Cli%3E%3Cli%3E%3Cbold%3E%20INTERNA%C3%87%C3%95ES%3A1%3C/bold%3E%3Cli%3E%0A%20%20%20%20%20%20%20%20%20%20%20%20%20%20%20%20%20%3C/div%3E%60%2C%0A%20%20%20%20%20%20%20%20%20%20%20%20%20%20%20%20%7B%22sticky%22%3A%20true%7D%0A%20%20%20%20%20%20%20%20%20%20%20%20%29%3B%0A%20%20%20%20%20%20%20%20%0A%20%20%20%20%0A%20%20%20%20%20%20%20%20%20%20%20%20var%20circle_5bc1e81befbd4000b6aabe58eaf6d7a4%20%3D%20L.circle%28%0A%20%20%20%20%20%20%20%20%20%20%20%20%20%20%20%20%5B-22.8359201%2C%20-43.3221763%5D%2C%0A%20%20%20%20%20%20%20%20%20%20%20%20%20%20%20%20%7B%22bubblingMouseEvents%22%3A%20true%2C%20%22color%22%3A%20%22%2300FF69%22%2C%20%22dashArray%22%3A%20null%2C%20%22dashOffset%22%3A%20null%2C%20%22fill%22%3A%20%22%2300A1B3%22%2C%20%22fillColor%22%3A%20%22%2300FF69%22%2C%20%22fillOpacity%22%3A%200.2%2C%20%22fillRule%22%3A%20%22evenodd%22%2C%20%22lineCap%22%3A%20%22round%22%2C%20%22lineJoin%22%3A%20%22round%22%2C%20%22opacity%22%3A%201.0%2C%20%22radius%22%3A%201.0%2C%20%22stroke%22%3A%20true%2C%20%22weight%22%3A%203%7D%0A%20%20%20%20%20%20%20%20%20%20%20%20%29.addTo%28map_6560fea948844691ba52179ee6ab8c3a%29%3B%0A%20%20%20%20%20%20%20%20%0A%20%20%20%20%0A%20%20%20%20%20%20%20%20%20%20%20%20circle_5bc1e81befbd4000b6aabe58eaf6d7a4.bindTooltip%28%0A%20%20%20%20%20%20%20%20%20%20%20%20%20%20%20%20%60%3Cdiv%3E%0A%20%20%20%20%20%20%20%20%20%20%20%20%20%20%20%20%20%20%20%20%20%3Cli%3E%3Cbold%3E%20MUNICIPIO%3A%20Iraj%C3%A1%3C/bold%3E%3Cli%3E%3Cli%3E%3Cbold%3E%20INTERNA%C3%87%C3%95ES%3A1%3C/bold%3E%3Cli%3E%0A%20%20%20%20%20%20%20%20%20%20%20%20%20%20%20%20%20%3C/div%3E%60%2C%0A%20%20%20%20%20%20%20%20%20%20%20%20%20%20%20%20%7B%22sticky%22%3A%20true%7D%0A%20%20%20%20%20%20%20%20%20%20%20%20%29%3B%0A%20%20%20%20%20%20%20%20%0A%20%20%20%20%0A%20%20%20%20%20%20%20%20%20%20%20%20var%20circle_f5c80f90a9294282b59dfcb054e5c1ba%20%3D%20L.circle%28%0A%20%20%20%20%20%20%20%20%20%20%20%20%20%20%20%20%5B-22.994948%2C%20-43.249178228651886%5D%2C%0A%20%20%20%20%20%20%20%20%20%20%20%20%20%20%20%20%7B%22bubblingMouseEvents%22%3A%20true%2C%20%22color%22%3A%20%22%2300FF69%22%2C%20%22dashArray%22%3A%20null%2C%20%22dashOffset%22%3A%20null%2C%20%22fill%22%3A%20%22%2300A1B3%22%2C%20%22fillColor%22%3A%20%22%2300FF69%22%2C%20%22fillOpacity%22%3A%200.2%2C%20%22fillRule%22%3A%20%22evenodd%22%2C%20%22lineCap%22%3A%20%22round%22%2C%20%22lineJoin%22%3A%20%22round%22%2C%20%22opacity%22%3A%201.0%2C%20%22radius%22%3A%201.0%2C%20%22stroke%22%3A%20true%2C%20%22weight%22%3A%203%7D%0A%20%20%20%20%20%20%20%20%20%20%20%20%29.addTo%28map_6560fea948844691ba52179ee6ab8c3a%29%3B%0A%20%20%20%20%20%20%20%20%0A%20%20%20%20%0A%20%20%20%20%20%20%20%20%20%20%20%20circle_f5c80f90a9294282b59dfcb054e5c1ba.bindTooltip%28%0A%20%20%20%20%20%20%20%20%20%20%20%20%20%20%20%20%60%3Cdiv%3E%0A%20%20%20%20%20%20%20%20%20%20%20%20%20%20%20%20%20%20%20%20%20%3Cli%3E%3Cbold%3E%20MUNICIPIO%3A%20Rocinha%3C/bold%3E%3Cli%3E%3Cli%3E%3Cbold%3E%20INTERNA%C3%87%C3%95ES%3A1%3C/bold%3E%3Cli%3E%0A%20%20%20%20%20%20%20%20%20%20%20%20%20%20%20%20%20%3C/div%3E%60%2C%0A%20%20%20%20%20%20%20%20%20%20%20%20%20%20%20%20%7B%22sticky%22%3A%20true%7D%0A%20%20%20%20%20%20%20%20%20%20%20%20%29%3B%0A%20%20%20%20%20%20%20%20%0A%20%20%20%20%0A%20%20%20%20%20%20%20%20%20%20%20%20var%20circle_ec12b38004974c38ba2c7ddf572fee5e%20%3D%20L.circle%28%0A%20%20%20%20%20%20%20%20%20%20%20%20%20%20%20%20%5B-22.8420676%2C%20-43.3797289%5D%2C%0A%20%20%20%20%20%20%20%20%20%20%20%20%20%20%20%20%7B%22bubblingMouseEvents%22%3A%20true%2C%20%22color%22%3A%20%22%2300FF69%22%2C%20%22dashArray%22%3A%20null%2C%20%22dashOffset%22%3A%20null%2C%20%22fill%22%3A%20%22%2300A1B3%22%2C%20%22fillColor%22%3A%20%22%2300FF69%22%2C%20%22fillOpacity%22%3A%200.2%2C%20%22fillRule%22%3A%20%22evenodd%22%2C%20%22lineCap%22%3A%20%22round%22%2C%20%22lineJoin%22%3A%20%22round%22%2C%20%22opacity%22%3A%201.0%2C%20%22radius%22%3A%201.0%2C%20%22stroke%22%3A%20true%2C%20%22weight%22%3A%203%7D%0A%20%20%20%20%20%20%20%20%20%20%20%20%29.addTo%28map_6560fea948844691ba52179ee6ab8c3a%29%3B%0A%20%20%20%20%20%20%20%20%0A%20%20%20%20%0A%20%20%20%20%20%20%20%20%20%20%20%20circle_ec12b38004974c38ba2c7ddf572fee5e.bindTooltip%28%0A%20%20%20%20%20%20%20%20%20%20%20%20%20%20%20%20%60%3Cdiv%3E%0A%20%20%20%20%20%20%20%20%20%20%20%20%20%20%20%20%20%20%20%20%20%3Cli%3E%3Cbold%3E%20MUNICIPIO%3A%20Guadalupe%3C/bold%3E%3Cli%3E%3Cli%3E%3Cbold%3E%20INTERNA%C3%87%C3%95ES%3A1%3C/bold%3E%3Cli%3E%0A%20%20%20%20%20%20%20%20%20%20%20%20%20%20%20%20%20%3C/div%3E%60%2C%0A%20%20%20%20%20%20%20%20%20%20%20%20%20%20%20%20%7B%22sticky%22%3A%20true%7D%0A%20%20%20%20%20%20%20%20%20%20%20%20%29%3B%0A%20%20%20%20%20%20%20%20%0A%20%20%20%20%0A%20%20%20%20%20%20%20%20%20%20%20%20var%20circle_60402915a9224f558d483c1f7eed7827%20%3D%20L.circle%28%0A%20%20%20%20%20%20%20%20%20%20%20%20%20%20%20%20%5B-22.9851069%2C%20-43.2181385%5D%2C%0A%20%20%20%20%20%20%20%20%20%20%20%20%20%20%20%20%7B%22bubblingMouseEvents%22%3A%20true%2C%20%22color%22%3A%20%22%2300FF69%22%2C%20%22dashArray%22%3A%20null%2C%20%22dashOffset%22%3A%20null%2C%20%22fill%22%3A%20%22%2300A1B3%22%2C%20%22fillColor%22%3A%20%22%2300FF69%22%2C%20%22fillOpacity%22%3A%200.2%2C%20%22fillRule%22%3A%20%22evenodd%22%2C%20%22lineCap%22%3A%20%22round%22%2C%20%22lineJoin%22%3A%20%22round%22%2C%20%22opacity%22%3A%201.0%2C%20%22radius%22%3A%201.0%2C%20%22stroke%22%3A%20true%2C%20%22weight%22%3A%203%7D%0A%20%20%20%20%20%20%20%20%20%20%20%20%29.addTo%28map_6560fea948844691ba52179ee6ab8c3a%29%3B%0A%20%20%20%20%20%20%20%20%0A%20%20%20%20%0A%20%20%20%20%20%20%20%20%20%20%20%20circle_60402915a9224f558d483c1f7eed7827.bindTooltip%28%0A%20%20%20%20%20%20%20%20%20%20%20%20%20%20%20%20%60%3Cdiv%3E%0A%20%20%20%20%20%20%20%20%20%20%20%20%20%20%20%20%20%20%20%20%20%3Cli%3E%3Cbold%3E%20MUNICIPIO%3A%20Leblon%3C/bold%3E%3Cli%3E%3Cli%3E%3Cbold%3E%20INTERNA%C3%87%C3%95ES%3A1%3C/bold%3E%3Cli%3E%0A%20%20%20%20%20%20%20%20%20%20%20%20%20%20%20%20%20%3C/div%3E%60%2C%0A%20%20%20%20%20%20%20%20%20%20%20%20%20%20%20%20%7B%22sticky%22%3A%20true%7D%0A%20%20%20%20%20%20%20%20%20%20%20%20%29%3B%0A%20%20%20%20%20%20%20%20%0A%20%20%20%20%0A%20%20%20%20%20%20%20%20%20%20%20%20var%20circle_d17c407e0e80446289800067849b79ed%20%3D%20L.circle%28%0A%20%20%20%20%20%20%20%20%20%20%20%20%20%20%20%20%5B-22.9677373%2C%20-43.3360729%5D%2C%0A%20%20%20%20%20%20%20%20%20%20%20%20%20%20%20%20%7B%22bubblingMouseEvents%22%3A%20true%2C%20%22color%22%3A%20%22%2300FF69%22%2C%20%22dashArray%22%3A%20null%2C%20%22dashOffset%22%3A%20null%2C%20%22fill%22%3A%20%22%2300A1B3%22%2C%20%22fillColor%22%3A%20%22%2300FF69%22%2C%20%22fillOpacity%22%3A%200.2%2C%20%22fillRule%22%3A%20%22evenodd%22%2C%20%22lineCap%22%3A%20%22round%22%2C%20%22lineJoin%22%3A%20%22round%22%2C%20%22opacity%22%3A%201.0%2C%20%22radius%22%3A%201.0%2C%20%22stroke%22%3A%20true%2C%20%22weight%22%3A%203%7D%0A%20%20%20%20%20%20%20%20%20%20%20%20%29.addTo%28map_6560fea948844691ba52179ee6ab8c3a%29%3B%0A%20%20%20%20%20%20%20%20%0A%20%20%20%20%0A%20%20%20%20%20%20%20%20%20%20%20%20circle_d17c407e0e80446289800067849b79ed.bindTooltip%28%0A%20%20%20%20%20%20%20%20%20%20%20%20%20%20%20%20%60%3Cdiv%3E%0A%20%20%20%20%20%20%20%20%20%20%20%20%20%20%20%20%20%20%20%20%20%3Cli%3E%3Cbold%3E%20MUNICIPIO%3A%20Jacarepagu%C3%A1%3C/bold%3E%3Cli%3E%3Cli%3E%3Cbold%3E%20INTERNA%C3%87%C3%95ES%3A1%3C/bold%3E%3Cli%3E%0A%20%20%20%20%20%20%20%20%20%20%20%20%20%20%20%20%20%3C/div%3E%60%2C%0A%20%20%20%20%20%20%20%20%20%20%20%20%20%20%20%20%7B%22sticky%22%3A%20true%7D%0A%20%20%20%20%20%20%20%20%20%20%20%20%29%3B%0A%20%20%20%20%20%20%20%20%0A%20%20%20%20%0A%20%20%20%20%20%20%20%20%20%20%20%20var%20circle_4603891a5ddf431f9b02c0b4128cb13e%20%3D%20L.circle%28%0A%20%20%20%20%20%20%20%20%20%20%20%20%20%20%20%20%5B-22.9163641%2C%20-43.191758%5D%2C%0A%20%20%20%20%20%20%20%20%20%20%20%20%20%20%20%20%7B%22bubblingMouseEvents%22%3A%20true%2C%20%22color%22%3A%20%22%2300FF69%22%2C%20%22dashArray%22%3A%20null%2C%20%22dashOffset%22%3A%20null%2C%20%22fill%22%3A%20%22%2300A1B3%22%2C%20%22fillColor%22%3A%20%22%2300FF69%22%2C%20%22fillOpacity%22%3A%200.2%2C%20%22fillRule%22%3A%20%22evenodd%22%2C%20%22lineCap%22%3A%20%22round%22%2C%20%22lineJoin%22%3A%20%22round%22%2C%20%22opacity%22%3A%201.0%2C%20%22radius%22%3A%201.0%2C%20%22stroke%22%3A%20true%2C%20%22weight%22%3A%203%7D%0A%20%20%20%20%20%20%20%20%20%20%20%20%29.addTo%28map_6560fea948844691ba52179ee6ab8c3a%29%3B%0A%20%20%20%20%20%20%20%20%0A%20%20%20%20%0A%20%20%20%20%20%20%20%20%20%20%20%20circle_4603891a5ddf431f9b02c0b4128cb13e.bindTooltip%28%0A%20%20%20%20%20%20%20%20%20%20%20%20%20%20%20%20%60%3Cdiv%3E%0A%20%20%20%20%20%20%20%20%20%20%20%20%20%20%20%20%20%20%20%20%20%3Cli%3E%3Cbold%3E%20MUNICIPIO%3A%20Santa%20Teresa%3C/bold%3E%3Cli%3E%3Cli%3E%3Cbold%3E%20INTERNA%C3%87%C3%95ES%3A1%3C/bold%3E%3Cli%3E%0A%20%20%20%20%20%20%20%20%20%20%20%20%20%20%20%20%20%3C/div%3E%60%2C%0A%20%20%20%20%20%20%20%20%20%20%20%20%20%20%20%20%7B%22sticky%22%3A%20true%7D%0A%20%20%20%20%20%20%20%20%20%20%20%20%29%3B%0A%20%20%20%20%20%20%20%20%0A%20%20%20%20%0A%20%20%20%20%20%20%20%20%20%20%20%20var%20circle_e8294eeafbe64e7e9a82953655cd7d9f%20%3D%20L.circle%28%0A%20%20%20%20%20%20%20%20%20%20%20%20%20%20%20%20%5B-22.8465096%2C%20-43.3275287%5D%2C%0A%20%20%20%20%20%20%20%20%20%20%20%20%20%20%20%20%7B%22bubblingMouseEvents%22%3A%20true%2C%20%22color%22%3A%20%22%2300FF69%22%2C%20%22dashArray%22%3A%20null%2C%20%22dashOffset%22%3A%20null%2C%20%22fill%22%3A%20%22%2300A1B3%22%2C%20%22fillColor%22%3A%20%22%2300FF69%22%2C%20%22fillOpacity%22%3A%200.2%2C%20%22fillRule%22%3A%20%22evenodd%22%2C%20%22lineCap%22%3A%20%22round%22%2C%20%22lineJoin%22%3A%20%22round%22%2C%20%22opacity%22%3A%201.0%2C%20%22radius%22%3A%201.0%2C%20%22stroke%22%3A%20true%2C%20%22weight%22%3A%203%7D%0A%20%20%20%20%20%20%20%20%20%20%20%20%29.addTo%28map_6560fea948844691ba52179ee6ab8c3a%29%3B%0A%20%20%20%20%20%20%20%20%0A%20%20%20%20%0A%20%20%20%20%20%20%20%20%20%20%20%20circle_e8294eeafbe64e7e9a82953655cd7d9f.bindTooltip%28%0A%20%20%20%20%20%20%20%20%20%20%20%20%20%20%20%20%60%3Cdiv%3E%0A%20%20%20%20%20%20%20%20%20%20%20%20%20%20%20%20%20%20%20%20%20%3Cli%3E%3Cbold%3E%20MUNICIPIO%3A%20Iraj%C3%A1%3C/bold%3E%3Cli%3E%3Cli%3E%3Cbold%3E%20INTERNA%C3%87%C3%95ES%3A1%3C/bold%3E%3Cli%3E%0A%20%20%20%20%20%20%20%20%20%20%20%20%20%20%20%20%20%3C/div%3E%60%2C%0A%20%20%20%20%20%20%20%20%20%20%20%20%20%20%20%20%7B%22sticky%22%3A%20true%7D%0A%20%20%20%20%20%20%20%20%20%20%20%20%29%3B%0A%20%20%20%20%20%20%20%20%0A%20%20%20%20%0A%20%20%20%20%20%20%20%20%20%20%20%20var%20circle_7c32cdbb9fa34b6cb5c775bfc56b9034%20%3D%20L.circle%28%0A%20%20%20%20%20%20%20%20%20%20%20%20%20%20%20%20%5B-22.95749%2C%20-43.3312985%5D%2C%0A%20%20%20%20%20%20%20%20%20%20%20%20%20%20%20%20%7B%22bubblingMouseEvents%22%3A%20true%2C%20%22color%22%3A%20%22%2300FF69%22%2C%20%22dashArray%22%3A%20null%2C%20%22dashOffset%22%3A%20null%2C%20%22fill%22%3A%20%22%2300A1B3%22%2C%20%22fillColor%22%3A%20%22%2300FF69%22%2C%20%22fillOpacity%22%3A%200.2%2C%20%22fillRule%22%3A%20%22evenodd%22%2C%20%22lineCap%22%3A%20%22round%22%2C%20%22lineJoin%22%3A%20%22round%22%2C%20%22opacity%22%3A%201.0%2C%20%22radius%22%3A%201.0%2C%20%22stroke%22%3A%20true%2C%20%22weight%22%3A%203%7D%0A%20%20%20%20%20%20%20%20%20%20%20%20%29.addTo%28map_6560fea948844691ba52179ee6ab8c3a%29%3B%0A%20%20%20%20%20%20%20%20%0A%20%20%20%20%0A%20%20%20%20%20%20%20%20%20%20%20%20circle_7c32cdbb9fa34b6cb5c775bfc56b9034.bindTooltip%28%0A%20%20%20%20%20%20%20%20%20%20%20%20%20%20%20%20%60%3Cdiv%3E%0A%20%20%20%20%20%20%20%20%20%20%20%20%20%20%20%20%20%20%20%20%20%3Cli%3E%3Cbold%3E%20MUNICIPIO%3A%20Anil%3C/bold%3E%3Cli%3E%3Cli%3E%3Cbold%3E%20INTERNA%C3%87%C3%95ES%3A1%3C/bold%3E%3Cli%3E%0A%20%20%20%20%20%20%20%20%20%20%20%20%20%20%20%20%20%3C/div%3E%60%2C%0A%20%20%20%20%20%20%20%20%20%20%20%20%20%20%20%20%7B%22sticky%22%3A%20true%7D%0A%20%20%20%20%20%20%20%20%20%20%20%20%29%3B%0A%20%20%20%20%20%20%20%20%0A%20%20%20%20%0A%20%20%20%20%20%20%20%20%20%20%20%20var%20circle_f449a679ed724a9bb707bcc09f113c81%20%3D%20L.circle%28%0A%20%20%20%20%20%20%20%20%20%20%20%20%20%20%20%20%5B-22.9135155%2C%20-43.5296734%5D%2C%0A%20%20%20%20%20%20%20%20%20%20%20%20%20%20%20%20%7B%22bubblingMouseEvents%22%3A%20true%2C%20%22color%22%3A%20%22%2300FF69%22%2C%20%22dashArray%22%3A%20null%2C%20%22dashOffset%22%3A%20null%2C%20%22fill%22%3A%20%22%2300A1B3%22%2C%20%22fillColor%22%3A%20%22%2300FF69%22%2C%20%22fillOpacity%22%3A%200.2%2C%20%22fillRule%22%3A%20%22evenodd%22%2C%20%22lineCap%22%3A%20%22round%22%2C%20%22lineJoin%22%3A%20%22round%22%2C%20%22opacity%22%3A%201.0%2C%20%22radius%22%3A%201.0%2C%20%22stroke%22%3A%20true%2C%20%22weight%22%3A%203%7D%0A%20%20%20%20%20%20%20%20%20%20%20%20%29.addTo%28map_6560fea948844691ba52179ee6ab8c3a%29%3B%0A%20%20%20%20%20%20%20%20%0A%20%20%20%20%0A%20%20%20%20%20%20%20%20%20%20%20%20circle_f449a679ed724a9bb707bcc09f113c81.bindTooltip%28%0A%20%20%20%20%20%20%20%20%20%20%20%20%20%20%20%20%60%3Cdiv%3E%0A%20%20%20%20%20%20%20%20%20%20%20%20%20%20%20%20%20%20%20%20%20%3Cli%3E%3Cbold%3E%20MUNICIPIO%3A%20Campo%20Grande%3C/bold%3E%3Cli%3E%3Cli%3E%3Cbold%3E%20INTERNA%C3%87%C3%95ES%3A1%3C/bold%3E%3Cli%3E%0A%20%20%20%20%20%20%20%20%20%20%20%20%20%20%20%20%20%3C/div%3E%60%2C%0A%20%20%20%20%20%20%20%20%20%20%20%20%20%20%20%20%7B%22sticky%22%3A%20true%7D%0A%20%20%20%20%20%20%20%20%20%20%20%20%29%3B%0A%20%20%20%20%20%20%20%20%0A%20%20%20%20%0A%20%20%20%20%20%20%20%20%20%20%20%20var%20circle_c949a24037234d599aaf9ead5264a7c8%20%3D%20L.circle%28%0A%20%20%20%20%20%20%20%20%20%20%20%20%20%20%20%20%5B-22.8319883%2C%20-43.3113281%5D%2C%0A%20%20%20%20%20%20%20%20%20%20%20%20%20%20%20%20%7B%22bubblingMouseEvents%22%3A%20true%2C%20%22color%22%3A%20%22%2300FF69%22%2C%20%22dashArray%22%3A%20null%2C%20%22dashOffset%22%3A%20null%2C%20%22fill%22%3A%20%22%2300A1B3%22%2C%20%22fillColor%22%3A%20%22%2300FF69%22%2C%20%22fillOpacity%22%3A%200.2%2C%20%22fillRule%22%3A%20%22evenodd%22%2C%20%22lineCap%22%3A%20%22round%22%2C%20%22lineJoin%22%3A%20%22round%22%2C%20%22opacity%22%3A%201.0%2C%20%22radius%22%3A%201.0%2C%20%22stroke%22%3A%20true%2C%20%22weight%22%3A%203%7D%0A%20%20%20%20%20%20%20%20%20%20%20%20%29.addTo%28map_6560fea948844691ba52179ee6ab8c3a%29%3B%0A%20%20%20%20%20%20%20%20%0A%20%20%20%20%0A%20%20%20%20%20%20%20%20%20%20%20%20circle_c949a24037234d599aaf9ead5264a7c8.bindTooltip%28%0A%20%20%20%20%20%20%20%20%20%20%20%20%20%20%20%20%60%3Cdiv%3E%0A%20%20%20%20%20%20%20%20%20%20%20%20%20%20%20%20%20%20%20%20%20%3Cli%3E%3Cbold%3E%20MUNICIPIO%3A%20Vista%20Alegre%3C/bold%3E%3Cli%3E%3Cli%3E%3Cbold%3E%20INTERNA%C3%87%C3%95ES%3A1%3C/bold%3E%3Cli%3E%0A%20%20%20%20%20%20%20%20%20%20%20%20%20%20%20%20%20%3C/div%3E%60%2C%0A%20%20%20%20%20%20%20%20%20%20%20%20%20%20%20%20%7B%22sticky%22%3A%20true%7D%0A%20%20%20%20%20%20%20%20%20%20%20%20%29%3B%0A%20%20%20%20%20%20%20%20%0A%20%20%20%20%0A%20%20%20%20%20%20%20%20%20%20%20%20var%20circle_c585fe76d4cf4591b316bb3291f613df%20%3D%20L.circle%28%0A%20%20%20%20%20%20%20%20%20%20%20%20%20%20%20%20%5B-22.8671644%2C%20-43.2417302%5D%2C%0A%20%20%20%20%20%20%20%20%20%20%20%20%20%20%20%20%7B%22bubblingMouseEvents%22%3A%20true%2C%20%22color%22%3A%20%22%2300FF69%22%2C%20%22dashArray%22%3A%20null%2C%20%22dashOffset%22%3A%20null%2C%20%22fill%22%3A%20%22%2300A1B3%22%2C%20%22fillColor%22%3A%20%22%2300FF69%22%2C%20%22fillOpacity%22%3A%200.2%2C%20%22fillRule%22%3A%20%22evenodd%22%2C%20%22lineCap%22%3A%20%22round%22%2C%20%22lineJoin%22%3A%20%22round%22%2C%20%22opacity%22%3A%201.0%2C%20%22radius%22%3A%201.0%2C%20%22stroke%22%3A%20true%2C%20%22weight%22%3A%203%7D%0A%20%20%20%20%20%20%20%20%20%20%20%20%29.addTo%28map_6560fea948844691ba52179ee6ab8c3a%29%3B%0A%20%20%20%20%20%20%20%20%0A%20%20%20%20%0A%20%20%20%20%20%20%20%20%20%20%20%20circle_c585fe76d4cf4591b316bb3291f613df.bindTooltip%28%0A%20%20%20%20%20%20%20%20%20%20%20%20%20%20%20%20%60%3Cdiv%3E%0A%20%20%20%20%20%20%20%20%20%20%20%20%20%20%20%20%20%20%20%20%20%3Cli%3E%3Cbold%3E%20MUNICIPIO%3A%20Mar%C3%A9%3C/bold%3E%3Cli%3E%3Cli%3E%3Cbold%3E%20INTERNA%C3%87%C3%95ES%3A1%3C/bold%3E%3Cli%3E%0A%20%20%20%20%20%20%20%20%20%20%20%20%20%20%20%20%20%3C/div%3E%60%2C%0A%20%20%20%20%20%20%20%20%20%20%20%20%20%20%20%20%7B%22sticky%22%3A%20true%7D%0A%20%20%20%20%20%20%20%20%20%20%20%20%29%3B%0A%20%20%20%20%20%20%20%20%0A%20%20%20%20%0A%20%20%20%20%20%20%20%20%20%20%20%20var%20circle_38ecbec874a9459b9f483eb042273abc%20%3D%20L.circle%28%0A%20%20%20%20%20%20%20%20%20%20%20%20%20%20%20%20%5B-22.9067497%2C%20-43.2398157%5D%2C%0A%20%20%20%20%20%20%20%20%20%20%20%20%20%20%20%20%7B%22bubblingMouseEvents%22%3A%20true%2C%20%22color%22%3A%20%22%2300FF69%22%2C%20%22dashArray%22%3A%20null%2C%20%22dashOffset%22%3A%20null%2C%20%22fill%22%3A%20%22%2300A1B3%22%2C%20%22fillColor%22%3A%20%22%2300FF69%22%2C%20%22fillOpacity%22%3A%200.2%2C%20%22fillRule%22%3A%20%22evenodd%22%2C%20%22lineCap%22%3A%20%22round%22%2C%20%22lineJoin%22%3A%20%22round%22%2C%20%22opacity%22%3A%201.0%2C%20%22radius%22%3A%201.0%2C%20%22stroke%22%3A%20true%2C%20%22weight%22%3A%203%7D%0A%20%20%20%20%20%20%20%20%20%20%20%20%29.addTo%28map_6560fea948844691ba52179ee6ab8c3a%29%3B%0A%20%20%20%20%20%20%20%20%0A%20%20%20%20%0A%20%20%20%20%20%20%20%20%20%20%20%20circle_38ecbec874a9459b9f483eb042273abc.bindTooltip%28%0A%20%20%20%20%20%20%20%20%20%20%20%20%20%20%20%20%60%3Cdiv%3E%0A%20%20%20%20%20%20%20%20%20%20%20%20%20%20%20%20%20%20%20%20%20%3Cli%3E%3Cbold%3E%20MUNICIPIO%3A%20S%C3%A3o%20Francisco%20Xavier%3C/bold%3E%3Cli%3E%3Cli%3E%3Cbold%3E%20INTERNA%C3%87%C3%95ES%3A1%3C/bold%3E%3Cli%3E%0A%20%20%20%20%20%20%20%20%20%20%20%20%20%20%20%20%20%3C/div%3E%60%2C%0A%20%20%20%20%20%20%20%20%20%20%20%20%20%20%20%20%7B%22sticky%22%3A%20true%7D%0A%20%20%20%20%20%20%20%20%20%20%20%20%29%3B%0A%20%20%20%20%20%20%20%20%0A%20%20%20%20%0A%20%20%20%20%20%20%20%20%20%20%20%20var%20circle_6a3978f6e1f24d3898c562ca416d7b4c%20%3D%20L.circle%28%0A%20%20%20%20%20%20%20%20%20%20%20%20%20%20%20%20%5B-22.9003053%2C%20-43.2634858%5D%2C%0A%20%20%20%20%20%20%20%20%20%20%20%20%20%20%20%20%7B%22bubblingMouseEvents%22%3A%20true%2C%20%22color%22%3A%20%22%2300FF69%22%2C%20%22dashArray%22%3A%20null%2C%20%22dashOffset%22%3A%20null%2C%20%22fill%22%3A%20%22%2300A1B3%22%2C%20%22fillColor%22%3A%20%22%2300FF69%22%2C%20%22fillOpacity%22%3A%200.2%2C%20%22fillRule%22%3A%20%22evenodd%22%2C%20%22lineCap%22%3A%20%22round%22%2C%20%22lineJoin%22%3A%20%22round%22%2C%20%22opacity%22%3A%201.0%2C%20%22radius%22%3A%201.0%2C%20%22stroke%22%3A%20true%2C%20%22weight%22%3A%203%7D%0A%20%20%20%20%20%20%20%20%20%20%20%20%29.addTo%28map_6560fea948844691ba52179ee6ab8c3a%29%3B%0A%20%20%20%20%20%20%20%20%0A%20%20%20%20%0A%20%20%20%20%20%20%20%20%20%20%20%20circle_6a3978f6e1f24d3898c562ca416d7b4c.bindTooltip%28%0A%20%20%20%20%20%20%20%20%20%20%20%20%20%20%20%20%60%3Cdiv%3E%0A%20%20%20%20%20%20%20%20%20%20%20%20%20%20%20%20%20%20%20%20%20%3Cli%3E%3Cbold%3E%20MUNICIPIO%3A%20Sampaio%3C/bold%3E%3Cli%3E%3Cli%3E%3Cbold%3E%20INTERNA%C3%87%C3%95ES%3A1%3C/bold%3E%3Cli%3E%0A%20%20%20%20%20%20%20%20%20%20%20%20%20%20%20%20%20%3C/div%3E%60%2C%0A%20%20%20%20%20%20%20%20%20%20%20%20%20%20%20%20%7B%22sticky%22%3A%20true%7D%0A%20%20%20%20%20%20%20%20%20%20%20%20%29%3B%0A%20%20%20%20%20%20%20%20%0A%20%20%20%20%0A%20%20%20%20%20%20%20%20%20%20%20%20var%20circle_1414f31bbff4406ca629f15ad3ac5e3f%20%3D%20L.circle%28%0A%20%20%20%20%20%20%20%20%20%20%20%20%20%20%20%20%5B-22.8673195%2C%20-43.4237203%5D%2C%0A%20%20%20%20%20%20%20%20%20%20%20%20%20%20%20%20%7B%22bubblingMouseEvents%22%3A%20true%2C%20%22color%22%3A%20%22%2300FF69%22%2C%20%22dashArray%22%3A%20null%2C%20%22dashOffset%22%3A%20null%2C%20%22fill%22%3A%20%22%2300A1B3%22%2C%20%22fillColor%22%3A%20%22%2300FF69%22%2C%20%22fillOpacity%22%3A%200.2%2C%20%22fillRule%22%3A%20%22evenodd%22%2C%20%22lineCap%22%3A%20%22round%22%2C%20%22lineJoin%22%3A%20%22round%22%2C%20%22opacity%22%3A%201.0%2C%20%22radius%22%3A%201.0%2C%20%22stroke%22%3A%20true%2C%20%22weight%22%3A%203%7D%0A%20%20%20%20%20%20%20%20%20%20%20%20%29.addTo%28map_6560fea948844691ba52179ee6ab8c3a%29%3B%0A%20%20%20%20%20%20%20%20%0A%20%20%20%20%0A%20%20%20%20%20%20%20%20%20%20%20%20circle_1414f31bbff4406ca629f15ad3ac5e3f.bindTooltip%28%0A%20%20%20%20%20%20%20%20%20%20%20%20%20%20%20%20%60%3Cdiv%3E%0A%20%20%20%20%20%20%20%20%20%20%20%20%20%20%20%20%20%20%20%20%20%3Cli%3E%3Cbold%3E%20MUNICIPIO%3A%20Realengo%3C/bold%3E%3Cli%3E%3Cli%3E%3Cbold%3E%20INTERNA%C3%87%C3%95ES%3A1%3C/bold%3E%3Cli%3E%0A%20%20%20%20%20%20%20%20%20%20%20%20%20%20%20%20%20%3C/div%3E%60%2C%0A%20%20%20%20%20%20%20%20%20%20%20%20%20%20%20%20%7B%22sticky%22%3A%20true%7D%0A%20%20%20%20%20%20%20%20%20%20%20%20%29%3B%0A%20%20%20%20%20%20%20%20%0A%20%20%20%20%0A%20%20%20%20%20%20%20%20%20%20%20%20var%20circle_c8b30f78ce654b83b91eb86439291900%20%3D%20L.circle%28%0A%20%20%20%20%20%20%20%20%20%20%20%20%20%20%20%20%5B-22.8407954%2C%20-43.23788809409384%5D%2C%0A%20%20%20%20%20%20%20%20%20%20%20%20%20%20%20%20%7B%22bubblingMouseEvents%22%3A%20true%2C%20%22color%22%3A%20%22%2300FF69%22%2C%20%22dashArray%22%3A%20null%2C%20%22dashOffset%22%3A%20null%2C%20%22fill%22%3A%20%22%2300A1B3%22%2C%20%22fillColor%22%3A%20%22%2300FF69%22%2C%20%22fillOpacity%22%3A%200.2%2C%20%22fillRule%22%3A%20%22evenodd%22%2C%20%22lineCap%22%3A%20%22round%22%2C%20%22lineJoin%22%3A%20%22round%22%2C%20%22opacity%22%3A%201.0%2C%20%22radius%22%3A%201.0%2C%20%22stroke%22%3A%20true%2C%20%22weight%22%3A%203%7D%0A%20%20%20%20%20%20%20%20%20%20%20%20%29.addTo%28map_6560fea948844691ba52179ee6ab8c3a%29%3B%0A%20%20%20%20%20%20%20%20%0A%20%20%20%20%0A%20%20%20%20%20%20%20%20%20%20%20%20circle_c8b30f78ce654b83b91eb86439291900.bindTooltip%28%0A%20%20%20%20%20%20%20%20%20%20%20%20%20%20%20%20%60%3Cdiv%3E%0A%20%20%20%20%20%20%20%20%20%20%20%20%20%20%20%20%20%20%20%20%20%3Cli%3E%3Cbold%3E%20MUNICIPIO%3A%20Cidade%20Universit%C3%A1ria%3C/bold%3E%3Cli%3E%3Cli%3E%3Cbold%3E%20INTERNA%C3%87%C3%95ES%3A1%3C/bold%3E%3Cli%3E%0A%20%20%20%20%20%20%20%20%20%20%20%20%20%20%20%20%20%3C/div%3E%60%2C%0A%20%20%20%20%20%20%20%20%20%20%20%20%20%20%20%20%7B%22sticky%22%3A%20true%7D%0A%20%20%20%20%20%20%20%20%20%20%20%20%29%3B%0A%20%20%20%20%20%20%20%20%0A%20%20%20%20%0A%20%20%20%20%20%20%20%20%20%20%20%20var%20circle_9459685dff964a6894e7c4187f234388%20%3D%20L.circle%28%0A%20%20%20%20%20%20%20%20%20%20%20%20%20%20%20%20%5B-22.896698%2C%20-43.3426403%5D%2C%0A%20%20%20%20%20%20%20%20%20%20%20%20%20%20%20%20%7B%22bubblingMouseEvents%22%3A%20true%2C%20%22color%22%3A%20%22%2300FF69%22%2C%20%22dashArray%22%3A%20null%2C%20%22dashOffset%22%3A%20null%2C%20%22fill%22%3A%20%22%2300A1B3%22%2C%20%22fillColor%22%3A%20%22%2300FF69%22%2C%20%22fillOpacity%22%3A%200.2%2C%20%22fillRule%22%3A%20%22evenodd%22%2C%20%22lineCap%22%3A%20%22round%22%2C%20%22lineJoin%22%3A%20%22round%22%2C%20%22opacity%22%3A%201.0%2C%20%22radius%22%3A%201.0%2C%20%22stroke%22%3A%20true%2C%20%22weight%22%3A%203%7D%0A%20%20%20%20%20%20%20%20%20%20%20%20%29.addTo%28map_6560fea948844691ba52179ee6ab8c3a%29%3B%0A%20%20%20%20%20%20%20%20%0A%20%20%20%20%0A%20%20%20%20%20%20%20%20%20%20%20%20circle_9459685dff964a6894e7c4187f234388.bindTooltip%28%0A%20%20%20%20%20%20%20%20%20%20%20%20%20%20%20%20%60%3Cdiv%3E%0A%20%20%20%20%20%20%20%20%20%20%20%20%20%20%20%20%20%20%20%20%20%3Cli%3E%3Cbold%3E%20MUNICIPIO%3A%20Pra%C3%A7a%20Seca%3C/bold%3E%3Cli%3E%3Cli%3E%3Cbold%3E%20INTERNA%C3%87%C3%95ES%3A1%3C/bold%3E%3Cli%3E%0A%20%20%20%20%20%20%20%20%20%20%20%20%20%20%20%20%20%3C/div%3E%60%2C%0A%20%20%20%20%20%20%20%20%20%20%20%20%20%20%20%20%7B%22sticky%22%3A%20true%7D%0A%20%20%20%20%20%20%20%20%20%20%20%20%29%3B%0A%20%20%20%20%20%20%20%20%0A%20%20%20%20%0A%20%20%20%20%20%20%20%20%20%20%20%20var%20circle_f4a63f240db642f2a3f0281c1e81b8b3%20%3D%20L.circle%28%0A%20%20%20%20%20%20%20%20%20%20%20%20%20%20%20%20%5B-22.8714844%2C%20-43.2363828%5D%2C%0A%20%20%20%20%20%20%20%20%20%20%20%20%20%20%20%20%7B%22bubblingMouseEvents%22%3A%20true%2C%20%22color%22%3A%20%22%2300FF69%22%2C%20%22dashArray%22%3A%20null%2C%20%22dashOffset%22%3A%20null%2C%20%22fill%22%3A%20%22%2300A1B3%22%2C%20%22fillColor%22%3A%20%22%2300FF69%22%2C%20%22fillOpacity%22%3A%200.2%2C%20%22fillRule%22%3A%20%22evenodd%22%2C%20%22lineCap%22%3A%20%22round%22%2C%20%22lineJoin%22%3A%20%22round%22%2C%20%22opacity%22%3A%201.0%2C%20%22radius%22%3A%201.0%2C%20%22stroke%22%3A%20true%2C%20%22weight%22%3A%203%7D%0A%20%20%20%20%20%20%20%20%20%20%20%20%29.addTo%28map_6560fea948844691ba52179ee6ab8c3a%29%3B%0A%20%20%20%20%20%20%20%20%0A%20%20%20%20%0A%20%20%20%20%20%20%20%20%20%20%20%20circle_f4a63f240db642f2a3f0281c1e81b8b3.bindTooltip%28%0A%20%20%20%20%20%20%20%20%20%20%20%20%20%20%20%20%60%3Cdiv%3E%0A%20%20%20%20%20%20%20%20%20%20%20%20%20%20%20%20%20%20%20%20%20%3Cli%3E%3Cbold%3E%20MUNICIPIO%3A%20Mar%C3%A9%3C/bold%3E%3Cli%3E%3Cli%3E%3Cbold%3E%20INTERNA%C3%87%C3%95ES%3A1%3C/bold%3E%3Cli%3E%0A%20%20%20%20%20%20%20%20%20%20%20%20%20%20%20%20%20%3C/div%3E%60%2C%0A%20%20%20%20%20%20%20%20%20%20%20%20%20%20%20%20%7B%22sticky%22%3A%20true%7D%0A%20%20%20%20%20%20%20%20%20%20%20%20%29%3B%0A%20%20%20%20%20%20%20%20%0A%20%20%20%20%0A%20%20%20%20%20%20%20%20%20%20%20%20var%20circle_f1cbf79192b14462b030c242c25324a3%20%3D%20L.circle%28%0A%20%20%20%20%20%20%20%20%20%20%20%20%20%20%20%20%5B-22.8626778%2C%20-43.3384721%5D%2C%0A%20%20%20%20%20%20%20%20%20%20%20%20%20%20%20%20%7B%22bubblingMouseEvents%22%3A%20true%2C%20%22color%22%3A%20%22%2300FF69%22%2C%20%22dashArray%22%3A%20null%2C%20%22dashOffset%22%3A%20null%2C%20%22fill%22%3A%20%22%2300A1B3%22%2C%20%22fillColor%22%3A%20%22%2300FF69%22%2C%20%22fillOpacity%22%3A%200.2%2C%20%22fillRule%22%3A%20%22evenodd%22%2C%20%22lineCap%22%3A%20%22round%22%2C%20%22lineJoin%22%3A%20%22round%22%2C%20%22opacity%22%3A%201.0%2C%20%22radius%22%3A%201.0%2C%20%22stroke%22%3A%20true%2C%20%22weight%22%3A%203%7D%0A%20%20%20%20%20%20%20%20%20%20%20%20%29.addTo%28map_6560fea948844691ba52179ee6ab8c3a%29%3B%0A%20%20%20%20%20%20%20%20%0A%20%20%20%20%0A%20%20%20%20%20%20%20%20%20%20%20%20circle_f1cbf79192b14462b030c242c25324a3.bindTooltip%28%0A%20%20%20%20%20%20%20%20%20%20%20%20%20%20%20%20%60%3Cdiv%3E%0A%20%20%20%20%20%20%20%20%20%20%20%20%20%20%20%20%20%20%20%20%20%3Cli%3E%3Cbold%3E%20MUNICIPIO%3A%20Turia%C3%A7u%3C/bold%3E%3Cli%3E%3Cli%3E%3Cbold%3E%20INTERNA%C3%87%C3%95ES%3A1%3C/bold%3E%3Cli%3E%0A%20%20%20%20%20%20%20%20%20%20%20%20%20%20%20%20%20%3C/div%3E%60%2C%0A%20%20%20%20%20%20%20%20%20%20%20%20%20%20%20%20%7B%22sticky%22%3A%20true%7D%0A%20%20%20%20%20%20%20%20%20%20%20%20%29%3B%0A%20%20%20%20%20%20%20%20%0A%20%20%20%20%0A%20%20%20%20%20%20%20%20%20%20%20%20var%20circle_eae46b018c224ed0a5ad5a148512f8a6%20%3D%20L.circle%28%0A%20%20%20%20%20%20%20%20%20%20%20%20%20%20%20%20%5B-22.853837%2C%20-43.4626396%5D%2C%0A%20%20%20%20%20%20%20%20%20%20%20%20%20%20%20%20%7B%22bubblingMouseEvents%22%3A%20true%2C%20%22color%22%3A%20%22%2300FF69%22%2C%20%22dashArray%22%3A%20null%2C%20%22dashOffset%22%3A%20null%2C%20%22fill%22%3A%20%22%2300A1B3%22%2C%20%22fillColor%22%3A%20%22%2300FF69%22%2C%20%22fillOpacity%22%3A%200.2%2C%20%22fillRule%22%3A%20%22evenodd%22%2C%20%22lineCap%22%3A%20%22round%22%2C%20%22lineJoin%22%3A%20%22round%22%2C%20%22opacity%22%3A%201.0%2C%20%22radius%22%3A%201.0%2C%20%22stroke%22%3A%20true%2C%20%22weight%22%3A%203%7D%0A%20%20%20%20%20%20%20%20%20%20%20%20%29.addTo%28map_6560fea948844691ba52179ee6ab8c3a%29%3B%0A%20%20%20%20%20%20%20%20%0A%20%20%20%20%0A%20%20%20%20%20%20%20%20%20%20%20%20circle_eae46b018c224ed0a5ad5a148512f8a6.bindTooltip%28%0A%20%20%20%20%20%20%20%20%20%20%20%20%20%20%20%20%60%3Cdiv%3E%0A%20%20%20%20%20%20%20%20%20%20%20%20%20%20%20%20%20%20%20%20%20%3Cli%3E%3Cbold%3E%20MUNICIPIO%3A%20Bangu%3C/bold%3E%3Cli%3E%3Cli%3E%3Cbold%3E%20INTERNA%C3%87%C3%95ES%3A1%3C/bold%3E%3Cli%3E%0A%20%20%20%20%20%20%20%20%20%20%20%20%20%20%20%20%20%3C/div%3E%60%2C%0A%20%20%20%20%20%20%20%20%20%20%20%20%20%20%20%20%7B%22sticky%22%3A%20true%7D%0A%20%20%20%20%20%20%20%20%20%20%20%20%29%3B%0A%20%20%20%20%20%20%20%20%0A%20%20%20%20%0A%20%20%20%20%20%20%20%20%20%20%20%20var%20circle_e68339e27f20403a8f8d4e1491b694db%20%3D%20L.circle%28%0A%20%20%20%20%20%20%20%20%20%20%20%20%20%20%20%20%5B-22.8670619%2C%20-43.5590226%5D%2C%0A%20%20%20%20%20%20%20%20%20%20%20%20%20%20%20%20%7B%22bubblingMouseEvents%22%3A%20true%2C%20%22color%22%3A%20%22%2300FF69%22%2C%20%22dashArray%22%3A%20null%2C%20%22dashOffset%22%3A%20null%2C%20%22fill%22%3A%20%22%2300A1B3%22%2C%20%22fillColor%22%3A%20%22%2300FF69%22%2C%20%22fillOpacity%22%3A%200.2%2C%20%22fillRule%22%3A%20%22evenodd%22%2C%20%22lineCap%22%3A%20%22round%22%2C%20%22lineJoin%22%3A%20%22round%22%2C%20%22opacity%22%3A%201.0%2C%20%22radius%22%3A%201.0%2C%20%22stroke%22%3A%20true%2C%20%22weight%22%3A%203%7D%0A%20%20%20%20%20%20%20%20%20%20%20%20%29.addTo%28map_6560fea948844691ba52179ee6ab8c3a%29%3B%0A%20%20%20%20%20%20%20%20%0A%20%20%20%20%0A%20%20%20%20%20%20%20%20%20%20%20%20circle_e68339e27f20403a8f8d4e1491b694db.bindTooltip%28%0A%20%20%20%20%20%20%20%20%20%20%20%20%20%20%20%20%60%3Cdiv%3E%0A%20%20%20%20%20%20%20%20%20%20%20%20%20%20%20%20%20%20%20%20%20%3Cli%3E%3Cbold%3E%20MUNICIPIO%3A%20Campo%20Grande%3C/bold%3E%3Cli%3E%3Cli%3E%3Cbold%3E%20INTERNA%C3%87%C3%95ES%3A1%3C/bold%3E%3Cli%3E%0A%20%20%20%20%20%20%20%20%20%20%20%20%20%20%20%20%20%3C/div%3E%60%2C%0A%20%20%20%20%20%20%20%20%20%20%20%20%20%20%20%20%7B%22sticky%22%3A%20true%7D%0A%20%20%20%20%20%20%20%20%20%20%20%20%29%3B%0A%20%20%20%20%20%20%20%20%0A%20%20%20%20%0A%20%20%20%20%20%20%20%20%20%20%20%20var%20circle_4369ff55ebb9448880f4ae69be3bbd7d%20%3D%20L.circle%28%0A%20%20%20%20%20%20%20%20%20%20%20%20%20%20%20%20%5B-22.8852981%2C%20-43.5824533%5D%2C%0A%20%20%20%20%20%20%20%20%20%20%20%20%20%20%20%20%7B%22bubblingMouseEvents%22%3A%20true%2C%20%22color%22%3A%20%22%2300FF69%22%2C%20%22dashArray%22%3A%20null%2C%20%22dashOffset%22%3A%20null%2C%20%22fill%22%3A%20%22%2300A1B3%22%2C%20%22fillColor%22%3A%20%22%2300FF69%22%2C%20%22fillOpacity%22%3A%200.2%2C%20%22fillRule%22%3A%20%22evenodd%22%2C%20%22lineCap%22%3A%20%22round%22%2C%20%22lineJoin%22%3A%20%22round%22%2C%20%22opacity%22%3A%201.0%2C%20%22radius%22%3A%201.0%2C%20%22stroke%22%3A%20true%2C%20%22weight%22%3A%203%7D%0A%20%20%20%20%20%20%20%20%20%20%20%20%29.addTo%28map_6560fea948844691ba52179ee6ab8c3a%29%3B%0A%20%20%20%20%20%20%20%20%0A%20%20%20%20%0A%20%20%20%20%20%20%20%20%20%20%20%20circle_4369ff55ebb9448880f4ae69be3bbd7d.bindTooltip%28%0A%20%20%20%20%20%20%20%20%20%20%20%20%20%20%20%20%60%3Cdiv%3E%0A%20%20%20%20%20%20%20%20%20%20%20%20%20%20%20%20%20%20%20%20%20%3Cli%3E%3Cbold%3E%20MUNICIPIO%3A%20Campo%20Grande%3C/bold%3E%3Cli%3E%3Cli%3E%3Cbold%3E%20INTERNA%C3%87%C3%95ES%3A1%3C/bold%3E%3Cli%3E%0A%20%20%20%20%20%20%20%20%20%20%20%20%20%20%20%20%20%3C/div%3E%60%2C%0A%20%20%20%20%20%20%20%20%20%20%20%20%20%20%20%20%7B%22sticky%22%3A%20true%7D%0A%20%20%20%20%20%20%20%20%20%20%20%20%29%3B%0A%20%20%20%20%20%20%20%20%0A%20%20%20%20%0A%20%20%20%20%20%20%20%20%20%20%20%20var%20circle_b93b1e1290034ab8844eb7545f488b30%20%3D%20L.circle%28%0A%20%20%20%20%20%20%20%20%20%20%20%20%20%20%20%20%5B-22.903686%2C%20-43.5534605%5D%2C%0A%20%20%20%20%20%20%20%20%20%20%20%20%20%20%20%20%7B%22bubblingMouseEvents%22%3A%20true%2C%20%22color%22%3A%20%22%2300FF69%22%2C%20%22dashArray%22%3A%20null%2C%20%22dashOffset%22%3A%20null%2C%20%22fill%22%3A%20%22%2300A1B3%22%2C%20%22fillColor%22%3A%20%22%2300FF69%22%2C%20%22fillOpacity%22%3A%200.2%2C%20%22fillRule%22%3A%20%22evenodd%22%2C%20%22lineCap%22%3A%20%22round%22%2C%20%22lineJoin%22%3A%20%22round%22%2C%20%22opacity%22%3A%201.0%2C%20%22radius%22%3A%201.0%2C%20%22stroke%22%3A%20true%2C%20%22weight%22%3A%203%7D%0A%20%20%20%20%20%20%20%20%20%20%20%20%29.addTo%28map_6560fea948844691ba52179ee6ab8c3a%29%3B%0A%20%20%20%20%20%20%20%20%0A%20%20%20%20%0A%20%20%20%20%20%20%20%20%20%20%20%20circle_b93b1e1290034ab8844eb7545f488b30.bindTooltip%28%0A%20%20%20%20%20%20%20%20%20%20%20%20%20%20%20%20%60%3Cdiv%3E%0A%20%20%20%20%20%20%20%20%20%20%20%20%20%20%20%20%20%20%20%20%20%3Cli%3E%3Cbold%3E%20MUNICIPIO%3A%20Campo%20Grande%3C/bold%3E%3Cli%3E%3Cli%3E%3Cbold%3E%20INTERNA%C3%87%C3%95ES%3A1%3C/bold%3E%3Cli%3E%0A%20%20%20%20%20%20%20%20%20%20%20%20%20%20%20%20%20%3C/div%3E%60%2C%0A%20%20%20%20%20%20%20%20%20%20%20%20%20%20%20%20%7B%22sticky%22%3A%20true%7D%0A%20%20%20%20%20%20%20%20%20%20%20%20%29%3B%0A%20%20%20%20%20%20%20%20%0A%20%20%20%20%0A%20%20%20%20%20%20%20%20%20%20%20%20var%20circle_e1287b4d163446bd93abc9f0c36f5ce3%20%3D%20L.circle%28%0A%20%20%20%20%20%20%20%20%20%20%20%20%20%20%20%20%5B-22.967215%2C%20-43.6143802%5D%2C%0A%20%20%20%20%20%20%20%20%20%20%20%20%20%20%20%20%7B%22bubblingMouseEvents%22%3A%20true%2C%20%22color%22%3A%20%22%2300FF69%22%2C%20%22dashArray%22%3A%20null%2C%20%22dashOffset%22%3A%20null%2C%20%22fill%22%3A%20%22%2300A1B3%22%2C%20%22fillColor%22%3A%20%22%2300FF69%22%2C%20%22fillOpacity%22%3A%200.2%2C%20%22fillRule%22%3A%20%22evenodd%22%2C%20%22lineCap%22%3A%20%22round%22%2C%20%22lineJoin%22%3A%20%22round%22%2C%20%22opacity%22%3A%201.0%2C%20%22radius%22%3A%201.0%2C%20%22stroke%22%3A%20true%2C%20%22weight%22%3A%203%7D%0A%20%20%20%20%20%20%20%20%20%20%20%20%29.addTo%28map_6560fea948844691ba52179ee6ab8c3a%29%3B%0A%20%20%20%20%20%20%20%20%0A%20%20%20%20%0A%20%20%20%20%20%20%20%20%20%20%20%20circle_e1287b4d163446bd93abc9f0c36f5ce3.bindTooltip%28%0A%20%20%20%20%20%20%20%20%20%20%20%20%20%20%20%20%60%3Cdiv%3E%0A%20%20%20%20%20%20%20%20%20%20%20%20%20%20%20%20%20%20%20%20%20%3Cli%3E%3Cbold%3E%20MUNICIPIO%3A%20Guaratiba%3C/bold%3E%3Cli%3E%3Cli%3E%3Cbold%3E%20INTERNA%C3%87%C3%95ES%3A1%3C/bold%3E%3Cli%3E%0A%20%20%20%20%20%20%20%20%20%20%20%20%20%20%20%20%20%3C/div%3E%60%2C%0A%20%20%20%20%20%20%20%20%20%20%20%20%20%20%20%20%7B%22sticky%22%3A%20true%7D%0A%20%20%20%20%20%20%20%20%20%20%20%20%29%3B%0A%20%20%20%20%20%20%20%20%0A%20%20%20%20%0A%20%20%20%20%20%20%20%20%20%20%20%20var%20circle_b4e941066e9e449ea81d73031705209e%20%3D%20L.circle%28%0A%20%20%20%20%20%20%20%20%20%20%20%20%20%20%20%20%5B-22.8226448%2C%20-43.3238048%5D%2C%0A%20%20%20%20%20%20%20%20%20%20%20%20%20%20%20%20%7B%22bubblingMouseEvents%22%3A%20true%2C%20%22color%22%3A%20%22%2300FF69%22%2C%20%22dashArray%22%3A%20null%2C%20%22dashOffset%22%3A%20null%2C%20%22fill%22%3A%20%22%2300A1B3%22%2C%20%22fillColor%22%3A%20%22%2300FF69%22%2C%20%22fillOpacity%22%3A%200.2%2C%20%22fillRule%22%3A%20%22evenodd%22%2C%20%22lineCap%22%3A%20%22round%22%2C%20%22lineJoin%22%3A%20%22round%22%2C%20%22opacity%22%3A%201.0%2C%20%22radius%22%3A%201.0%2C%20%22stroke%22%3A%20true%2C%20%22weight%22%3A%203%7D%0A%20%20%20%20%20%20%20%20%20%20%20%20%29.addTo%28map_6560fea948844691ba52179ee6ab8c3a%29%3B%0A%20%20%20%20%20%20%20%20%0A%20%20%20%20%0A%20%20%20%20%20%20%20%20%20%20%20%20circle_b4e941066e9e449ea81d73031705209e.bindTooltip%28%0A%20%20%20%20%20%20%20%20%20%20%20%20%20%20%20%20%60%3Cdiv%3E%0A%20%20%20%20%20%20%20%20%20%20%20%20%20%20%20%20%20%20%20%20%20%3Cli%3E%3Cbold%3E%20MUNICIPIO%3A%20Iraj%C3%A1%3C/bold%3E%3Cli%3E%3Cli%3E%3Cbold%3E%20INTERNA%C3%87%C3%95ES%3A1%3C/bold%3E%3Cli%3E%0A%20%20%20%20%20%20%20%20%20%20%20%20%20%20%20%20%20%3C/div%3E%60%2C%0A%20%20%20%20%20%20%20%20%20%20%20%20%20%20%20%20%7B%22sticky%22%3A%20true%7D%0A%20%20%20%20%20%20%20%20%20%20%20%20%29%3B%0A%20%20%20%20%20%20%20%20%0A%20%20%20%20%0A%20%20%20%20%20%20%20%20%20%20%20%20var%20circle_b0e50da064b0474e8f772202b0224745%20%3D%20L.circle%28%0A%20%20%20%20%20%20%20%20%20%20%20%20%20%20%20%20%5B-22.8890944%2C%20-43.2666879%5D%2C%0A%20%20%20%20%20%20%20%20%20%20%20%20%20%20%20%20%7B%22bubblingMouseEvents%22%3A%20true%2C%20%22color%22%3A%20%22%2300FF69%22%2C%20%22dashArray%22%3A%20null%2C%20%22dashOffset%22%3A%20null%2C%20%22fill%22%3A%20%22%2300A1B3%22%2C%20%22fillColor%22%3A%20%22%2300FF69%22%2C%20%22fillOpacity%22%3A%200.2%2C%20%22fillRule%22%3A%20%22evenodd%22%2C%20%22lineCap%22%3A%20%22round%22%2C%20%22lineJoin%22%3A%20%22round%22%2C%20%22opacity%22%3A%201.0%2C%20%22radius%22%3A%201.0%2C%20%22stroke%22%3A%20true%2C%20%22weight%22%3A%203%7D%0A%20%20%20%20%20%20%20%20%20%20%20%20%29.addTo%28map_6560fea948844691ba52179ee6ab8c3a%29%3B%0A%20%20%20%20%20%20%20%20%0A%20%20%20%20%0A%20%20%20%20%20%20%20%20%20%20%20%20circle_b0e50da064b0474e8f772202b0224745.bindTooltip%28%0A%20%20%20%20%20%20%20%20%20%20%20%20%20%20%20%20%60%3Cdiv%3E%0A%20%20%20%20%20%20%20%20%20%20%20%20%20%20%20%20%20%20%20%20%20%3Cli%3E%3Cbold%3E%20MUNICIPIO%3A%20Cachambi%3C/bold%3E%3Cli%3E%3Cli%3E%3Cbold%3E%20INTERNA%C3%87%C3%95ES%3A1%3C/bold%3E%3Cli%3E%0A%20%20%20%20%20%20%20%20%20%20%20%20%20%20%20%20%20%3C/div%3E%60%2C%0A%20%20%20%20%20%20%20%20%20%20%20%20%20%20%20%20%7B%22sticky%22%3A%20true%7D%0A%20%20%20%20%20%20%20%20%20%20%20%20%29%3B%0A%20%20%20%20%20%20%20%20%0A%20%20%20%20%0A%20%20%20%20%20%20%20%20%20%20%20%20var%20circle_4d1f8b395b17404bb1ef9b9bbfd04dcb%20%3D%20L.circle%28%0A%20%20%20%20%20%20%20%20%20%20%20%20%20%20%20%20%5B-22.9034464%2C%20-43.1970419%5D%2C%0A%20%20%20%20%20%20%20%20%20%20%20%20%20%20%20%20%7B%22bubblingMouseEvents%22%3A%20true%2C%20%22color%22%3A%20%22%2300FF69%22%2C%20%22dashArray%22%3A%20null%2C%20%22dashOffset%22%3A%20null%2C%20%22fill%22%3A%20%22%2300A1B3%22%2C%20%22fillColor%22%3A%20%22%2300FF69%22%2C%20%22fillOpacity%22%3A%200.2%2C%20%22fillRule%22%3A%20%22evenodd%22%2C%20%22lineCap%22%3A%20%22round%22%2C%20%22lineJoin%22%3A%20%22round%22%2C%20%22opacity%22%3A%201.0%2C%20%22radius%22%3A%201.0%2C%20%22stroke%22%3A%20true%2C%20%22weight%22%3A%203%7D%0A%20%20%20%20%20%20%20%20%20%20%20%20%29.addTo%28map_6560fea948844691ba52179ee6ab8c3a%29%3B%0A%20%20%20%20%20%20%20%20%0A%20%20%20%20%0A%20%20%20%20%20%20%20%20%20%20%20%20circle_4d1f8b395b17404bb1ef9b9bbfd04dcb.bindTooltip%28%0A%20%20%20%20%20%20%20%20%20%20%20%20%20%20%20%20%60%3Cdiv%3E%0A%20%20%20%20%20%20%20%20%20%20%20%20%20%20%20%20%20%20%20%20%20%3Cli%3E%3Cbold%3E%20MUNICIPIO%3A%20Santo%20Cristo%3C/bold%3E%3Cli%3E%3Cli%3E%3Cbold%3E%20INTERNA%C3%87%C3%95ES%3A1%3C/bold%3E%3Cli%3E%0A%20%20%20%20%20%20%20%20%20%20%20%20%20%20%20%20%20%3C/div%3E%60%2C%0A%20%20%20%20%20%20%20%20%20%20%20%20%20%20%20%20%7B%22sticky%22%3A%20true%7D%0A%20%20%20%20%20%20%20%20%20%20%20%20%29%3B%0A%20%20%20%20%20%20%20%20%0A%20%20%20%20%0A%20%20%20%20%20%20%20%20%20%20%20%20var%20circle_259f47d70ba943c6aab9b77a1917d142%20%3D%20L.circle%28%0A%20%20%20%20%20%20%20%20%20%20%20%20%20%20%20%20%5B-22.9639208%2C%20-43.1739732%5D%2C%0A%20%20%20%20%20%20%20%20%20%20%20%20%20%20%20%20%7B%22bubblingMouseEvents%22%3A%20true%2C%20%22color%22%3A%20%22%2300FF69%22%2C%20%22dashArray%22%3A%20null%2C%20%22dashOffset%22%3A%20null%2C%20%22fill%22%3A%20%22%2300A1B3%22%2C%20%22fillColor%22%3A%20%22%2300FF69%22%2C%20%22fillOpacity%22%3A%200.2%2C%20%22fillRule%22%3A%20%22evenodd%22%2C%20%22lineCap%22%3A%20%22round%22%2C%20%22lineJoin%22%3A%20%22round%22%2C%20%22opacity%22%3A%201.0%2C%20%22radius%22%3A%201.0%2C%20%22stroke%22%3A%20true%2C%20%22weight%22%3A%203%7D%0A%20%20%20%20%20%20%20%20%20%20%20%20%29.addTo%28map_6560fea948844691ba52179ee6ab8c3a%29%3B%0A%20%20%20%20%20%20%20%20%0A%20%20%20%20%0A%20%20%20%20%20%20%20%20%20%20%20%20circle_259f47d70ba943c6aab9b77a1917d142.bindTooltip%28%0A%20%20%20%20%20%20%20%20%20%20%20%20%20%20%20%20%60%3Cdiv%3E%0A%20%20%20%20%20%20%20%20%20%20%20%20%20%20%20%20%20%20%20%20%20%3Cli%3E%3Cbold%3E%20MUNICIPIO%3A%20Copacabana%3C/bold%3E%3Cli%3E%3Cli%3E%3Cbold%3E%20INTERNA%C3%87%C3%95ES%3A1%3C/bold%3E%3Cli%3E%0A%20%20%20%20%20%20%20%20%20%20%20%20%20%20%20%20%20%3C/div%3E%60%2C%0A%20%20%20%20%20%20%20%20%20%20%20%20%20%20%20%20%7B%22sticky%22%3A%20true%7D%0A%20%20%20%20%20%20%20%20%20%20%20%20%29%3B%0A%20%20%20%20%20%20%20%20%0A%20%20%20%20%0A%20%20%20%20%20%20%20%20%20%20%20%20var%20circle_228aa2fca6ef41d59349f8390b58b574%20%3D%20L.circle%28%0A%20%20%20%20%20%20%20%20%20%20%20%20%20%20%20%20%5B-22.9017736%2C%20-43.2711031%5D%2C%0A%20%20%20%20%20%20%20%20%20%20%20%20%20%20%20%20%7B%22bubblingMouseEvents%22%3A%20true%2C%20%22color%22%3A%20%22%2300FF69%22%2C%20%22dashArray%22%3A%20null%2C%20%22dashOffset%22%3A%20null%2C%20%22fill%22%3A%20%22%2300A1B3%22%2C%20%22fillColor%22%3A%20%22%2300FF69%22%2C%20%22fillOpacity%22%3A%200.2%2C%20%22fillRule%22%3A%20%22evenodd%22%2C%20%22lineCap%22%3A%20%22round%22%2C%20%22lineJoin%22%3A%20%22round%22%2C%20%22opacity%22%3A%201.0%2C%20%22radius%22%3A%201.0%2C%20%22stroke%22%3A%20true%2C%20%22weight%22%3A%203%7D%0A%20%20%20%20%20%20%20%20%20%20%20%20%29.addTo%28map_6560fea948844691ba52179ee6ab8c3a%29%3B%0A%20%20%20%20%20%20%20%20%0A%20%20%20%20%0A%20%20%20%20%20%20%20%20%20%20%20%20circle_228aa2fca6ef41d59349f8390b58b574.bindTooltip%28%0A%20%20%20%20%20%20%20%20%20%20%20%20%20%20%20%20%60%3Cdiv%3E%0A%20%20%20%20%20%20%20%20%20%20%20%20%20%20%20%20%20%20%20%20%20%3Cli%3E%3Cbold%3E%20MUNICIPIO%3A%20Engenho%20Novo%3C/bold%3E%3Cli%3E%3Cli%3E%3Cbold%3E%20INTERNA%C3%87%C3%95ES%3A1%3C/bold%3E%3Cli%3E%0A%20%20%20%20%20%20%20%20%20%20%20%20%20%20%20%20%20%3C/div%3E%60%2C%0A%20%20%20%20%20%20%20%20%20%20%20%20%20%20%20%20%7B%22sticky%22%3A%20true%7D%0A%20%20%20%20%20%20%20%20%20%20%20%20%29%3B%0A%20%20%20%20%20%20%20%20%0A%20%20%20%20%0A%20%20%20%20%20%20%20%20%20%20%20%20var%20circle_99af46eed5ed4d319fd6e8b98b236222%20%3D%20L.circle%28%0A%20%20%20%20%20%20%20%20%20%20%20%20%20%20%20%20%5B-22.8744628%2C%20-43.3683492%5D%2C%0A%20%20%20%20%20%20%20%20%20%20%20%20%20%20%20%20%7B%22bubblingMouseEvents%22%3A%20true%2C%20%22color%22%3A%20%22%2300FF69%22%2C%20%22dashArray%22%3A%20null%2C%20%22dashOffset%22%3A%20null%2C%20%22fill%22%3A%20%22%2300A1B3%22%2C%20%22fillColor%22%3A%20%22%2300FF69%22%2C%20%22fillOpacity%22%3A%200.2%2C%20%22fillRule%22%3A%20%22evenodd%22%2C%20%22lineCap%22%3A%20%22round%22%2C%20%22lineJoin%22%3A%20%22round%22%2C%20%22opacity%22%3A%201.0%2C%20%22radius%22%3A%201.0%2C%20%22stroke%22%3A%20true%2C%20%22weight%22%3A%203%7D%0A%20%20%20%20%20%20%20%20%20%20%20%20%29.addTo%28map_6560fea948844691ba52179ee6ab8c3a%29%3B%0A%20%20%20%20%20%20%20%20%0A%20%20%20%20%0A%20%20%20%20%20%20%20%20%20%20%20%20circle_99af46eed5ed4d319fd6e8b98b236222.bindTooltip%28%0A%20%20%20%20%20%20%20%20%20%20%20%20%20%20%20%20%60%3Cdiv%3E%0A%20%20%20%20%20%20%20%20%20%20%20%20%20%20%20%20%20%20%20%20%20%3Cli%3E%3Cbold%3E%20MUNICIPIO%3A%20Bento%20Ribeiro%3C/bold%3E%3Cli%3E%3Cli%3E%3Cbold%3E%20INTERNA%C3%87%C3%95ES%3A1%3C/bold%3E%3Cli%3E%0A%20%20%20%20%20%20%20%20%20%20%20%20%20%20%20%20%20%3C/div%3E%60%2C%0A%20%20%20%20%20%20%20%20%20%20%20%20%20%20%20%20%7B%22sticky%22%3A%20true%7D%0A%20%20%20%20%20%20%20%20%20%20%20%20%29%3B%0A%20%20%20%20%20%20%20%20%0A%20%20%20%20%0A%20%20%20%20%20%20%20%20%20%20%20%20var%20circle_e3b20702b33d46958ee2403c8fe71013%20%3D%20L.circle%28%0A%20%20%20%20%20%20%20%20%20%20%20%20%20%20%20%20%5B-22.9852794%2C%20-43.6945139%5D%2C%0A%20%20%20%20%20%20%20%20%20%20%20%20%20%20%20%20%7B%22bubblingMouseEvents%22%3A%20true%2C%20%22color%22%3A%20%22%2300FF69%22%2C%20%22dashArray%22%3A%20null%2C%20%22dashOffset%22%3A%20null%2C%20%22fill%22%3A%20%22%2300A1B3%22%2C%20%22fillColor%22%3A%20%22%2300FF69%22%2C%20%22fillOpacity%22%3A%200.2%2C%20%22fillRule%22%3A%20%22evenodd%22%2C%20%22lineCap%22%3A%20%22round%22%2C%20%22lineJoin%22%3A%20%22round%22%2C%20%22opacity%22%3A%201.0%2C%20%22radius%22%3A%201.0%2C%20%22stroke%22%3A%20true%2C%20%22weight%22%3A%203%7D%0A%20%20%20%20%20%20%20%20%20%20%20%20%29.addTo%28map_6560fea948844691ba52179ee6ab8c3a%29%3B%0A%20%20%20%20%20%20%20%20%0A%20%20%20%20%0A%20%20%20%20%20%20%20%20%20%20%20%20circle_e3b20702b33d46958ee2403c8fe71013.bindTooltip%28%0A%20%20%20%20%20%20%20%20%20%20%20%20%20%20%20%20%60%3Cdiv%3E%0A%20%20%20%20%20%20%20%20%20%20%20%20%20%20%20%20%20%20%20%20%20%3Cli%3E%3Cbold%3E%20MUNICIPIO%3A%20Sepetiba%3C/bold%3E%3Cli%3E%3Cli%3E%3Cbold%3E%20INTERNA%C3%87%C3%95ES%3A1%3C/bold%3E%3Cli%3E%0A%20%20%20%20%20%20%20%20%20%20%20%20%20%20%20%20%20%3C/div%3E%60%2C%0A%20%20%20%20%20%20%20%20%20%20%20%20%20%20%20%20%7B%22sticky%22%3A%20true%7D%0A%20%20%20%20%20%20%20%20%20%20%20%20%29%3B%0A%20%20%20%20%20%20%20%20%0A%20%20%20%20%0A%20%20%20%20%20%20%20%20%20%20%20%20var%20circle_e4274fc9239c410884254a41594e49ea%20%3D%20L.circle%28%0A%20%20%20%20%20%20%20%20%20%20%20%20%20%20%20%20%5B-22.9311419%2C%20-43.2409389%5D%2C%0A%20%20%20%20%20%20%20%20%20%20%20%20%20%20%20%20%7B%22bubblingMouseEvents%22%3A%20true%2C%20%22color%22%3A%20%22%2300FF69%22%2C%20%22dashArray%22%3A%20null%2C%20%22dashOffset%22%3A%20null%2C%20%22fill%22%3A%20%22%2300A1B3%22%2C%20%22fillColor%22%3A%20%22%2300FF69%22%2C%20%22fillOpacity%22%3A%200.2%2C%20%22fillRule%22%3A%20%22evenodd%22%2C%20%22lineCap%22%3A%20%22round%22%2C%20%22lineJoin%22%3A%20%22round%22%2C%20%22opacity%22%3A%201.0%2C%20%22radius%22%3A%201.0%2C%20%22stroke%22%3A%20true%2C%20%22weight%22%3A%203%7D%0A%20%20%20%20%20%20%20%20%20%20%20%20%29.addTo%28map_6560fea948844691ba52179ee6ab8c3a%29%3B%0A%20%20%20%20%20%20%20%20%0A%20%20%20%20%0A%20%20%20%20%20%20%20%20%20%20%20%20circle_e4274fc9239c410884254a41594e49ea.bindTooltip%28%0A%20%20%20%20%20%20%20%20%20%20%20%20%20%20%20%20%60%3Cdiv%3E%0A%20%20%20%20%20%20%20%20%20%20%20%20%20%20%20%20%20%20%20%20%20%3Cli%3E%3Cbold%3E%20MUNICIPIO%3A%20Tijuca%3C/bold%3E%3Cli%3E%3Cli%3E%3Cbold%3E%20INTERNA%C3%87%C3%95ES%3A1%3C/bold%3E%3Cli%3E%0A%20%20%20%20%20%20%20%20%20%20%20%20%20%20%20%20%20%3C/div%3E%60%2C%0A%20%20%20%20%20%20%20%20%20%20%20%20%20%20%20%20%7B%22sticky%22%3A%20true%7D%0A%20%20%20%20%20%20%20%20%20%20%20%20%29%3B%0A%20%20%20%20%20%20%20%20%0A%20%20%20%20%0A%20%20%20%20%20%20%20%20%20%20%20%20var%20circle_3e91f1f563fc4ca98f3a823eaccacd27%20%3D%20L.circle%28%0A%20%20%20%20%20%20%20%20%20%20%20%20%20%20%20%20%5B-22.9243811%2C%20-43.1786684%5D%2C%0A%20%20%20%20%20%20%20%20%20%20%20%20%20%20%20%20%7B%22bubblingMouseEvents%22%3A%20true%2C%20%22color%22%3A%20%22%2300FF69%22%2C%20%22dashArray%22%3A%20null%2C%20%22dashOffset%22%3A%20null%2C%20%22fill%22%3A%20%22%2300A1B3%22%2C%20%22fillColor%22%3A%20%22%2300FF69%22%2C%20%22fillOpacity%22%3A%200.2%2C%20%22fillRule%22%3A%20%22evenodd%22%2C%20%22lineCap%22%3A%20%22round%22%2C%20%22lineJoin%22%3A%20%22round%22%2C%20%22opacity%22%3A%201.0%2C%20%22radius%22%3A%201.0%2C%20%22stroke%22%3A%20true%2C%20%22weight%22%3A%203%7D%0A%20%20%20%20%20%20%20%20%20%20%20%20%29.addTo%28map_6560fea948844691ba52179ee6ab8c3a%29%3B%0A%20%20%20%20%20%20%20%20%0A%20%20%20%20%0A%20%20%20%20%20%20%20%20%20%20%20%20circle_3e91f1f563fc4ca98f3a823eaccacd27.bindTooltip%28%0A%20%20%20%20%20%20%20%20%20%20%20%20%20%20%20%20%60%3Cdiv%3E%0A%20%20%20%20%20%20%20%20%20%20%20%20%20%20%20%20%20%20%20%20%20%3Cli%3E%3Cbold%3E%20MUNICIPIO%3A%20Catete%3C/bold%3E%3Cli%3E%3Cli%3E%3Cbold%3E%20INTERNA%C3%87%C3%95ES%3A1%3C/bold%3E%3Cli%3E%0A%20%20%20%20%20%20%20%20%20%20%20%20%20%20%20%20%20%3C/div%3E%60%2C%0A%20%20%20%20%20%20%20%20%20%20%20%20%20%20%20%20%7B%22sticky%22%3A%20true%7D%0A%20%20%20%20%20%20%20%20%20%20%20%20%29%3B%0A%20%20%20%20%20%20%20%20%0A%20%20%20%20%0A%20%20%20%20%20%20%20%20%20%20%20%20var%20circle_4f0cde4b05394e8cb51160f380a901a3%20%3D%20L.circle%28%0A%20%20%20%20%20%20%20%20%20%20%20%20%20%20%20%20%5B-22.9553184%2C%20-43.1775388%5D%2C%0A%20%20%20%20%20%20%20%20%20%20%20%20%20%20%20%20%7B%22bubblingMouseEvents%22%3A%20true%2C%20%22color%22%3A%20%22%2300FF69%22%2C%20%22dashArray%22%3A%20null%2C%20%22dashOffset%22%3A%20null%2C%20%22fill%22%3A%20%22%2300A1B3%22%2C%20%22fillColor%22%3A%20%22%2300FF69%22%2C%20%22fillOpacity%22%3A%200.2%2C%20%22fillRule%22%3A%20%22evenodd%22%2C%20%22lineCap%22%3A%20%22round%22%2C%20%22lineJoin%22%3A%20%22round%22%2C%20%22opacity%22%3A%201.0%2C%20%22radius%22%3A%201.0%2C%20%22stroke%22%3A%20true%2C%20%22weight%22%3A%203%7D%0A%20%20%20%20%20%20%20%20%20%20%20%20%29.addTo%28map_6560fea948844691ba52179ee6ab8c3a%29%3B%0A%20%20%20%20%20%20%20%20%0A%20%20%20%20%0A%20%20%20%20%20%20%20%20%20%20%20%20circle_4f0cde4b05394e8cb51160f380a901a3.bindTooltip%28%0A%20%20%20%20%20%20%20%20%20%20%20%20%20%20%20%20%60%3Cdiv%3E%0A%20%20%20%20%20%20%20%20%20%20%20%20%20%20%20%20%20%20%20%20%20%3Cli%3E%3Cbold%3E%20MUNICIPIO%3A%20Botafogo%3C/bold%3E%3Cli%3E%3Cli%3E%3Cbold%3E%20INTERNA%C3%87%C3%95ES%3A1%3C/bold%3E%3Cli%3E%0A%20%20%20%20%20%20%20%20%20%20%20%20%20%20%20%20%20%3C/div%3E%60%2C%0A%20%20%20%20%20%20%20%20%20%20%20%20%20%20%20%20%7B%22sticky%22%3A%20true%7D%0A%20%20%20%20%20%20%20%20%20%20%20%20%29%3B%0A%20%20%20%20%20%20%20%20%0A%20%20%20%20%0A%20%20%20%20%20%20%20%20%20%20%20%20var%20circle_0435f743710b468bbb8ec45b592bed10%20%3D%20L.circle%28%0A%20%20%20%20%20%20%20%20%20%20%20%20%20%20%20%20%5B-22.8785457%2C%20-43.2188006%5D%2C%0A%20%20%20%20%20%20%20%20%20%20%20%20%20%20%20%20%7B%22bubblingMouseEvents%22%3A%20true%2C%20%22color%22%3A%20%22%2300FF69%22%2C%20%22dashArray%22%3A%20null%2C%20%22dashOffset%22%3A%20null%2C%20%22fill%22%3A%20%22%2300A1B3%22%2C%20%22fillColor%22%3A%20%22%2300FF69%22%2C%20%22fillOpacity%22%3A%200.2%2C%20%22fillRule%22%3A%20%22evenodd%22%2C%20%22lineCap%22%3A%20%22round%22%2C%20%22lineJoin%22%3A%20%22round%22%2C%20%22opacity%22%3A%201.0%2C%20%22radius%22%3A%201.0%2C%20%22stroke%22%3A%20true%2C%20%22weight%22%3A%203%7D%0A%20%20%20%20%20%20%20%20%20%20%20%20%29.addTo%28map_6560fea948844691ba52179ee6ab8c3a%29%3B%0A%20%20%20%20%20%20%20%20%0A%20%20%20%20%0A%20%20%20%20%20%20%20%20%20%20%20%20circle_0435f743710b468bbb8ec45b592bed10.bindTooltip%28%0A%20%20%20%20%20%20%20%20%20%20%20%20%20%20%20%20%60%3Cdiv%3E%0A%20%20%20%20%20%20%20%20%20%20%20%20%20%20%20%20%20%20%20%20%20%3Cli%3E%3Cbold%3E%20MUNICIPIO%3A%20Caju%3C/bold%3E%3Cli%3E%3Cli%3E%3Cbold%3E%20INTERNA%C3%87%C3%95ES%3A1%3C/bold%3E%3Cli%3E%0A%20%20%20%20%20%20%20%20%20%20%20%20%20%20%20%20%20%3C/div%3E%60%2C%0A%20%20%20%20%20%20%20%20%20%20%20%20%20%20%20%20%7B%22sticky%22%3A%20true%7D%0A%20%20%20%20%20%20%20%20%20%20%20%20%29%3B%0A%20%20%20%20%20%20%20%20%0A%20%20%20%20%0A%20%20%20%20%20%20%20%20%20%20%20%20var%20circle_4f4651635c544b9b9a0eba32c4803bbb%20%3D%20L.circle%28%0A%20%20%20%20%20%20%20%20%20%20%20%20%20%20%20%20%5B-22.90994005%2C%20-43.172421852883645%5D%2C%0A%20%20%20%20%20%20%20%20%20%20%20%20%20%20%20%20%7B%22bubblingMouseEvents%22%3A%20true%2C%20%22color%22%3A%20%22%2300FF69%22%2C%20%22dashArray%22%3A%20null%2C%20%22dashOffset%22%3A%20null%2C%20%22fill%22%3A%20%22%2300A1B3%22%2C%20%22fillColor%22%3A%20%22%2300FF69%22%2C%20%22fillOpacity%22%3A%200.2%2C%20%22fillRule%22%3A%20%22evenodd%22%2C%20%22lineCap%22%3A%20%22round%22%2C%20%22lineJoin%22%3A%20%22round%22%2C%20%22opacity%22%3A%201.0%2C%20%22radius%22%3A%201.0%2C%20%22stroke%22%3A%20true%2C%20%22weight%22%3A%203%7D%0A%20%20%20%20%20%20%20%20%20%20%20%20%29.addTo%28map_6560fea948844691ba52179ee6ab8c3a%29%3B%0A%20%20%20%20%20%20%20%20%0A%20%20%20%20%0A%20%20%20%20%20%20%20%20%20%20%20%20circle_4f4651635c544b9b9a0eba32c4803bbb.bindTooltip%28%0A%20%20%20%20%20%20%20%20%20%20%20%20%20%20%20%20%60%3Cdiv%3E%0A%20%20%20%20%20%20%20%20%20%20%20%20%20%20%20%20%20%20%20%20%20%3Cli%3E%3Cbold%3E%20MUNICIPIO%3A%20Centro%3C/bold%3E%3Cli%3E%3Cli%3E%3Cbold%3E%20INTERNA%C3%87%C3%95ES%3A1%3C/bold%3E%3Cli%3E%0A%20%20%20%20%20%20%20%20%20%20%20%20%20%20%20%20%20%3C/div%3E%60%2C%0A%20%20%20%20%20%20%20%20%20%20%20%20%20%20%20%20%7B%22sticky%22%3A%20true%7D%0A%20%20%20%20%20%20%20%20%20%20%20%20%29%3B%0A%20%20%20%20%20%20%20%20%0A%20%20%20%20%0A%20%20%20%20%20%20%20%20%20%20%20%20var%20circle_a2e22e86948a4366ba17f182f18853a7%20%3D%20L.circle%28%0A%20%20%20%20%20%20%20%20%20%20%20%20%20%20%20%20%5B-22.872078%2C%20-43.2348227%5D%2C%0A%20%20%20%20%20%20%20%20%20%20%20%20%20%20%20%20%7B%22bubblingMouseEvents%22%3A%20true%2C%20%22color%22%3A%20%22%2300FF69%22%2C%20%22dashArray%22%3A%20null%2C%20%22dashOffset%22%3A%20null%2C%20%22fill%22%3A%20%22%2300A1B3%22%2C%20%22fillColor%22%3A%20%22%2300FF69%22%2C%20%22fillOpacity%22%3A%200.2%2C%20%22fillRule%22%3A%20%22evenodd%22%2C%20%22lineCap%22%3A%20%22round%22%2C%20%22lineJoin%22%3A%20%22round%22%2C%20%22opacity%22%3A%201.0%2C%20%22radius%22%3A%201.0%2C%20%22stroke%22%3A%20true%2C%20%22weight%22%3A%203%7D%0A%20%20%20%20%20%20%20%20%20%20%20%20%29.addTo%28map_6560fea948844691ba52179ee6ab8c3a%29%3B%0A%20%20%20%20%20%20%20%20%0A%20%20%20%20%0A%20%20%20%20%20%20%20%20%20%20%20%20circle_a2e22e86948a4366ba17f182f18853a7.bindTooltip%28%0A%20%20%20%20%20%20%20%20%20%20%20%20%20%20%20%20%60%3Cdiv%3E%0A%20%20%20%20%20%20%20%20%20%20%20%20%20%20%20%20%20%20%20%20%20%3Cli%3E%3Cbold%3E%20MUNICIPIO%3A%20Mar%C3%A9%3C/bold%3E%3Cli%3E%3Cli%3E%3Cbold%3E%20INTERNA%C3%87%C3%95ES%3A1%3C/bold%3E%3Cli%3E%0A%20%20%20%20%20%20%20%20%20%20%20%20%20%20%20%20%20%3C/div%3E%60%2C%0A%20%20%20%20%20%20%20%20%20%20%20%20%20%20%20%20%7B%22sticky%22%3A%20true%7D%0A%20%20%20%20%20%20%20%20%20%20%20%20%29%3B%0A%20%20%20%20%20%20%20%20%0A%20%20%20%20%0A%20%20%20%20%20%20%20%20%20%20%20%20var%20circle_695cf51b8f244f7b9a947d17997501c8%20%3D%20L.circle%28%0A%20%20%20%20%20%20%20%20%20%20%20%20%20%20%20%20%5B-22.9027521%2C%20-43.2031332%5D%2C%0A%20%20%20%20%20%20%20%20%20%20%20%20%20%20%20%20%7B%22bubblingMouseEvents%22%3A%20true%2C%20%22color%22%3A%20%22%2300FF69%22%2C%20%22dashArray%22%3A%20null%2C%20%22dashOffset%22%3A%20null%2C%20%22fill%22%3A%20%22%2300A1B3%22%2C%20%22fillColor%22%3A%20%22%2300FF69%22%2C%20%22fillOpacity%22%3A%200.2%2C%20%22fillRule%22%3A%20%22evenodd%22%2C%20%22lineCap%22%3A%20%22round%22%2C%20%22lineJoin%22%3A%20%22round%22%2C%20%22opacity%22%3A%201.0%2C%20%22radius%22%3A%201.0%2C%20%22stroke%22%3A%20true%2C%20%22weight%22%3A%203%7D%0A%20%20%20%20%20%20%20%20%20%20%20%20%29.addTo%28map_6560fea948844691ba52179ee6ab8c3a%29%3B%0A%20%20%20%20%20%20%20%20%0A%20%20%20%20%0A%20%20%20%20%20%20%20%20%20%20%20%20circle_695cf51b8f244f7b9a947d17997501c8.bindTooltip%28%0A%20%20%20%20%20%20%20%20%20%20%20%20%20%20%20%20%60%3Cdiv%3E%0A%20%20%20%20%20%20%20%20%20%20%20%20%20%20%20%20%20%20%20%20%20%3Cli%3E%3Cbold%3E%20MUNICIPIO%3A%20Santo%20Cristo%3C/bold%3E%3Cli%3E%3Cli%3E%3Cbold%3E%20INTERNA%C3%87%C3%95ES%3A1%3C/bold%3E%3Cli%3E%0A%20%20%20%20%20%20%20%20%20%20%20%20%20%20%20%20%20%3C/div%3E%60%2C%0A%20%20%20%20%20%20%20%20%20%20%20%20%20%20%20%20%7B%22sticky%22%3A%20true%7D%0A%20%20%20%20%20%20%20%20%20%20%20%20%29%3B%0A%20%20%20%20%20%20%20%20%0A%20%20%20%20%0A%20%20%20%20%20%20%20%20%20%20%20%20var%20circle_1027f03a108e441f96df3b923e3b5a04%20%3D%20L.circle%28%0A%20%20%20%20%20%20%20%20%20%20%20%20%20%20%20%20%5B-22.8405438%2C%20-43.3058135%5D%2C%0A%20%20%20%20%20%20%20%20%20%20%20%20%20%20%20%20%7B%22bubblingMouseEvents%22%3A%20true%2C%20%22color%22%3A%20%22%2300FF69%22%2C%20%22dashArray%22%3A%20null%2C%20%22dashOffset%22%3A%20null%2C%20%22fill%22%3A%20%22%2300A1B3%22%2C%20%22fillColor%22%3A%20%22%2300FF69%22%2C%20%22fillOpacity%22%3A%200.2%2C%20%22fillRule%22%3A%20%22evenodd%22%2C%20%22lineCap%22%3A%20%22round%22%2C%20%22lineJoin%22%3A%20%22round%22%2C%20%22opacity%22%3A%201.0%2C%20%22radius%22%3A%201.0%2C%20%22stroke%22%3A%20true%2C%20%22weight%22%3A%203%7D%0A%20%20%20%20%20%20%20%20%20%20%20%20%29.addTo%28map_6560fea948844691ba52179ee6ab8c3a%29%3B%0A%20%20%20%20%20%20%20%20%0A%20%20%20%20%0A%20%20%20%20%20%20%20%20%20%20%20%20circle_1027f03a108e441f96df3b923e3b5a04.bindTooltip%28%0A%20%20%20%20%20%20%20%20%20%20%20%20%20%20%20%20%60%3Cdiv%3E%0A%20%20%20%20%20%20%20%20%20%20%20%20%20%20%20%20%20%20%20%20%20%3Cli%3E%3Cbold%3E%20MUNICIPIO%3A%20Vila%20da%20Penha%3C/bold%3E%3Cli%3E%3Cli%3E%3Cbold%3E%20INTERNA%C3%87%C3%95ES%3A1%3C/bold%3E%3Cli%3E%0A%20%20%20%20%20%20%20%20%20%20%20%20%20%20%20%20%20%3C/div%3E%60%2C%0A%20%20%20%20%20%20%20%20%20%20%20%20%20%20%20%20%7B%22sticky%22%3A%20true%7D%0A%20%20%20%20%20%20%20%20%20%20%20%20%29%3B%0A%20%20%20%20%20%20%20%20%0A%20%20%20%20%0A%20%20%20%20%20%20%20%20%20%20%20%20var%20circle_380fb6cf9d6a48f0ac702c5a98f884a5%20%3D%20L.circle%28%0A%20%20%20%20%20%20%20%20%20%20%20%20%20%20%20%20%5B-22.8805122%2C%20-43.342942%5D%2C%0A%20%20%20%20%20%20%20%20%20%20%20%20%20%20%20%20%7B%22bubblingMouseEvents%22%3A%20true%2C%20%22color%22%3A%20%22%2300FF69%22%2C%20%22dashArray%22%3A%20null%2C%20%22dashOffset%22%3A%20null%2C%20%22fill%22%3A%20%22%2300A1B3%22%2C%20%22fillColor%22%3A%20%22%2300FF69%22%2C%20%22fillOpacity%22%3A%200.2%2C%20%22fillRule%22%3A%20%22evenodd%22%2C%20%22lineCap%22%3A%20%22round%22%2C%20%22lineJoin%22%3A%20%22round%22%2C%20%22opacity%22%3A%201.0%2C%20%22radius%22%3A%201.0%2C%20%22stroke%22%3A%20true%2C%20%22weight%22%3A%203%7D%0A%20%20%20%20%20%20%20%20%20%20%20%20%29.addTo%28map_6560fea948844691ba52179ee6ab8c3a%29%3B%0A%20%20%20%20%20%20%20%20%0A%20%20%20%20%0A%20%20%20%20%20%20%20%20%20%20%20%20circle_380fb6cf9d6a48f0ac702c5a98f884a5.bindTooltip%28%0A%20%20%20%20%20%20%20%20%20%20%20%20%20%20%20%20%60%3Cdiv%3E%0A%20%20%20%20%20%20%20%20%20%20%20%20%20%20%20%20%20%20%20%20%20%3Cli%3E%3Cbold%3E%20MUNICIPIO%3A%20Madureira%3C/bold%3E%3Cli%3E%3Cli%3E%3Cbold%3E%20INTERNA%C3%87%C3%95ES%3A1%3C/bold%3E%3Cli%3E%0A%20%20%20%20%20%20%20%20%20%20%20%20%20%20%20%20%20%3C/div%3E%60%2C%0A%20%20%20%20%20%20%20%20%20%20%20%20%20%20%20%20%7B%22sticky%22%3A%20true%7D%0A%20%20%20%20%20%20%20%20%20%20%20%20%29%3B%0A%20%20%20%20%20%20%20%20%0A%20%20%20%20%0A%20%20%20%20%20%20%20%20%20%20%20%20var%20circle_3e594f514a644cd1b2eedca7aa2af855%20%3D%20L.circle%28%0A%20%20%20%20%20%20%20%20%20%20%20%20%20%20%20%20%5B-22.8964799%2C%20-43.3585503%5D%2C%0A%20%20%20%20%20%20%20%20%20%20%20%20%20%20%20%20%7B%22bubblingMouseEvents%22%3A%20true%2C%20%22color%22%3A%20%22%2300FF69%22%2C%20%22dashArray%22%3A%20null%2C%20%22dashOffset%22%3A%20null%2C%20%22fill%22%3A%20%22%2300A1B3%22%2C%20%22fillColor%22%3A%20%22%2300FF69%22%2C%20%22fillOpacity%22%3A%200.2%2C%20%22fillRule%22%3A%20%22evenodd%22%2C%20%22lineCap%22%3A%20%22round%22%2C%20%22lineJoin%22%3A%20%22round%22%2C%20%22opacity%22%3A%201.0%2C%20%22radius%22%3A%201.0%2C%20%22stroke%22%3A%20true%2C%20%22weight%22%3A%203%7D%0A%20%20%20%20%20%20%20%20%20%20%20%20%29.addTo%28map_6560fea948844691ba52179ee6ab8c3a%29%3B%0A%20%20%20%20%20%20%20%20%0A%20%20%20%20%0A%20%20%20%20%20%20%20%20%20%20%20%20circle_3e594f514a644cd1b2eedca7aa2af855.bindTooltip%28%0A%20%20%20%20%20%20%20%20%20%20%20%20%20%20%20%20%60%3Cdiv%3E%0A%20%20%20%20%20%20%20%20%20%20%20%20%20%20%20%20%20%20%20%20%20%3Cli%3E%3Cbold%3E%20MUNICIPIO%3A%20Pra%C3%A7a%20Seca%3C/bold%3E%3Cli%3E%3Cli%3E%3Cbold%3E%20INTERNA%C3%87%C3%95ES%3A1%3C/bold%3E%3Cli%3E%0A%20%20%20%20%20%20%20%20%20%20%20%20%20%20%20%20%20%3C/div%3E%60%2C%0A%20%20%20%20%20%20%20%20%20%20%20%20%20%20%20%20%7B%22sticky%22%3A%20true%7D%0A%20%20%20%20%20%20%20%20%20%20%20%20%29%3B%0A%20%20%20%20%20%20%20%20%0A%20%20%20%20%0A%20%20%20%20%20%20%20%20%20%20%20%20var%20circle_7cfce084072f4c7f989902d908ccaa6f%20%3D%20L.circle%28%0A%20%20%20%20%20%20%20%20%20%20%20%20%20%20%20%20%5B-22.9390057%2C%20-43.3277003%5D%2C%0A%20%20%20%20%20%20%20%20%20%20%20%20%20%20%20%20%7B%22bubblingMouseEvents%22%3A%20true%2C%20%22color%22%3A%20%22%2300FF69%22%2C%20%22dashArray%22%3A%20null%2C%20%22dashOffset%22%3A%20null%2C%20%22fill%22%3A%20%22%2300A1B3%22%2C%20%22fillColor%22%3A%20%22%2300FF69%22%2C%20%22fillOpacity%22%3A%200.2%2C%20%22fillRule%22%3A%20%22evenodd%22%2C%20%22lineCap%22%3A%20%22round%22%2C%20%22lineJoin%22%3A%20%22round%22%2C%20%22opacity%22%3A%201.0%2C%20%22radius%22%3A%201.0%2C%20%22stroke%22%3A%20true%2C%20%22weight%22%3A%203%7D%0A%20%20%20%20%20%20%20%20%20%20%20%20%29.addTo%28map_6560fea948844691ba52179ee6ab8c3a%29%3B%0A%20%20%20%20%20%20%20%20%0A%20%20%20%20%0A%20%20%20%20%20%20%20%20%20%20%20%20circle_7cfce084072f4c7f989902d908ccaa6f.bindTooltip%28%0A%20%20%20%20%20%20%20%20%20%20%20%20%20%20%20%20%60%3Cdiv%3E%0A%20%20%20%20%20%20%20%20%20%20%20%20%20%20%20%20%20%20%20%20%20%3Cli%3E%3Cbold%3E%20MUNICIPIO%3A%20Freguesia%20%28Jacarepagu%C3%A1%29%3C/bold%3E%3Cli%3E%3Cli%3E%3Cbold%3E%20INTERNA%C3%87%C3%95ES%3A1%3C/bold%3E%3Cli%3E%0A%20%20%20%20%20%20%20%20%20%20%20%20%20%20%20%20%20%3C/div%3E%60%2C%0A%20%20%20%20%20%20%20%20%20%20%20%20%20%20%20%20%7B%22sticky%22%3A%20true%7D%0A%20%20%20%20%20%20%20%20%20%20%20%20%29%3B%0A%20%20%20%20%20%20%20%20%0A%20%20%20%20%0A%20%20%20%20%20%20%20%20%20%20%20%20var%20circle_3ccc7e9bba964c0da4913d64b6c91ffc%20%3D%20L.circle%28%0A%20%20%20%20%20%20%20%20%20%20%20%20%20%20%20%20%5B-22.8452131%2C%20-43.3048533%5D%2C%0A%20%20%20%20%20%20%20%20%20%20%20%20%20%20%20%20%7B%22bubblingMouseEvents%22%3A%20true%2C%20%22color%22%3A%20%22%2300FF69%22%2C%20%22dashArray%22%3A%20null%2C%20%22dashOffset%22%3A%20null%2C%20%22fill%22%3A%20%22%2300A1B3%22%2C%20%22fillColor%22%3A%20%22%2300FF69%22%2C%20%22fillOpacity%22%3A%200.2%2C%20%22fillRule%22%3A%20%22evenodd%22%2C%20%22lineCap%22%3A%20%22round%22%2C%20%22lineJoin%22%3A%20%22round%22%2C%20%22opacity%22%3A%201.0%2C%20%22radius%22%3A%201.0%2C%20%22stroke%22%3A%20true%2C%20%22weight%22%3A%203%7D%0A%20%20%20%20%20%20%20%20%20%20%20%20%29.addTo%28map_6560fea948844691ba52179ee6ab8c3a%29%3B%0A%20%20%20%20%20%20%20%20%0A%20%20%20%20%0A%20%20%20%20%20%20%20%20%20%20%20%20circle_3ccc7e9bba964c0da4913d64b6c91ffc.bindTooltip%28%0A%20%20%20%20%20%20%20%20%20%20%20%20%20%20%20%20%60%3Cdiv%3E%0A%20%20%20%20%20%20%20%20%20%20%20%20%20%20%20%20%20%20%20%20%20%3Cli%3E%3Cbold%3E%20MUNICIPIO%3A%20Vila%20da%20Penha%3C/bold%3E%3Cli%3E%3Cli%3E%3Cbold%3E%20INTERNA%C3%87%C3%95ES%3A1%3C/bold%3E%3Cli%3E%0A%20%20%20%20%20%20%20%20%20%20%20%20%20%20%20%20%20%3C/div%3E%60%2C%0A%20%20%20%20%20%20%20%20%20%20%20%20%20%20%20%20%7B%22sticky%22%3A%20true%7D%0A%20%20%20%20%20%20%20%20%20%20%20%20%29%3B%0A%20%20%20%20%20%20%20%20%0A%20%20%20%20%0A%20%20%20%20%20%20%20%20%20%20%20%20var%20circle_2194031d91394de3a0ed01aba4047f21%20%3D%20L.circle%28%0A%20%20%20%20%20%20%20%20%20%20%20%20%20%20%20%20%5B-22.9262258%2C%20-43.2157276%5D%2C%0A%20%20%20%20%20%20%20%20%20%20%20%20%20%20%20%20%7B%22bubblingMouseEvents%22%3A%20true%2C%20%22color%22%3A%20%22%2300FF69%22%2C%20%22dashArray%22%3A%20null%2C%20%22dashOffset%22%3A%20null%2C%20%22fill%22%3A%20%22%2300A1B3%22%2C%20%22fillColor%22%3A%20%22%2300FF69%22%2C%20%22fillOpacity%22%3A%200.2%2C%20%22fillRule%22%3A%20%22evenodd%22%2C%20%22lineCap%22%3A%20%22round%22%2C%20%22lineJoin%22%3A%20%22round%22%2C%20%22opacity%22%3A%201.0%2C%20%22radius%22%3A%201.0%2C%20%22stroke%22%3A%20true%2C%20%22weight%22%3A%203%7D%0A%20%20%20%20%20%20%20%20%20%20%20%20%29.addTo%28map_6560fea948844691ba52179ee6ab8c3a%29%3B%0A%20%20%20%20%20%20%20%20%0A%20%20%20%20%0A%20%20%20%20%20%20%20%20%20%20%20%20circle_2194031d91394de3a0ed01aba4047f21.bindTooltip%28%0A%20%20%20%20%20%20%20%20%20%20%20%20%20%20%20%20%60%3Cdiv%3E%0A%20%20%20%20%20%20%20%20%20%20%20%20%20%20%20%20%20%20%20%20%20%3Cli%3E%3Cbold%3E%20MUNICIPIO%3A%20Rio%20Comprido%3C/bold%3E%3Cli%3E%3Cli%3E%3Cbold%3E%20INTERNA%C3%87%C3%95ES%3A1%3C/bold%3E%3Cli%3E%0A%20%20%20%20%20%20%20%20%20%20%20%20%20%20%20%20%20%3C/div%3E%60%2C%0A%20%20%20%20%20%20%20%20%20%20%20%20%20%20%20%20%7B%22sticky%22%3A%20true%7D%0A%20%20%20%20%20%20%20%20%20%20%20%20%29%3B%0A%20%20%20%20%20%20%20%20%0A%20%20%20%20%0A%20%20%20%20%20%20%20%20%20%20%20%20var%20circle_637d7c1a10314f2f802c155aec35107b%20%3D%20L.circle%28%0A%20%20%20%20%20%20%20%20%20%20%20%20%20%20%20%20%5B-22.8059119%2C%20-43.2029146%5D%2C%0A%20%20%20%20%20%20%20%20%20%20%20%20%20%20%20%20%7B%22bubblingMouseEvents%22%3A%20true%2C%20%22color%22%3A%20%22%2300FF69%22%2C%20%22dashArray%22%3A%20null%2C%20%22dashOffset%22%3A%20null%2C%20%22fill%22%3A%20%22%2300A1B3%22%2C%20%22fillColor%22%3A%20%22%2300FF69%22%2C%20%22fillOpacity%22%3A%200.2%2C%20%22fillRule%22%3A%20%22evenodd%22%2C%20%22lineCap%22%3A%20%22round%22%2C%20%22lineJoin%22%3A%20%22round%22%2C%20%22opacity%22%3A%201.0%2C%20%22radius%22%3A%201.0%2C%20%22stroke%22%3A%20true%2C%20%22weight%22%3A%203%7D%0A%20%20%20%20%20%20%20%20%20%20%20%20%29.addTo%28map_6560fea948844691ba52179ee6ab8c3a%29%3B%0A%20%20%20%20%20%20%20%20%0A%20%20%20%20%0A%20%20%20%20%20%20%20%20%20%20%20%20circle_637d7c1a10314f2f802c155aec35107b.bindTooltip%28%0A%20%20%20%20%20%20%20%20%20%20%20%20%20%20%20%20%60%3Cdiv%3E%0A%20%20%20%20%20%20%20%20%20%20%20%20%20%20%20%20%20%20%20%20%20%3Cli%3E%3Cbold%3E%20MUNICIPIO%3A%20Jardim%20Guanabara%3C/bold%3E%3Cli%3E%3Cli%3E%3Cbold%3E%20INTERNA%C3%87%C3%95ES%3A1%3C/bold%3E%3Cli%3E%0A%20%20%20%20%20%20%20%20%20%20%20%20%20%20%20%20%20%3C/div%3E%60%2C%0A%20%20%20%20%20%20%20%20%20%20%20%20%20%20%20%20%7B%22sticky%22%3A%20true%7D%0A%20%20%20%20%20%20%20%20%20%20%20%20%29%3B%0A%20%20%20%20%20%20%20%20%0A%20%20%20%20%0A%20%20%20%20%20%20%20%20%20%20%20%20var%20circle_f9ecbae9e575408ea78f6b36ee0f18c7%20%3D%20L.circle%28%0A%20%20%20%20%20%20%20%20%20%20%20%20%20%20%20%20%5B-22.9732653%2C%20-43.6649063%5D%2C%0A%20%20%20%20%20%20%20%20%20%20%20%20%20%20%20%20%7B%22bubblingMouseEvents%22%3A%20true%2C%20%22color%22%3A%20%22%2300FF69%22%2C%20%22dashArray%22%3A%20null%2C%20%22dashOffset%22%3A%20null%2C%20%22fill%22%3A%20%22%2300A1B3%22%2C%20%22fillColor%22%3A%20%22%2300FF69%22%2C%20%22fillOpacity%22%3A%200.2%2C%20%22fillRule%22%3A%20%22evenodd%22%2C%20%22lineCap%22%3A%20%22round%22%2C%20%22lineJoin%22%3A%20%22round%22%2C%20%22opacity%22%3A%201.0%2C%20%22radius%22%3A%201.0%2C%20%22stroke%22%3A%20true%2C%20%22weight%22%3A%203%7D%0A%20%20%20%20%20%20%20%20%20%20%20%20%29.addTo%28map_6560fea948844691ba52179ee6ab8c3a%29%3B%0A%20%20%20%20%20%20%20%20%0A%20%20%20%20%0A%20%20%20%20%20%20%20%20%20%20%20%20circle_f9ecbae9e575408ea78f6b36ee0f18c7.bindTooltip%28%0A%20%20%20%20%20%20%20%20%20%20%20%20%20%20%20%20%60%3Cdiv%3E%0A%20%20%20%20%20%20%20%20%20%20%20%20%20%20%20%20%20%20%20%20%20%3Cli%3E%3Cbold%3E%20MUNICIPIO%3A%20Guaratiba%3C/bold%3E%3Cli%3E%3Cli%3E%3Cbold%3E%20INTERNA%C3%87%C3%95ES%3A1%3C/bold%3E%3Cli%3E%0A%20%20%20%20%20%20%20%20%20%20%20%20%20%20%20%20%20%3C/div%3E%60%2C%0A%20%20%20%20%20%20%20%20%20%20%20%20%20%20%20%20%7B%22sticky%22%3A%20true%7D%0A%20%20%20%20%20%20%20%20%20%20%20%20%29%3B%0A%20%20%20%20%20%20%20%20%0A%20%20%20%20%0A%20%20%20%20%20%20%20%20%20%20%20%20var%20circle_cbdbe75e41094fb19562c7c5252cd555%20%3D%20L.circle%28%0A%20%20%20%20%20%20%20%20%20%20%20%20%20%20%20%20%5B-22.8735387%2C%20-43.280434%5D%2C%0A%20%20%20%20%20%20%20%20%20%20%20%20%20%20%20%20%7B%22bubblingMouseEvents%22%3A%20true%2C%20%22color%22%3A%20%22%2300FF69%22%2C%20%22dashArray%22%3A%20null%2C%20%22dashOffset%22%3A%20null%2C%20%22fill%22%3A%20%22%2300A1B3%22%2C%20%22fillColor%22%3A%20%22%2300FF69%22%2C%20%22fillOpacity%22%3A%200.2%2C%20%22fillRule%22%3A%20%22evenodd%22%2C%20%22lineCap%22%3A%20%22round%22%2C%20%22lineJoin%22%3A%20%22round%22%2C%20%22opacity%22%3A%201.0%2C%20%22radius%22%3A%201.0%2C%20%22stroke%22%3A%20true%2C%20%22weight%22%3A%203%7D%0A%20%20%20%20%20%20%20%20%20%20%20%20%29.addTo%28map_6560fea948844691ba52179ee6ab8c3a%29%3B%0A%20%20%20%20%20%20%20%20%0A%20%20%20%20%0A%20%20%20%20%20%20%20%20%20%20%20%20circle_cbdbe75e41094fb19562c7c5252cd555.bindTooltip%28%0A%20%20%20%20%20%20%20%20%20%20%20%20%20%20%20%20%60%3Cdiv%3E%0A%20%20%20%20%20%20%20%20%20%20%20%20%20%20%20%20%20%20%20%20%20%3Cli%3E%3Cbold%3E%20MUNICIPIO%3A%20Inha%C3%BAma%3C/bold%3E%3Cli%3E%3Cli%3E%3Cbold%3E%20INTERNA%C3%87%C3%95ES%3A1%3C/bold%3E%3Cli%3E%0A%20%20%20%20%20%20%20%20%20%20%20%20%20%20%20%20%20%3C/div%3E%60%2C%0A%20%20%20%20%20%20%20%20%20%20%20%20%20%20%20%20%7B%22sticky%22%3A%20true%7D%0A%20%20%20%20%20%20%20%20%20%20%20%20%29%3B%0A%20%20%20%20%20%20%20%20%0A%20%20%20%20%0A%20%20%20%20%20%20%20%20%20%20%20%20var%20circle_f251d1a366034f3b94e3df95def0f4c6%20%3D%20L.circle%28%0A%20%20%20%20%20%20%20%20%20%20%20%20%20%20%20%20%5B-22.9577904%2C%20-43.1848308%5D%2C%0A%20%20%20%20%20%20%20%20%20%20%20%20%20%20%20%20%7B%22bubblingMouseEvents%22%3A%20true%2C%20%22color%22%3A%20%22%2300FF69%22%2C%20%22dashArray%22%3A%20null%2C%20%22dashOffset%22%3A%20null%2C%20%22fill%22%3A%20%22%2300A1B3%22%2C%20%22fillColor%22%3A%20%22%2300FF69%22%2C%20%22fillOpacity%22%3A%200.2%2C%20%22fillRule%22%3A%20%22evenodd%22%2C%20%22lineCap%22%3A%20%22round%22%2C%20%22lineJoin%22%3A%20%22round%22%2C%20%22opacity%22%3A%201.0%2C%20%22radius%22%3A%201.0%2C%20%22stroke%22%3A%20true%2C%20%22weight%22%3A%203%7D%0A%20%20%20%20%20%20%20%20%20%20%20%20%29.addTo%28map_6560fea948844691ba52179ee6ab8c3a%29%3B%0A%20%20%20%20%20%20%20%20%0A%20%20%20%20%0A%20%20%20%20%20%20%20%20%20%20%20%20circle_f251d1a366034f3b94e3df95def0f4c6.bindTooltip%28%0A%20%20%20%20%20%20%20%20%20%20%20%20%20%20%20%20%60%3Cdiv%3E%0A%20%20%20%20%20%20%20%20%20%20%20%20%20%20%20%20%20%20%20%20%20%3Cli%3E%3Cbold%3E%20MUNICIPIO%3A%20Botafogo%3C/bold%3E%3Cli%3E%3Cli%3E%3Cbold%3E%20INTERNA%C3%87%C3%95ES%3A1%3C/bold%3E%3Cli%3E%0A%20%20%20%20%20%20%20%20%20%20%20%20%20%20%20%20%20%3C/div%3E%60%2C%0A%20%20%20%20%20%20%20%20%20%20%20%20%20%20%20%20%7B%22sticky%22%3A%20true%7D%0A%20%20%20%20%20%20%20%20%20%20%20%20%29%3B%0A%20%20%20%20%20%20%20%20%0A%20%20%20%20%0A%20%20%20%20%20%20%20%20%20%20%20%20var%20circle_64a1b9c755684928ae4446c2a040a4d8%20%3D%20L.circle%28%0A%20%20%20%20%20%20%20%20%20%20%20%20%20%20%20%20%5B-22.8583707%2C%20-43.345315%5D%2C%0A%20%20%20%20%20%20%20%20%20%20%20%20%20%20%20%20%7B%22bubblingMouseEvents%22%3A%20true%2C%20%22color%22%3A%20%22%2300FF69%22%2C%20%22dashArray%22%3A%20null%2C%20%22dashOffset%22%3A%20null%2C%20%22fill%22%3A%20%22%2300A1B3%22%2C%20%22fillColor%22%3A%20%22%2300FF69%22%2C%20%22fillOpacity%22%3A%200.2%2C%20%22fillRule%22%3A%20%22evenodd%22%2C%20%22lineCap%22%3A%20%22round%22%2C%20%22lineJoin%22%3A%20%22round%22%2C%20%22opacity%22%3A%201.0%2C%20%22radius%22%3A%201.0%2C%20%22stroke%22%3A%20true%2C%20%22weight%22%3A%203%7D%0A%20%20%20%20%20%20%20%20%20%20%20%20%29.addTo%28map_6560fea948844691ba52179ee6ab8c3a%29%3B%0A%20%20%20%20%20%20%20%20%0A%20%20%20%20%0A%20%20%20%20%20%20%20%20%20%20%20%20circle_64a1b9c755684928ae4446c2a040a4d8.bindTooltip%28%0A%20%20%20%20%20%20%20%20%20%20%20%20%20%20%20%20%60%3Cdiv%3E%0A%20%20%20%20%20%20%20%20%20%20%20%20%20%20%20%20%20%20%20%20%20%3Cli%3E%3Cbold%3E%20MUNICIPIO%3A%20Turia%C3%A7u%3C/bold%3E%3Cli%3E%3Cli%3E%3Cbold%3E%20INTERNA%C3%87%C3%95ES%3A1%3C/bold%3E%3Cli%3E%0A%20%20%20%20%20%20%20%20%20%20%20%20%20%20%20%20%20%3C/div%3E%60%2C%0A%20%20%20%20%20%20%20%20%20%20%20%20%20%20%20%20%7B%22sticky%22%3A%20true%7D%0A%20%20%20%20%20%20%20%20%20%20%20%20%29%3B%0A%20%20%20%20%20%20%20%20%0A%20%20%20%20%0A%20%20%20%20%20%20%20%20%20%20%20%20var%20circle_4321e87ced28423887037682be070389%20%3D%20L.circle%28%0A%20%20%20%20%20%20%20%20%20%20%20%20%20%20%20%20%5B-22.8995503%2C%20-43.5470694%5D%2C%0A%20%20%20%20%20%20%20%20%20%20%20%20%20%20%20%20%7B%22bubblingMouseEvents%22%3A%20true%2C%20%22color%22%3A%20%22%2300FF69%22%2C%20%22dashArray%22%3A%20null%2C%20%22dashOffset%22%3A%20null%2C%20%22fill%22%3A%20%22%2300A1B3%22%2C%20%22fillColor%22%3A%20%22%2300FF69%22%2C%20%22fillOpacity%22%3A%200.2%2C%20%22fillRule%22%3A%20%22evenodd%22%2C%20%22lineCap%22%3A%20%22round%22%2C%20%22lineJoin%22%3A%20%22round%22%2C%20%22opacity%22%3A%201.0%2C%20%22radius%22%3A%201.0%2C%20%22stroke%22%3A%20true%2C%20%22weight%22%3A%203%7D%0A%20%20%20%20%20%20%20%20%20%20%20%20%29.addTo%28map_6560fea948844691ba52179ee6ab8c3a%29%3B%0A%20%20%20%20%20%20%20%20%0A%20%20%20%20%0A%20%20%20%20%20%20%20%20%20%20%20%20circle_4321e87ced28423887037682be070389.bindTooltip%28%0A%20%20%20%20%20%20%20%20%20%20%20%20%20%20%20%20%60%3Cdiv%3E%0A%20%20%20%20%20%20%20%20%20%20%20%20%20%20%20%20%20%20%20%20%20%3Cli%3E%3Cbold%3E%20MUNICIPIO%3A%20Campo%20Grande%3C/bold%3E%3Cli%3E%3Cli%3E%3Cbold%3E%20INTERNA%C3%87%C3%95ES%3A1%3C/bold%3E%3Cli%3E%0A%20%20%20%20%20%20%20%20%20%20%20%20%20%20%20%20%20%3C/div%3E%60%2C%0A%20%20%20%20%20%20%20%20%20%20%20%20%20%20%20%20%7B%22sticky%22%3A%20true%7D%0A%20%20%20%20%20%20%20%20%20%20%20%20%29%3B%0A%20%20%20%20%20%20%20%20%0A%20%20%20%20%0A%20%20%20%20%20%20%20%20%20%20%20%20var%20circle_c6947443092c45d29cebecc18d1ed84d%20%3D%20L.circle%28%0A%20%20%20%20%20%20%20%20%20%20%20%20%20%20%20%20%5B-22.9823195%2C%20-43.6487749%5D%2C%0A%20%20%20%20%20%20%20%20%20%20%20%20%20%20%20%20%7B%22bubblingMouseEvents%22%3A%20true%2C%20%22color%22%3A%20%22%2300FF69%22%2C%20%22dashArray%22%3A%20null%2C%20%22dashOffset%22%3A%20null%2C%20%22fill%22%3A%20%22%2300A1B3%22%2C%20%22fillColor%22%3A%20%22%2300FF69%22%2C%20%22fillOpacity%22%3A%200.2%2C%20%22fillRule%22%3A%20%22evenodd%22%2C%20%22lineCap%22%3A%20%22round%22%2C%20%22lineJoin%22%3A%20%22round%22%2C%20%22opacity%22%3A%201.0%2C%20%22radius%22%3A%201.0%2C%20%22stroke%22%3A%20true%2C%20%22weight%22%3A%203%7D%0A%20%20%20%20%20%20%20%20%20%20%20%20%29.addTo%28map_6560fea948844691ba52179ee6ab8c3a%29%3B%0A%20%20%20%20%20%20%20%20%0A%20%20%20%20%0A%20%20%20%20%20%20%20%20%20%20%20%20circle_c6947443092c45d29cebecc18d1ed84d.bindTooltip%28%0A%20%20%20%20%20%20%20%20%20%20%20%20%20%20%20%20%60%3Cdiv%3E%0A%20%20%20%20%20%20%20%20%20%20%20%20%20%20%20%20%20%20%20%20%20%3Cli%3E%3Cbold%3E%20MUNICIPIO%3A%20Guaratiba%3C/bold%3E%3Cli%3E%3Cli%3E%3Cbold%3E%20INTERNA%C3%87%C3%95ES%3A1%3C/bold%3E%3Cli%3E%0A%20%20%20%20%20%20%20%20%20%20%20%20%20%20%20%20%20%3C/div%3E%60%2C%0A%20%20%20%20%20%20%20%20%20%20%20%20%20%20%20%20%7B%22sticky%22%3A%20true%7D%0A%20%20%20%20%20%20%20%20%20%20%20%20%29%3B%0A%20%20%20%20%20%20%20%20%0A%20%20%20%20%0A%20%20%20%20%20%20%20%20%20%20%20%20var%20circle_7bf6e2f5c0814cbf8515e40b541f3479%20%3D%20L.circle%28%0A%20%20%20%20%20%20%20%20%20%20%20%20%20%20%20%20%5B-22.8209659%2C%20-43.2922273%5D%2C%0A%20%20%20%20%20%20%20%20%20%20%20%20%20%20%20%20%7B%22bubblingMouseEvents%22%3A%20true%2C%20%22color%22%3A%20%22%2300FF69%22%2C%20%22dashArray%22%3A%20null%2C%20%22dashOffset%22%3A%20null%2C%20%22fill%22%3A%20%22%2300A1B3%22%2C%20%22fillColor%22%3A%20%22%2300FF69%22%2C%20%22fillOpacity%22%3A%200.2%2C%20%22fillRule%22%3A%20%22evenodd%22%2C%20%22lineCap%22%3A%20%22round%22%2C%20%22lineJoin%22%3A%20%22round%22%2C%20%22opacity%22%3A%201.0%2C%20%22radius%22%3A%201.0%2C%20%22stroke%22%3A%20true%2C%20%22weight%22%3A%203%7D%0A%20%20%20%20%20%20%20%20%20%20%20%20%29.addTo%28map_6560fea948844691ba52179ee6ab8c3a%29%3B%0A%20%20%20%20%20%20%20%20%0A%20%20%20%20%0A%20%20%20%20%20%20%20%20%20%20%20%20circle_7bf6e2f5c0814cbf8515e40b541f3479.bindTooltip%28%0A%20%20%20%20%20%20%20%20%20%20%20%20%20%20%20%20%60%3Cdiv%3E%0A%20%20%20%20%20%20%20%20%20%20%20%20%20%20%20%20%20%20%20%20%20%3Cli%3E%3Cbold%3E%20MUNICIPIO%3A%20Cordovil%3C/bold%3E%3Cli%3E%3Cli%3E%3Cbold%3E%20INTERNA%C3%87%C3%95ES%3A1%3C/bold%3E%3Cli%3E%0A%20%20%20%20%20%20%20%20%20%20%20%20%20%20%20%20%20%3C/div%3E%60%2C%0A%20%20%20%20%20%20%20%20%20%20%20%20%20%20%20%20%7B%22sticky%22%3A%20true%7D%0A%20%20%20%20%20%20%20%20%20%20%20%20%29%3B%0A%20%20%20%20%20%20%20%20%0A%20%20%20%20%0A%20%20%20%20%20%20%20%20%20%20%20%20var%20circle_a0c0d303b72b4e43b3aec05a8c11d407%20%3D%20L.circle%28%0A%20%20%20%20%20%20%20%20%20%20%20%20%20%20%20%20%5B-22.8999452%2C%20-43.5471076%5D%2C%0A%20%20%20%20%20%20%20%20%20%20%20%20%20%20%20%20%7B%22bubblingMouseEvents%22%3A%20true%2C%20%22color%22%3A%20%22%2300FF69%22%2C%20%22dashArray%22%3A%20null%2C%20%22dashOffset%22%3A%20null%2C%20%22fill%22%3A%20%22%2300A1B3%22%2C%20%22fillColor%22%3A%20%22%2300FF69%22%2C%20%22fillOpacity%22%3A%200.2%2C%20%22fillRule%22%3A%20%22evenodd%22%2C%20%22lineCap%22%3A%20%22round%22%2C%20%22lineJoin%22%3A%20%22round%22%2C%20%22opacity%22%3A%201.0%2C%20%22radius%22%3A%201.0%2C%20%22stroke%22%3A%20true%2C%20%22weight%22%3A%203%7D%0A%20%20%20%20%20%20%20%20%20%20%20%20%29.addTo%28map_6560fea948844691ba52179ee6ab8c3a%29%3B%0A%20%20%20%20%20%20%20%20%0A%20%20%20%20%0A%20%20%20%20%20%20%20%20%20%20%20%20circle_a0c0d303b72b4e43b3aec05a8c11d407.bindTooltip%28%0A%20%20%20%20%20%20%20%20%20%20%20%20%20%20%20%20%60%3Cdiv%3E%0A%20%20%20%20%20%20%20%20%20%20%20%20%20%20%20%20%20%20%20%20%20%3Cli%3E%3Cbold%3E%20MUNICIPIO%3A%20Campo%20Grande%3C/bold%3E%3Cli%3E%3Cli%3E%3Cbold%3E%20INTERNA%C3%87%C3%95ES%3A1%3C/bold%3E%3Cli%3E%0A%20%20%20%20%20%20%20%20%20%20%20%20%20%20%20%20%20%3C/div%3E%60%2C%0A%20%20%20%20%20%20%20%20%20%20%20%20%20%20%20%20%7B%22sticky%22%3A%20true%7D%0A%20%20%20%20%20%20%20%20%20%20%20%20%29%3B%0A%20%20%20%20%20%20%20%20%0A%20%20%20%20%0A%20%20%20%20%20%20%20%20%20%20%20%20var%20circle_1a02a10e907d42eb83479869ecaf62c2%20%3D%20L.circle%28%0A%20%20%20%20%20%20%20%20%20%20%20%20%20%20%20%20%5B-23.00551345%2C%20-43.63207971377119%5D%2C%0A%20%20%20%20%20%20%20%20%20%20%20%20%20%20%20%20%7B%22bubblingMouseEvents%22%3A%20true%2C%20%22color%22%3A%20%22%2300FF69%22%2C%20%22dashArray%22%3A%20null%2C%20%22dashOffset%22%3A%20null%2C%20%22fill%22%3A%20%22%2300A1B3%22%2C%20%22fillColor%22%3A%20%22%2300FF69%22%2C%20%22fillOpacity%22%3A%200.2%2C%20%22fillRule%22%3A%20%22evenodd%22%2C%20%22lineCap%22%3A%20%22round%22%2C%20%22lineJoin%22%3A%20%22round%22%2C%20%22opacity%22%3A%201.0%2C%20%22radius%22%3A%201.0%2C%20%22stroke%22%3A%20true%2C%20%22weight%22%3A%203%7D%0A%20%20%20%20%20%20%20%20%20%20%20%20%29.addTo%28map_6560fea948844691ba52179ee6ab8c3a%29%3B%0A%20%20%20%20%20%20%20%20%0A%20%20%20%20%0A%20%20%20%20%20%20%20%20%20%20%20%20circle_1a02a10e907d42eb83479869ecaf62c2.bindTooltip%28%0A%20%20%20%20%20%20%20%20%20%20%20%20%20%20%20%20%60%3Cdiv%3E%0A%20%20%20%20%20%20%20%20%20%20%20%20%20%20%20%20%20%20%20%20%20%3Cli%3E%3Cbold%3E%20MUNICIPIO%3A%20Pedra%20de%20Guaratiba%3C/bold%3E%3Cli%3E%3Cli%3E%3Cbold%3E%20INTERNA%C3%87%C3%95ES%3A1%3C/bold%3E%3Cli%3E%0A%20%20%20%20%20%20%20%20%20%20%20%20%20%20%20%20%20%3C/div%3E%60%2C%0A%20%20%20%20%20%20%20%20%20%20%20%20%20%20%20%20%7B%22sticky%22%3A%20true%7D%0A%20%20%20%20%20%20%20%20%20%20%20%20%29%3B%0A%20%20%20%20%20%20%20%20%0A%20%20%20%20%0A%20%20%20%20%20%20%20%20%20%20%20%20var%20circle_2bf99e7f6a604e95860656744765c4fa%20%3D%20L.circle%28%0A%20%20%20%20%20%20%20%20%20%20%20%20%20%20%20%20%5B-22.989711%2C%20-43.6320332%5D%2C%0A%20%20%20%20%20%20%20%20%20%20%20%20%20%20%20%20%7B%22bubblingMouseEvents%22%3A%20true%2C%20%22color%22%3A%20%22%2300FF69%22%2C%20%22dashArray%22%3A%20null%2C%20%22dashOffset%22%3A%20null%2C%20%22fill%22%3A%20%22%2300A1B3%22%2C%20%22fillColor%22%3A%20%22%2300FF69%22%2C%20%22fillOpacity%22%3A%200.2%2C%20%22fillRule%22%3A%20%22evenodd%22%2C%20%22lineCap%22%3A%20%22round%22%2C%20%22lineJoin%22%3A%20%22round%22%2C%20%22opacity%22%3A%201.0%2C%20%22radius%22%3A%201.0%2C%20%22stroke%22%3A%20true%2C%20%22weight%22%3A%203%7D%0A%20%20%20%20%20%20%20%20%20%20%20%20%29.addTo%28map_6560fea948844691ba52179ee6ab8c3a%29%3B%0A%20%20%20%20%20%20%20%20%0A%20%20%20%20%0A%20%20%20%20%20%20%20%20%20%20%20%20circle_2bf99e7f6a604e95860656744765c4fa.bindTooltip%28%0A%20%20%20%20%20%20%20%20%20%20%20%20%20%20%20%20%60%3Cdiv%3E%0A%20%20%20%20%20%20%20%20%20%20%20%20%20%20%20%20%20%20%20%20%20%3Cli%3E%3Cbold%3E%20MUNICIPIO%3A%20Guaratiba%3C/bold%3E%3Cli%3E%3Cli%3E%3Cbold%3E%20INTERNA%C3%87%C3%95ES%3A1%3C/bold%3E%3Cli%3E%0A%20%20%20%20%20%20%20%20%20%20%20%20%20%20%20%20%20%3C/div%3E%60%2C%0A%20%20%20%20%20%20%20%20%20%20%20%20%20%20%20%20%7B%22sticky%22%3A%20true%7D%0A%20%20%20%20%20%20%20%20%20%20%20%20%29%3B%0A%20%20%20%20%20%20%20%20%0A%20%20%20%20%0A%20%20%20%20%20%20%20%20%20%20%20%20var%20circle_319e58a3d7a94cb8a45e09bf50296fc6%20%3D%20L.circle%28%0A%20%20%20%20%20%20%20%20%20%20%20%20%20%20%20%20%5B-22.8265383%2C%20-43.3336675%5D%2C%0A%20%20%20%20%20%20%20%20%20%20%20%20%20%20%20%20%7B%22bubblingMouseEvents%22%3A%20true%2C%20%22color%22%3A%20%22%2300FF69%22%2C%20%22dashArray%22%3A%20null%2C%20%22dashOffset%22%3A%20null%2C%20%22fill%22%3A%20%22%2300A1B3%22%2C%20%22fillColor%22%3A%20%22%2300FF69%22%2C%20%22fillOpacity%22%3A%200.2%2C%20%22fillRule%22%3A%20%22evenodd%22%2C%20%22lineCap%22%3A%20%22round%22%2C%20%22lineJoin%22%3A%20%22round%22%2C%20%22opacity%22%3A%201.0%2C%20%22radius%22%3A%201.0%2C%20%22stroke%22%3A%20true%2C%20%22weight%22%3A%203%7D%0A%20%20%20%20%20%20%20%20%20%20%20%20%29.addTo%28map_6560fea948844691ba52179ee6ab8c3a%29%3B%0A%20%20%20%20%20%20%20%20%0A%20%20%20%20%0A%20%20%20%20%20%20%20%20%20%20%20%20circle_319e58a3d7a94cb8a45e09bf50296fc6.bindTooltip%28%0A%20%20%20%20%20%20%20%20%20%20%20%20%20%20%20%20%60%3Cdiv%3E%0A%20%20%20%20%20%20%20%20%20%20%20%20%20%20%20%20%20%20%20%20%20%3Cli%3E%3Cbold%3E%20MUNICIPIO%3A%20Iraj%C3%A1%3C/bold%3E%3Cli%3E%3Cli%3E%3Cbold%3E%20INTERNA%C3%87%C3%95ES%3A1%3C/bold%3E%3Cli%3E%0A%20%20%20%20%20%20%20%20%20%20%20%20%20%20%20%20%20%3C/div%3E%60%2C%0A%20%20%20%20%20%20%20%20%20%20%20%20%20%20%20%20%7B%22sticky%22%3A%20true%7D%0A%20%20%20%20%20%20%20%20%20%20%20%20%29%3B%0A%20%20%20%20%20%20%20%20%0A%20%20%20%20%0A%20%20%20%20%20%20%20%20%20%20%20%20var%20circle_248d752d50d64acca52bfedc7d74b596%20%3D%20L.circle%28%0A%20%20%20%20%20%20%20%20%20%20%20%20%20%20%20%20%5B-22.9136333%2C%20-43.2515254%5D%2C%0A%20%20%20%20%20%20%20%20%20%20%20%20%20%20%20%20%7B%22bubblingMouseEvents%22%3A%20true%2C%20%22color%22%3A%20%22%2300FF69%22%2C%20%22dashArray%22%3A%20null%2C%20%22dashOffset%22%3A%20null%2C%20%22fill%22%3A%20%22%2300A1B3%22%2C%20%22fillColor%22%3A%20%22%2300FF69%22%2C%20%22fillOpacity%22%3A%200.2%2C%20%22fillRule%22%3A%20%22evenodd%22%2C%20%22lineCap%22%3A%20%22round%22%2C%20%22lineJoin%22%3A%20%22round%22%2C%20%22opacity%22%3A%201.0%2C%20%22radius%22%3A%201.0%2C%20%22stroke%22%3A%20true%2C%20%22weight%22%3A%203%7D%0A%20%20%20%20%20%20%20%20%20%20%20%20%29.addTo%28map_6560fea948844691ba52179ee6ab8c3a%29%3B%0A%20%20%20%20%20%20%20%20%0A%20%20%20%20%0A%20%20%20%20%20%20%20%20%20%20%20%20circle_248d752d50d64acca52bfedc7d74b596.bindTooltip%28%0A%20%20%20%20%20%20%20%20%20%20%20%20%20%20%20%20%60%3Cdiv%3E%0A%20%20%20%20%20%20%20%20%20%20%20%20%20%20%20%20%20%20%20%20%20%3Cli%3E%3Cbold%3E%20MUNICIPIO%3A%20Vila%20Isabel%3C/bold%3E%3Cli%3E%3Cli%3E%3Cbold%3E%20INTERNA%C3%87%C3%95ES%3A1%3C/bold%3E%3Cli%3E%0A%20%20%20%20%20%20%20%20%20%20%20%20%20%20%20%20%20%3C/div%3E%60%2C%0A%20%20%20%20%20%20%20%20%20%20%20%20%20%20%20%20%7B%22sticky%22%3A%20true%7D%0A%20%20%20%20%20%20%20%20%20%20%20%20%29%3B%0A%20%20%20%20%20%20%20%20%0A%20%20%20%20%0A%20%20%20%20%20%20%20%20%20%20%20%20var%20circle_22efd2621957417d9f47aae4c36e6267%20%3D%20L.circle%28%0A%20%20%20%20%20%20%20%20%20%20%20%20%20%20%20%20%5B-22.8968876%2C%20-43.2318623%5D%2C%0A%20%20%20%20%20%20%20%20%20%20%20%20%20%20%20%20%7B%22bubblingMouseEvents%22%3A%20true%2C%20%22color%22%3A%20%22%2300FF69%22%2C%20%22dashArray%22%3A%20null%2C%20%22dashOffset%22%3A%20null%2C%20%22fill%22%3A%20%22%2300A1B3%22%2C%20%22fillColor%22%3A%20%22%2300FF69%22%2C%20%22fillOpacity%22%3A%200.2%2C%20%22fillRule%22%3A%20%22evenodd%22%2C%20%22lineCap%22%3A%20%22round%22%2C%20%22lineJoin%22%3A%20%22round%22%2C%20%22opacity%22%3A%201.0%2C%20%22radius%22%3A%201.0%2C%20%22stroke%22%3A%20true%2C%20%22weight%22%3A%203%7D%0A%20%20%20%20%20%20%20%20%20%20%20%20%29.addTo%28map_6560fea948844691ba52179ee6ab8c3a%29%3B%0A%20%20%20%20%20%20%20%20%0A%20%20%20%20%0A%20%20%20%20%20%20%20%20%20%20%20%20circle_22efd2621957417d9f47aae4c36e6267.bindTooltip%28%0A%20%20%20%20%20%20%20%20%20%20%20%20%20%20%20%20%60%3Cdiv%3E%0A%20%20%20%20%20%20%20%20%20%20%20%20%20%20%20%20%20%20%20%20%20%3Cli%3E%3Cbold%3E%20MUNICIPIO%3A%20S%C3%A3o%20Crist%C3%B3v%C3%A3o%3C/bold%3E%3Cli%3E%3Cli%3E%3Cbold%3E%20INTERNA%C3%87%C3%95ES%3A1%3C/bold%3E%3Cli%3E%0A%20%20%20%20%20%20%20%20%20%20%20%20%20%20%20%20%20%3C/div%3E%60%2C%0A%20%20%20%20%20%20%20%20%20%20%20%20%20%20%20%20%7B%22sticky%22%3A%20true%7D%0A%20%20%20%20%20%20%20%20%20%20%20%20%29%3B%0A%20%20%20%20%20%20%20%20%0A%20%20%20%20%0A%20%20%20%20%20%20%20%20%20%20%20%20var%20circle_36da7a7e927747838f0e6d24e47e8ddf%20%3D%20L.circle%28%0A%20%20%20%20%20%20%20%20%20%20%20%20%20%20%20%20%5B-22.8523318%2C%20-43.4927823%5D%2C%0A%20%20%20%20%20%20%20%20%20%20%20%20%20%20%20%20%7B%22bubblingMouseEvents%22%3A%20true%2C%20%22color%22%3A%20%22%2300FF69%22%2C%20%22dashArray%22%3A%20null%2C%20%22dashOffset%22%3A%20null%2C%20%22fill%22%3A%20%22%2300A1B3%22%2C%20%22fillColor%22%3A%20%22%2300FF69%22%2C%20%22fillOpacity%22%3A%200.2%2C%20%22fillRule%22%3A%20%22evenodd%22%2C%20%22lineCap%22%3A%20%22round%22%2C%20%22lineJoin%22%3A%20%22round%22%2C%20%22opacity%22%3A%201.0%2C%20%22radius%22%3A%201.0%2C%20%22stroke%22%3A%20true%2C%20%22weight%22%3A%203%7D%0A%20%20%20%20%20%20%20%20%20%20%20%20%29.addTo%28map_6560fea948844691ba52179ee6ab8c3a%29%3B%0A%20%20%20%20%20%20%20%20%0A%20%20%20%20%0A%20%20%20%20%20%20%20%20%20%20%20%20circle_36da7a7e927747838f0e6d24e47e8ddf.bindTooltip%28%0A%20%20%20%20%20%20%20%20%20%20%20%20%20%20%20%20%60%3Cdiv%3E%0A%20%20%20%20%20%20%20%20%20%20%20%20%20%20%20%20%20%20%20%20%20%3Cli%3E%3Cbold%3E%20MUNICIPIO%3A%20Bangu%3C/bold%3E%3Cli%3E%3Cli%3E%3Cbold%3E%20INTERNA%C3%87%C3%95ES%3A1%3C/bold%3E%3Cli%3E%0A%20%20%20%20%20%20%20%20%20%20%20%20%20%20%20%20%20%3C/div%3E%60%2C%0A%20%20%20%20%20%20%20%20%20%20%20%20%20%20%20%20%7B%22sticky%22%3A%20true%7D%0A%20%20%20%20%20%20%20%20%20%20%20%20%29%3B%0A%20%20%20%20%20%20%20%20%0A%20%20%20%20%0A%20%20%20%20%20%20%20%20%20%20%20%20var%20circle_c7fde78dc0314a8eb3514b2576eb2b3a%20%3D%20L.circle%28%0A%20%20%20%20%20%20%20%20%20%20%20%20%20%20%20%20%5B-22.9163566%2C%20-43.6289969%5D%2C%0A%20%20%20%20%20%20%20%20%20%20%20%20%20%20%20%20%7B%22bubblingMouseEvents%22%3A%20true%2C%20%22color%22%3A%20%22%2300FF69%22%2C%20%22dashArray%22%3A%20null%2C%20%22dashOffset%22%3A%20null%2C%20%22fill%22%3A%20%22%2300A1B3%22%2C%20%22fillColor%22%3A%20%22%2300FF69%22%2C%20%22fillOpacity%22%3A%200.2%2C%20%22fillRule%22%3A%20%22evenodd%22%2C%20%22lineCap%22%3A%20%22round%22%2C%20%22lineJoin%22%3A%20%22round%22%2C%20%22opacity%22%3A%201.0%2C%20%22radius%22%3A%201.0%2C%20%22stroke%22%3A%20true%2C%20%22weight%22%3A%203%7D%0A%20%20%20%20%20%20%20%20%20%20%20%20%29.addTo%28map_6560fea948844691ba52179ee6ab8c3a%29%3B%0A%20%20%20%20%20%20%20%20%0A%20%20%20%20%0A%20%20%20%20%20%20%20%20%20%20%20%20circle_c7fde78dc0314a8eb3514b2576eb2b3a.bindTooltip%28%0A%20%20%20%20%20%20%20%20%20%20%20%20%20%20%20%20%60%3Cdiv%3E%0A%20%20%20%20%20%20%20%20%20%20%20%20%20%20%20%20%20%20%20%20%20%3Cli%3E%3Cbold%3E%20MUNICIPIO%3A%20Paci%C3%AAncia%3C/bold%3E%3Cli%3E%3Cli%3E%3Cbold%3E%20INTERNA%C3%87%C3%95ES%3A1%3C/bold%3E%3Cli%3E%0A%20%20%20%20%20%20%20%20%20%20%20%20%20%20%20%20%20%3C/div%3E%60%2C%0A%20%20%20%20%20%20%20%20%20%20%20%20%20%20%20%20%7B%22sticky%22%3A%20true%7D%0A%20%20%20%20%20%20%20%20%20%20%20%20%29%3B%0A%20%20%20%20%20%20%20%20%0A%20%20%20%20%0A%20%20%20%20%20%20%20%20%20%20%20%20var%20circle_f8f6ed784f0e44e58e90ad3249cff3bd%20%3D%20L.circle%28%0A%20%20%20%20%20%20%20%20%20%20%20%20%20%20%20%20%5B-22.8135715%2C%20-43.3698982%5D%2C%0A%20%20%20%20%20%20%20%20%20%20%20%20%20%20%20%20%7B%22bubblingMouseEvents%22%3A%20true%2C%20%22color%22%3A%20%22%2300FF69%22%2C%20%22dashArray%22%3A%20null%2C%20%22dashOffset%22%3A%20null%2C%20%22fill%22%3A%20%22%2300A1B3%22%2C%20%22fillColor%22%3A%20%22%2300FF69%22%2C%20%22fillOpacity%22%3A%200.2%2C%20%22fillRule%22%3A%20%22evenodd%22%2C%20%22lineCap%22%3A%20%22round%22%2C%20%22lineJoin%22%3A%20%22round%22%2C%20%22opacity%22%3A%201.0%2C%20%22radius%22%3A%201.0%2C%20%22stroke%22%3A%20true%2C%20%22weight%22%3A%203%7D%0A%20%20%20%20%20%20%20%20%20%20%20%20%29.addTo%28map_6560fea948844691ba52179ee6ab8c3a%29%3B%0A%20%20%20%20%20%20%20%20%0A%20%20%20%20%0A%20%20%20%20%20%20%20%20%20%20%20%20circle_f8f6ed784f0e44e58e90ad3249cff3bd.bindTooltip%28%0A%20%20%20%20%20%20%20%20%20%20%20%20%20%20%20%20%60%3Cdiv%3E%0A%20%20%20%20%20%20%20%20%20%20%20%20%20%20%20%20%20%20%20%20%20%3Cli%3E%3Cbold%3E%20MUNICIPIO%3A%20Pavuna%3C/bold%3E%3Cli%3E%3Cli%3E%3Cbold%3E%20INTERNA%C3%87%C3%95ES%3A1%3C/bold%3E%3Cli%3E%0A%20%20%20%20%20%20%20%20%20%20%20%20%20%20%20%20%20%3C/div%3E%60%2C%0A%20%20%20%20%20%20%20%20%20%20%20%20%20%20%20%20%7B%22sticky%22%3A%20true%7D%0A%20%20%20%20%20%20%20%20%20%20%20%20%29%3B%0A%20%20%20%20%20%20%20%20%0A%20%20%20%20%0A%20%20%20%20%20%20%20%20%20%20%20%20var%20circle_cca459b9c138460fb8b0f07629649ff0%20%3D%20L.circle%28%0A%20%20%20%20%20%20%20%20%20%20%20%20%20%20%20%20%5B-22.8953207%2C%20-43.4181796%5D%2C%0A%20%20%20%20%20%20%20%20%20%20%20%20%20%20%20%20%7B%22bubblingMouseEvents%22%3A%20true%2C%20%22color%22%3A%20%22%2300FF69%22%2C%20%22dashArray%22%3A%20null%2C%20%22dashOffset%22%3A%20null%2C%20%22fill%22%3A%20%22%2300A1B3%22%2C%20%22fillColor%22%3A%20%22%2300FF69%22%2C%20%22fillOpacity%22%3A%200.2%2C%20%22fillRule%22%3A%20%22evenodd%22%2C%20%22lineCap%22%3A%20%22round%22%2C%20%22lineJoin%22%3A%20%22round%22%2C%20%22opacity%22%3A%201.0%2C%20%22radius%22%3A%201.0%2C%20%22stroke%22%3A%20true%2C%20%22weight%22%3A%203%7D%0A%20%20%20%20%20%20%20%20%20%20%20%20%29.addTo%28map_6560fea948844691ba52179ee6ab8c3a%29%3B%0A%20%20%20%20%20%20%20%20%0A%20%20%20%20%0A%20%20%20%20%20%20%20%20%20%20%20%20circle_cca459b9c138460fb8b0f07629649ff0.bindTooltip%28%0A%20%20%20%20%20%20%20%20%20%20%20%20%20%20%20%20%60%3Cdiv%3E%0A%20%20%20%20%20%20%20%20%20%20%20%20%20%20%20%20%20%20%20%20%20%3Cli%3E%3Cbold%3E%20MUNICIPIO%3A%20Realengo%3C/bold%3E%3Cli%3E%3Cli%3E%3Cbold%3E%20INTERNA%C3%87%C3%95ES%3A1%3C/bold%3E%3Cli%3E%0A%20%20%20%20%20%20%20%20%20%20%20%20%20%20%20%20%20%3C/div%3E%60%2C%0A%20%20%20%20%20%20%20%20%20%20%20%20%20%20%20%20%7B%22sticky%22%3A%20true%7D%0A%20%20%20%20%20%20%20%20%20%20%20%20%29%3B%0A%20%20%20%20%20%20%20%20%0A%20%20%20%20%0A%20%20%20%20%20%20%20%20%20%20%20%20var%20circle_c383e4577ba941ab9f36ecb14e04f2fe%20%3D%20L.circle%28%0A%20%20%20%20%20%20%20%20%20%20%20%20%20%20%20%20%5B-22.8673229%2C%20-43.2519933%5D%2C%0A%20%20%20%20%20%20%20%20%20%20%20%20%20%20%20%20%7B%22bubblingMouseEvents%22%3A%20true%2C%20%22color%22%3A%20%22%2300FF69%22%2C%20%22dashArray%22%3A%20null%2C%20%22dashOffset%22%3A%20null%2C%20%22fill%22%3A%20%22%2300A1B3%22%2C%20%22fillColor%22%3A%20%22%2300FF69%22%2C%20%22fillOpacity%22%3A%200.2%2C%20%22fillRule%22%3A%20%22evenodd%22%2C%20%22lineCap%22%3A%20%22round%22%2C%20%22lineJoin%22%3A%20%22round%22%2C%20%22opacity%22%3A%201.0%2C%20%22radius%22%3A%201.0%2C%20%22stroke%22%3A%20true%2C%20%22weight%22%3A%203%7D%0A%20%20%20%20%20%20%20%20%20%20%20%20%29.addTo%28map_6560fea948844691ba52179ee6ab8c3a%29%3B%0A%20%20%20%20%20%20%20%20%0A%20%20%20%20%0A%20%20%20%20%20%20%20%20%20%20%20%20circle_c383e4577ba941ab9f36ecb14e04f2fe.bindTooltip%28%0A%20%20%20%20%20%20%20%20%20%20%20%20%20%20%20%20%60%3Cdiv%3E%0A%20%20%20%20%20%20%20%20%20%20%20%20%20%20%20%20%20%20%20%20%20%3Cli%3E%3Cbold%3E%20MUNICIPIO%3A%20Bonsucesso%3C/bold%3E%3Cli%3E%3Cli%3E%3Cbold%3E%20INTERNA%C3%87%C3%95ES%3A1%3C/bold%3E%3Cli%3E%0A%20%20%20%20%20%20%20%20%20%20%20%20%20%20%20%20%20%3C/div%3E%60%2C%0A%20%20%20%20%20%20%20%20%20%20%20%20%20%20%20%20%7B%22sticky%22%3A%20true%7D%0A%20%20%20%20%20%20%20%20%20%20%20%20%29%3B%0A%20%20%20%20%20%20%20%20%0A%20%20%20%20%0A%20%20%20%20%20%20%20%20%20%20%20%20var%20circle_9e6c71ba157f40f3a3bfa433745463ff%20%3D%20L.circle%28%0A%20%20%20%20%20%20%20%20%20%20%20%20%20%20%20%20%5B-22.9628977%2C%20-43.3533569%5D%2C%0A%20%20%20%20%20%20%20%20%20%20%20%20%20%20%20%20%7B%22bubblingMouseEvents%22%3A%20true%2C%20%22color%22%3A%20%22%2300FF69%22%2C%20%22dashArray%22%3A%20null%2C%20%22dashOffset%22%3A%20null%2C%20%22fill%22%3A%20%22%2300A1B3%22%2C%20%22fillColor%22%3A%20%22%2300FF69%22%2C%20%22fillOpacity%22%3A%200.2%2C%20%22fillRule%22%3A%20%22evenodd%22%2C%20%22lineCap%22%3A%20%22round%22%2C%20%22lineJoin%22%3A%20%22round%22%2C%20%22opacity%22%3A%201.0%2C%20%22radius%22%3A%201.0%2C%20%22stroke%22%3A%20true%2C%20%22weight%22%3A%203%7D%0A%20%20%20%20%20%20%20%20%20%20%20%20%29.addTo%28map_6560fea948844691ba52179ee6ab8c3a%29%3B%0A%20%20%20%20%20%20%20%20%0A%20%20%20%20%0A%20%20%20%20%20%20%20%20%20%20%20%20circle_9e6c71ba157f40f3a3bfa433745463ff.bindTooltip%28%0A%20%20%20%20%20%20%20%20%20%20%20%20%20%20%20%20%60%3Cdiv%3E%0A%20%20%20%20%20%20%20%20%20%20%20%20%20%20%20%20%20%20%20%20%20%3Cli%3E%3Cbold%3E%20MUNICIPIO%3A%20Gard%C3%AAnia%20Azul%3C/bold%3E%3Cli%3E%3Cli%3E%3Cbold%3E%20INTERNA%C3%87%C3%95ES%3A1%3C/bold%3E%3Cli%3E%0A%20%20%20%20%20%20%20%20%20%20%20%20%20%20%20%20%20%3C/div%3E%60%2C%0A%20%20%20%20%20%20%20%20%20%20%20%20%20%20%20%20%7B%22sticky%22%3A%20true%7D%0A%20%20%20%20%20%20%20%20%20%20%20%20%29%3B%0A%20%20%20%20%20%20%20%20%0A%20%20%20%20%0A%20%20%20%20%20%20%20%20%20%20%20%20var%20circle_d038bf205a9a4deda8547e656a0eb0e5%20%3D%20L.circle%28%0A%20%20%20%20%20%20%20%20%20%20%20%20%20%20%20%20%5B-22.9577779%2C%20-43.3332199%5D%2C%0A%20%20%20%20%20%20%20%20%20%20%20%20%20%20%20%20%7B%22bubblingMouseEvents%22%3A%20true%2C%20%22color%22%3A%20%22%2300FF69%22%2C%20%22dashArray%22%3A%20null%2C%20%22dashOffset%22%3A%20null%2C%20%22fill%22%3A%20%22%2300A1B3%22%2C%20%22fillColor%22%3A%20%22%2300FF69%22%2C%20%22fillOpacity%22%3A%200.2%2C%20%22fillRule%22%3A%20%22evenodd%22%2C%20%22lineCap%22%3A%20%22round%22%2C%20%22lineJoin%22%3A%20%22round%22%2C%20%22opacity%22%3A%201.0%2C%20%22radius%22%3A%201.0%2C%20%22stroke%22%3A%20true%2C%20%22weight%22%3A%203%7D%0A%20%20%20%20%20%20%20%20%20%20%20%20%29.addTo%28map_6560fea948844691ba52179ee6ab8c3a%29%3B%0A%20%20%20%20%20%20%20%20%0A%20%20%20%20%0A%20%20%20%20%20%20%20%20%20%20%20%20circle_d038bf205a9a4deda8547e656a0eb0e5.bindTooltip%28%0A%20%20%20%20%20%20%20%20%20%20%20%20%20%20%20%20%60%3Cdiv%3E%0A%20%20%20%20%20%20%20%20%20%20%20%20%20%20%20%20%20%20%20%20%20%3Cli%3E%3Cbold%3E%20MUNICIPIO%3A%20Anil%3C/bold%3E%3Cli%3E%3Cli%3E%3Cbold%3E%20INTERNA%C3%87%C3%95ES%3A1%3C/bold%3E%3Cli%3E%0A%20%20%20%20%20%20%20%20%20%20%20%20%20%20%20%20%20%3C/div%3E%60%2C%0A%20%20%20%20%20%20%20%20%20%20%20%20%20%20%20%20%7B%22sticky%22%3A%20true%7D%0A%20%20%20%20%20%20%20%20%20%20%20%20%29%3B%0A%20%20%20%20%20%20%20%20%0A%20%20%20%20%0A%20%20%20%20%20%20%20%20%20%20%20%20var%20circle_5a755d7537b54550ba35980fb023809e%20%3D%20L.circle%28%0A%20%20%20%20%20%20%20%20%20%20%20%20%20%20%20%20%5B-22.9545314%2C%20-43.3764468%5D%2C%0A%20%20%20%20%20%20%20%20%20%20%20%20%20%20%20%20%7B%22bubblingMouseEvents%22%3A%20true%2C%20%22color%22%3A%20%22%2300FF69%22%2C%20%22dashArray%22%3A%20null%2C%20%22dashOffset%22%3A%20null%2C%20%22fill%22%3A%20%22%2300A1B3%22%2C%20%22fillColor%22%3A%20%22%2300FF69%22%2C%20%22fillOpacity%22%3A%200.2%2C%20%22fillRule%22%3A%20%22evenodd%22%2C%20%22lineCap%22%3A%20%22round%22%2C%20%22lineJoin%22%3A%20%22round%22%2C%20%22opacity%22%3A%201.0%2C%20%22radius%22%3A%201.0%2C%20%22stroke%22%3A%20true%2C%20%22weight%22%3A%203%7D%0A%20%20%20%20%20%20%20%20%20%20%20%20%29.addTo%28map_6560fea948844691ba52179ee6ab8c3a%29%3B%0A%20%20%20%20%20%20%20%20%0A%20%20%20%20%0A%20%20%20%20%20%20%20%20%20%20%20%20circle_5a755d7537b54550ba35980fb023809e.bindTooltip%28%0A%20%20%20%20%20%20%20%20%20%20%20%20%20%20%20%20%60%3Cdiv%3E%0A%20%20%20%20%20%20%20%20%20%20%20%20%20%20%20%20%20%20%20%20%20%3Cli%3E%3Cbold%3E%20MUNICIPIO%3A%20Curicica%3C/bold%3E%3Cli%3E%3Cli%3E%3Cbold%3E%20INTERNA%C3%87%C3%95ES%3A1%3C/bold%3E%3Cli%3E%0A%20%20%20%20%20%20%20%20%20%20%20%20%20%20%20%20%20%3C/div%3E%60%2C%0A%20%20%20%20%20%20%20%20%20%20%20%20%20%20%20%20%7B%22sticky%22%3A%20true%7D%0A%20%20%20%20%20%20%20%20%20%20%20%20%29%3B%0A%20%20%20%20%20%20%20%20%0A%20%20%20%20%0A%20%20%20%20%20%20%20%20%20%20%20%20var%20circle_941dad0a843648a5b7d89564ea8b3723%20%3D%20L.circle%28%0A%20%20%20%20%20%20%20%20%20%20%20%20%20%20%20%20%5B-22.9162702%2C%20-43.3632396%5D%2C%0A%20%20%20%20%20%20%20%20%20%20%20%20%20%20%20%20%7B%22bubblingMouseEvents%22%3A%20true%2C%20%22color%22%3A%20%22%2300FF69%22%2C%20%22dashArray%22%3A%20null%2C%20%22dashOffset%22%3A%20null%2C%20%22fill%22%3A%20%22%2300A1B3%22%2C%20%22fillColor%22%3A%20%22%2300FF69%22%2C%20%22fillOpacity%22%3A%200.2%2C%20%22fillRule%22%3A%20%22evenodd%22%2C%20%22lineCap%22%3A%20%22round%22%2C%20%22lineJoin%22%3A%20%22round%22%2C%20%22opacity%22%3A%201.0%2C%20%22radius%22%3A%201.0%2C%20%22stroke%22%3A%20true%2C%20%22weight%22%3A%203%7D%0A%20%20%20%20%20%20%20%20%20%20%20%20%29.addTo%28map_6560fea948844691ba52179ee6ab8c3a%29%3B%0A%20%20%20%20%20%20%20%20%0A%20%20%20%20%0A%20%20%20%20%20%20%20%20%20%20%20%20circle_941dad0a843648a5b7d89564ea8b3723.bindTooltip%28%0A%20%20%20%20%20%20%20%20%20%20%20%20%20%20%20%20%60%3Cdiv%3E%0A%20%20%20%20%20%20%20%20%20%20%20%20%20%20%20%20%20%20%20%20%20%3Cli%3E%3Cbold%3E%20MUNICIPIO%3A%20Tanque%3C/bold%3E%3Cli%3E%3Cli%3E%3Cbold%3E%20INTERNA%C3%87%C3%95ES%3A1%3C/bold%3E%3Cli%3E%0A%20%20%20%20%20%20%20%20%20%20%20%20%20%20%20%20%20%3C/div%3E%60%2C%0A%20%20%20%20%20%20%20%20%20%20%20%20%20%20%20%20%7B%22sticky%22%3A%20true%7D%0A%20%20%20%20%20%20%20%20%20%20%20%20%29%3B%0A%20%20%20%20%20%20%20%20%0A%20%20%20%20%0A%20%20%20%20%20%20%20%20%20%20%20%20var%20circle_c02e00fcb9d94cac8e47fee67924d45e%20%3D%20L.circle%28%0A%20%20%20%20%20%20%20%20%20%20%20%20%20%20%20%20%5B-22.9333267%2C%20-43.1853496%5D%2C%0A%20%20%20%20%20%20%20%20%20%20%20%20%20%20%20%20%7B%22bubblingMouseEvents%22%3A%20true%2C%20%22color%22%3A%20%22%2300FF69%22%2C%20%22dashArray%22%3A%20null%2C%20%22dashOffset%22%3A%20null%2C%20%22fill%22%3A%20%22%2300A1B3%22%2C%20%22fillColor%22%3A%20%22%2300FF69%22%2C%20%22fillOpacity%22%3A%200.2%2C%20%22fillRule%22%3A%20%22evenodd%22%2C%20%22lineCap%22%3A%20%22round%22%2C%20%22lineJoin%22%3A%20%22round%22%2C%20%22opacity%22%3A%201.0%2C%20%22radius%22%3A%201.0%2C%20%22stroke%22%3A%20true%2C%20%22weight%22%3A%203%7D%0A%20%20%20%20%20%20%20%20%20%20%20%20%29.addTo%28map_6560fea948844691ba52179ee6ab8c3a%29%3B%0A%20%20%20%20%20%20%20%20%0A%20%20%20%20%0A%20%20%20%20%20%20%20%20%20%20%20%20circle_c02e00fcb9d94cac8e47fee67924d45e.bindTooltip%28%0A%20%20%20%20%20%20%20%20%20%20%20%20%20%20%20%20%60%3Cdiv%3E%0A%20%20%20%20%20%20%20%20%20%20%20%20%20%20%20%20%20%20%20%20%20%3Cli%3E%3Cbold%3E%20MUNICIPIO%3A%20Laranjeiras%3C/bold%3E%3Cli%3E%3Cli%3E%3Cbold%3E%20INTERNA%C3%87%C3%95ES%3A1%3C/bold%3E%3Cli%3E%0A%20%20%20%20%20%20%20%20%20%20%20%20%20%20%20%20%20%3C/div%3E%60%2C%0A%20%20%20%20%20%20%20%20%20%20%20%20%20%20%20%20%7B%22sticky%22%3A%20true%7D%0A%20%20%20%20%20%20%20%20%20%20%20%20%29%3B%0A%20%20%20%20%20%20%20%20%0A%20%20%20%20%0A%20%20%20%20%20%20%20%20%20%20%20%20var%20circle_5a057eac44e546fab690366b10010716%20%3D%20L.circle%28%0A%20%20%20%20%20%20%20%20%20%20%20%20%20%20%20%20%5B-22.9081185%2C%20-43.5915761%5D%2C%0A%20%20%20%20%20%20%20%20%20%20%20%20%20%20%20%20%7B%22bubblingMouseEvents%22%3A%20true%2C%20%22color%22%3A%20%22%2300FF69%22%2C%20%22dashArray%22%3A%20null%2C%20%22dashOffset%22%3A%20null%2C%20%22fill%22%3A%20%22%2300A1B3%22%2C%20%22fillColor%22%3A%20%22%2300FF69%22%2C%20%22fillOpacity%22%3A%200.2%2C%20%22fillRule%22%3A%20%22evenodd%22%2C%20%22lineCap%22%3A%20%22round%22%2C%20%22lineJoin%22%3A%20%22round%22%2C%20%22opacity%22%3A%201.0%2C%20%22radius%22%3A%201.0%2C%20%22stroke%22%3A%20true%2C%20%22weight%22%3A%203%7D%0A%20%20%20%20%20%20%20%20%20%20%20%20%29.addTo%28map_6560fea948844691ba52179ee6ab8c3a%29%3B%0A%20%20%20%20%20%20%20%20%0A%20%20%20%20%0A%20%20%20%20%20%20%20%20%20%20%20%20circle_5a057eac44e546fab690366b10010716.bindTooltip%28%0A%20%20%20%20%20%20%20%20%20%20%20%20%20%20%20%20%60%3Cdiv%3E%0A%20%20%20%20%20%20%20%20%20%20%20%20%20%20%20%20%20%20%20%20%20%3Cli%3E%3Cbold%3E%20MUNICIPIO%3A%20Inhoa%C3%ADba%3C/bold%3E%3Cli%3E%3Cli%3E%3Cbold%3E%20INTERNA%C3%87%C3%95ES%3A1%3C/bold%3E%3Cli%3E%0A%20%20%20%20%20%20%20%20%20%20%20%20%20%20%20%20%20%3C/div%3E%60%2C%0A%20%20%20%20%20%20%20%20%20%20%20%20%20%20%20%20%7B%22sticky%22%3A%20true%7D%0A%20%20%20%20%20%20%20%20%20%20%20%20%29%3B%0A%20%20%20%20%20%20%20%20%0A%20%20%20%20%0A%20%20%20%20%20%20%20%20%20%20%20%20var%20circle_c3071be0c61c4b208f1f11c7bdf3be17%20%3D%20L.circle%28%0A%20%20%20%20%20%20%20%20%20%20%20%20%20%20%20%20%5B-22.9089277%2C%20-43.2387333%5D%2C%0A%20%20%20%20%20%20%20%20%20%20%20%20%20%20%20%20%7B%22bubblingMouseEvents%22%3A%20true%2C%20%22color%22%3A%20%22%2300FF69%22%2C%20%22dashArray%22%3A%20null%2C%20%22dashOffset%22%3A%20null%2C%20%22fill%22%3A%20%22%2300A1B3%22%2C%20%22fillColor%22%3A%20%22%2300FF69%22%2C%20%22fillOpacity%22%3A%200.2%2C%20%22fillRule%22%3A%20%22evenodd%22%2C%20%22lineCap%22%3A%20%22round%22%2C%20%22lineJoin%22%3A%20%22round%22%2C%20%22opacity%22%3A%201.0%2C%20%22radius%22%3A%201.0%2C%20%22stroke%22%3A%20true%2C%20%22weight%22%3A%203%7D%0A%20%20%20%20%20%20%20%20%20%20%20%20%29.addTo%28map_6560fea948844691ba52179ee6ab8c3a%29%3B%0A%20%20%20%20%20%20%20%20%0A%20%20%20%20%0A%20%20%20%20%20%20%20%20%20%20%20%20circle_c3071be0c61c4b208f1f11c7bdf3be17.bindTooltip%28%0A%20%20%20%20%20%20%20%20%20%20%20%20%20%20%20%20%60%3Cdiv%3E%0A%20%20%20%20%20%20%20%20%20%20%20%20%20%20%20%20%20%20%20%20%20%3Cli%3E%3Cbold%3E%20MUNICIPIO%3A%20Maracan%C3%A3%3C/bold%3E%3Cli%3E%3Cli%3E%3Cbold%3E%20INTERNA%C3%87%C3%95ES%3A1%3C/bold%3E%3Cli%3E%0A%20%20%20%20%20%20%20%20%20%20%20%20%20%20%20%20%20%3C/div%3E%60%2C%0A%20%20%20%20%20%20%20%20%20%20%20%20%20%20%20%20%7B%22sticky%22%3A%20true%7D%0A%20%20%20%20%20%20%20%20%20%20%20%20%29%3B%0A%20%20%20%20%20%20%20%20%0A%3C/script%3E onload=\"this.contentDocument.open();this.contentDocument.write(    decodeURIComponent(this.getAttribute('data-html')));this.contentDocument.close();\" allowfullscreen webkitallowfullscreen mozallowfullscreen></iframe></div></div>"
      ],
      "text/plain": [
       "<folium.folium.Map at 0x1ccdcbdd6a0>"
      ]
     },
     "execution_count": 94,
     "metadata": {},
     "output_type": "execute_result"
    }
   ],
   "source": [
    "map_1"
   ]
  },
  {
   "cell_type": "markdown",
   "metadata": {},
   "source": [
    "#### Explorando os dados por CID de maior incidência"
   ]
  },
  {
   "cell_type": "markdown",
   "metadata": {},
   "source": [
    "1. Quais os cids e quantas internações teve cada um?"
   ]
  },
  {
   "cell_type": "code",
   "execution_count": 11,
   "metadata": {
    "collapsed": true
   },
   "outputs": [
    {
     "data": {
      "text/plain": [
       "cid[A09]-Diarréia e gastroenterite de origem infecciosa presumível                            67.515924\n",
       "cid[A279]-Leptospirose não especificada                                                       10.191083\n",
       "cid[B572]-Doença de Chagas (crônica) com comprometimento cardíaco                              7.006369\n",
       "cid[A90]-Dengue [dengue clássico]                                                              2.547771\n",
       "cid[B839]-Helmintíase não especificada                                                         1.910828\n",
       "cid[B88]-Outras infestações                                                                    1.910828\n",
       "cid[A278]-Outras formas de leptospirose                                                        1.273885\n",
       "cid[A27]-Leptospirose                                                                          1.273885\n",
       "cid[B159]-Hepatite A sem coma hepático                                                         0.636943\n",
       "cid[Z136]-Exame especial de rastreamento de doenças cardiovasculares                           0.636943\n",
       "cid[H109]-Conjuntivite não especificada                                                        0.636943\n",
       "cid[H103]-Conjuntivite aguda não especificada                                                  0.636943\n",
       "cid[B500]-Malária por Plasmodium falciparum com complicações cerebrais                         0.636943\n",
       "cid[H10]-Conjuntivite                                                                          0.636943\n",
       "cid[B749]-Filariose não especificada                                                           0.636943\n",
       "cid[A270]-Leptopirose icterohemorrágica                                                        0.636943\n",
       "cid[B08]-Outras infecções virais caracterizadas por lesões da pele e das membranas mucosas     0.636943\n",
       "cid[B84]-Estomatite vesicular devida a enterovírus com exantema                                0.636943\n",
       "Name: CID_COD, dtype: float64"
      ]
     },
     "execution_count": 11,
     "metadata": {},
     "output_type": "execute_result"
    }
   ],
   "source": [
    "sih['CID_COD'].value_counts()*100/157"
   ]
  },
  {
   "cell_type": "code",
   "execution_count": 15,
   "metadata": {
    "collapsed": true
   },
   "outputs": [
    {
     "data": {
      "text/plain": [
       "<AxesSubplot:>"
      ]
     },
     "execution_count": 15,
     "metadata": {},
     "output_type": "execute_result"
    },
    {
     "data": {
      "image/png": "[encoded data removed]",
      "text/plain": [
       "<Figure size 1080x720 with 1 Axes>"
      ]
     },
     "metadata": {
      "needs_background": "light"
     },
     "output_type": "display_data"
    }
   ],
   "source": [
    "sih['CID_COD'].value_counts().plot(kind='barh', figsize=(15,10))"
   ]
  },
  {
   "cell_type": "markdown",
   "metadata": {},
   "source": [
    "67.5% das internações são por Diarréia e gastroenterite de origem infecciosa presumível, tendo 10% das internações por Leptospirose não especificada, 7% Doença de Chagas (crônica) com comprometimento cardíaco e os 15.5% restante de internações estão distribuídos entre os outros CIDs relacionados a doenças oriundas do saneamento inadequado.\n",
    "\n",
    "Como internações por Diarréia e gastroenterite de origem infecciosa presumível tem grandes indices de internações comparados aos outros CIDs, será então focado a análise a partir deste ponto para esse diagnóstico.\n"
   ]
  },
  {
   "cell_type": "code",
   "execution_count": 61,
   "metadata": {},
   "outputs": [],
   "source": [
    "# Filtrando o dataframe apenas pela internações e criando um novo dataframe com o cid de maior incidência \n",
    "cid_A09 = sih.loc[sih['CID_COD'] == 'cid[A09]-Diarréia e gastroenterite de origem infecciosa presumível']"
   ]
  },
  {
   "cell_type": "markdown",
   "metadata": {},
   "source": [
    "Observando a descrição de CID A09 - Diarréia e gastroenterite de origem infecciosa presumível"
   ]
  },
  {
   "cell_type": "code",
   "execution_count": 12,
   "metadata": {
    "collapsed": true
   },
   "outputs": [
    {
     "data": {
      "text/plain": [
       "tto doenças infec e intestinais    80.188679\n",
       "atend. urgência pediátrica          8.490566\n",
       "tto interc. pós-transplantes        2.830189\n",
       "proced. urg. clinica cirurgica      1.886792\n",
       "tto choque hipovolemico             0.943396\n",
       "tto oncologico                      0.943396\n",
       "tto doenças intestino               0.943396\n",
       "tto hipertensão secundária          0.943396\n",
       "diag. e atend. urg.clin.medica      0.943396\n",
       "tto de enteristes e colistes        0.943396\n",
       "tto outras doenças bact.            0.943396\n",
       "Name: CID_DESCRI, dtype: float64"
      ]
     },
     "execution_count": 12,
     "metadata": {},
     "output_type": "execute_result"
    }
   ],
   "source": [
    "cid_A09['CID_DESCRI'].value_counts()*100/106"
   ]
  },
  {
   "cell_type": "markdown",
   "metadata": {},
   "source": [
    "80.2% das internações por CID A09 são para tratamento de doenças infecciosas e intestinais, 8.5% são de atendimentos  de urgência pediátrica e os restantes 11.3% são relacionados a outros tipos de tratamento. Abaixo será feito um detalhamento maior das internações por CID A09 de maior incidência."
   ]
  },
  {
   "cell_type": "code",
   "execution_count": 62,
   "metadata": {},
   "outputs": [],
   "source": [
    "#Filtrando o dataframe pela descrição do CID com maior ocorrência\n",
    "cid_descr_1 = cid_A09.loc[cid_A09['CID_DESCRI'] =='tto doenças infec e intestinais']"
   ]
  },
  {
   "cell_type": "markdown",
   "metadata": {},
   "source": [
    "2. Como é a distribuição de idade para internações por diarréia e gastroenterite infecciosa?\n"
   ]
  },
  {
   "cell_type": "code",
   "execution_count": 15,
   "metadata": {},
   "outputs": [
    {
     "data": {
      "text/plain": [
       "count    106.000000\n",
       "mean      19.235849\n",
       "std       26.894344\n",
       "min        0.000000\n",
       "25%        1.000000\n",
       "50%        3.000000\n",
       "75%       35.500000\n",
       "max       96.000000\n",
       "Name: IDADE, dtype: float64"
      ]
     },
     "execution_count": 15,
     "metadata": {},
     "output_type": "execute_result"
    }
   ],
   "source": [
    "# Comportamento dos dados de idade\n",
    "cid_A09['IDADE'].describe()"
   ]
  },
  {
   "cell_type": "code",
   "execution_count": 22,
   "metadata": {
    "collapsed": true
   },
   "outputs": [
    {
     "data": {
      "text/plain": [
       "0     23\n",
       "1     13\n",
       "3     10\n",
       "2      8\n",
       "10     3\n",
       "7      3\n",
       "5      3\n",
       "4      3\n",
       "58     2\n",
       "8      2\n",
       "57     2\n",
       "74     1\n",
       "64     1\n",
       "90     1\n",
       "52     1\n",
       "9      1\n",
       "72     1\n",
       "69     1\n",
       "11     1\n",
       "24     1\n",
       "19     1\n",
       "31     1\n",
       "13     1\n",
       "37     1\n",
       "25     1\n",
       "6      1\n",
       "81     1\n",
       "68     1\n",
       "63     1\n",
       "56     1\n",
       "15     1\n",
       "60     1\n",
       "71     1\n",
       "70     1\n",
       "48     1\n",
       "67     1\n",
       "17     1\n",
       "53     1\n",
       "45     1\n",
       "46     1\n",
       "66     1\n",
       "96     1\n",
       "61     1\n",
       "30     1\n",
       "47     1\n",
       "Name: IDADE, dtype: int64"
      ]
     },
     "execution_count": 22,
     "metadata": {},
     "output_type": "execute_result"
    }
   ],
   "source": [
    "# Observando a distribuição dos dados\n",
    "cid_A09['IDADE'].value_counts()"
   ]
  },
  {
   "cell_type": "code",
   "execution_count": 32,
   "metadata": {
    "collapsed": true
   },
   "outputs": [
    {
     "data": {
      "text/plain": [
       "<AxesSubplot:>"
      ]
     },
     "execution_count": 32,
     "metadata": {},
     "output_type": "execute_result"
    },
    {
     "data": {
      "image/png": "[encoded data removed]",
      "text/plain": [
       "<Figure size 432x288 with 1 Axes>"
      ]
     },
     "metadata": {
      "needs_background": "light"
     },
     "output_type": "display_data"
    }
   ],
   "source": [
    "# Distribuição dos dados\n",
    "cid_A09['IDADE'].hist()"
   ]
  },
  {
   "cell_type": "code",
   "execution_count": 19,
   "metadata": {
    "collapsed": true
   },
   "outputs": [
    {
     "data": {
      "text/plain": [
       "<AxesSubplot:ylabel='IDADE'>"
      ]
     },
     "execution_count": 19,
     "metadata": {},
     "output_type": "execute_result"
    },
    {
     "data": {
      "image/png": "[encoded data removed]",
      "text/plain": [
       "<Figure size 432x288 with 1 Axes>"
      ]
     },
     "metadata": {
      "needs_background": "light"
     },
     "output_type": "display_data"
    }
   ],
   "source": [
    "sns.boxplot(data=cid_A09, y='IDADE')"
   ]
  },
  {
   "cell_type": "markdown",
   "metadata": {},
   "source": [
    "Distribuição de idade tto doenças infec e intestinais "
   ]
  },
  {
   "cell_type": "code",
   "execution_count": 45,
   "metadata": {
    "collapsed": true
   },
   "outputs": [
    {
     "data": {
      "text/plain": [
       "0     19\n",
       "1     11\n",
       "3     10\n",
       "2      8\n",
       "4      3\n",
       "5      3\n",
       "10     3\n",
       "58     2\n",
       "7      1\n",
       "8      1\n",
       "31     1\n",
       "11     1\n",
       "37     1\n",
       "13     1\n",
       "19     1\n",
       "74     1\n",
       "57     1\n",
       "64     1\n",
       "25     1\n",
       "17     1\n",
       "81     1\n",
       "61     1\n",
       "30     1\n",
       "6      1\n",
       "96     1\n",
       "66     1\n",
       "46     1\n",
       "45     1\n",
       "68     1\n",
       "48     1\n",
       "70     1\n",
       "71     1\n",
       "15     1\n",
       "72     1\n",
       "Name: IDADE, dtype: int64"
      ]
     },
     "execution_count": 45,
     "metadata": {},
     "output_type": "execute_result"
    }
   ],
   "source": [
    "# Distribuição de idade pela descricao do cid - tto doenças infec e intestinais \n",
    "cid_descr_1['IDADE'].value_counts()"
   ]
  },
  {
   "cell_type": "code",
   "execution_count": 47,
   "metadata": {
    "collapsed": true
   },
   "outputs": [
    {
     "data": {
      "text/plain": [
       "count    85.000000\n",
       "mean     16.094118\n",
       "std      25.190996\n",
       "min       0.000000\n",
       "25%       1.000000\n",
       "50%       3.000000\n",
       "75%      17.000000\n",
       "max      96.000000\n",
       "Name: IDADE, dtype: float64"
      ]
     },
     "execution_count": 47,
     "metadata": {},
     "output_type": "execute_result"
    }
   ],
   "source": [
    "cid_descr_1['IDADE'].describe()"
   ]
  },
  {
   "cell_type": "code",
   "execution_count": 18,
   "metadata": {
    "collapsed": true
   },
   "outputs": [
    {
     "data": {
      "text/plain": [
       "<AxesSubplot:>"
      ]
     },
     "execution_count": 18,
     "metadata": {},
     "output_type": "execute_result"
    },
    {
     "data": {
      "image/png": "[encoded data removed]",
      "text/plain": [
       "<Figure size 432x288 with 1 Axes>"
      ]
     },
     "metadata": {
      "needs_background": "light"
     },
     "output_type": "display_data"
    }
   ],
   "source": [
    "cid_descr_1['IDADE'].hist()"
   ]
  },
  {
   "cell_type": "code",
   "execution_count": 20,
   "metadata": {
    "collapsed": true
   },
   "outputs": [
    {
     "data": {
      "text/plain": [
       "<AxesSubplot:ylabel='IDADE'>"
      ]
     },
     "execution_count": 20,
     "metadata": {},
     "output_type": "execute_result"
    },
    {
     "data": {
      "image/png": "[encoded data removed]",
      "text/plain": [
       "<Figure size 432x288 with 1 Axes>"
      ]
     },
     "metadata": {
      "needs_background": "light"
     },
     "output_type": "display_data"
    }
   ],
   "source": [
    "sns.boxplot(data=cid_descr_1, y='IDADE')"
   ]
  },
  {
   "cell_type": "markdown",
   "metadata": {},
   "source": [
    "A média de idade não representa bem os dados, isso devido a variabilidade de idade nos 25% mais velhos. Então vamos considerar a mediana, assim temos que 50% dos paciente tem até 3 anos.\n",
    "Observando a descrição do CID A09 tem-se que o tratamento de  doenças infecciosas e intestinais tem  maior incidência em crianças de até 3 anos."
   ]
  },
  {
   "cell_type": "markdown",
   "metadata": {},
   "source": [
    " - Gênero das intenações por diarreia e gastroenterite"
   ]
  },
  {
   "cell_type": "code",
   "execution_count": 33,
   "metadata": {
    "collapsed": true
   },
   "outputs": [
    {
     "data": {
      "text/plain": [
       "M    56\n",
       "F    50\n",
       "Name: GENERO, dtype: int64"
      ]
     },
     "execution_count": 33,
     "metadata": {},
     "output_type": "execute_result"
    }
   ],
   "source": [
    "cid_A09['GENERO'].value_counts()"
   ]
  },
  {
   "cell_type": "code",
   "execution_count": 21,
   "metadata": {
    "collapsed": true
   },
   "outputs": [
    {
     "data": {
      "text/plain": [
       "<AxesSubplot:xlabel='IDADE', ylabel='Density'>"
      ]
     },
     "execution_count": 21,
     "metadata": {},
     "output_type": "execute_result"
    },
    {
     "data": {
      "image/png": "[encoded data removed]",
      "text/plain": [
       "<Figure size 432x288 with 1 Axes>"
      ]
     },
     "metadata": {
      "needs_background": "light"
     },
     "output_type": "display_data"
    }
   ],
   "source": [
    "#gráfico genero/idade\n",
    "sns.histplot(data=cid_A09, x= 'IDADE', hue='GENERO', element=\"step\",\n",
    "    stat=\"density\", common_norm=False)"
   ]
  },
  {
   "cell_type": "code",
   "execution_count": 22,
   "metadata": {
    "scrolled": false
   },
   "outputs": [
    {
     "data": {
      "text/plain": [
       "M    46\n",
       "F    39\n",
       "Name: GENERO, dtype: int64"
      ]
     },
     "execution_count": 22,
     "metadata": {},
     "output_type": "execute_result"
    }
   ],
   "source": [
    "cid_descr_1['GENERO'].value_counts()"
   ]
  },
  {
   "cell_type": "code",
   "execution_count": 23,
   "metadata": {
    "collapsed": true
   },
   "outputs": [
    {
     "data": {
      "text/plain": [
       "<AxesSubplot:xlabel='IDADE', ylabel='Density'>"
      ]
     },
     "execution_count": 23,
     "metadata": {},
     "output_type": "execute_result"
    },
    {
     "data": {
      "image/png": "[encoded data removed]",
      "text/plain": [
       "<Figure size 432x288 with 1 Axes>"
      ]
     },
     "metadata": {
      "needs_background": "light"
     },
     "output_type": "display_data"
    }
   ],
   "source": [
    "#gráfico genero/idade\n",
    "sns.histplot(data=cid_descr_1, x= 'IDADE', hue='GENERO', element=\"step\",\n",
    "    stat=\"density\", common_norm=False)"
   ]
  },
  {
   "cell_type": "markdown",
   "metadata": {},
   "source": [
    "Há mais mulheres se internando que homens com Diarréia e gastroenterite de origem infecciosa presumível , mas na faixa etária com maior incidência homens são os mais internados. Os dados se comportam da mesma forma quando observamos as internações com descrição de  tratamento de doenças infecciosas e intestinais. Mas diferente quando comparamos ao comportamento dos dados em geral das internações."
   ]
  },
  {
   "cell_type": "markdown",
   "metadata": {},
   "source": [
    " - Raça\n"
   ]
  },
  {
   "cell_type": "code",
   "execution_count": 41,
   "metadata": {
    "collapsed": true
   },
   "outputs": [
    {
     "data": {
      "text/plain": [
       "negra       55.660377\n",
       "ignorado    22.641509\n",
       "branca      19.811321\n",
       "amarela      1.886792\n",
       "Name: RACA_COR, dtype: float64"
      ]
     },
     "execution_count": 41,
     "metadata": {},
     "output_type": "execute_result"
    }
   ],
   "source": [
    "cid_A09['RACA_COR'].value_counts()*100/106"
   ]
  },
  {
   "cell_type": "code",
   "execution_count": 42,
   "metadata": {
    "collapsed": true
   },
   "outputs": [
    {
     "data": {
      "text/html": [
       "<div>\n",
       "<style scoped>\n",
       "    .dataframe tbody tr th:only-of-type {\n",
       "        vertical-align: middle;\n",
       "    }\n",
       "\n",
       "    .dataframe tbody tr th {\n",
       "        vertical-align: top;\n",
       "    }\n",
       "\n",
       "    .dataframe thead tr th {\n",
       "        text-align: left;\n",
       "    }\n",
       "\n",
       "    .dataframe thead tr:last-of-type th {\n",
       "        text-align: right;\n",
       "    }\n",
       "</style>\n",
       "<table border=\"1\" class=\"dataframe\">\n",
       "  <thead>\n",
       "    <tr>\n",
       "      <th></th>\n",
       "      <th colspan=\"8\" halign=\"left\">IDADE</th>\n",
       "    </tr>\n",
       "    <tr>\n",
       "      <th></th>\n",
       "      <th>count</th>\n",
       "      <th>mean</th>\n",
       "      <th>std</th>\n",
       "      <th>min</th>\n",
       "      <th>25%</th>\n",
       "      <th>50%</th>\n",
       "      <th>75%</th>\n",
       "      <th>max</th>\n",
       "    </tr>\n",
       "    <tr>\n",
       "      <th>RACA_COR</th>\n",
       "      <th></th>\n",
       "      <th></th>\n",
       "      <th></th>\n",
       "      <th></th>\n",
       "      <th></th>\n",
       "      <th></th>\n",
       "      <th></th>\n",
       "      <th></th>\n",
       "    </tr>\n",
       "  </thead>\n",
       "  <tbody>\n",
       "    <tr>\n",
       "      <th>amarela</th>\n",
       "      <td>2.0</td>\n",
       "      <td>51.500000</td>\n",
       "      <td>9.192388</td>\n",
       "      <td>45.0</td>\n",
       "      <td>48.25</td>\n",
       "      <td>51.5</td>\n",
       "      <td>54.75</td>\n",
       "      <td>58.0</td>\n",
       "    </tr>\n",
       "    <tr>\n",
       "      <th>branca</th>\n",
       "      <td>21.0</td>\n",
       "      <td>19.761905</td>\n",
       "      <td>29.207713</td>\n",
       "      <td>0.0</td>\n",
       "      <td>1.00</td>\n",
       "      <td>3.0</td>\n",
       "      <td>30.00</td>\n",
       "      <td>96.0</td>\n",
       "    </tr>\n",
       "    <tr>\n",
       "      <th>ignorado</th>\n",
       "      <td>24.0</td>\n",
       "      <td>22.125000</td>\n",
       "      <td>26.364193</td>\n",
       "      <td>0.0</td>\n",
       "      <td>2.75</td>\n",
       "      <td>6.5</td>\n",
       "      <td>52.25</td>\n",
       "      <td>71.0</td>\n",
       "    </tr>\n",
       "    <tr>\n",
       "      <th>negra</th>\n",
       "      <td>59.0</td>\n",
       "      <td>16.779661</td>\n",
       "      <td>26.317077</td>\n",
       "      <td>0.0</td>\n",
       "      <td>0.00</td>\n",
       "      <td>2.0</td>\n",
       "      <td>20.50</td>\n",
       "      <td>90.0</td>\n",
       "    </tr>\n",
       "  </tbody>\n",
       "</table>\n",
       "</div>"
      ],
      "text/plain": [
       "         IDADE                                                      \n",
       "         count       mean        std   min    25%   50%    75%   max\n",
       "RACA_COR                                                            \n",
       "amarela    2.0  51.500000   9.192388  45.0  48.25  51.5  54.75  58.0\n",
       "branca    21.0  19.761905  29.207713   0.0   1.00   3.0  30.00  96.0\n",
       "ignorado  24.0  22.125000  26.364193   0.0   2.75   6.5  52.25  71.0\n",
       "negra     59.0  16.779661  26.317077   0.0   0.00   2.0  20.50  90.0"
      ]
     },
     "execution_count": 42,
     "metadata": {},
     "output_type": "execute_result"
    }
   ],
   "source": [
    "cid_A09.filter(items=['IDADE']).groupby(cid_A09['RACA_COR']).describe()"
   ]
  },
  {
   "cell_type": "code",
   "execution_count": 43,
   "metadata": {
    "collapsed": true
   },
   "outputs": [
    {
     "data": {
      "text/plain": [
       "<AxesSubplot:xlabel='IDADE', ylabel='Count'>"
      ]
     },
     "execution_count": 43,
     "metadata": {},
     "output_type": "execute_result"
    },
    {
     "data": {
      "image/png": "[encoded data removed]",
      "text/plain": [
       "<Figure size 1080x720 with 1 Axes>"
      ]
     },
     "metadata": {
      "needs_background": "light"
     },
     "output_type": "display_data"
    }
   ],
   "source": [
    "plt.figure(figsize=(15,10))\n",
    "sns.histplot(data=cid_A09, x='IDADE', hue='RACA_COR', multiple=\"stack\")"
   ]
  },
  {
   "cell_type": "code",
   "execution_count": 44,
   "metadata": {
    "collapsed": true
   },
   "outputs": [
    {
     "data": {
      "text/html": [
       "<div>\n",
       "<style scoped>\n",
       "    .dataframe tbody tr th:only-of-type {\n",
       "        vertical-align: middle;\n",
       "    }\n",
       "\n",
       "    .dataframe tbody tr th {\n",
       "        vertical-align: top;\n",
       "    }\n",
       "\n",
       "    .dataframe thead tr th {\n",
       "        text-align: left;\n",
       "    }\n",
       "\n",
       "    .dataframe thead tr:last-of-type th {\n",
       "        text-align: right;\n",
       "    }\n",
       "</style>\n",
       "<table border=\"1\" class=\"dataframe\">\n",
       "  <thead>\n",
       "    <tr>\n",
       "      <th></th>\n",
       "      <th colspan=\"4\" halign=\"left\">GENERO</th>\n",
       "    </tr>\n",
       "    <tr>\n",
       "      <th></th>\n",
       "      <th>count</th>\n",
       "      <th>unique</th>\n",
       "      <th>top</th>\n",
       "      <th>freq</th>\n",
       "    </tr>\n",
       "    <tr>\n",
       "      <th>RACA_COR</th>\n",
       "      <th></th>\n",
       "      <th></th>\n",
       "      <th></th>\n",
       "      <th></th>\n",
       "    </tr>\n",
       "  </thead>\n",
       "  <tbody>\n",
       "    <tr>\n",
       "      <th>amarela</th>\n",
       "      <td>2</td>\n",
       "      <td>1</td>\n",
       "      <td>F</td>\n",
       "      <td>2</td>\n",
       "    </tr>\n",
       "    <tr>\n",
       "      <th>branca</th>\n",
       "      <td>21</td>\n",
       "      <td>2</td>\n",
       "      <td>F</td>\n",
       "      <td>11</td>\n",
       "    </tr>\n",
       "    <tr>\n",
       "      <th>ignorado</th>\n",
       "      <td>24</td>\n",
       "      <td>2</td>\n",
       "      <td>M</td>\n",
       "      <td>15</td>\n",
       "    </tr>\n",
       "    <tr>\n",
       "      <th>negra</th>\n",
       "      <td>59</td>\n",
       "      <td>2</td>\n",
       "      <td>M</td>\n",
       "      <td>31</td>\n",
       "    </tr>\n",
       "  </tbody>\n",
       "</table>\n",
       "</div>"
      ],
      "text/plain": [
       "         GENERO                \n",
       "          count unique top freq\n",
       "RACA_COR                       \n",
       "amarela       2      1   F    2\n",
       "branca       21      2   F   11\n",
       "ignorado     24      2   M   15\n",
       "negra        59      2   M   31"
      ]
     },
     "execution_count": 44,
     "metadata": {},
     "output_type": "execute_result"
    }
   ],
   "source": [
    "cid_A09.filter(items=['GENERO']).groupby(cid_A09['RACA_COR']).describe()"
   ]
  },
  {
   "cell_type": "code",
   "execution_count": 53,
   "metadata": {},
   "outputs": [
    {
     "data": {
      "text/plain": [
       "negra       57.647059\n",
       "branca      21.176471\n",
       "ignorado    18.823529\n",
       "amarela      2.352941\n",
       "Name: RACA_COR, dtype: float64"
      ]
     },
     "execution_count": 53,
     "metadata": {},
     "output_type": "execute_result"
    }
   ],
   "source": [
    "cid_descr_1['RACA_COR'].value_counts()*100/85"
   ]
  },
  {
   "cell_type": "code",
   "execution_count": 49,
   "metadata": {
    "collapsed": true
   },
   "outputs": [
    {
     "data": {
      "text/html": [
       "<div>\n",
       "<style scoped>\n",
       "    .dataframe tbody tr th:only-of-type {\n",
       "        vertical-align: middle;\n",
       "    }\n",
       "\n",
       "    .dataframe tbody tr th {\n",
       "        vertical-align: top;\n",
       "    }\n",
       "\n",
       "    .dataframe thead tr th {\n",
       "        text-align: left;\n",
       "    }\n",
       "\n",
       "    .dataframe thead tr:last-of-type th {\n",
       "        text-align: right;\n",
       "    }\n",
       "</style>\n",
       "<table border=\"1\" class=\"dataframe\">\n",
       "  <thead>\n",
       "    <tr>\n",
       "      <th></th>\n",
       "      <th colspan=\"8\" halign=\"left\">IDADE</th>\n",
       "    </tr>\n",
       "    <tr>\n",
       "      <th></th>\n",
       "      <th>count</th>\n",
       "      <th>mean</th>\n",
       "      <th>std</th>\n",
       "      <th>min</th>\n",
       "      <th>25%</th>\n",
       "      <th>50%</th>\n",
       "      <th>75%</th>\n",
       "      <th>max</th>\n",
       "    </tr>\n",
       "    <tr>\n",
       "      <th>RACA_COR</th>\n",
       "      <th></th>\n",
       "      <th></th>\n",
       "      <th></th>\n",
       "      <th></th>\n",
       "      <th></th>\n",
       "      <th></th>\n",
       "      <th></th>\n",
       "      <th></th>\n",
       "    </tr>\n",
       "  </thead>\n",
       "  <tbody>\n",
       "    <tr>\n",
       "      <th>amarela</th>\n",
       "      <td>2.0</td>\n",
       "      <td>51.500000</td>\n",
       "      <td>9.192388</td>\n",
       "      <td>45.0</td>\n",
       "      <td>48.25</td>\n",
       "      <td>51.5</td>\n",
       "      <td>54.75</td>\n",
       "      <td>58.0</td>\n",
       "    </tr>\n",
       "    <tr>\n",
       "      <th>branca</th>\n",
       "      <td>18.0</td>\n",
       "      <td>17.277778</td>\n",
       "      <td>29.136203</td>\n",
       "      <td>0.0</td>\n",
       "      <td>1.25</td>\n",
       "      <td>3.0</td>\n",
       "      <td>16.00</td>\n",
       "      <td>96.0</td>\n",
       "    </tr>\n",
       "    <tr>\n",
       "      <th>ignorado</th>\n",
       "      <td>16.0</td>\n",
       "      <td>10.312500</td>\n",
       "      <td>18.643028</td>\n",
       "      <td>0.0</td>\n",
       "      <td>1.00</td>\n",
       "      <td>3.0</td>\n",
       "      <td>7.75</td>\n",
       "      <td>71.0</td>\n",
       "    </tr>\n",
       "    <tr>\n",
       "      <th>negra</th>\n",
       "      <td>49.0</td>\n",
       "      <td>16.102041</td>\n",
       "      <td>25.210980</td>\n",
       "      <td>0.0</td>\n",
       "      <td>0.00</td>\n",
       "      <td>2.0</td>\n",
       "      <td>17.00</td>\n",
       "      <td>81.0</td>\n",
       "    </tr>\n",
       "  </tbody>\n",
       "</table>\n",
       "</div>"
      ],
      "text/plain": [
       "         IDADE                                                      \n",
       "         count       mean        std   min    25%   50%    75%   max\n",
       "RACA_COR                                                            \n",
       "amarela    2.0  51.500000   9.192388  45.0  48.25  51.5  54.75  58.0\n",
       "branca    18.0  17.277778  29.136203   0.0   1.25   3.0  16.00  96.0\n",
       "ignorado  16.0  10.312500  18.643028   0.0   1.00   3.0   7.75  71.0\n",
       "negra     49.0  16.102041  25.210980   0.0   0.00   2.0  17.00  81.0"
      ]
     },
     "execution_count": 49,
     "metadata": {},
     "output_type": "execute_result"
    }
   ],
   "source": [
    "cid_descr_1.filter(items=['IDADE']).groupby(cid_descr_1['RACA_COR']).describe()"
   ]
  },
  {
   "cell_type": "code",
   "execution_count": 50,
   "metadata": {
    "collapsed": true
   },
   "outputs": [
    {
     "data": {
      "text/plain": [
       "<AxesSubplot:xlabel='IDADE', ylabel='Count'>"
      ]
     },
     "execution_count": 50,
     "metadata": {},
     "output_type": "execute_result"
    },
    {
     "data": {
      "image/png": "[encoded data removed]",
      "text/plain": [
       "<Figure size 1080x720 with 1 Axes>"
      ]
     },
     "metadata": {
      "needs_background": "light"
     },
     "output_type": "display_data"
    }
   ],
   "source": [
    "plt.figure(figsize=(15,10))\n",
    "sns.histplot(data=cid_descr_1, x='IDADE', hue='RACA_COR', multiple=\"stack\")"
   ]
  },
  {
   "cell_type": "code",
   "execution_count": 51,
   "metadata": {
    "collapsed": true
   },
   "outputs": [
    {
     "data": {
      "text/html": [
       "<div>\n",
       "<style scoped>\n",
       "    .dataframe tbody tr th:only-of-type {\n",
       "        vertical-align: middle;\n",
       "    }\n",
       "\n",
       "    .dataframe tbody tr th {\n",
       "        vertical-align: top;\n",
       "    }\n",
       "\n",
       "    .dataframe thead tr th {\n",
       "        text-align: left;\n",
       "    }\n",
       "\n",
       "    .dataframe thead tr:last-of-type th {\n",
       "        text-align: right;\n",
       "    }\n",
       "</style>\n",
       "<table border=\"1\" class=\"dataframe\">\n",
       "  <thead>\n",
       "    <tr>\n",
       "      <th></th>\n",
       "      <th colspan=\"4\" halign=\"left\">GENERO</th>\n",
       "    </tr>\n",
       "    <tr>\n",
       "      <th></th>\n",
       "      <th>count</th>\n",
       "      <th>unique</th>\n",
       "      <th>top</th>\n",
       "      <th>freq</th>\n",
       "    </tr>\n",
       "    <tr>\n",
       "      <th>RACA_COR</th>\n",
       "      <th></th>\n",
       "      <th></th>\n",
       "      <th></th>\n",
       "      <th></th>\n",
       "    </tr>\n",
       "  </thead>\n",
       "  <tbody>\n",
       "    <tr>\n",
       "      <th>amarela</th>\n",
       "      <td>2</td>\n",
       "      <td>1</td>\n",
       "      <td>F</td>\n",
       "      <td>2</td>\n",
       "    </tr>\n",
       "    <tr>\n",
       "      <th>branca</th>\n",
       "      <td>18</td>\n",
       "      <td>2</td>\n",
       "      <td>M</td>\n",
       "      <td>10</td>\n",
       "    </tr>\n",
       "    <tr>\n",
       "      <th>ignorado</th>\n",
       "      <td>16</td>\n",
       "      <td>2</td>\n",
       "      <td>M</td>\n",
       "      <td>10</td>\n",
       "    </tr>\n",
       "    <tr>\n",
       "      <th>negra</th>\n",
       "      <td>49</td>\n",
       "      <td>2</td>\n",
       "      <td>M</td>\n",
       "      <td>26</td>\n",
       "    </tr>\n",
       "  </tbody>\n",
       "</table>\n",
       "</div>"
      ],
      "text/plain": [
       "         GENERO                \n",
       "          count unique top freq\n",
       "RACA_COR                       \n",
       "amarela       2      1   F    2\n",
       "branca       18      2   M   10\n",
       "ignorado     16      2   M   10\n",
       "negra        49      2   M   26"
      ]
     },
     "execution_count": 51,
     "metadata": {},
     "output_type": "execute_result"
    }
   ],
   "source": [
    "cid_descr_1.filter(items=['GENERO']).groupby(cid_descr_1['RACA_COR']).describe()"
   ]
  },
  {
   "cell_type": "markdown",
   "metadata": {},
   "source": [
    "Aproximadamente 56% das internações por Diarréia e gastroenterite de origem infecciosa presumível são de pessoas autodeclaradas negras e 23% sem informação de raça. Os dados se comportam aproximadamente da mesma forma quando observamos as internações com descrição de  tratamento de doenças infecciosas e intestinais. \n",
    "\n",
    "Quando observamos os dados de raça por idade, temos que 50% dos pacientes negros tem até 2 anos, 50% dos pacientes brancos tem até 3 anos e metade dos pacientes sem declaração de raça tem até 7 anos. \n",
    "\n",
    "Pacientes declarados negros ou sem raça são a maioria homens, enquanto brancos e amarelos são a maioria mulher. Já para as internações com descrição de  tratamento de doenças infecciosas e intestinais homens são a maioria entre negros, brancos e sem informação de raça.\n",
    "\n"
   ]
  },
  {
   "cell_type": "markdown",
   "metadata": {},
   "source": [
    " - Visualizando a localidade dos pacientes"
   ]
  },
  {
   "cell_type": "code",
   "execution_count": 80,
   "metadata": {
    "collapsed": true
   },
   "outputs": [
    {
     "data": {
      "text/plain": [
       " Guaratiba                         7.547170\n",
       " Campo Grande                      6.603774\n",
       " Maré                              5.660377\n",
       " Engenho Novo                      3.773585\n",
       " Bangu                             3.773585\n",
       " Bonsucesso                        3.773585\n",
       " Realengo                          2.830189\n",
       " Gávea                             2.830189\n",
       " Vila Isabel                       2.830189\n",
       " Anil                              2.830189\n",
       " Madureira                         2.830189\n",
       " Galeão                            2.830189\n",
       " Praça Seca                        2.830189\n",
       " Irajá                             2.830189\n",
       " Rocinha                           1.886792\n",
       " Sepetiba                          1.886792\n",
       " Jacarepaguá                       1.886792\n",
       " Benfica                           1.886792\n",
       " Santa Teresa                      1.886792\n",
       " Andaraí                           1.886792\n",
       " Turiaçu                           1.886792\n",
       " Catumbi                           1.886792\n",
       " Sampaio                           0.943396\n",
       " Cidade Universitária              0.943396\n",
       " Barra da Tijuca                   0.943396\n",
       " Rio Comprido                      0.943396\n",
       " São Francisco Xavier              0.943396\n",
       " Vista Alegre                      0.943396\n",
       " Tubiacanga                        0.943396\n",
       " Taquara                           0.943396\n",
       " Leblon                            0.943396\n",
       " Guadalupe                         0.943396\n",
       " Deodoro                           0.943396\n",
       " Grajaú                            0.943396\n",
       " Barros Filho                      0.943396\n",
       " Pedra de Guaratiba                0.943396\n",
       " Freguesia (Ilha do Governador)    0.943396\n",
       " Curicica                          0.943396\n",
       " Freguesia (Jacarepaguá)           0.943396\n",
       " Ramos                             0.943396\n",
       " Santo Cristo                      0.943396\n",
       " Estácio                           0.943396\n",
       " Bento Ribeiro                     0.943396\n",
       " São Conrado                       0.943396\n",
       " Laranjeiras                       0.943396\n",
       " Gardênia Azul                     0.943396\n",
       " Cascadura                         0.943396\n",
       " Pavuna                            0.943396\n",
       " São Cristóvão                     0.943396\n",
       " Vila da Penha                     0.943396\n",
       " Senador Camará                    0.943396\n",
       " Lins de Vasconcelos               0.943396\n",
       " Todos os Santos                   0.943396\n",
       " Tijuca                            0.943396\n",
       " Maracanã                          0.943396\n",
       "Name: BAIRRO_PACIENTE, dtype: float64"
      ]
     },
     "execution_count": 80,
     "metadata": {},
     "output_type": "execute_result"
    }
   ],
   "source": [
    "cid_A09['BAIRRO_PACIENTE'].value_counts()*100/106"
   ]
  },
  {
   "cell_type": "code",
   "execution_count": 35,
   "metadata": {
    "collapsed": true
   },
   "outputs": [
    {
     "data": {
      "text/plain": [
       "<AxesSubplot:>"
      ]
     },
     "execution_count": 35,
     "metadata": {},
     "output_type": "execute_result"
    },
    {
     "data": {
      "image/png": "[encoded data removed]",
      "text/plain": [
       "<Figure size 1080x720 with 1 Axes>"
      ]
     },
     "metadata": {
      "needs_background": "light"
     },
     "output_type": "display_data"
    }
   ],
   "source": [
    "# Os 10 bairros com maior número de pacientes residentes\n",
    "cid_A09['BAIRRO_PACIENTE'].value_counts().head(10).plot(kind='barh', figsize=(15,10))"
   ]
  },
  {
   "cell_type": "code",
   "execution_count": 65,
   "metadata": {
    "collapsed": true
   },
   "outputs": [
    {
     "data": {
      "text/plain": [
       "ZONA NORTE      46.226415\n",
       "ZONA OESTE      38.679245\n",
       "ZONA CENTRAL     7.547170\n",
       "ZONA SUL         7.547170\n",
       "Name: ZONAS, dtype: float64"
      ]
     },
     "execution_count": 65,
     "metadata": {},
     "output_type": "execute_result"
    }
   ],
   "source": [
    "cid_A09['ZONAS'].value_counts()*100/106"
   ]
  },
  {
   "cell_type": "code",
   "execution_count": 68,
   "metadata": {
    "collapsed": true
   },
   "outputs": [
    {
     "data": {
      "text/html": [
       "<div>\n",
       "<style scoped>\n",
       "    .dataframe tbody tr th:only-of-type {\n",
       "        vertical-align: middle;\n",
       "    }\n",
       "\n",
       "    .dataframe tbody tr th {\n",
       "        vertical-align: top;\n",
       "    }\n",
       "\n",
       "    .dataframe thead tr th {\n",
       "        text-align: left;\n",
       "    }\n",
       "\n",
       "    .dataframe thead tr:last-of-type th {\n",
       "        text-align: right;\n",
       "    }\n",
       "</style>\n",
       "<table border=\"1\" class=\"dataframe\">\n",
       "  <thead>\n",
       "    <tr>\n",
       "      <th></th>\n",
       "      <th colspan=\"4\" halign=\"left\">ZONAS</th>\n",
       "    </tr>\n",
       "    <tr>\n",
       "      <th></th>\n",
       "      <th>count</th>\n",
       "      <th>unique</th>\n",
       "      <th>top</th>\n",
       "      <th>freq</th>\n",
       "    </tr>\n",
       "    <tr>\n",
       "      <th>RACA_COR</th>\n",
       "      <th></th>\n",
       "      <th></th>\n",
       "      <th></th>\n",
       "      <th></th>\n",
       "    </tr>\n",
       "  </thead>\n",
       "  <tbody>\n",
       "    <tr>\n",
       "      <th>amarela</th>\n",
       "      <td>2</td>\n",
       "      <td>2</td>\n",
       "      <td>ZONA SUL</td>\n",
       "      <td>1</td>\n",
       "    </tr>\n",
       "    <tr>\n",
       "      <th>branca</th>\n",
       "      <td>21</td>\n",
       "      <td>3</td>\n",
       "      <td>ZONA NORTE</td>\n",
       "      <td>12</td>\n",
       "    </tr>\n",
       "    <tr>\n",
       "      <th>ignorado</th>\n",
       "      <td>24</td>\n",
       "      <td>4</td>\n",
       "      <td>ZONA NORTE</td>\n",
       "      <td>10</td>\n",
       "    </tr>\n",
       "    <tr>\n",
       "      <th>negra</th>\n",
       "      <td>59</td>\n",
       "      <td>4</td>\n",
       "      <td>ZONA OESTE</td>\n",
       "      <td>27</td>\n",
       "    </tr>\n",
       "  </tbody>\n",
       "</table>\n",
       "</div>"
      ],
      "text/plain": [
       "         ZONAS                        \n",
       "         count unique         top freq\n",
       "RACA_COR                              \n",
       "amarela      2      2    ZONA SUL    1\n",
       "branca      21      3  ZONA NORTE   12\n",
       "ignorado    24      4  ZONA NORTE   10\n",
       "negra       59      4  ZONA OESTE   27"
      ]
     },
     "execution_count": 68,
     "metadata": {},
     "output_type": "execute_result"
    }
   ],
   "source": [
    "# filtrar e agrupar por raça e zona\n",
    "cid_A09.filter(items=['ZONAS']).groupby(cid_A09['RACA_COR']).describe()"
   ]
  },
  {
   "cell_type": "code",
   "execution_count": 69,
   "metadata": {
    "collapsed": true
   },
   "outputs": [
    {
     "data": {
      "text/html": [
       "<div>\n",
       "<style scoped>\n",
       "    .dataframe tbody tr th:only-of-type {\n",
       "        vertical-align: middle;\n",
       "    }\n",
       "\n",
       "    .dataframe tbody tr th {\n",
       "        vertical-align: top;\n",
       "    }\n",
       "\n",
       "    .dataframe thead tr th {\n",
       "        text-align: left;\n",
       "    }\n",
       "\n",
       "    .dataframe thead tr:last-of-type th {\n",
       "        text-align: right;\n",
       "    }\n",
       "</style>\n",
       "<table border=\"1\" class=\"dataframe\">\n",
       "  <thead>\n",
       "    <tr>\n",
       "      <th></th>\n",
       "      <th colspan=\"4\" halign=\"left\">ZONAS</th>\n",
       "    </tr>\n",
       "    <tr>\n",
       "      <th></th>\n",
       "      <th>count</th>\n",
       "      <th>unique</th>\n",
       "      <th>top</th>\n",
       "      <th>freq</th>\n",
       "    </tr>\n",
       "    <tr>\n",
       "      <th>GENERO</th>\n",
       "      <th></th>\n",
       "      <th></th>\n",
       "      <th></th>\n",
       "      <th></th>\n",
       "    </tr>\n",
       "  </thead>\n",
       "  <tbody>\n",
       "    <tr>\n",
       "      <th>F</th>\n",
       "      <td>50</td>\n",
       "      <td>4</td>\n",
       "      <td>ZONA OESTE</td>\n",
       "      <td>23</td>\n",
       "    </tr>\n",
       "    <tr>\n",
       "      <th>M</th>\n",
       "      <td>56</td>\n",
       "      <td>4</td>\n",
       "      <td>ZONA NORTE</td>\n",
       "      <td>28</td>\n",
       "    </tr>\n",
       "  </tbody>\n",
       "</table>\n",
       "</div>"
      ],
      "text/plain": [
       "       ZONAS                        \n",
       "       count unique         top freq\n",
       "GENERO                              \n",
       "F         50      4  ZONA OESTE   23\n",
       "M         56      4  ZONA NORTE   28"
      ]
     },
     "execution_count": 69,
     "metadata": {},
     "output_type": "execute_result"
    }
   ],
   "source": [
    "# Filtrar por genero e zona\n",
    "cid_A09.filter(items=['ZONAS']).groupby(cid_A09['GENERO']).describe()"
   ]
  },
  {
   "cell_type": "code",
   "execution_count": 70,
   "metadata": {},
   "outputs": [],
   "source": [
    "# Filtrar por sexo\n",
    "fem2 = pd.DataFrame(cid_A09.loc[cid_A09['GENERO'] == 'F' ])\n",
    "mas2 = pd.DataFrame(cid_A09.loc[cid_A09['GENERO'] == 'M' ])"
   ]
  },
  {
   "cell_type": "code",
   "execution_count": 71,
   "metadata": {
    "scrolled": true
   },
   "outputs": [
    {
     "data": {
      "text/html": [
       "<div>\n",
       "<style scoped>\n",
       "    .dataframe tbody tr th:only-of-type {\n",
       "        vertical-align: middle;\n",
       "    }\n",
       "\n",
       "    .dataframe tbody tr th {\n",
       "        vertical-align: top;\n",
       "    }\n",
       "\n",
       "    .dataframe thead tr th {\n",
       "        text-align: left;\n",
       "    }\n",
       "\n",
       "    .dataframe thead tr:last-of-type th {\n",
       "        text-align: right;\n",
       "    }\n",
       "</style>\n",
       "<table border=\"1\" class=\"dataframe\">\n",
       "  <thead>\n",
       "    <tr>\n",
       "      <th></th>\n",
       "      <th colspan=\"4\" halign=\"left\">ZONAS</th>\n",
       "    </tr>\n",
       "    <tr>\n",
       "      <th></th>\n",
       "      <th>count</th>\n",
       "      <th>unique</th>\n",
       "      <th>top</th>\n",
       "      <th>freq</th>\n",
       "    </tr>\n",
       "    <tr>\n",
       "      <th>RACA_COR</th>\n",
       "      <th></th>\n",
       "      <th></th>\n",
       "      <th></th>\n",
       "      <th></th>\n",
       "    </tr>\n",
       "  </thead>\n",
       "  <tbody>\n",
       "    <tr>\n",
       "      <th>amarela</th>\n",
       "      <td>2</td>\n",
       "      <td>2</td>\n",
       "      <td>ZONA SUL</td>\n",
       "      <td>1</td>\n",
       "    </tr>\n",
       "    <tr>\n",
       "      <th>branca</th>\n",
       "      <td>11</td>\n",
       "      <td>3</td>\n",
       "      <td>ZONA NORTE</td>\n",
       "      <td>5</td>\n",
       "    </tr>\n",
       "    <tr>\n",
       "      <th>ignorado</th>\n",
       "      <td>9</td>\n",
       "      <td>4</td>\n",
       "      <td>ZONA NORTE</td>\n",
       "      <td>4</td>\n",
       "    </tr>\n",
       "    <tr>\n",
       "      <th>negra</th>\n",
       "      <td>28</td>\n",
       "      <td>3</td>\n",
       "      <td>ZONA OESTE</td>\n",
       "      <td>16</td>\n",
       "    </tr>\n",
       "  </tbody>\n",
       "</table>\n",
       "</div>"
      ],
      "text/plain": [
       "         ZONAS                        \n",
       "         count unique         top freq\n",
       "RACA_COR                              \n",
       "amarela      2      2    ZONA SUL    1\n",
       "branca      11      3  ZONA NORTE    5\n",
       "ignorado     9      4  ZONA NORTE    4\n",
       "negra       28      3  ZONA OESTE   16"
      ]
     },
     "execution_count": 71,
     "metadata": {},
     "output_type": "execute_result"
    }
   ],
   "source": [
    "# Filtrar genero feminino por raça\n",
    "fem2.filter(items=['ZONAS']).groupby(fem2['RACA_COR']).describe()"
   ]
  },
  {
   "cell_type": "code",
   "execution_count": 72,
   "metadata": {
    "scrolled": true
   },
   "outputs": [
    {
     "data": {
      "text/html": [
       "<div>\n",
       "<style scoped>\n",
       "    .dataframe tbody tr th:only-of-type {\n",
       "        vertical-align: middle;\n",
       "    }\n",
       "\n",
       "    .dataframe tbody tr th {\n",
       "        vertical-align: top;\n",
       "    }\n",
       "\n",
       "    .dataframe thead tr th {\n",
       "        text-align: left;\n",
       "    }\n",
       "\n",
       "    .dataframe thead tr:last-of-type th {\n",
       "        text-align: right;\n",
       "    }\n",
       "</style>\n",
       "<table border=\"1\" class=\"dataframe\">\n",
       "  <thead>\n",
       "    <tr>\n",
       "      <th></th>\n",
       "      <th colspan=\"4\" halign=\"left\">ZONAS</th>\n",
       "    </tr>\n",
       "    <tr>\n",
       "      <th></th>\n",
       "      <th>count</th>\n",
       "      <th>unique</th>\n",
       "      <th>top</th>\n",
       "      <th>freq</th>\n",
       "    </tr>\n",
       "    <tr>\n",
       "      <th>RACA_COR</th>\n",
       "      <th></th>\n",
       "      <th></th>\n",
       "      <th></th>\n",
       "      <th></th>\n",
       "    </tr>\n",
       "  </thead>\n",
       "  <tbody>\n",
       "    <tr>\n",
       "      <th>branca</th>\n",
       "      <td>10</td>\n",
       "      <td>2</td>\n",
       "      <td>ZONA NORTE</td>\n",
       "      <td>7</td>\n",
       "    </tr>\n",
       "    <tr>\n",
       "      <th>ignorado</th>\n",
       "      <td>15</td>\n",
       "      <td>4</td>\n",
       "      <td>ZONA NORTE</td>\n",
       "      <td>6</td>\n",
       "    </tr>\n",
       "    <tr>\n",
       "      <th>negra</th>\n",
       "      <td>31</td>\n",
       "      <td>4</td>\n",
       "      <td>ZONA NORTE</td>\n",
       "      <td>15</td>\n",
       "    </tr>\n",
       "  </tbody>\n",
       "</table>\n",
       "</div>"
      ],
      "text/plain": [
       "         ZONAS                        \n",
       "         count unique         top freq\n",
       "RACA_COR                              \n",
       "branca      10      2  ZONA NORTE    7\n",
       "ignorado    15      4  ZONA NORTE    6\n",
       "negra       31      4  ZONA NORTE   15"
      ]
     },
     "execution_count": 72,
     "metadata": {},
     "output_type": "execute_result"
    }
   ],
   "source": [
    "# Filtrar o genero masculino por raça\n",
    "mas2.filter(items=['ZONAS']).groupby(mas2['RACA_COR']).describe()"
   ]
  },
  {
   "cell_type": "markdown",
   "metadata": {},
   "source": [
    "7.5% dos pacientes são residentes de Guaratiba, 7% de Campo Grande e 6% da Maré. A diferença para as internações em geral é que a Maré possui maior incidência que Campo Grande.\n",
    "\n",
    "46% dos pacientes são da Zona Norte e 38% da Zona Oeste, aproxidamente igual as internações em geral.\n",
    "\n",
    "Pacientes declarados negros tem a maioria residente na Zona Oeste, enquanto brancos e ignorados estão a maioria na Zona Norte. A maioria das mulheres residem na Zona Oeste e a maoria masculina reside na Zona Norte.\n",
    "\n",
    "Pacientes declaradas mulheres negras estão em sua maioria na Zona Oeste. Já mulheres e homens brancos, assimo como homens negros, sem infomação e mulheres sem informação estão em maioria na Zona Norte.\n"
   ]
  },
  {
   "cell_type": "code",
   "execution_count": 54,
   "metadata": {
    "collapsed": true
   },
   "outputs": [
    {
     "data": {
      "text/plain": [
       " Maré                              6\n",
       " Campo Grande                      5\n",
       " Guaratiba                         5\n",
       " Bonsucesso                        4\n",
       " Gávea                             3\n",
       " Engenho Novo                      3\n",
       " Vila Isabel                       3\n",
       " Realengo                          3\n",
       " Andaraí                           2\n",
       " Anil                              2\n",
       " Santa Teresa                      2\n",
       " Galeão                            2\n",
       " Catumbi                           2\n",
       " Turiaçu                           2\n",
       " Benfica                           2\n",
       " Praça Seca                        2\n",
       " Jacarepaguá                       2\n",
       " Irajá                             2\n",
       " Rocinha                           2\n",
       " Bangu                             2\n",
       " Madureira                         1\n",
       " Tubiacanga                        1\n",
       " Vista Alegre                      1\n",
       " São Francisco Xavier              1\n",
       " Taquara                           1\n",
       " Barra da Tijuca                   1\n",
       " Leblon                            1\n",
       " Grajaú                            1\n",
       " Sampaio                           1\n",
       " Cidade Universitária              1\n",
       " Rio Comprido                      1\n",
       " Barros Filho                      1\n",
       " Freguesia (Ilha do Governador)    1\n",
       " Ramos                             1\n",
       " Santo Cristo                      1\n",
       " Estácio                           1\n",
       " Sepetiba                          1\n",
       " Bento Ribeiro                     1\n",
       " Laranjeiras                       1\n",
       " Curicica                          1\n",
       " Pavuna                            1\n",
       " São Cristóvão                     1\n",
       " Pedra de Guaratiba                1\n",
       " Lins de Vasconcelos               1\n",
       " Todos os Santos                   1\n",
       " Vila da Penha                     1\n",
       " Tijuca                            1\n",
       " Cascadura                         1\n",
       " Maracanã                          1\n",
       "Name: BAIRRO_PACIENTE, dtype: int64"
      ]
     },
     "execution_count": 54,
     "metadata": {},
     "output_type": "execute_result"
    }
   ],
   "source": [
    "cid_descr_1['BAIRRO_PACIENTE'].value_counts()"
   ]
  },
  {
   "cell_type": "code",
   "execution_count": 55,
   "metadata": {
    "collapsed": true
   },
   "outputs": [
    {
     "data": {
      "text/plain": [
       "<AxesSubplot:>"
      ]
     },
     "execution_count": 55,
     "metadata": {},
     "output_type": "execute_result"
    },
    {
     "data": {
      "image/png": "[encoded data removed]",
      "text/plain": [
       "<Figure size 1080x720 with 1 Axes>"
      ]
     },
     "metadata": {
      "needs_background": "light"
     },
     "output_type": "display_data"
    }
   ],
   "source": [
    "cid_descr_1['BAIRRO_PACIENTE'].value_counts().head(10).plot(kind='barh', figsize=(15,10))"
   ]
  },
  {
   "cell_type": "code",
   "execution_count": 67,
   "metadata": {},
   "outputs": [
    {
     "data": {
      "text/plain": [
       "ZONA NORTE      51.764706\n",
       "ZONA OESTE      30.588235\n",
       "ZONA CENTRAL     9.411765\n",
       "ZONA SUL         8.235294\n",
       "Name: ZONAS, dtype: float64"
      ]
     },
     "execution_count": 67,
     "metadata": {},
     "output_type": "execute_result"
    }
   ],
   "source": [
    "cid_descr_1['ZONAS'].value_counts()*100/85"
   ]
  },
  {
   "cell_type": "markdown",
   "metadata": {},
   "source": [
    "Agora quando observamos as internações por  Diarréia e gastroenterite de origem infecciosa presumível com descrição de  tratamento de doenças infecciosas e intestinais temos um cenário diferente, em que 52% dos pacientes residem na Zona Norte e 31% na Zona Oeste, com a Maré tendo a maior incidência de casos. Em relação a raça a maioria branca, negra e ignorada é da Zona Norte e assim como para gênero a maioria é da Zona Norte."
   ]
  },
  {
   "cell_type": "code",
   "execution_count": 74,
   "metadata": {},
   "outputs": [
    {
     "data": {
      "text/html": [
       "<div>\n",
       "<style scoped>\n",
       "    .dataframe tbody tr th:only-of-type {\n",
       "        vertical-align: middle;\n",
       "    }\n",
       "\n",
       "    .dataframe tbody tr th {\n",
       "        vertical-align: top;\n",
       "    }\n",
       "\n",
       "    .dataframe thead tr th {\n",
       "        text-align: left;\n",
       "    }\n",
       "\n",
       "    .dataframe thead tr:last-of-type th {\n",
       "        text-align: right;\n",
       "    }\n",
       "</style>\n",
       "<table border=\"1\" class=\"dataframe\">\n",
       "  <thead>\n",
       "    <tr>\n",
       "      <th></th>\n",
       "      <th colspan=\"4\" halign=\"left\">ZONAS</th>\n",
       "    </tr>\n",
       "    <tr>\n",
       "      <th></th>\n",
       "      <th>count</th>\n",
       "      <th>unique</th>\n",
       "      <th>top</th>\n",
       "      <th>freq</th>\n",
       "    </tr>\n",
       "    <tr>\n",
       "      <th>RACA_COR</th>\n",
       "      <th></th>\n",
       "      <th></th>\n",
       "      <th></th>\n",
       "      <th></th>\n",
       "    </tr>\n",
       "  </thead>\n",
       "  <tbody>\n",
       "    <tr>\n",
       "      <th>amarela</th>\n",
       "      <td>2</td>\n",
       "      <td>2</td>\n",
       "      <td>ZONA SUL</td>\n",
       "      <td>1</td>\n",
       "    </tr>\n",
       "    <tr>\n",
       "      <th>branca</th>\n",
       "      <td>18</td>\n",
       "      <td>3</td>\n",
       "      <td>ZONA NORTE</td>\n",
       "      <td>12</td>\n",
       "    </tr>\n",
       "    <tr>\n",
       "      <th>ignorado</th>\n",
       "      <td>16</td>\n",
       "      <td>4</td>\n",
       "      <td>ZONA NORTE</td>\n",
       "      <td>7</td>\n",
       "    </tr>\n",
       "    <tr>\n",
       "      <th>negra</th>\n",
       "      <td>49</td>\n",
       "      <td>4</td>\n",
       "      <td>ZONA NORTE</td>\n",
       "      <td>24</td>\n",
       "    </tr>\n",
       "  </tbody>\n",
       "</table>\n",
       "</div>"
      ],
      "text/plain": [
       "         ZONAS                        \n",
       "         count unique         top freq\n",
       "RACA_COR                              \n",
       "amarela      2      2    ZONA SUL    1\n",
       "branca      18      3  ZONA NORTE   12\n",
       "ignorado    16      4  ZONA NORTE    7\n",
       "negra       49      4  ZONA NORTE   24"
      ]
     },
     "execution_count": 74,
     "metadata": {},
     "output_type": "execute_result"
    }
   ],
   "source": [
    "# filtrar e agrupar por raça e zona\n",
    "cid_descr_1.filter(items=['ZONAS']).groupby(cid_descr_1['RACA_COR']).describe()"
   ]
  },
  {
   "cell_type": "code",
   "execution_count": 75,
   "metadata": {},
   "outputs": [
    {
     "data": {
      "text/html": [
       "<div>\n",
       "<style scoped>\n",
       "    .dataframe tbody tr th:only-of-type {\n",
       "        vertical-align: middle;\n",
       "    }\n",
       "\n",
       "    .dataframe tbody tr th {\n",
       "        vertical-align: top;\n",
       "    }\n",
       "\n",
       "    .dataframe thead tr th {\n",
       "        text-align: left;\n",
       "    }\n",
       "\n",
       "    .dataframe thead tr:last-of-type th {\n",
       "        text-align: right;\n",
       "    }\n",
       "</style>\n",
       "<table border=\"1\" class=\"dataframe\">\n",
       "  <thead>\n",
       "    <tr>\n",
       "      <th></th>\n",
       "      <th colspan=\"4\" halign=\"left\">ZONAS</th>\n",
       "    </tr>\n",
       "    <tr>\n",
       "      <th></th>\n",
       "      <th>count</th>\n",
       "      <th>unique</th>\n",
       "      <th>top</th>\n",
       "      <th>freq</th>\n",
       "    </tr>\n",
       "    <tr>\n",
       "      <th>GENERO</th>\n",
       "      <th></th>\n",
       "      <th></th>\n",
       "      <th></th>\n",
       "      <th></th>\n",
       "    </tr>\n",
       "  </thead>\n",
       "  <tbody>\n",
       "    <tr>\n",
       "      <th>F</th>\n",
       "      <td>39</td>\n",
       "      <td>4</td>\n",
       "      <td>ZONA NORTE</td>\n",
       "      <td>19</td>\n",
       "    </tr>\n",
       "    <tr>\n",
       "      <th>M</th>\n",
       "      <td>46</td>\n",
       "      <td>4</td>\n",
       "      <td>ZONA NORTE</td>\n",
       "      <td>25</td>\n",
       "    </tr>\n",
       "  </tbody>\n",
       "</table>\n",
       "</div>"
      ],
      "text/plain": [
       "       ZONAS                        \n",
       "       count unique         top freq\n",
       "GENERO                              \n",
       "F         39      4  ZONA NORTE   19\n",
       "M         46      4  ZONA NORTE   25"
      ]
     },
     "execution_count": 75,
     "metadata": {},
     "output_type": "execute_result"
    }
   ],
   "source": [
    "# Filtrar por genero e zona\n",
    "cid_descr_1.filter(items=['ZONAS']).groupby(cid_descr_1['GENERO']).describe()"
   ]
  },
  {
   "cell_type": "code",
   "execution_count": 81,
   "metadata": {},
   "outputs": [],
   "source": [
    "# Filtrar por sexo\n",
    "fem3 = pd.DataFrame(cid_descr_1.loc[cid_descr_1['GENERO'] == 'F' ])\n",
    "mas3 = pd.DataFrame(cid_descr_1.loc[cid_descr_1['GENERO'] == 'M' ])"
   ]
  },
  {
   "cell_type": "code",
   "execution_count": 82,
   "metadata": {},
   "outputs": [
    {
     "data": {
      "text/html": [
       "<div>\n",
       "<style scoped>\n",
       "    .dataframe tbody tr th:only-of-type {\n",
       "        vertical-align: middle;\n",
       "    }\n",
       "\n",
       "    .dataframe tbody tr th {\n",
       "        vertical-align: top;\n",
       "    }\n",
       "\n",
       "    .dataframe thead tr th {\n",
       "        text-align: left;\n",
       "    }\n",
       "\n",
       "    .dataframe thead tr:last-of-type th {\n",
       "        text-align: right;\n",
       "    }\n",
       "</style>\n",
       "<table border=\"1\" class=\"dataframe\">\n",
       "  <thead>\n",
       "    <tr>\n",
       "      <th></th>\n",
       "      <th colspan=\"4\" halign=\"left\">ZONAS</th>\n",
       "    </tr>\n",
       "    <tr>\n",
       "      <th></th>\n",
       "      <th>count</th>\n",
       "      <th>unique</th>\n",
       "      <th>top</th>\n",
       "      <th>freq</th>\n",
       "    </tr>\n",
       "    <tr>\n",
       "      <th>RACA_COR</th>\n",
       "      <th></th>\n",
       "      <th></th>\n",
       "      <th></th>\n",
       "      <th></th>\n",
       "    </tr>\n",
       "  </thead>\n",
       "  <tbody>\n",
       "    <tr>\n",
       "      <th>amarela</th>\n",
       "      <td>2</td>\n",
       "      <td>2</td>\n",
       "      <td>ZONA SUL</td>\n",
       "      <td>1</td>\n",
       "    </tr>\n",
       "    <tr>\n",
       "      <th>branca</th>\n",
       "      <td>8</td>\n",
       "      <td>3</td>\n",
       "      <td>ZONA NORTE</td>\n",
       "      <td>5</td>\n",
       "    </tr>\n",
       "    <tr>\n",
       "      <th>ignorado</th>\n",
       "      <td>6</td>\n",
       "      <td>3</td>\n",
       "      <td>ZONA NORTE</td>\n",
       "      <td>3</td>\n",
       "    </tr>\n",
       "    <tr>\n",
       "      <th>negra</th>\n",
       "      <td>23</td>\n",
       "      <td>3</td>\n",
       "      <td>ZONA OESTE</td>\n",
       "      <td>12</td>\n",
       "    </tr>\n",
       "  </tbody>\n",
       "</table>\n",
       "</div>"
      ],
      "text/plain": [
       "         ZONAS                        \n",
       "         count unique         top freq\n",
       "RACA_COR                              \n",
       "amarela      2      2    ZONA SUL    1\n",
       "branca       8      3  ZONA NORTE    5\n",
       "ignorado     6      3  ZONA NORTE    3\n",
       "negra       23      3  ZONA OESTE   12"
      ]
     },
     "execution_count": 82,
     "metadata": {},
     "output_type": "execute_result"
    }
   ],
   "source": [
    "# Filtrar genero feminino por raça\n",
    "fem3.filter(items=['ZONAS']).groupby(fem3['RACA_COR']).describe()"
   ]
  },
  {
   "cell_type": "code",
   "execution_count": 83,
   "metadata": {},
   "outputs": [
    {
     "data": {
      "text/html": [
       "<div>\n",
       "<style scoped>\n",
       "    .dataframe tbody tr th:only-of-type {\n",
       "        vertical-align: middle;\n",
       "    }\n",
       "\n",
       "    .dataframe tbody tr th {\n",
       "        vertical-align: top;\n",
       "    }\n",
       "\n",
       "    .dataframe thead tr th {\n",
       "        text-align: left;\n",
       "    }\n",
       "\n",
       "    .dataframe thead tr:last-of-type th {\n",
       "        text-align: right;\n",
       "    }\n",
       "</style>\n",
       "<table border=\"1\" class=\"dataframe\">\n",
       "  <thead>\n",
       "    <tr>\n",
       "      <th></th>\n",
       "      <th colspan=\"4\" halign=\"left\">ZONAS</th>\n",
       "    </tr>\n",
       "    <tr>\n",
       "      <th></th>\n",
       "      <th>count</th>\n",
       "      <th>unique</th>\n",
       "      <th>top</th>\n",
       "      <th>freq</th>\n",
       "    </tr>\n",
       "    <tr>\n",
       "      <th>RACA_COR</th>\n",
       "      <th></th>\n",
       "      <th></th>\n",
       "      <th></th>\n",
       "      <th></th>\n",
       "    </tr>\n",
       "  </thead>\n",
       "  <tbody>\n",
       "    <tr>\n",
       "      <th>branca</th>\n",
       "      <td>10</td>\n",
       "      <td>2</td>\n",
       "      <td>ZONA NORTE</td>\n",
       "      <td>7</td>\n",
       "    </tr>\n",
       "    <tr>\n",
       "      <th>ignorado</th>\n",
       "      <td>10</td>\n",
       "      <td>4</td>\n",
       "      <td>ZONA NORTE</td>\n",
       "      <td>4</td>\n",
       "    </tr>\n",
       "    <tr>\n",
       "      <th>negra</th>\n",
       "      <td>26</td>\n",
       "      <td>4</td>\n",
       "      <td>ZONA NORTE</td>\n",
       "      <td>14</td>\n",
       "    </tr>\n",
       "  </tbody>\n",
       "</table>\n",
       "</div>"
      ],
      "text/plain": [
       "         ZONAS                        \n",
       "         count unique         top freq\n",
       "RACA_COR                              \n",
       "branca      10      2  ZONA NORTE    7\n",
       "ignorado    10      4  ZONA NORTE    4\n",
       "negra       26      4  ZONA NORTE   14"
      ]
     },
     "execution_count": 83,
     "metadata": {},
     "output_type": "execute_result"
    }
   ],
   "source": [
    "# Filtrar o genero masculino por raça\n",
    "mas3.filter(items=['ZONAS']).groupby(mas3['RACA_COR']).describe()"
   ]
  }
 ],
 "metadata": {
  "kernelspec": {
   "display_name": "Python 3",
   "language": "python",
   "name": "python3"
  },
  "language_info": {
   "codemirror_mode": {
    "name": "ipython",
    "version": 3
   },
   "file_extension": ".py",
   "mimetype": "text/x-python",
   "name": "python",
   "nbconvert_exporter": "python",
   "pygments_lexer": "ipython3",
   "version": "3.8.10"
  }
 },
 "nbformat": 4,
 "nbformat_minor": 4
}
